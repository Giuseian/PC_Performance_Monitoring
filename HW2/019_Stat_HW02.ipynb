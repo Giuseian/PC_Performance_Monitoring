{
 "cells": [
  {
   "cell_type": "markdown",
   "id": "6a7d8e66-d2ae-487a-92d4-ba723a3cfb83",
   "metadata": {
    "tags": []
   },
   "source": [
    "# STATISTICS: GROUP 019_AMG: ACSAI 2021-2022\n",
    "### Homework 02:\n",
    "### (A)lessio Borgi         1952442\n",
    "### (M)artina Doku          1938629\n",
    "### (G)iuseppina Iannotti   1938436"
   ]
  },
  {
   "cell_type": "code",
   "execution_count": 1,
   "id": "5360f3a7",
   "metadata": {},
   "outputs": [],
   "source": [
    "import yfinance as yf                                       #We will use this in the second exercise for downloading the Financial Data.\n",
    "import numpy as np                                          #We will use this throughout the whole homework for manipulating Data.\n",
    "import matplotlib.pyplot as plt                             #We will make use of this for plotting some of the Histograms and their Relative Distribution.\n",
    "import plotly.graph_objects as go                           #We will use this for doing, mostrly in the second exercise, plots of the Financial Data.\n",
    "from plotly.subplots import make_subplots                   #We will use this for making subplots.\n",
    "import seaborn as sb                                        #We will use this always as a visualization tool.\n",
    "from scipy import stats as st                               #We will use ths for the Fitting mostly in the Parametric Bootstrap.\n",
    "import statsmodels.api as stmod                             #We will use this during the first exercise.\n",
    "import pandas as pd                                         #We will use this to import Data in the first exercise."
   ]
  },
  {
   "cell_type": "markdown",
   "id": "42ff1781-8075-43d3-aba6-61b110169162",
   "metadata": {},
   "source": [
    "## Exercise 01: Deja vu"
   ]
  },
  {
   "cell_type": "markdown",
   "id": "5e63aa32-0648-4d39-8f05-9f8f1241b10e",
   "metadata": {},
   "source": [
    "#### TASK:\n",
    "For $\\theta > 0$, let $\\{X_1,\\ldots,X_n\\}$ be IID from the following parametric *density*:\n",
    "\n",
    "$$\n",
    "f(x\\,|\\,\\theta) = \\frac{\\theta^2}{x^3} \\cdot \\mathrm{e}^{-\\tfrac{\\theta}{x}}  \\quad \\text{for} \\quad x \\geqslant 0, \n",
    "$$\n",
    "\n",
    "having mean $\\mathbb{E}(X) = \\frac{\\theta}{2}$ and variance $\\mathbb{V}\\text{ar}(X) = \\frac{\\theta^2}{4}$.\n",
    "\n",
    "#### TO DO:\n",
    "\n",
    "1. Find the maximum likelihood *estimator* for $\\theta$ and then evaluate the maximum likelihood *estimate* on the `Wind` variable of the `airquality` dataset we used in class. <br>\n",
    " Is it a good fit? Briefly explain your answer by looking at some basic plots and stats.\n",
    " \n",
    "2. Use the properties and asymptotics of MLE to get an estimate of the *average* wind speed together with a quatification of the estimator standard error.\n",
    "\n",
    "3. Compare the previous result with what a **Nonparametric** Bootstrap solution for the same population parameter (i.e. the population mean).\n",
    "\n",
    "4. [`Bonus`] Are you also able to implement (and compare) a **Parametric** Bootstrap solution for the sample problem? Explain."
   ]
  },
  {
   "cell_type": "markdown",
   "id": "8b3baa9a",
   "metadata": {},
   "source": [
    "## 1.1: FIND THE MAXIMUM LIKELIHOOD ESTIMATOR FOR $\\theta$ AND EVALUATE IT ON \"WIND\":\n",
    "\n",
    "In order to do this part, we will have to first import the data of the Wind from our \"airquality\" dataset. Then, we can do some Data Visualization, in order to understand better the Distribution of the Data we have. We first Visualize the BoxPlot, then the Histogram, the ECDF Plot and the Kernel Density Plot. \n",
    "\n",
    "After drawing the PDF with the MLE as Parameter, we will notice that the fitting is very bad. Indeed we will have that the Density(orange line) is really far for tracking the Histogram Distribution.  "
   ]
  },
  {
   "cell_type": "markdown",
   "id": "35191e0e",
   "metadata": {},
   "source": [
    "### 1.1.1: IMPORT THE DATASET:"
   ]
  },
  {
   "cell_type": "code",
   "execution_count": 2,
   "id": "53394558",
   "metadata": {},
   "outputs": [
    {
     "data": {
      "text/html": [
       "<div>\n",
       "<style scoped>\n",
       "    .dataframe tbody tr th:only-of-type {\n",
       "        vertical-align: middle;\n",
       "    }\n",
       "\n",
       "    .dataframe tbody tr th {\n",
       "        vertical-align: top;\n",
       "    }\n",
       "\n",
       "    .dataframe thead th {\n",
       "        text-align: right;\n",
       "    }\n",
       "</style>\n",
       "<table border=\"1\" class=\"dataframe\">\n",
       "  <thead>\n",
       "    <tr style=\"text-align: right;\">\n",
       "      <th></th>\n",
       "      <th>Ozone</th>\n",
       "      <th>Solar.R</th>\n",
       "      <th>Wind</th>\n",
       "      <th>Temp</th>\n",
       "      <th>Month</th>\n",
       "      <th>Day</th>\n",
       "    </tr>\n",
       "  </thead>\n",
       "  <tbody>\n",
       "    <tr>\n",
       "      <th>0</th>\n",
       "      <td>41.0</td>\n",
       "      <td>190.0</td>\n",
       "      <td>7.4</td>\n",
       "      <td>67</td>\n",
       "      <td>5</td>\n",
       "      <td>1</td>\n",
       "    </tr>\n",
       "    <tr>\n",
       "      <th>1</th>\n",
       "      <td>36.0</td>\n",
       "      <td>118.0</td>\n",
       "      <td>8.0</td>\n",
       "      <td>72</td>\n",
       "      <td>5</td>\n",
       "      <td>2</td>\n",
       "    </tr>\n",
       "    <tr>\n",
       "      <th>2</th>\n",
       "      <td>12.0</td>\n",
       "      <td>149.0</td>\n",
       "      <td>12.6</td>\n",
       "      <td>74</td>\n",
       "      <td>5</td>\n",
       "      <td>3</td>\n",
       "    </tr>\n",
       "    <tr>\n",
       "      <th>3</th>\n",
       "      <td>18.0</td>\n",
       "      <td>313.0</td>\n",
       "      <td>11.5</td>\n",
       "      <td>62</td>\n",
       "      <td>5</td>\n",
       "      <td>4</td>\n",
       "    </tr>\n",
       "    <tr>\n",
       "      <th>4</th>\n",
       "      <td>NaN</td>\n",
       "      <td>NaN</td>\n",
       "      <td>14.3</td>\n",
       "      <td>56</td>\n",
       "      <td>5</td>\n",
       "      <td>5</td>\n",
       "    </tr>\n",
       "    <tr>\n",
       "      <th>...</th>\n",
       "      <td>...</td>\n",
       "      <td>...</td>\n",
       "      <td>...</td>\n",
       "      <td>...</td>\n",
       "      <td>...</td>\n",
       "      <td>...</td>\n",
       "    </tr>\n",
       "    <tr>\n",
       "      <th>148</th>\n",
       "      <td>30.0</td>\n",
       "      <td>193.0</td>\n",
       "      <td>6.9</td>\n",
       "      <td>70</td>\n",
       "      <td>9</td>\n",
       "      <td>26</td>\n",
       "    </tr>\n",
       "    <tr>\n",
       "      <th>149</th>\n",
       "      <td>NaN</td>\n",
       "      <td>145.0</td>\n",
       "      <td>13.2</td>\n",
       "      <td>77</td>\n",
       "      <td>9</td>\n",
       "      <td>27</td>\n",
       "    </tr>\n",
       "    <tr>\n",
       "      <th>150</th>\n",
       "      <td>14.0</td>\n",
       "      <td>191.0</td>\n",
       "      <td>14.3</td>\n",
       "      <td>75</td>\n",
       "      <td>9</td>\n",
       "      <td>28</td>\n",
       "    </tr>\n",
       "    <tr>\n",
       "      <th>151</th>\n",
       "      <td>18.0</td>\n",
       "      <td>131.0</td>\n",
       "      <td>8.0</td>\n",
       "      <td>76</td>\n",
       "      <td>9</td>\n",
       "      <td>29</td>\n",
       "    </tr>\n",
       "    <tr>\n",
       "      <th>152</th>\n",
       "      <td>20.0</td>\n",
       "      <td>223.0</td>\n",
       "      <td>11.5</td>\n",
       "      <td>68</td>\n",
       "      <td>9</td>\n",
       "      <td>30</td>\n",
       "    </tr>\n",
       "  </tbody>\n",
       "</table>\n",
       "<p>153 rows × 6 columns</p>\n",
       "</div>"
      ],
      "text/plain": [
       "     Ozone  Solar.R  Wind  Temp  Month  Day\n",
       "0     41.0    190.0   7.4    67      5    1\n",
       "1     36.0    118.0   8.0    72      5    2\n",
       "2     12.0    149.0  12.6    74      5    3\n",
       "3     18.0    313.0  11.5    62      5    4\n",
       "4      NaN      NaN  14.3    56      5    5\n",
       "..     ...      ...   ...   ...    ...  ...\n",
       "148   30.0    193.0   6.9    70      9   26\n",
       "149    NaN    145.0  13.2    77      9   27\n",
       "150   14.0    191.0  14.3    75      9   28\n",
       "151   18.0    131.0   8.0    76      9   29\n",
       "152   20.0    223.0  11.5    68      9   30\n",
       "\n",
       "[153 rows x 6 columns]"
      ]
     },
     "execution_count": 2,
     "metadata": {},
     "output_type": "execute_result"
    }
   ],
   "source": [
    "df = pd.read_csv(\"airquality.csv\", header = 0)      #Importing the Dataset \"Airquality\".\n",
    "df"
   ]
  },
  {
   "cell_type": "markdown",
   "id": "6bb65111",
   "metadata": {},
   "source": [
    "### 1.1.2: DATA VISUALIZATION OF WIND:"
   ]
  },
  {
   "cell_type": "code",
   "execution_count": 3,
   "id": "871be575",
   "metadata": {},
   "outputs": [
    {
     "data": {
      "text/plain": [
       "Text(0.5, 0, 'Wind (mph)')"
      ]
     },
     "execution_count": 3,
     "metadata": {},
     "output_type": "execute_result"
    },
    {
     "data": {
      "image/png": "[encoded data removed]",
      "text/plain": [
       "<Figure size 1080x360 with 4 Axes>"
      ]
     },
     "metadata": {
      "needs_background": "light"
     },
     "output_type": "display_data"
    }
   ],
   "source": [
    "#CREATION OF A SUBPLOT:\n",
    "fig, axes = plt.subplots(ncols=4, nrows=1, figsize=(15, 5), sharex=True)    #Here we create a 1x4 subplot. Note that the \"sharex = True\" has the role of scaling all the subplots with \n",
    "                                                                            #the same x-axis range in such a way to enhance comparability between subplots.\n",
    "fig.suptitle('Wind Data Distribution ')                                     #Adding the Title to the whole set of Subplots.\n",
    "\n",
    "#IMPLEMENTATION OF THE BOXPLOT:\n",
    "sb.boxplot(data = df,  x = \"Wind\", ax = axes[0])                            #Here we create the BoxPlot(stripped version of an Histogram). As a small explanation let us say that it is \n",
    "                                                                            #divided in Empirical Quartiles(the Plug-in Estimator of the First Quartile, the Second Quartile(Median) and \n",
    "                                                                            #the Third Quartile). They are drawn in order: first, second and third quartile. \n",
    "                                                                            #The central part of the distribution, should cut off the most dense part of the distribution. The two bars at\n",
    "                                                                            #the sides are called \"multiple\" of the InterQuartile Range(that is the distance between the first and third \n",
    "                                                                            #quartile(ones at the center)). Those, based on a Gaussian population, should give you the Normal part of the \n",
    "                                                                            #data. In the end, we have some points at the right of the BoxPlot, denoted as \"Outliers\". \n",
    "                                                                            #The central part cuts the 50% of your dataset(called the Normality Zone), whilst the external parts at the \n",
    "                                                                            #right and at the left are the \"Abnormal Parts\".\n",
    "axes[0].set_xlabel('Wind (mph)')                                            #Let's position the BoxPlot at the first subplot.\n",
    "\n",
    "#IMPLEMENTATION OF THE HISTPLOT:\n",
    "sb.histplot(data = df, x = \"Wind\", ax = axes[1])                            #Implementation of the HIstogram for representing the Distribution of the Wind Data.\n",
    "axes[1].set_xlabel('Wind (mph)')                                            #Let's position the Histogram at the second subplot.\n",
    "\n",
    "#IMPLEMENTATION OF THE ECDFPLOT:\n",
    "sb.ecdfplot(data = df, x = \"Wind\", ax = axes[2])                            #Implementation of the EMpirical CDF Plot for representing the Distribution of the Wind Data.\n",
    "axes[2].set_xlabel('Wind (mph)')                                            #Let's position the EmpiricalCDF Plot at the third subplot.\n",
    "\n",
    "#IMPLEMENTATION OF THE KDEPLOOT:\n",
    "sb.kdeplot(data = df,  x = \"Wind\", ax = axes[3])                            #Kernel Plot(sort of smoothed Histogram) for representing the Distribution of the Wind Data.\n",
    "axes[3].set_xlabel('Wind (mph)')                                            #Let's position the Kernel Density PLot at the fourth subplot."
   ]
  },
  {
   "cell_type": "markdown",
   "id": "4a746a2e",
   "metadata": {},
   "source": [
    "### 1.1.3: SUPERIMPOSE THE KERNEL DENSITY TO THE HISTOGRAM:\n",
    "Here we will compare the Histogram with the Kernel Density. Notice that the scales are different. Indeed, Histogram is based on \"counts per bin\" whilst the Kernel has directly the Density.\n",
    "There are two ways of superimposing Kernel Density to the Histogram: to force the histogram to be a density, or you can use, through the \"histplot\" function, the parameter \"kde\", that when it is equal to 1, will also add a Density Plot scaled on the scale of the Histogram itself."
   ]
  },
  {
   "cell_type": "code",
   "execution_count": 4,
   "id": "105fa431",
   "metadata": {},
   "outputs": [
    {
     "data": {
      "text/plain": [
       "<AxesSubplot:xlabel='Wind', ylabel='Count'>"
      ]
     },
     "execution_count": 4,
     "metadata": {},
     "output_type": "execute_result"
    },
    {
     "data": {
      "image/png": "[encoded data removed]",
      "text/plain": [
       "<Figure size 432x288 with 1 Axes>"
      ]
     },
     "metadata": {
      "needs_background": "light"
     },
     "output_type": "display_data"
    }
   ],
   "source": [
    "sb.histplot(data = df, x = \"Wind\", kde=1,color=\"pink\", bins=30)     #Superimpose the Kernel Density to the Histogram Density."
   ]
  },
  {
   "cell_type": "markdown",
   "id": "916410cc",
   "metadata": {},
   "source": [
    "### 1.1.4: EVALUATION OF THE MXIMUM LIKELIHOOD ESTIMATE:\n",
    "Here we evaluate the Maximum Likelihood Estimate on the \"Wind\" variable of the Airquality dataset. We first select the \"Wind\" column and then we will apply compute simply the MLE for every element in the \"Wind\" column, computing it basing on the pdf we are given."
   ]
  },
  {
   "cell_type": "code",
   "execution_count": 5,
   "id": "ff7746e8",
   "metadata": {},
   "outputs": [
    {
     "name": "stdout",
     "output_type": "stream",
     "text": [
      "The Maximum Likelihood Estiamation is:  16.8841959926002\n"
     ]
    },
    {
     "data": {
      "text/plain": [
       "[<matplotlib.lines.Line2D at 0x7fd720328f70>]"
      ]
     },
     "execution_count": 5,
     "metadata": {},
     "output_type": "execute_result"
    },
    {
     "data": {
      "image/png": "[encoded data removed]",
      "text/plain": [
       "<Figure size 432x288 with 1 Axes>"
      ]
     },
     "metadata": {
      "needs_background": "light"
     },
     "output_type": "display_data"
    }
   ],
   "source": [
    "#SELECTING \"WIND\":\n",
    "wind = df[\"Wind\"]                               #Selecting the column \"Wind\" in such a way to focus only on it\n",
    "wind=wind.sort_values()                         #Sorting out the values in \"Wind\".             \n",
    "\n",
    "#COMPUTING THE MLE:\n",
    "somma = np.sum(1/wind)  #broadcasting           #we compute the sum of all 1/xi's (values of wind) using broadcasting\n",
    "#print('somma',somma)\n",
    "leng = len(wind)                                #the length of wind corresponds to the \"n\" in the formula \n",
    "#print('leng',leng)\n",
    "MLE = 2*leng / somma                            #We compute the MLE of \"Wind\" by using the formula we've found on paper.\n",
    "print(\"The Maximum Likelihood Estiamation is: \", MLE)\n",
    "\n",
    "\n",
    "#DEFINITION OF THE PDF:\n",
    "def pdf (x,theta):                              #We define the pdf we are given as a function\n",
    "    pdf=((theta**2)/(x**3))*np.exp(-(theta/x))\n",
    "    return pdf\n",
    "\n",
    "#CREATION OF AN ARRAY MLE:\n",
    "MLE_y=[]                                        #Definition of a MLE Array.\n",
    "for el in wind:                                 #Looping over the loop of the wind array of samples.\n",
    "    MLE_y.append(pdf(el, MLE))                  #Calculating the density with our function 'pdf' we've defined using the theta obtained with ML estimation.\n",
    "MLE_y=np.array(MLE_y)                           #Converting the array in a NumPy array.\n",
    "\n",
    "#PLOTTING:\n",
    "plt.hist(wind, density=True)                    #Plotting out the Histogram representing the Wind Distribution.\n",
    "plt.title(\"Density Plot\")                       #Insertion of the title in the Plot.\n",
    "plt.xlabel(\"Wind(mph)\")                         #Insertion of the x-axis' label in the Plot.\n",
    "plt.ylabel(\"PDF Value\")                         #Insertion of the y-axis' label in the Plot.\n",
    "plt.plot(wind, MLE_y, label='MLE')              #Plotting the MLE."
   ]
  },
  {
   "cell_type": "markdown",
   "id": "748c7fdb",
   "metadata": {},
   "source": [
    "## 1.2: GET AN ESTIMATE OF THE *AVERAGE* WIND SPEED AND A QUANTIFICATION OF THE STANDARD ERROR:\n",
    "### 1.2.1 MEAN:\n",
    "\n",
    "Our parameter of interest $\\tau$ is indeed the average wind speed $\\mathbb{E}(X)$. <br>\n",
    "It is a function of the \"technical\" parameter $\\boldsymbol{\\theta}$:\n",
    "$$\\tau = \\mathbb{E}(X) = h(\\boldsymbol{\\theta}) = (\\frac{\\boldsymbol{\\theta}}{2})$$\n",
    "Hence, by the *equivariance* of MLE, we know that\n",
    "$$\\widehat{\\tau}{\\tt ML} = h\\big( \\widehat{\\boldsymbol{\\theta}}{\\tt ML}\\big) = (\\frac{\\widehat{\\boldsymbol{\\theta}}_{\\tt ML}}{2})$$\n",
    "\n",
    "### 1.2.2: STANDARD ERROR:\n",
    "\n",
    "To compute the standard error instead we will have to do:\n",
    "\n",
    "If ${\\text(X_{\\tt 1},X_{\\tt 2},\\ldots,X_{\\tt n})}$ are IID as $f(x\\,|\\,\\theta)$, then the Fisher \n",
    "information is defined to be $I_{\\tt n}(\\boldsymbol{\\theta}) = n* I(\\boldsymbol{\\theta})$ with:\n",
    "\n",
    "$I(\\boldsymbol{\\theta})= - \\mathbb{E}(\\frac{\\partial^2 }{\\partial \\boldsymbol{\\theta}^2} \\space(\\space\\log\\space(\\frac{\\boldsymbol{\\theta}^2}{x^3} \\space e^{-\\frac{\\theta}{x}}\\space)))=\\mathbb{E}(\\frac{2}{\\boldsymbol{\\theta}^2})=\\frac{2}{\\boldsymbol{\\theta}^2}$\n",
    "\n",
    "Let $\\widehat{\\boldsymbol{\\theta}}_{\\tt n}$ denotes the mle for $\\boldsymbol{\\theta}$ and \n",
    "${\\text{se} = \\sqrt{\\mathrm{Var}(\\widehat{\\boldsymbol{\\theta}}_{\\tt n})}}$.\n",
    "\n",
    "For large samples, the sampling distribution of $\\widehat{\\boldsymbol{\\theta}}_{\\tt n}$  can be\n",
    "approximated by a Normal with mean $\\boldsymbol{\\theta}$ and variance ${\\text{se}^2}$. In addition, the asymptotic ${\\text{se}^2}$ can be approximated by: $\\space{\\text{se}}\\approx[I_{\\tt n}({\\boldsymbol{\\theta}})]^{-\\frac{1}{2}}$\n",
    "\n",
    "\n",
    "Since $I_{\\tt n}(\\boldsymbol{\\theta})$ depends on the unknown ${\\boldsymbol{\\theta}}$, it can be shown that the previous result still holds if we estimate the ${\\text{se}}$ by plugging $\\widehat{\\boldsymbol{\\theta}}{\\tt n}$ in the definition of $I{\\tt n}(\\boldsymbol{\\theta})$\n",
    "\n",
    "That is, $\\widehat{\\boldsymbol{\\theta}}_{\\tt n}\\approx{\\text{N}(\\boldsymbol(\\theta),\\widehat{\\text{se}})}$, where: \n",
    "\n",
    "\n",
    "$$\\widehat{\\text{se}}\\approx[I_{\\tt n}(\\widehat{\\boldsymbol{\\theta}}_{\\tt n})]^{-\\frac{1}{2}}$$\n"
   ]
  },
  {
   "cell_type": "code",
   "execution_count": 6,
   "id": "bcffeff5-e57b-4e6c-881f-56f66eed4d06",
   "metadata": {},
   "outputs": [
    {
     "name": "stdout",
     "output_type": "stream",
     "text": [
      "The Mean is equal to: 8.4420979963001\n",
      "The Standard Error is 1.0360490776227933\n"
     ]
    }
   ],
   "source": [
    "# CALCULATING THE MEAN:  \n",
    "average=MLE/2                                           #We use the expectation formula given from the excercise text, using the MLE as parameter value.\n",
    "\n",
    "#FIRST DERIVATIVE OF THE LOG OF THE DENSITY:\n",
    "def der1_log (theta,x):                                 #We define the derivative function with parameter theta and x.\n",
    "    der1_log=2/theta-1/x\n",
    "    return der1_log\n",
    "\n",
    "#SECOND DERIVATIVE OF THE LOG OF THE DENSITY:\n",
    "def der2_log(theta):                                    #We define the second derivative taking only parameter theta as x disappeared with the second derivation.\n",
    "    return -2/theta**2     \n",
    "\n",
    "#COMPUTING THE FISHER INFORMATION:\n",
    "length = len(wind)                                      #Computing the length of the our Datasent. (It will correspond to our \"n\")        \n",
    "fisher_info= - der2_log(MLE)*length                     #We obtain fisher information as: minus the expecation of the second derivative. Since the variable x disappeared, \n",
    "                                                        #the expectation is performed over a constant so it is equal to the constant itself. \n",
    "                                                        #Hence, the fisher info is stated to be equal to minus the second derivative computed with the MLE as parameter.\n",
    "\n",
    "#STANDARD ERROR\n",
    "se=np.sqrt(fisher_info)                                 #The standard error is computed as the square root of the fisher info.\n",
    "print('The Mean is equal to:', average)                 #Print out the Mean.\n",
    "print('The Standard Error is', se)                      #Print out the Standard Error."
   ]
  },
  {
   "cell_type": "markdown",
   "id": "26230eba",
   "metadata": {
    "tags": []
   },
   "source": [
    "## 1.3: COMPARE THE PREVIOUS RESULT WITH A **NON-PARAMETRIC BOOTSTRAP**:\n",
    "\n",
    "Here we compute the Non-Parametric Bootstrap solution for the population mean and we will compare it with the previous result (that is, the average wind speed obtained in the previous point)."
   ]
  },
  {
   "cell_type": "code",
   "execution_count": 7,
   "id": "05c4d7ff",
   "metadata": {},
   "outputs": [
    {
     "name": "stdout",
     "output_type": "stream",
     "text": [
      "The Bootstrapping Estimation of the Mean is:  9.958343790849675\n"
     ]
    },
    {
     "data": {
      "image/png": "[encoded data removed]",
      "text/plain": [
       "<Figure size 432x288 with 1 Axes>"
      ]
     },
     "metadata": {
      "needs_background": "light"
     },
     "output_type": "display_data"
    },
    {
     "data": {
      "image/png": "[encoded data removed]",
      "text/plain": [
       "<Figure size 432x288 with 1 Axes>"
      ]
     },
     "metadata": {
      "needs_background": "light"
     },
     "output_type": "display_data"
    }
   ],
   "source": [
    "#NON-PARAMETRIC BOOTSTRAPPED DISTRIBUTION: \n",
    "np.random.seed(0)                                               #We fix the seed to abtain a specific random sampling.\n",
    "B = 1000                                                        #We chose the length of our boot_stat length.\n",
    "boot_stat = np.zeros(B)                                         #We initialize our boot_stat as an array filled with zeros.\n",
    "for b in range(B):                                              #We replace each of those zeros computing, for each of them:\n",
    "    x_boot       = wind.sample(n = len(wind), replace = True)   #1) a vector with samples from our interest values (with replacement).\n",
    "    boot_stat[b] = x_boot.mean()                                #2) the mean of that vector, that is inserted in boot_stat.\n",
    "    \n",
    "\n",
    "#BOOTSTRAPPING ESTIMATION OF THE MEAN: \n",
    "non_parametric_b_mean= boot_stat.mean()                                                 #Given our boot_stat distribution we extract the mean.\n",
    "\n",
    "\n",
    "#1-st PLOT: PLOTTING OUR BOOTSTRAPPED DISTRIBUTION: \n",
    "plt.hist(boot_stat, density = 1, facecolor='purple', edgecolor = 'white', alpha=0.5)    #Plotting our Bootstrapped Distribution.\n",
    "plt.axvline(x = boot_stat.mean(), color = 'red', label = 'Boot Mean')                   #Inserting the Mean of the Distribution.\n",
    "plt.title(\"Bootstrapped Distribution of Average Wind\")                                  #Insertion of the title in the Plot.\n",
    "plt.xlabel(\"Wind(mph)\")                                                                 #Insertion of the x-axis' label in the Plot.\n",
    "plt.ylabel(\"PDF Value\")                                                                 #Insertion of the y-axis' label in the Plot.\n",
    "plt.legend(loc=\"upper left\")                                                            #Insertion of the legend in the Plot. \n",
    "print(\"The Bootstrapping Estimation of the Mean is: \", boot_stat.mean())                #Print out the Mean.\n",
    "plt.show()                                                                              #Showing the plot.\n",
    "\n",
    "#2-nd PLOT: COMPARING \"average\" (ESTIMATE AVERAGE WIND SPEED) WITH THE NON-PARAMETRIC BOOTSTRAP RESULT FOR THE MEAN\n",
    "plt.hist(wind,bins=20, density = 1, facecolor='purple', edgecolor = 'white', alpha=0.5) #Plotting \"Wind\" and then,comparing the two obtained results. \n",
    "plt.axvline(x = boot_stat.mean(), color = 'red', label = 'Boot Mean')                   #Adding the Mean found with the Bootstrap\n",
    "plt.axvline(x = average, color = 'blue', label = 'Equi Mean')                           #Adding the Estimate average wind speed.                       \n",
    "plt.title(\"COMPARISON\")                                                                 #Inserting the Title in the plot.\n",
    "plt.xlabel(\"Wind(mph)\")                                                                 #Insertion of the 'x-axis' label in the Plot.\n",
    "plt.ylabel(\"Count\")                                                                     #Insertion of the 'y-axis' label in the Plot.\n",
    "plt.legend(loc=\"upper left\")                                                            #Inserting the y label.\n",
    "plt.show()                                                                              #Showing the plot."
   ]
  },
  {
   "cell_type": "markdown",
   "id": "0028e731",
   "metadata": {
    "tags": []
   },
   "source": [
    "## 1.4: [BONUS] IMPLEMENT A **PARAMETRIC BOOTSTRAP**:\n",
    "In this part we will develop a Parametric Bootstrap in order to compare it then with the two results found before. For the Boostrapped Version, we opt for the \"skewnormal Distribution\". We apply it to the real Distribution of the Wind Data.\n",
    "\n",
    "We will have to draw the Distribution and then to superimpose the SkewNormal Distribution and we see that it fits quite well in the plot. We then test the way in which skewnormal fits or data, by drawing a **Quantile-Quantile-Plot(QQ-Plot)**. We are ale to interpret it as follows: we know that if the bottom end of the Q-Q plot deviates from the straight line but the upper end is not, then we can clearly say that the distribution has a longer tail to its left or simply it is left-skewed (or negatively skewed) but when we see the upper end of the Q-Q plot to deviate from the straight line and the lower and follows a straight line then the curve has a longer till to its right and it is right-skewed (or positively skewed)."
   ]
  },
  {
   "cell_type": "markdown",
   "id": "69584e82",
   "metadata": {},
   "source": [
    "### 1.4.1 COMPUTING THE PARAMETRIC BOOTSTRAP SOLUTION FOR THE POPULATION MEAN:"
   ]
  },
  {
   "cell_type": "code",
   "execution_count": 8,
   "id": "67c50ab6",
   "metadata": {},
   "outputs": [
    {
     "data": {
      "image/png": "[encoded data removed]",
      "text/plain": [
       "<Figure size 432x288 with 1 Axes>"
      ]
     },
     "metadata": {
      "needs_background": "light"
     },
     "output_type": "display_data"
    },
    {
     "name": "stdout",
     "output_type": "stream",
     "text": [
      "hat_a 1.745027305757242 hat_loc 6.582908791834057 hat_scale 4.8701378817631475\n",
      "1.745027305757242 6.582908791834057 4.8701378817631475\n"
     ]
    },
    {
     "data": {
      "image/png": "[encoded data removed]",
      "text/plain": [
       "<Figure size 432x288 with 1 Axes>"
      ]
     },
     "metadata": {
      "needs_background": "light"
     },
     "output_type": "display_data"
    },
    {
     "data": {
      "image/png": "[encoded data removed]",
      "text/plain": [
       "<Figure size 432x288 with 1 Axes>"
      ]
     },
     "metadata": {
      "needs_background": "light"
     },
     "output_type": "display_data"
    }
   ],
   "source": [
    "#PLOTTING THE DISTRIBUTION:\n",
    "plt.hist(wind, density = 1, facecolor='purple', edgecolor = 'white', alpha=0.5, bins = 20)  #We plot wind as an Histogram Distribution.\n",
    "plt.title(\"DISTRIBUTION OF WIND\")                                                           #Insertion of the title in the Plot.                                                               .\n",
    "plt.xlabel('wind(mph)')                                                                     #We add up the x-axis label.\n",
    "plt.ylabel('Density')                                                                       #We add up the y-axis label.\n",
    "plt.show()                                                                                  #We show the plot.\n",
    "\n",
    "#MLE DEFAULT METHOD:\n",
    "hat_a, hat_loc, hat_scale = st.skewnorm.fit(wind)                    \n",
    "print('hat_a',hat_a,'hat_loc',hat_loc,'hat_scale',hat_scale)                                #We obtain the  actual parameters of the skewnorm distribution using the fit.\n",
    "print(hat_a, hat_loc, hat_scale)                                                            #We print out the three parameters of our new log distribution under a skewnorm model.\n",
    "\n",
    "#PDF OF THE SKEWNORM DISTRIBUTION:\n",
    "rv_fit  = st.skewnorm(a = hat_a, loc = hat_loc, scale = hat_scale)                          #We create the distribution with previously found parameters.\n",
    "v_grid  = np.linspace(wind.min(), wind.max(), num = 501)                                    #Found parameters.      \n",
    "pdf_val = rv_fit.pdf(v_grid)                                                                #We call the pdf function over it and assign that to the variable 'pdf_val'.\n",
    "#fitted model \n",
    "\n",
    "#1-st PLOT: WIND DISTRIBUTION:\n",
    "                           \n",
    "plt.hist(wind, density = 1, facecolor='purple', edgecolor = 'white', alpha=0.5, label = \"Data\") #Plotting our Histogram Distribution.\n",
    "plt.plot(v_grid, pdf_val, '#fdc0cc', linewidth = 5,label = \"Estimated PDF\")                     #Plotting our our Estimated PDF.\n",
    "plt.title(\"DISTRIBUTION OF WIND\")                                                               #Insertion of the title in the Plot.   \n",
    "plt.xlabel('x')                                                                                 #We add up the x-axis label.\n",
    "plt.ylabel('PDF')                                                                               #We add up the y-axis label.\n",
    "plt.legend(loc='upper left')                                                                    #We add up the Legend of the plot.\n",
    "plt.show()                                                                                      #We show up the plot.\n",
    "\n",
    "# 2nd PLOT: THE SKEWNORMAL PDF OVER OUR DISTRIBUTION FIT: QUANTILE-QUANTILE-Plot(QQ-Plot):\n",
    "stmod.qqplot(data = wind, dist = st.skewnorm(hat_a, hat_loc, hat_scale), line='45', fmt='b')    #Let's buiild up a QQ-Plot to see how the SkewNormal Distribution fits ours.\n",
    "plt.show()                                                                                      #Show the qqplt."
   ]
  },
  {
   "cell_type": "code",
   "execution_count": 9,
   "id": "1ae7b501-cebc-4ec5-8403-1795435b462e",
   "metadata": {},
   "outputs": [
    {
     "data": {
      "text/plain": [
       "(array(9.95436734), array(12.35151023))"
      ]
     },
     "execution_count": 9,
     "metadata": {},
     "output_type": "execute_result"
    }
   ],
   "source": [
    "# Estimated mean and variance\n",
    "# By the MLE equivariance, these ARE the MLEs for these two population quantities\n",
    "rv_fit.stats()"
   ]
  },
  {
   "cell_type": "markdown",
   "id": "f4697591-b811-46df-8859-03326da7f034",
   "metadata": {},
   "source": [
    "Assume (again) that the parameter of interest $\\tau$ is indeed the population mean $\\mathbb{E}(X)$. <br>\n",
    "It is a function of the \"technical\" parameter $\\boldsymbol{\\theta} = (\\mathrm{loc},\\mathrm{scale},\\mathrm{shape})$:\n",
    "$$\\tau = \\mathbb{E}(X) = h(\\boldsymbol{\\theta}) = \\mathrm{loc} + \\mathrm{scale}\\times\\delta\\times\\sqrt{\\frac{\\pi}{2}}$$  \n",
    "where $$\\delta = \\frac{\\mathrm{shape}}{\\sqrt{1+{\\mathrm{shape}^2}}}$$\n",
    "Hence, by the **equivariance** of MLE, we know that\n",
    "$$\\widehat{\\tau}_{\\tt ML} = h\\big( \\widehat{\\boldsymbol{\\theta}}_{\\tt ML}\\big) = \\widehat{\\mathrm{loc}}_{\\tt ML}+\\widehat{\\mathrm{scale}_{\\tt ML}}\\times\\widehat{\\delta}_{\\tt ML}\\times\\sqrt{\\frac{\\pi}{2}} $$\n",
    "In fact,"
   ]
  },
  {
   "cell_type": "code",
   "execution_count": 10,
   "id": "61267c35-e00b-47a0-8ecf-d8001f4f8ce4",
   "metadata": {},
   "outputs": [
    {
     "name": "stdout",
     "output_type": "stream",
     "text": [
      "9.954367342486325\n"
     ]
    }
   ],
   "source": [
    "#We are writing hat_a,hat_loc,hat_scale in terms of delta,epsilon,\n",
    "#omega according to the paramters of the skew normal distribution (just for simplicity) \n",
    "epsilon = hat_loc                       #it represents the shifting parameter of the skew-normal distribution\n",
    "omega = hat_scale                       #it represents how much the distribution is spread (The larger the scale parameter, the more spread out the distribution.) \n",
    "delta = hat_a / np.sqrt(1+(hat_a)**2)   #it must affect the shape of a distribution rather than simply shifting it (as a location parameter does) or stretching/shrinking it (as a scale parameter does).\n",
    "hat_tau = epsilon + omega*delta*(np.sqrt(2/np.pi))   #we compute the estimated value of the population mean,by using the equivariance of the MLE.\n",
    "print(hat_tau)                                       #we print it out"
   ]
  },
  {
   "cell_type": "code",
   "execution_count": 11,
   "id": "be346ec6-a4e7-4fdb-9409-aa99b5a981e0",
   "metadata": {},
   "outputs": [
    {
     "name": "stdout",
     "output_type": "stream",
     "text": [
      "9.953985810281866\n"
     ]
    }
   ],
   "source": [
    "#PARAMETRIC BOOTSTRAPPED SOLUTION \n",
    "np.random.seed(0)                                               #We fix the seed to allow reproducibility.\n",
    "B = 500                                                         #Size of the bootstrap\n",
    "boot_stat = np.zeros(B)  \n",
    "for b in range(B):                                              #We initialize our boot_stat as an array filled with zeros.\n",
    "    x_bt = rv_fit.rvs(len(wind))                                # sample for the fitted population\n",
    "    a_bt, loc_bt, scale_bt = st.skewnorm.fit(x_bt)              # obtain the bootstrap replicates of the MLEs\n",
    "    eps_bt = loc_bt                                             #we write a_bt,loc_bt,scale_bt in terms of delta_bt,eps_bt,omega_bt just for simplicity (same as before)\n",
    "    omega_bt = scale_bt\n",
    "    delta_bt = a_bt / np.sqrt(1+(a_bt)**2) \n",
    "    boot_stat[b]  = eps_bt + omega_bt*delta_bt*(np.sqrt(2/np.pi))  #use equivariance to get the bootstrap replicates for the MLEs of the parameter of interest\n",
    "\n",
    "#BOOTSTRAPPING ESTIMATION OF THE MEAN: \n",
    "parametric_b_mean = boot_stat.mean()                                                #Given our boot_stat distribution we extract the mean.\n",
    "\n",
    "print(parametric_b_mean)"
   ]
  },
  {
   "cell_type": "markdown",
   "id": "d12003ee-faa9-49b6-9b9a-588a6f5e206d",
   "metadata": {},
   "source": [
    "### 1.4.2. COMPARISON BETWEEN THE AVERAGE,NON PARAMETRIC AND PARAMETRIC BOOTSTRAP SOLUTIONS:\n",
    "\n",
    "We compare the results obtained in 1.2,1.3,1.4 paragraphs."
   ]
  },
  {
   "cell_type": "code",
   "execution_count": 12,
   "id": "7a7c8f2d-223c-48a0-97b7-adb824e12741",
   "metadata": {},
   "outputs": [
    {
     "data": {
      "image/png": "[encoded data removed]",
      "text/plain": [
       "<Figure size 432x288 with 1 Axes>"
      ]
     },
     "metadata": {
      "needs_background": "light"
     },
     "output_type": "display_data"
    },
    {
     "data": {
      "image/png": "[encoded data removed]",
      "text/plain": [
       "<Figure size 432x288 with 1 Axes>"
      ]
     },
     "metadata": {
      "needs_background": "light"
     },
     "output_type": "display_data"
    }
   ],
   "source": [
    "#PLOT: COMPARING \"average\" (ESTIMATE AVERAGE WIND SPEED) WITH THE NON-PARAMETRIC BOOTSTRAP RESULT FOR THE MEAN\n",
    "plt.hist(wind,bins=20, density = 1, facecolor='purple', edgecolor = 'white', alpha=0.5)  #Plotting \"Wind\" and then,comparing the two obtained results. \n",
    "plt.axvline(x = non_parametric_b_mean, color = 'red', label = 'N-Param Boot Mean')       #Adding the Mean found with the Non Parametric Bootstrap\n",
    "plt.axvline(x = average, color = 'blue', label = 'Equi Mean')                            #Adding the Estimate average wind speed.                       \n",
    "plt.axvline(x = parametric_b_mean, color = 'orange', label = 'Param Boot Mean')          #Adding the Mean found with the Parametric Bootstrap\n",
    "plt.title(\"COMPARISON\")\n",
    "plt.xlabel(\"Wind(mph)\")                                                                  #Insertion of the 'x-axis' label in the Plot.\n",
    "plt.ylabel(\"Count\")                                                                      #Insertion of the 'y-axis' label in the Plot.\n",
    "plt.legend(loc=\"upper left\")\n",
    "plt.show()                                                                               #Showing the plot.\n",
    "\n",
    "#ZOOM IN IN THE AREA OF INTEREST: NON-PARAMETRIC VS PARAMETRIC BOOTSTRAP: \n",
    "plt.hist(wind,bins=20, density = 1, facecolor='purple', edgecolor = 'white', alpha=0.5)  #Plotting \"Wind\" and then,comparing the two obtained results. \n",
    "plt.axvline(x = non_parametric_b_mean, color = 'red', label = 'N-Param Boot Mean')       #Adding the Mean found with the Non Parametric Bootstrap\n",
    "plt.axvline(x = parametric_b_mean, color = 'orange', label = 'Param Boot Mean')          #Adding the Mean found with the Parametric Bootstrap\n",
    "plt.xlim(9.915, 9.995)                                                                   #Inserting the lower and upper bound in which we are interested in the x axis(where most of the MLE\n",
    "                                                                                         #concentrates).\n",
    "plt.ylim(0.055, 0.13)                                                                    #Inserting the lower and upper bound in which we are interested in the y axis(where most of the MLE\n",
    "                                                                                         #concentrates).\n",
    "plt.title(\"NON-PARAMETRIC VS PARAMETRIC BOOTSTRAP\")                                   #Insertion of the title in the Plot.\n",
    "plt.xlabel(\"Wind(mph)\")                                                                  #Insertion of the x-axis' label in the Plot.\n",
    "plt.ylabel(\"PDF Value\")                                                                  #Insertion of the y-axis' label in the Plot.\n",
    "plt.legend(loc=\"upper left\")  \n",
    "plt.show()"
   ]
  },
  {
   "cell_type": "markdown",
   "id": "de9442ca-3581-4baa-b96e-f68302f94231",
   "metadata": {},
   "source": [
    "\n",
    "\n",
    "\n",
    "\n",
    "\n",
    "\n",
    "\n",
    "\n",
    "\n",
    "\n",
    "\n",
    "# Exercise 02: Toy Portfolio"
   ]
  },
  {
   "cell_type": "markdown",
   "id": "c4a41253-5fa1-46a6-8483-1da8d6b1525e",
   "metadata": {},
   "source": [
    "#### TASK:\n",
    "Suppose that we have two random variables $X$ and $Y$ which represent the yields of two financial assets. \n",
    "\n",
    "We will invest a fraction of our money, say $\\omega$, in $X$ and the remaining fraction $(1 - \\omega)$ in $Y$.\n",
    "\n",
    "Our yield will hence be\n",
    "$$\n",
    "\\omega \\cdot X + (1 - \\omega) \\cdot Y.\n",
    "$$\n",
    "Because this is a random quantity, we may want to choose $\\omega$ to minimize the variance of our investment. <br>\n",
    "One can show that the value of $\\omega$ minimizing\n",
    "$$\n",
    "\\mathbb{V}\\text{ar}\\big( \\omega \\cdot X + (1 - \\omega) \\cdot Y \\big),\n",
    "$$\n",
    "is indeed\n",
    "\\begin{equation}\n",
    "\n",
    "\\omega^\\star = \\frac{\\sigma^2_Y - \\sigma_{X,Y}}{\\sigma^2_X + \\sigma^2_Y - 2\\cdot \\sigma_{X,Y}},\n",
    "\\end{equation} \n",
    "where $\\sigma^2_X = \\mathbb{V}\\text{ar}(X)$, $\\sigma^2_Y = \\mathbb{V}\\text{ar}(Y)$, $\\sigma_{X,Y} = \\mathbb{C}\\text{ov}(X,Y)$.\n",
    "\n",
    "Given a random sample $\\big\\{ (X_1,Y_1), \\ldots, (X_n,Y_n)\\big\\}$ for the returns, we can compute the following plug-in estimator for $\\omega^\\star$\n",
    "$$\n",
    "\\widehat{\\omega} = \\frac{ \\widehat{\\sigma}^2_Y - \\widehat{\\sigma}_{X,Y}}{\\widehat{\\sigma}^2_X + \\widehat{\\sigma}^2_Y - 2\\cdot \\widehat{\\sigma}_{X,Y}},\n",
    "$$\n",
    "Note that even if we knew a parametric form (say bivariate normal) for the joint distribution of $X$ and $Y$, performing formal calculations involving $\\widehat{\\omega}$ would be difficult, because of the presence of sample estimates (sample variances and covariance) in its numerator and denominator.\n",
    "\n",
    "As you can imagine, we can pull financial data into `Python` in many different ways\n",
    "To get the stocks info you have to know (in advance) the symbol associated to that stock (e.g. `Apple Inc.`, `IBM`, etc.) in a particular market (e.g. `NYSE`, `NASDAQ`). You can easily obtain this from portals like [Yahoo! Finance](https://it.finance.yahoo.com/). "
   ]
  },
  {
   "cell_type": "markdown",
   "id": "6b9c7f2d",
   "metadata": {},
   "source": [
    "#### TO DO:\n",
    "\n",
    "1. Prove (analytically) that $\\omega^\\star$ in fact minimizes the volatility of your investment.\n",
    "\n",
    "2. Pick two stocks, gather their returns/performance measure in `Python` over a 1 year long period of your choosing, and implement a **nonparametric bootstrap** scheme to get (approximate) estimates for the **standard error** and **MSE** of the plug-in estimator $\\widehat{\\omega}$."
   ]
  },
  {
   "cell_type": "markdown",
   "id": "4b221bb9",
   "metadata": {},
   "source": [
    "## 2.1: VOLATILITY OF YOUR INVESTMENT:\n",
    "\n",
    "##### TASK:\n",
    " Prove (analytically) that $\\omega^\\star$ in fact minimizes the volatility of your investment."
   ]
  },
  {
   "cell_type": "markdown",
   "id": "750c1128",
   "metadata": {},
   "source": [
    "### 2.1.1: UNDERSTANDING AND VISUALIZATION OF THE DATA:\n",
    "We first try to understand the data in a very deep way, in such a way to have a very detailed overview of our Data. \n",
    "#### IMPLEMENTATION APPROACH:\n",
    "\n",
    "First of answering to the question, we individuate what are the meaning of the corresponding Data we will get from the Dataframe. After some researches and basing on our prior knowledge, we have individuated the following definitons:\n",
    "\n",
    "- `Open`: It Indicates the Stock's value at the aperture of the Stock Market.\n",
    "\n",
    "- `High`: It Indicates the Maximum stock's value(the positive peak) at the aperture of the Stock Market.\n",
    "\n",
    "- `Low`: It Indicates the Minimum stock's value(the negative valley) at the closure of the Stock Market.\n",
    "\n",
    "- `Close`: It Indicates the Stock's value at the closure of the Stock Market.\n",
    "\n",
    "- `Adj Close`: It Indicates the adjustement of the closing price after the market is closed. (It can happen either because of a stock split or because of a dividend payout).\n",
    "\n",
    "- `Volume`: It measures the number of a Stock's shares that are traded on a stock exchange in a day or a period of time.\n"
   ]
  },
  {
   "cell_type": "code",
   "execution_count": 13,
   "id": "d8bdcdb9-1b55-4b9e-a6c1-6a4f44c8c074",
   "metadata": {},
   "outputs": [],
   "source": [
    "# url: https://pypi.org/project/fix-yahoo-finance/\n",
    "# Install\n",
    "# pip install yfinance --upgrade --no-cache-dir"
   ]
  },
  {
   "cell_type": "markdown",
   "id": "6b8ce7ac",
   "metadata": {},
   "source": [
    "##### 2.1.1.1: DOWNLOADING DATA FOR TWO COMPANIES:\n",
    "\n",
    "We, first of all, download Stock historical (2019, 1 year) price data of two of the main companies(belonging to the \"Big 5 Tech\" Companies): **Apple (AAPL)**, **Microsoft(MSFT)**. "
   ]
  },
  {
   "cell_type": "code",
   "execution_count": 14,
   "id": "b5cec1dd-db63-4870-bd3a-936109d0e085",
   "metadata": {},
   "outputs": [
    {
     "name": "stdout",
     "output_type": "stream",
     "text": [
      "[*********************100%***********************]  2 of 2 completed\n"
     ]
    }
   ],
   "source": [
    "#DOWNLOADING DATA OF THE COMPANIES:\n",
    "df = yf.download(\"MSFT AAPL\", start=\"2019-01-01\", end=\"2020-01-01\", group_by=\"ticker\") #Download Apple and Microsoft information regarding their stock information during the 2019.\n",
    "\n",
    "#REFINEMENT OF THE TWO SUB-DATASETS:\n",
    "df = df.iloc[1:]                        #In order to eliminate the first date, that regards the 2018-12-31, date that does not regard the period of time we're studying.\n",
    "\n",
    "#SUB-DATASET APPLE:\n",
    "aapl = df.AAPL                          #Saving in a variable apart all data regarding APPLE.                 \n",
    "\n",
    "#SUB-DATASET MICROSOFT:\n",
    "msft = df.MSFT                          #Saving in a variable apart all data regarding MICROSOFT."
   ]
  },
  {
   "cell_type": "markdown",
   "id": "1b4f2055",
   "metadata": {},
   "source": [
    "##### 2.1.1.2: DATA VISUALIZATION OF THE TWO STOCKS: UNDERSTANDING THE BEHAVIOUR OF THE TWO STOCKS:\n",
    "Let's first of all have a look at how the two Stocks behaves during the period of time we're interested in. Let's create a Plot in which both the two stocks are drawn for the period\n",
    "we're considering."
   ]
  },
  {
   "cell_type": "code",
   "execution_count": 15,
   "id": "00ebaf50",
   "metadata": {},
   "outputs": [
    {
     "data": {
      "application/vnd.plotly.v1+json": {
       "config": {
        "plotlyServerURL": "https://plot.ly"
       },
       "data": [
        {
         "mode": "lines+markers",
         "name": "AAPL",
         "type": "scatter",
         "x": [
          "2019-01-02T00:00:00",
          "2019-01-03T00:00:00",
          "2019-01-04T00:00:00",
          "2019-01-07T00:00:00",
          "2019-01-08T00:00:00",
          "2019-01-09T00:00:00",
          "2019-01-10T00:00:00",
          "2019-01-11T00:00:00",
          "2019-01-14T00:00:00",
          "2019-01-15T00:00:00",
          "2019-01-16T00:00:00",
          "2019-01-17T00:00:00",
          "2019-01-18T00:00:00",
          "2019-01-22T00:00:00",
          "2019-01-23T00:00:00",
          "2019-01-24T00:00:00",
          "2019-01-25T00:00:00",
          "2019-01-28T00:00:00",
          "2019-01-29T00:00:00",
          "2019-01-30T00:00:00",
          "2019-01-31T00:00:00",
          "2019-02-01T00:00:00",
          "2019-02-04T00:00:00",
          "2019-02-05T00:00:00",
          "2019-02-06T00:00:00",
          "2019-02-07T00:00:00",
          "2019-02-08T00:00:00",
          "2019-02-11T00:00:00",
          "2019-02-12T00:00:00",
          "2019-02-13T00:00:00",
          "2019-02-14T00:00:00",
          "2019-02-15T00:00:00",
          "2019-02-19T00:00:00",
          "2019-02-20T00:00:00",
          "2019-02-21T00:00:00",
          "2019-02-22T00:00:00",
          "2019-02-25T00:00:00",
          "2019-02-26T00:00:00",
          "2019-02-27T00:00:00",
          "2019-02-28T00:00:00",
          "2019-03-01T00:00:00",
          "2019-03-04T00:00:00",
          "2019-03-05T00:00:00",
          "2019-03-06T00:00:00",
          "2019-03-07T00:00:00",
          "2019-03-08T00:00:00",
          "2019-03-11T00:00:00",
          "2019-03-12T00:00:00",
          "2019-03-13T00:00:00",
          "2019-03-14T00:00:00",
          "2019-03-15T00:00:00",
          "2019-03-18T00:00:00",
          "2019-03-19T00:00:00",
          "2019-03-20T00:00:00",
          "2019-03-21T00:00:00",
          "2019-03-22T00:00:00",
          "2019-03-25T00:00:00",
          "2019-03-26T00:00:00",
          "2019-03-27T00:00:00",
          "2019-03-28T00:00:00",
          "2019-03-29T00:00:00",
          "2019-04-01T00:00:00",
          "2019-04-02T00:00:00",
          "2019-04-03T00:00:00",
          "2019-04-04T00:00:00",
          "2019-04-05T00:00:00",
          "2019-04-08T00:00:00",
          "2019-04-09T00:00:00",
          "2019-04-10T00:00:00",
          "2019-04-11T00:00:00",
          "2019-04-12T00:00:00",
          "2019-04-15T00:00:00",
          "2019-04-16T00:00:00",
          "2019-04-17T00:00:00",
          "2019-04-18T00:00:00",
          "2019-04-22T00:00:00",
          "2019-04-23T00:00:00",
          "2019-04-24T00:00:00",
          "2019-04-25T00:00:00",
          "2019-04-26T00:00:00",
          "2019-04-29T00:00:00",
          "2019-04-30T00:00:00",
          "2019-05-01T00:00:00",
          "2019-05-02T00:00:00",
          "2019-05-03T00:00:00",
          "2019-05-06T00:00:00",
          "2019-05-07T00:00:00",
          "2019-05-08T00:00:00",
          "2019-05-09T00:00:00",
          "2019-05-10T00:00:00",
          "2019-05-13T00:00:00",
          "2019-05-14T00:00:00",
          "2019-05-15T00:00:00",
          "2019-05-16T00:00:00",
          "2019-05-17T00:00:00",
          "2019-05-20T00:00:00",
          "2019-05-21T00:00:00",
          "2019-05-22T00:00:00",
          "2019-05-23T00:00:00",
          "2019-05-24T00:00:00",
          "2019-05-28T00:00:00",
          "2019-05-29T00:00:00",
          "2019-05-30T00:00:00",
          "2019-05-31T00:00:00",
          "2019-06-03T00:00:00",
          "2019-06-04T00:00:00",
          "2019-06-05T00:00:00",
          "2019-06-06T00:00:00",
          "2019-06-07T00:00:00",
          "2019-06-10T00:00:00",
          "2019-06-11T00:00:00",
          "2019-06-12T00:00:00",
          "2019-06-13T00:00:00",
          "2019-06-14T00:00:00",
          "2019-06-17T00:00:00",
          "2019-06-18T00:00:00",
          "2019-06-19T00:00:00",
          "2019-06-20T00:00:00",
          "2019-06-21T00:00:00",
          "2019-06-24T00:00:00",
          "2019-06-25T00:00:00",
          "2019-06-26T00:00:00",
          "2019-06-27T00:00:00",
          "2019-06-28T00:00:00",
          "2019-07-01T00:00:00",
          "2019-07-02T00:00:00",
          "2019-07-03T00:00:00",
          "2019-07-05T00:00:00",
          "2019-07-08T00:00:00",
          "2019-07-09T00:00:00",
          "2019-07-10T00:00:00",
          "2019-07-11T00:00:00",
          "2019-07-12T00:00:00",
          "2019-07-15T00:00:00",
          "2019-07-16T00:00:00",
          "2019-07-17T00:00:00",
          "2019-07-18T00:00:00",
          "2019-07-19T00:00:00",
          "2019-07-22T00:00:00",
          "2019-07-23T00:00:00",
          "2019-07-24T00:00:00",
          "2019-07-25T00:00:00",
          "2019-07-26T00:00:00",
          "2019-07-29T00:00:00",
          "2019-07-30T00:00:00",
          "2019-07-31T00:00:00",
          "2019-08-01T00:00:00",
          "2019-08-02T00:00:00",
          "2019-08-05T00:00:00",
          "2019-08-06T00:00:00",
          "2019-08-07T00:00:00",
          "2019-08-08T00:00:00",
          "2019-08-09T00:00:00",
          "2019-08-12T00:00:00",
          "2019-08-13T00:00:00",
          "2019-08-14T00:00:00",
          "2019-08-15T00:00:00",
          "2019-08-16T00:00:00",
          "2019-08-19T00:00:00",
          "2019-08-20T00:00:00",
          "2019-08-21T00:00:00",
          "2019-08-22T00:00:00",
          "2019-08-23T00:00:00",
          "2019-08-26T00:00:00",
          "2019-08-27T00:00:00",
          "2019-08-28T00:00:00",
          "2019-08-29T00:00:00",
          "2019-08-30T00:00:00",
          "2019-09-03T00:00:00",
          "2019-09-04T00:00:00",
          "2019-09-05T00:00:00",
          "2019-09-06T00:00:00",
          "2019-09-09T00:00:00",
          "2019-09-10T00:00:00",
          "2019-09-11T00:00:00",
          "2019-09-12T00:00:00",
          "2019-09-13T00:00:00",
          "2019-09-16T00:00:00",
          "2019-09-17T00:00:00",
          "2019-09-18T00:00:00",
          "2019-09-19T00:00:00",
          "2019-09-20T00:00:00",
          "2019-09-23T00:00:00",
          "2019-09-24T00:00:00",
          "2019-09-25T00:00:00",
          "2019-09-26T00:00:00",
          "2019-09-27T00:00:00",
          "2019-09-30T00:00:00",
          "2019-10-01T00:00:00",
          "2019-10-02T00:00:00",
          "2019-10-03T00:00:00",
          "2019-10-04T00:00:00",
          "2019-10-07T00:00:00",
          "2019-10-08T00:00:00",
          "2019-10-09T00:00:00",
          "2019-10-10T00:00:00",
          "2019-10-11T00:00:00",
          "2019-10-14T00:00:00",
          "2019-10-15T00:00:00",
          "2019-10-16T00:00:00",
          "2019-10-17T00:00:00",
          "2019-10-18T00:00:00",
          "2019-10-21T00:00:00",
          "2019-10-22T00:00:00",
          "2019-10-23T00:00:00",
          "2019-10-24T00:00:00",
          "2019-10-25T00:00:00",
          "2019-10-28T00:00:00",
          "2019-10-29T00:00:00",
          "2019-10-30T00:00:00",
          "2019-10-31T00:00:00",
          "2019-11-01T00:00:00",
          "2019-11-04T00:00:00",
          "2019-11-05T00:00:00",
          "2019-11-06T00:00:00",
          "2019-11-07T00:00:00",
          "2019-11-08T00:00:00",
          "2019-11-11T00:00:00",
          "2019-11-12T00:00:00",
          "2019-11-13T00:00:00",
          "2019-11-14T00:00:00",
          "2019-11-15T00:00:00",
          "2019-11-18T00:00:00",
          "2019-11-19T00:00:00",
          "2019-11-20T00:00:00",
          "2019-11-21T00:00:00",
          "2019-11-22T00:00:00",
          "2019-11-25T00:00:00",
          "2019-11-26T00:00:00",
          "2019-11-27T00:00:00",
          "2019-11-29T00:00:00",
          "2019-12-02T00:00:00",
          "2019-12-03T00:00:00",
          "2019-12-04T00:00:00",
          "2019-12-05T00:00:00",
          "2019-12-06T00:00:00",
          "2019-12-09T00:00:00",
          "2019-12-10T00:00:00",
          "2019-12-11T00:00:00",
          "2019-12-12T00:00:00",
          "2019-12-13T00:00:00",
          "2019-12-16T00:00:00",
          "2019-12-17T00:00:00",
          "2019-12-18T00:00:00",
          "2019-12-19T00:00:00",
          "2019-12-20T00:00:00",
          "2019-12-23T00:00:00",
          "2019-12-24T00:00:00",
          "2019-12-26T00:00:00",
          "2019-12-27T00:00:00",
          "2019-12-30T00:00:00",
          "2019-12-31T00:00:00"
         ],
         "y": [
          39.47999954223633,
          35.54750061035156,
          37.064998626708984,
          36.98249816894531,
          37.6875,
          38.32749938964844,
          38.45000076293945,
          38.0724983215332,
          37.5,
          38.26750183105469,
          38.73500061035156,
          38.96500015258789,
          39.20500183105469,
          38.32500076293945,
          38.47999954223633,
          38.17499923706055,
          39.439998626708984,
          39.07500076293945,
          38.66999816894531,
          41.3125,
          41.61000061035156,
          41.630001068115234,
          42.8125,
          43.54499816894531,
          43.560001373291016,
          42.73500061035156,
          42.602500915527344,
          42.35749816894531,
          42.72249984741211,
          42.54499816894531,
          42.70000076293945,
          42.60499954223633,
          42.73249816894531,
          43.00749969482422,
          42.76499938964844,
          43.24250030517578,
          43.557498931884766,
          43.58250045776367,
          43.717498779296875,
          43.287498474121094,
          43.74250030517578,
          43.962501525878906,
          43.88249969482422,
          43.630001068115234,
          43.125,
          43.227500915527344,
          44.724998474121094,
          45.227500915527344,
          45.4275016784668,
          45.932498931884766,
          46.529998779296875,
          47.005001068115234,
          46.63249969482422,
          47.040000915527344,
          48.772499084472656,
          47.76250076293945,
          47.185001373291016,
          46.6974983215332,
          47.11750030517578,
          47.18000030517578,
          47.48749923706055,
          47.810001373291016,
          48.505001068115234,
          48.837501525878906,
          48.92250061035156,
          49.25,
          50.025001525878906,
          49.875,
          50.154998779296875,
          49.73749923706055,
          49.717498779296875,
          49.807498931884766,
          49.8125,
          50.782501220703125,
          50.96500015258789,
          51.13249969482422,
          51.869998931884766,
          51.790000915527344,
          51.31999969482422,
          51.07500076293945,
          51.15250015258789,
          50.16749954223633,
          52.630001068115234,
          52.287498474121094,
          52.9375,
          52.119998931884766,
          50.71500015258789,
          50.724998474121094,
          50.18000030517578,
          49.29499816894531,
          46.43000030517578,
          47.165000915527344,
          47.72999954223633,
          47.52000045776367,
          47.25,
          45.772499084472656,
          46.650001525878906,
          45.69499969482422,
          44.915000915527344,
          44.74250030517578,
          44.557498931884766,
          44.345001220703125,
          44.57500076293945,
          43.76750183105469,
          43.32500076293945,
          44.90999984741211,
          45.6349983215332,
          46.30500030517578,
          47.537498474121094,
          48.14500045776367,
          48.70249938964844,
          48.54750061035156,
          48.537498474121094,
          48.185001373291016,
          48.47249984741211,
          49.61249923706055,
          49.467498779296875,
          49.8650016784668,
          49.69499969482422,
          49.64500045776367,
          48.89250183105469,
          49.95000076293945,
          49.935001373291016,
          49.47999954223633,
          50.38750076293945,
          50.682498931884766,
          51.102500915527344,
          51.057498931884766,
          50.005001068115234,
          50.310001373291016,
          50.807498931884766,
          50.4375,
          50.82500076293945,
          51.3025016784668,
          51.125,
          50.837501525878906,
          51.415000915527344,
          50.647499084472656,
          51.80500030517578,
          52.209999084472656,
          52.16749954223633,
          51.755001068115234,
          51.935001373291016,
          52.41999816894531,
          52.19499969482422,
          53.2599983215332,
          52.10749816894531,
          51.005001068115234,
          48.334999084472656,
          49.25,
          49.7599983215332,
          50.85749816894531,
          50.247501373291016,
          50.119998931884766,
          52.24250030517578,
          50.6875,
          50.435001373291016,
          51.625,
          52.587501525878906,
          52.59000015258789,
          53.15999984741211,
          53.1150016784668,
          50.65999984741211,
          51.622501373291016,
          51.040000915527344,
          51.38249969482422,
          52.252498626708984,
          52.185001373291016,
          51.42499923706055,
          52.29750061035156,
          53.31999969482422,
          53.314998626708984,
          53.54249954223633,
          54.17499923706055,
          55.897499084472656,
          55.772499084472656,
          54.6875,
          54.974998474121094,
          55.17499923706055,
          55.692501068115234,
          55.2400016784668,
          54.432498931884766,
          54.68000030517578,
          54.41999816894531,
          55.25749969482422,
          54.97249984741211,
          54.70500183105469,
          55.99250030517578,
          56.147499084472656,
          54.7400016784668,
          55.20500183105469,
          56.752498626708984,
          56.76499938964844,
          56.099998474121094,
          56.75749969482422,
          57.522499084472656,
          59.0525016784668,
          58.967498779296875,
          58.83000183105469,
          58.592498779296875,
          58.81999969482422,
          59.102500915527344,
          60.127498626708984,
          59.9900016784668,
          60.79499816894531,
          60.89500045776367,
          61.64500045776367,
          62.26250076293945,
          60.8224983215332,
          60.814998626708984,
          62.189998626708984,
          63.95500183105469,
          64.375,
          64.28250122070312,
          64.30999755859375,
          64.85749816894531,
          65.03500366210938,
          65.55000305175781,
          65.48999786376953,
          66.11750030517578,
          65.66000366210938,
          66.44000244140625,
          66.7750015258789,
          66.57250213623047,
          65.79750061035156,
          65.50250244140625,
          65.44499969482422,
          66.59249877929688,
          66.07250213623047,
          66.95999908447266,
          66.8125,
          66.04000091552734,
          64.86250305175781,
          65.43499755859375,
          66.3949966430664,
          67.67749786376953,
          66.7300033569336,
          67.12000274658203,
          67.69249725341797,
          67.86499786376953,
          68.7874984741211,
          69.96499633789062,
          70.10250091552734,
          69.93499755859375,
          70.00499725341797,
          69.86000061035156,
          71,
          71.06749725341797,
          72.47750091552734,
          72.44999694824219,
          72.87999725341797,
          73.4124984741211
         ]
        },
        {
         "mode": "lines+markers",
         "name": "MSFT",
         "type": "scatter",
         "x": [
          "2019-01-02T00:00:00",
          "2019-01-03T00:00:00",
          "2019-01-04T00:00:00",
          "2019-01-07T00:00:00",
          "2019-01-08T00:00:00",
          "2019-01-09T00:00:00",
          "2019-01-10T00:00:00",
          "2019-01-11T00:00:00",
          "2019-01-14T00:00:00",
          "2019-01-15T00:00:00",
          "2019-01-16T00:00:00",
          "2019-01-17T00:00:00",
          "2019-01-18T00:00:00",
          "2019-01-22T00:00:00",
          "2019-01-23T00:00:00",
          "2019-01-24T00:00:00",
          "2019-01-25T00:00:00",
          "2019-01-28T00:00:00",
          "2019-01-29T00:00:00",
          "2019-01-30T00:00:00",
          "2019-01-31T00:00:00",
          "2019-02-01T00:00:00",
          "2019-02-04T00:00:00",
          "2019-02-05T00:00:00",
          "2019-02-06T00:00:00",
          "2019-02-07T00:00:00",
          "2019-02-08T00:00:00",
          "2019-02-11T00:00:00",
          "2019-02-12T00:00:00",
          "2019-02-13T00:00:00",
          "2019-02-14T00:00:00",
          "2019-02-15T00:00:00",
          "2019-02-19T00:00:00",
          "2019-02-20T00:00:00",
          "2019-02-21T00:00:00",
          "2019-02-22T00:00:00",
          "2019-02-25T00:00:00",
          "2019-02-26T00:00:00",
          "2019-02-27T00:00:00",
          "2019-02-28T00:00:00",
          "2019-03-01T00:00:00",
          "2019-03-04T00:00:00",
          "2019-03-05T00:00:00",
          "2019-03-06T00:00:00",
          "2019-03-07T00:00:00",
          "2019-03-08T00:00:00",
          "2019-03-11T00:00:00",
          "2019-03-12T00:00:00",
          "2019-03-13T00:00:00",
          "2019-03-14T00:00:00",
          "2019-03-15T00:00:00",
          "2019-03-18T00:00:00",
          "2019-03-19T00:00:00",
          "2019-03-20T00:00:00",
          "2019-03-21T00:00:00",
          "2019-03-22T00:00:00",
          "2019-03-25T00:00:00",
          "2019-03-26T00:00:00",
          "2019-03-27T00:00:00",
          "2019-03-28T00:00:00",
          "2019-03-29T00:00:00",
          "2019-04-01T00:00:00",
          "2019-04-02T00:00:00",
          "2019-04-03T00:00:00",
          "2019-04-04T00:00:00",
          "2019-04-05T00:00:00",
          "2019-04-08T00:00:00",
          "2019-04-09T00:00:00",
          "2019-04-10T00:00:00",
          "2019-04-11T00:00:00",
          "2019-04-12T00:00:00",
          "2019-04-15T00:00:00",
          "2019-04-16T00:00:00",
          "2019-04-17T00:00:00",
          "2019-04-18T00:00:00",
          "2019-04-22T00:00:00",
          "2019-04-23T00:00:00",
          "2019-04-24T00:00:00",
          "2019-04-25T00:00:00",
          "2019-04-26T00:00:00",
          "2019-04-29T00:00:00",
          "2019-04-30T00:00:00",
          "2019-05-01T00:00:00",
          "2019-05-02T00:00:00",
          "2019-05-03T00:00:00",
          "2019-05-06T00:00:00",
          "2019-05-07T00:00:00",
          "2019-05-08T00:00:00",
          "2019-05-09T00:00:00",
          "2019-05-10T00:00:00",
          "2019-05-13T00:00:00",
          "2019-05-14T00:00:00",
          "2019-05-15T00:00:00",
          "2019-05-16T00:00:00",
          "2019-05-17T00:00:00",
          "2019-05-20T00:00:00",
          "2019-05-21T00:00:00",
          "2019-05-22T00:00:00",
          "2019-05-23T00:00:00",
          "2019-05-24T00:00:00",
          "2019-05-28T00:00:00",
          "2019-05-29T00:00:00",
          "2019-05-30T00:00:00",
          "2019-05-31T00:00:00",
          "2019-06-03T00:00:00",
          "2019-06-04T00:00:00",
          "2019-06-05T00:00:00",
          "2019-06-06T00:00:00",
          "2019-06-07T00:00:00",
          "2019-06-10T00:00:00",
          "2019-06-11T00:00:00",
          "2019-06-12T00:00:00",
          "2019-06-13T00:00:00",
          "2019-06-14T00:00:00",
          "2019-06-17T00:00:00",
          "2019-06-18T00:00:00",
          "2019-06-19T00:00:00",
          "2019-06-20T00:00:00",
          "2019-06-21T00:00:00",
          "2019-06-24T00:00:00",
          "2019-06-25T00:00:00",
          "2019-06-26T00:00:00",
          "2019-06-27T00:00:00",
          "2019-06-28T00:00:00",
          "2019-07-01T00:00:00",
          "2019-07-02T00:00:00",
          "2019-07-03T00:00:00",
          "2019-07-05T00:00:00",
          "2019-07-08T00:00:00",
          "2019-07-09T00:00:00",
          "2019-07-10T00:00:00",
          "2019-07-11T00:00:00",
          "2019-07-12T00:00:00",
          "2019-07-15T00:00:00",
          "2019-07-16T00:00:00",
          "2019-07-17T00:00:00",
          "2019-07-18T00:00:00",
          "2019-07-19T00:00:00",
          "2019-07-22T00:00:00",
          "2019-07-23T00:00:00",
          "2019-07-24T00:00:00",
          "2019-07-25T00:00:00",
          "2019-07-26T00:00:00",
          "2019-07-29T00:00:00",
          "2019-07-30T00:00:00",
          "2019-07-31T00:00:00",
          "2019-08-01T00:00:00",
          "2019-08-02T00:00:00",
          "2019-08-05T00:00:00",
          "2019-08-06T00:00:00",
          "2019-08-07T00:00:00",
          "2019-08-08T00:00:00",
          "2019-08-09T00:00:00",
          "2019-08-12T00:00:00",
          "2019-08-13T00:00:00",
          "2019-08-14T00:00:00",
          "2019-08-15T00:00:00",
          "2019-08-16T00:00:00",
          "2019-08-19T00:00:00",
          "2019-08-20T00:00:00",
          "2019-08-21T00:00:00",
          "2019-08-22T00:00:00",
          "2019-08-23T00:00:00",
          "2019-08-26T00:00:00",
          "2019-08-27T00:00:00",
          "2019-08-28T00:00:00",
          "2019-08-29T00:00:00",
          "2019-08-30T00:00:00",
          "2019-09-03T00:00:00",
          "2019-09-04T00:00:00",
          "2019-09-05T00:00:00",
          "2019-09-06T00:00:00",
          "2019-09-09T00:00:00",
          "2019-09-10T00:00:00",
          "2019-09-11T00:00:00",
          "2019-09-12T00:00:00",
          "2019-09-13T00:00:00",
          "2019-09-16T00:00:00",
          "2019-09-17T00:00:00",
          "2019-09-18T00:00:00",
          "2019-09-19T00:00:00",
          "2019-09-20T00:00:00",
          "2019-09-23T00:00:00",
          "2019-09-24T00:00:00",
          "2019-09-25T00:00:00",
          "2019-09-26T00:00:00",
          "2019-09-27T00:00:00",
          "2019-09-30T00:00:00",
          "2019-10-01T00:00:00",
          "2019-10-02T00:00:00",
          "2019-10-03T00:00:00",
          "2019-10-04T00:00:00",
          "2019-10-07T00:00:00",
          "2019-10-08T00:00:00",
          "2019-10-09T00:00:00",
          "2019-10-10T00:00:00",
          "2019-10-11T00:00:00",
          "2019-10-14T00:00:00",
          "2019-10-15T00:00:00",
          "2019-10-16T00:00:00",
          "2019-10-17T00:00:00",
          "2019-10-18T00:00:00",
          "2019-10-21T00:00:00",
          "2019-10-22T00:00:00",
          "2019-10-23T00:00:00",
          "2019-10-24T00:00:00",
          "2019-10-25T00:00:00",
          "2019-10-28T00:00:00",
          "2019-10-29T00:00:00",
          "2019-10-30T00:00:00",
          "2019-10-31T00:00:00",
          "2019-11-01T00:00:00",
          "2019-11-04T00:00:00",
          "2019-11-05T00:00:00",
          "2019-11-06T00:00:00",
          "2019-11-07T00:00:00",
          "2019-11-08T00:00:00",
          "2019-11-11T00:00:00",
          "2019-11-12T00:00:00",
          "2019-11-13T00:00:00",
          "2019-11-14T00:00:00",
          "2019-11-15T00:00:00",
          "2019-11-18T00:00:00",
          "2019-11-19T00:00:00",
          "2019-11-20T00:00:00",
          "2019-11-21T00:00:00",
          "2019-11-22T00:00:00",
          "2019-11-25T00:00:00",
          "2019-11-26T00:00:00",
          "2019-11-27T00:00:00",
          "2019-11-29T00:00:00",
          "2019-12-02T00:00:00",
          "2019-12-03T00:00:00",
          "2019-12-04T00:00:00",
          "2019-12-05T00:00:00",
          "2019-12-06T00:00:00",
          "2019-12-09T00:00:00",
          "2019-12-10T00:00:00",
          "2019-12-11T00:00:00",
          "2019-12-12T00:00:00",
          "2019-12-13T00:00:00",
          "2019-12-16T00:00:00",
          "2019-12-17T00:00:00",
          "2019-12-18T00:00:00",
          "2019-12-19T00:00:00",
          "2019-12-20T00:00:00",
          "2019-12-23T00:00:00",
          "2019-12-24T00:00:00",
          "2019-12-26T00:00:00",
          "2019-12-27T00:00:00",
          "2019-12-30T00:00:00",
          "2019-12-31T00:00:00"
         ],
         "y": [
          101.12000274658203,
          97.4000015258789,
          101.93000030517578,
          102.05999755859375,
          102.80000305175781,
          104.2699966430664,
          103.5999984741211,
          102.80000305175781,
          102.05000305175781,
          105.01000213623047,
          105.37999725341797,
          106.12000274658203,
          107.70999908447266,
          105.68000030517578,
          106.70999908447266,
          106.19999694824219,
          107.16999816894531,
          105.08000183105469,
          102.94000244140625,
          106.37999725341797,
          104.43000030517578,
          102.77999877929688,
          105.73999786376953,
          107.22000122070312,
          106.02999877929688,
          105.2699966430664,
          105.66999816894531,
          105.25,
          106.88999938964844,
          106.80999755859375,
          106.9000015258789,
          108.22000122070312,
          108.16999816894531,
          107.1500015258789,
          109.41000366210938,
          110.97000122070312,
          111.58999633789062,
          112.36000061035156,
          112.16999816894531,
          112.02999877929688,
          112.52999877929688,
          112.26000213623047,
          111.69999694824219,
          111.75,
          110.38999938964844,
          110.51000213623047,
          112.83000183105469,
          113.62000274658203,
          114.5,
          114.58999633789062,
          115.91000366210938,
          117.56999969482422,
          117.6500015258789,
          117.5199966430664,
          120.22000122070312,
          117.05000305175781,
          117.66000366210938,
          117.91000366210938,
          116.7699966430664,
          116.93000030517578,
          117.94000244140625,
          119.0199966430664,
          119.19000244140625,
          119.97000122070312,
          119.36000061035156,
          119.88999938964844,
          119.93000030517578,
          119.27999877929688,
          120.19000244140625,
          120.33000183105469,
          120.94999694824219,
          121.05000305175781,
          120.7699966430664,
          121.7699966430664,
          123.37000274658203,
          123.76000213623047,
          125.44000244140625,
          125.01000213623047,
          129.14999389648438,
          129.88999938964844,
          129.77000427246094,
          130.60000610351562,
          127.87999725341797,
          126.20999908447266,
          128.89999389648438,
          128.14999389648438,
          125.5199966430664,
          125.51000213623047,
          125.5,
          127.12999725341797,
          123.3499984741211,
          124.7300033569336,
          126.0199966430664,
          128.92999267578125,
          128.07000732421875,
          126.22000122070312,
          126.9000015258789,
          127.66999816894531,
          126.18000030517578,
          126.23999786376953,
          126.16000366210938,
          124.94000244140625,
          125.7300033569336,
          123.68000030517578,
          119.83999633789062,
          123.16000366210938,
          125.83000183105469,
          127.81999969482422,
          131.39999389648438,
          132.60000610351562,
          132.10000610351562,
          131.49000549316406,
          132.32000732421875,
          132.4499969482422,
          132.85000610351562,
          135.16000366210938,
          135.69000244140625,
          136.9499969482422,
          136.97000122070312,
          137.77999877929688,
          133.42999267578125,
          133.92999267578125,
          134.14999389648438,
          133.9600067138672,
          135.67999267578125,
          136.5800018310547,
          137.4600067138672,
          137.05999755859375,
          136.9600067138672,
          136.4600067138672,
          137.85000610351562,
          138.39999389648438,
          138.89999389648438,
          138.89999389648438,
          137.0800018310547,
          136.27000427246094,
          136.4199981689453,
          136.6199951171875,
          138.42999267578125,
          139.2899932861328,
          140.72000122070312,
          140.19000244140625,
          141.33999633789062,
          141.02999877929688,
          140.35000610351562,
          136.27000427246094,
          138.05999755859375,
          136.89999389648438,
          132.2100067138672,
          134.69000244140625,
          135.27999877929688,
          138.88999938964844,
          137.7100067138672,
          135.7899932861328,
          138.60000610351562,
          133.97999572753906,
          133.67999267578125,
          136.1300048828125,
          138.41000366210938,
          137.25999450683594,
          138.7899932861328,
          137.77999877929688,
          133.38999938964844,
          135.4499969482422,
          135.74000549316406,
          135.55999755859375,
          138.1199951171875,
          137.86000061035156,
          136.0399932861328,
          137.6300048828125,
          140.0500030517578,
          139.10000610351562,
          137.52000427246094,
          136.0800018310547,
          136.1199951171875,
          137.52000427246094,
          137.32000732421875,
          136.3300018310547,
          137.38999938964844,
          138.52000427246094,
          141.07000732421875,
          139.44000244140625,
          139.13999938964844,
          137.3800048828125,
          139.36000061035156,
          139.5399932861328,
          137.72999572753906,
          139.02999877929688,
          137.07000732421875,
          134.64999389648438,
          136.27999877929688,
          138.1199951171875,
          137.1199951171875,
          135.6699981689453,
          138.24000549316406,
          139.10000610351562,
          139.67999267578125,
          139.5500030517578,
          141.57000732421875,
          140.41000366210938,
          139.69000244140625,
          137.41000366210938,
          138.42999267578125,
          136.3699951171875,
          137.24000549316406,
          139.94000244140625,
          140.72999572753906,
          144.19000244140625,
          142.8300018310547,
          144.61000061035156,
          143.3699951171875,
          143.72000122070312,
          144.5500030517578,
          144.4600067138672,
          144.05999755859375,
          144.25999450683594,
          145.9600067138672,
          146.11000061035156,
          147.07000732421875,
          147.30999755859375,
          148.05999755859375,
          149.97000122070312,
          150.33999633789062,
          150.38999938964844,
          149.6199951171875,
          149.47999572753906,
          149.58999633789062,
          151.22999572753906,
          152.02999877929688,
          152.32000732421875,
          151.3800048828125,
          149.5500030517578,
          149.30999755859375,
          149.85000610351562,
          149.92999267578125,
          151.75,
          151.36000061035156,
          151.1300048828125,
          151.6999969482422,
          153.24000549316406,
          154.52999877929688,
          155.52999877929688,
          154.69000244140625,
          154.3699951171875,
          155.7100067138672,
          157.41000366210938,
          157.41000366210938,
          157.3800048828125,
          158.6699981689453,
          158.9600067138672,
          157.58999633789062,
          157.6999969482422
         ]
        }
       ],
       "layout": {
        "template": {
         "data": {
          "bar": [
           {
            "error_x": {
             "color": "#2a3f5f"
            },
            "error_y": {
             "color": "#2a3f5f"
            },
            "marker": {
             "line": {
              "color": "#E5ECF6",
              "width": 0.5
             },
             "pattern": {
              "fillmode": "overlay",
              "size": 10,
              "solidity": 0.2
             }
            },
            "type": "bar"
           }
          ],
          "barpolar": [
           {
            "marker": {
             "line": {
              "color": "#E5ECF6",
              "width": 0.5
             },
             "pattern": {
              "fillmode": "overlay",
              "size": 10,
              "solidity": 0.2
             }
            },
            "type": "barpolar"
           }
          ],
          "carpet": [
           {
            "aaxis": {
             "endlinecolor": "#2a3f5f",
             "gridcolor": "white",
             "linecolor": "white",
             "minorgridcolor": "white",
             "startlinecolor": "#2a3f5f"
            },
            "baxis": {
             "endlinecolor": "#2a3f5f",
             "gridcolor": "white",
             "linecolor": "white",
             "minorgridcolor": "white",
             "startlinecolor": "#2a3f5f"
            },
            "type": "carpet"
           }
          ],
          "choropleth": [
           {
            "colorbar": {
             "outlinewidth": 0,
             "ticks": ""
            },
            "type": "choropleth"
           }
          ],
          "contour": [
           {
            "colorbar": {
             "outlinewidth": 0,
             "ticks": ""
            },
            "colorscale": [
             [
              0,
              "#0d0887"
             ],
             [
              0.1111111111111111,
              "#46039f"
             ],
             [
              0.2222222222222222,
              "#7201a8"
             ],
             [
              0.3333333333333333,
              "#9c179e"
             ],
             [
              0.4444444444444444,
              "#bd3786"
             ],
             [
              0.5555555555555556,
              "#d8576b"
             ],
             [
              0.6666666666666666,
              "#ed7953"
             ],
             [
              0.7777777777777778,
              "#fb9f3a"
             ],
             [
              0.8888888888888888,
              "#fdca26"
             ],
             [
              1,
              "#f0f921"
             ]
            ],
            "type": "contour"
           }
          ],
          "contourcarpet": [
           {
            "colorbar": {
             "outlinewidth": 0,
             "ticks": ""
            },
            "type": "contourcarpet"
           }
          ],
          "heatmap": [
           {
            "colorbar": {
             "outlinewidth": 0,
             "ticks": ""
            },
            "colorscale": [
             [
              0,
              "#0d0887"
             ],
             [
              0.1111111111111111,
              "#46039f"
             ],
             [
              0.2222222222222222,
              "#7201a8"
             ],
             [
              0.3333333333333333,
              "#9c179e"
             ],
             [
              0.4444444444444444,
              "#bd3786"
             ],
             [
              0.5555555555555556,
              "#d8576b"
             ],
             [
              0.6666666666666666,
              "#ed7953"
             ],
             [
              0.7777777777777778,
              "#fb9f3a"
             ],
             [
              0.8888888888888888,
              "#fdca26"
             ],
             [
              1,
              "#f0f921"
             ]
            ],
            "type": "heatmap"
           }
          ],
          "heatmapgl": [
           {
            "colorbar": {
             "outlinewidth": 0,
             "ticks": ""
            },
            "colorscale": [
             [
              0,
              "#0d0887"
             ],
             [
              0.1111111111111111,
              "#46039f"
             ],
             [
              0.2222222222222222,
              "#7201a8"
             ],
             [
              0.3333333333333333,
              "#9c179e"
             ],
             [
              0.4444444444444444,
              "#bd3786"
             ],
             [
              0.5555555555555556,
              "#d8576b"
             ],
             [
              0.6666666666666666,
              "#ed7953"
             ],
             [
              0.7777777777777778,
              "#fb9f3a"
             ],
             [
              0.8888888888888888,
              "#fdca26"
             ],
             [
              1,
              "#f0f921"
             ]
            ],
            "type": "heatmapgl"
           }
          ],
          "histogram": [
           {
            "marker": {
             "pattern": {
              "fillmode": "overlay",
              "size": 10,
              "solidity": 0.2
             }
            },
            "type": "histogram"
           }
          ],
          "histogram2d": [
           {
            "colorbar": {
             "outlinewidth": 0,
             "ticks": ""
            },
            "colorscale": [
             [
              0,
              "#0d0887"
             ],
             [
              0.1111111111111111,
              "#46039f"
             ],
             [
              0.2222222222222222,
              "#7201a8"
             ],
             [
              0.3333333333333333,
              "#9c179e"
             ],
             [
              0.4444444444444444,
              "#bd3786"
             ],
             [
              0.5555555555555556,
              "#d8576b"
             ],
             [
              0.6666666666666666,
              "#ed7953"
             ],
             [
              0.7777777777777778,
              "#fb9f3a"
             ],
             [
              0.8888888888888888,
              "#fdca26"
             ],
             [
              1,
              "#f0f921"
             ]
            ],
            "type": "histogram2d"
           }
          ],
          "histogram2dcontour": [
           {
            "colorbar": {
             "outlinewidth": 0,
             "ticks": ""
            },
            "colorscale": [
             [
              0,
              "#0d0887"
             ],
             [
              0.1111111111111111,
              "#46039f"
             ],
             [
              0.2222222222222222,
              "#7201a8"
             ],
             [
              0.3333333333333333,
              "#9c179e"
             ],
             [
              0.4444444444444444,
              "#bd3786"
             ],
             [
              0.5555555555555556,
              "#d8576b"
             ],
             [
              0.6666666666666666,
              "#ed7953"
             ],
             [
              0.7777777777777778,
              "#fb9f3a"
             ],
             [
              0.8888888888888888,
              "#fdca26"
             ],
             [
              1,
              "#f0f921"
             ]
            ],
            "type": "histogram2dcontour"
           }
          ],
          "mesh3d": [
           {
            "colorbar": {
             "outlinewidth": 0,
             "ticks": ""
            },
            "type": "mesh3d"
           }
          ],
          "parcoords": [
           {
            "line": {
             "colorbar": {
              "outlinewidth": 0,
              "ticks": ""
             }
            },
            "type": "parcoords"
           }
          ],
          "pie": [
           {
            "automargin": true,
            "type": "pie"
           }
          ],
          "scatter": [
           {
            "marker": {
             "colorbar": {
              "outlinewidth": 0,
              "ticks": ""
             }
            },
            "type": "scatter"
           }
          ],
          "scatter3d": [
           {
            "line": {
             "colorbar": {
              "outlinewidth": 0,
              "ticks": ""
             }
            },
            "marker": {
             "colorbar": {
              "outlinewidth": 0,
              "ticks": ""
             }
            },
            "type": "scatter3d"
           }
          ],
          "scattercarpet": [
           {
            "marker": {
             "colorbar": {
              "outlinewidth": 0,
              "ticks": ""
             }
            },
            "type": "scattercarpet"
           }
          ],
          "scattergeo": [
           {
            "marker": {
             "colorbar": {
              "outlinewidth": 0,
              "ticks": ""
             }
            },
            "type": "scattergeo"
           }
          ],
          "scattergl": [
           {
            "marker": {
             "colorbar": {
              "outlinewidth": 0,
              "ticks": ""
             }
            },
            "type": "scattergl"
           }
          ],
          "scattermapbox": [
           {
            "marker": {
             "colorbar": {
              "outlinewidth": 0,
              "ticks": ""
             }
            },
            "type": "scattermapbox"
           }
          ],
          "scatterpolar": [
           {
            "marker": {
             "colorbar": {
              "outlinewidth": 0,
              "ticks": ""
             }
            },
            "type": "scatterpolar"
           }
          ],
          "scatterpolargl": [
           {
            "marker": {
             "colorbar": {
              "outlinewidth": 0,
              "ticks": ""
             }
            },
            "type": "scatterpolargl"
           }
          ],
          "scatterternary": [
           {
            "marker": {
             "colorbar": {
              "outlinewidth": 0,
              "ticks": ""
             }
            },
            "type": "scatterternary"
           }
          ],
          "surface": [
           {
            "colorbar": {
             "outlinewidth": 0,
             "ticks": ""
            },
            "colorscale": [
             [
              0,
              "#0d0887"
             ],
             [
              0.1111111111111111,
              "#46039f"
             ],
             [
              0.2222222222222222,
              "#7201a8"
             ],
             [
              0.3333333333333333,
              "#9c179e"
             ],
             [
              0.4444444444444444,
              "#bd3786"
             ],
             [
              0.5555555555555556,
              "#d8576b"
             ],
             [
              0.6666666666666666,
              "#ed7953"
             ],
             [
              0.7777777777777778,
              "#fb9f3a"
             ],
             [
              0.8888888888888888,
              "#fdca26"
             ],
             [
              1,
              "#f0f921"
             ]
            ],
            "type": "surface"
           }
          ],
          "table": [
           {
            "cells": {
             "fill": {
              "color": "#EBF0F8"
             },
             "line": {
              "color": "white"
             }
            },
            "header": {
             "fill": {
              "color": "#C8D4E3"
             },
             "line": {
              "color": "white"
             }
            },
            "type": "table"
           }
          ]
         },
         "layout": {
          "annotationdefaults": {
           "arrowcolor": "#2a3f5f",
           "arrowhead": 0,
           "arrowwidth": 1
          },
          "autotypenumbers": "strict",
          "coloraxis": {
           "colorbar": {
            "outlinewidth": 0,
            "ticks": ""
           }
          },
          "colorscale": {
           "diverging": [
            [
             0,
             "#8e0152"
            ],
            [
             0.1,
             "#c51b7d"
            ],
            [
             0.2,
             "#de77ae"
            ],
            [
             0.3,
             "#f1b6da"
            ],
            [
             0.4,
             "#fde0ef"
            ],
            [
             0.5,
             "#f7f7f7"
            ],
            [
             0.6,
             "#e6f5d0"
            ],
            [
             0.7,
             "#b8e186"
            ],
            [
             0.8,
             "#7fbc41"
            ],
            [
             0.9,
             "#4d9221"
            ],
            [
             1,
             "#276419"
            ]
           ],
           "sequential": [
            [
             0,
             "#0d0887"
            ],
            [
             0.1111111111111111,
             "#46039f"
            ],
            [
             0.2222222222222222,
             "#7201a8"
            ],
            [
             0.3333333333333333,
             "#9c179e"
            ],
            [
             0.4444444444444444,
             "#bd3786"
            ],
            [
             0.5555555555555556,
             "#d8576b"
            ],
            [
             0.6666666666666666,
             "#ed7953"
            ],
            [
             0.7777777777777778,
             "#fb9f3a"
            ],
            [
             0.8888888888888888,
             "#fdca26"
            ],
            [
             1,
             "#f0f921"
            ]
           ],
           "sequentialminus": [
            [
             0,
             "#0d0887"
            ],
            [
             0.1111111111111111,
             "#46039f"
            ],
            [
             0.2222222222222222,
             "#7201a8"
            ],
            [
             0.3333333333333333,
             "#9c179e"
            ],
            [
             0.4444444444444444,
             "#bd3786"
            ],
            [
             0.5555555555555556,
             "#d8576b"
            ],
            [
             0.6666666666666666,
             "#ed7953"
            ],
            [
             0.7777777777777778,
             "#fb9f3a"
            ],
            [
             0.8888888888888888,
             "#fdca26"
            ],
            [
             1,
             "#f0f921"
            ]
           ]
          },
          "colorway": [
           "#636efa",
           "#EF553B",
           "#00cc96",
           "#ab63fa",
           "#FFA15A",
           "#19d3f3",
           "#FF6692",
           "#B6E880",
           "#FF97FF",
           "#FECB52"
          ],
          "font": {
           "color": "#2a3f5f"
          },
          "geo": {
           "bgcolor": "white",
           "lakecolor": "white",
           "landcolor": "#E5ECF6",
           "showlakes": true,
           "showland": true,
           "subunitcolor": "white"
          },
          "hoverlabel": {
           "align": "left"
          },
          "hovermode": "closest",
          "mapbox": {
           "style": "light"
          },
          "paper_bgcolor": "white",
          "plot_bgcolor": "#E5ECF6",
          "polar": {
           "angularaxis": {
            "gridcolor": "white",
            "linecolor": "white",
            "ticks": ""
           },
           "bgcolor": "#E5ECF6",
           "radialaxis": {
            "gridcolor": "white",
            "linecolor": "white",
            "ticks": ""
           }
          },
          "scene": {
           "xaxis": {
            "backgroundcolor": "#E5ECF6",
            "gridcolor": "white",
            "gridwidth": 2,
            "linecolor": "white",
            "showbackground": true,
            "ticks": "",
            "zerolinecolor": "white"
           },
           "yaxis": {
            "backgroundcolor": "#E5ECF6",
            "gridcolor": "white",
            "gridwidth": 2,
            "linecolor": "white",
            "showbackground": true,
            "ticks": "",
            "zerolinecolor": "white"
           },
           "zaxis": {
            "backgroundcolor": "#E5ECF6",
            "gridcolor": "white",
            "gridwidth": 2,
            "linecolor": "white",
            "showbackground": true,
            "ticks": "",
            "zerolinecolor": "white"
           }
          },
          "shapedefaults": {
           "line": {
            "color": "#2a3f5f"
           }
          },
          "ternary": {
           "aaxis": {
            "gridcolor": "white",
            "linecolor": "white",
            "ticks": ""
           },
           "baxis": {
            "gridcolor": "white",
            "linecolor": "white",
            "ticks": ""
           },
           "bgcolor": "#E5ECF6",
           "caxis": {
            "gridcolor": "white",
            "linecolor": "white",
            "ticks": ""
           }
          },
          "title": {
           "x": 0.05
          },
          "xaxis": {
           "automargin": true,
           "gridcolor": "white",
           "linecolor": "white",
           "ticks": "",
           "title": {
            "standoff": 15
           },
           "zerolinecolor": "white",
           "zerolinewidth": 2
          },
          "yaxis": {
           "automargin": true,
           "gridcolor": "white",
           "linecolor": "white",
           "ticks": "",
           "title": {
            "standoff": 15
           },
           "zerolinecolor": "white",
           "zerolinewidth": 2
          }
         }
        },
        "title": {
         "text": "<b>APPLE-MICROSOFT STOCK PLOT (2019)</b>"
        },
        "xaxis": {
         "title": {
          "text": "<b>1-year Period of Time</b>"
         }
        },
        "yaxis": {
         "title": {
          "text": "<b>Stock Value</b>"
         }
        }
       }
      }
     },
     "metadata": {},
     "output_type": "display_data"
    }
   ],
   "source": [
    "#CREATION OF THE STOCK PLOT: APPLE & MICROSOFT: \n",
    "fig = go.Figure(data = go.Scatter(x=aapl.index,y=aapl['Close'], mode='lines+markers', name='AAPL'))     #Let's create a plot inserting all the Closing Information of APPLE. \n",
    "fig.add_trace(go.Scatter(x=msft.index,y=msft['Close'], mode='lines+markers', name='MSFT'))              #Let's add up to our data also the MICROSOFT Closing Information.\n",
    "fig.update_layout(title=\"<b>APPLE-MICROSOFT STOCK PLOT (2019)</b>\", xaxis_title=\"<b>1-year Period of Time</b>\", yaxis_title=\"<b>Stock Value</b>\")   #Let's adjust the plot by inserting x \n",
    "                                                                                                                                                    #and y labels, in addition to the \n",
    "                                                                                                                                                    #title.\n",
    "fig.show()"
   ]
  },
  {
   "cell_type": "markdown",
   "id": "d15ba887",
   "metadata": {},
   "source": [
    "#"
   ]
  },
  {
   "cell_type": "markdown",
   "id": "cefab5d2",
   "metadata": {},
   "source": [
    "##### 2.1.1.3: DATA VISUALIZATION OF THE TWO STOCKS: CANDLESTICK CHART:\n",
    "\n",
    "We can now understand a little bit better the real Behaviour of our Stock, by using a chart in the **CandleStick** style. Instead of using the Scatter() plot and passing the ‘Close’ price to the y-axis, now we need to specify also each of ‘open’, ‘high’, ‘low’ and ‘close’. This Tecnique is a.k.a **OHLC Representation**.\n",
    "\n",
    "With the Candlestick chart, we are also provided with another smaller chart at the bottom, a.k.a. **Range Slider**, and we can drag either side to zoom in/out on a certain area of the chart.\n",
    "\n",
    "We will create two different Chart for the companies."
   ]
  },
  {
   "cell_type": "code",
   "execution_count": 16,
   "id": "33ca3d5f",
   "metadata": {},
   "outputs": [
    {
     "data": {
      "application/vnd.plotly.v1+json": {
       "config": {
        "plotlyServerURL": "https://plot.ly"
       },
       "data": [
        {
         "close": [
          101.12000274658203,
          97.4000015258789,
          101.93000030517578,
          102.05999755859375,
          102.80000305175781,
          104.2699966430664,
          103.5999984741211,
          102.80000305175781,
          102.05000305175781,
          105.01000213623047,
          105.37999725341797,
          106.12000274658203,
          107.70999908447266,
          105.68000030517578,
          106.70999908447266,
          106.19999694824219,
          107.16999816894531,
          105.08000183105469,
          102.94000244140625,
          106.37999725341797,
          104.43000030517578,
          102.77999877929688,
          105.73999786376953,
          107.22000122070312,
          106.02999877929688,
          105.2699966430664,
          105.66999816894531,
          105.25,
          106.88999938964844,
          106.80999755859375,
          106.9000015258789,
          108.22000122070312,
          108.16999816894531,
          107.1500015258789,
          109.41000366210938,
          110.97000122070312,
          111.58999633789062,
          112.36000061035156,
          112.16999816894531,
          112.02999877929688,
          112.52999877929688,
          112.26000213623047,
          111.69999694824219,
          111.75,
          110.38999938964844,
          110.51000213623047,
          112.83000183105469,
          113.62000274658203,
          114.5,
          114.58999633789062,
          115.91000366210938,
          117.56999969482422,
          117.6500015258789,
          117.5199966430664,
          120.22000122070312,
          117.05000305175781,
          117.66000366210938,
          117.91000366210938,
          116.7699966430664,
          116.93000030517578,
          117.94000244140625,
          119.0199966430664,
          119.19000244140625,
          119.97000122070312,
          119.36000061035156,
          119.88999938964844,
          119.93000030517578,
          119.27999877929688,
          120.19000244140625,
          120.33000183105469,
          120.94999694824219,
          121.05000305175781,
          120.7699966430664,
          121.7699966430664,
          123.37000274658203,
          123.76000213623047,
          125.44000244140625,
          125.01000213623047,
          129.14999389648438,
          129.88999938964844,
          129.77000427246094,
          130.60000610351562,
          127.87999725341797,
          126.20999908447266,
          128.89999389648438,
          128.14999389648438,
          125.5199966430664,
          125.51000213623047,
          125.5,
          127.12999725341797,
          123.3499984741211,
          124.7300033569336,
          126.0199966430664,
          128.92999267578125,
          128.07000732421875,
          126.22000122070312,
          126.9000015258789,
          127.66999816894531,
          126.18000030517578,
          126.23999786376953,
          126.16000366210938,
          124.94000244140625,
          125.7300033569336,
          123.68000030517578,
          119.83999633789062,
          123.16000366210938,
          125.83000183105469,
          127.81999969482422,
          131.39999389648438,
          132.60000610351562,
          132.10000610351562,
          131.49000549316406,
          132.32000732421875,
          132.4499969482422,
          132.85000610351562,
          135.16000366210938,
          135.69000244140625,
          136.9499969482422,
          136.97000122070312,
          137.77999877929688,
          133.42999267578125,
          133.92999267578125,
          134.14999389648438,
          133.9600067138672,
          135.67999267578125,
          136.5800018310547,
          137.4600067138672,
          137.05999755859375,
          136.9600067138672,
          136.4600067138672,
          137.85000610351562,
          138.39999389648438,
          138.89999389648438,
          138.89999389648438,
          137.0800018310547,
          136.27000427246094,
          136.4199981689453,
          136.6199951171875,
          138.42999267578125,
          139.2899932861328,
          140.72000122070312,
          140.19000244140625,
          141.33999633789062,
          141.02999877929688,
          140.35000610351562,
          136.27000427246094,
          138.05999755859375,
          136.89999389648438,
          132.2100067138672,
          134.69000244140625,
          135.27999877929688,
          138.88999938964844,
          137.7100067138672,
          135.7899932861328,
          138.60000610351562,
          133.97999572753906,
          133.67999267578125,
          136.1300048828125,
          138.41000366210938,
          137.25999450683594,
          138.7899932861328,
          137.77999877929688,
          133.38999938964844,
          135.4499969482422,
          135.74000549316406,
          135.55999755859375,
          138.1199951171875,
          137.86000061035156,
          136.0399932861328,
          137.6300048828125,
          140.0500030517578,
          139.10000610351562,
          137.52000427246094,
          136.0800018310547,
          136.1199951171875,
          137.52000427246094,
          137.32000732421875,
          136.3300018310547,
          137.38999938964844,
          138.52000427246094,
          141.07000732421875,
          139.44000244140625,
          139.13999938964844,
          137.3800048828125,
          139.36000061035156,
          139.5399932861328,
          137.72999572753906,
          139.02999877929688,
          137.07000732421875,
          134.64999389648438,
          136.27999877929688,
          138.1199951171875,
          137.1199951171875,
          135.6699981689453,
          138.24000549316406,
          139.10000610351562,
          139.67999267578125,
          139.5500030517578,
          141.57000732421875,
          140.41000366210938,
          139.69000244140625,
          137.41000366210938,
          138.42999267578125,
          136.3699951171875,
          137.24000549316406,
          139.94000244140625,
          140.72999572753906,
          144.19000244140625,
          142.8300018310547,
          144.61000061035156,
          143.3699951171875,
          143.72000122070312,
          144.5500030517578,
          144.4600067138672,
          144.05999755859375,
          144.25999450683594,
          145.9600067138672,
          146.11000061035156,
          147.07000732421875,
          147.30999755859375,
          148.05999755859375,
          149.97000122070312,
          150.33999633789062,
          150.38999938964844,
          149.6199951171875,
          149.47999572753906,
          149.58999633789062,
          151.22999572753906,
          152.02999877929688,
          152.32000732421875,
          151.3800048828125,
          149.5500030517578,
          149.30999755859375,
          149.85000610351562,
          149.92999267578125,
          151.75,
          151.36000061035156,
          151.1300048828125,
          151.6999969482422,
          153.24000549316406,
          154.52999877929688,
          155.52999877929688,
          154.69000244140625,
          154.3699951171875,
          155.7100067138672,
          157.41000366210938,
          157.41000366210938,
          157.3800048828125,
          158.6699981689453,
          158.9600067138672,
          157.58999633789062,
          157.6999969482422
         ],
         "high": [
          101.75,
          100.19000244140625,
          102.51000213623047,
          103.2699966430664,
          103.97000122070312,
          104.87999725341797,
          103.75,
          103.44000244140625,
          102.87000274658203,
          105.05000305175781,
          106.26000213623047,
          106.62999725341797,
          107.9000015258789,
          107.0999984741211,
          107.04000091552734,
          107,
          107.87999725341797,
          106.4800033569336,
          104.97000122070312,
          106.37999725341797,
          105.22000122070312,
          104.0999984741211,
          105.80000305175781,
          107.2699966430664,
          107,
          105.58999633789062,
          105.77999877929688,
          106.58000183105469,
          107.13999938964844,
          107.77999877929688,
          107.29000091552734,
          108.30000305175781,
          108.66000366210938,
          107.94000244140625,
          109.4800033569336,
          111.19999694824219,
          112.18000030517578,
          113.23999786376953,
          112.36000061035156,
          112.87999725341797,
          113.0199966430664,
          113.25,
          112.38999938964844,
          112.66000366210938,
          111.55000305175781,
          110.70999908447266,
          112.94999694824219,
          113.98999786376953,
          115,
          115.19999694824219,
          117.25,
          117.61000061035156,
          118.44000244140625,
          118.75,
          120.81999969482422,
          119.58999633789062,
          118.01000213623047,
          118.70999908447266,
          118.20999908447266,
          117.58000183105469,
          118.31999969482422,
          119.11000061035156,
          119.4800033569336,
          120.43000030517578,
          120.2300033569336,
          120.2300033569336,
          120.0199966430664,
          119.54000091552734,
          120.3499984741211,
          120.8499984741211,
          120.9800033569336,
          121.58000183105469,
          121.6500015258789,
          121.8499984741211,
          123.5199966430664,
          124,
          125.58000183105469,
          125.8499984741211,
          131.3699951171875,
          130.52000427246094,
          130.17999267578125,
          130.6999969482422,
          130.64999389648438,
          128,
          129.42999267578125,
          128.55999755859375,
          127.18000030517578,
          126.37000274658203,
          125.79000091552734,
          127.93000030517578,
          125.55000305175781,
          125.87999725341797,
          126.70999908447266,
          129.3800048828125,
          130.4600067138672,
          127.58999633789062,
          127.52999877929688,
          128.24000549316406,
          126.29000091552734,
          127.41999816894531,
          128,
          125.38999938964844,
          125.76000213623047,
          124.62000274658203,
          124.37000274658203,
          123.27999877929688,
          125.87000274658203,
          127.97000122070312,
          132.25,
          134.0800018310547,
          134.24000549316406,
          131.97000122070312,
          133,
          133.7899932861328,
          133.72999572753906,
          135.24000549316406,
          135.92999267578125,
          137.66000366210938,
          137.72999572753906,
          138.39999389648438,
          137.58999633789062,
          135.74000549316406,
          134.7100067138672,
          134.60000610351562,
          136.6999969482422,
          136.58999633789062,
          137.74000549316406,
          137.3300018310547,
          137.10000610351562,
          136.97000122070312,
          138.5800018310547,
          139.22000122070312,
          139.1300048828125,
          139.5399932861328,
          139.0500030517578,
          137.92999267578125,
          136.6199951171875,
          140.6699981689453,
          139.19000244140625,
          139.99000549316406,
          140.74000549316406,
          140.61000061035156,
          141.67999267578125,
          141.50999450683594,
          141.22000122070312,
          140.49000549316406,
          140.94000244140625,
          138.32000732421875,
          133.92999267578125,
          135.67999267578125,
          135.64999389648438,
          138.99000549316406,
          139.3800048828125,
          137.86000061035156,
          138.8000030517578,
          136.9199981689453,
          134.5800018310547,
          136.4600067138672,
          138.5500030517578,
          138.7100067138672,
          139.49000549316406,
          139.1999969482422,
          138.35000610351562,
          135.55999755859375,
          136.72000122070312,
          135.75999450683594,
          138.44000244140625,
          139.17999267578125,
          137.1999969482422,
          137.69000244140625,
          140.3800048828125,
          140.17999267578125,
          139.75,
          136.88999938964844,
          136.27000427246094,
          138.4199981689453,
          138.05999755859375,
          136.6999969482422,
          137.52000427246094,
          138.6699981689453,
          142.3699951171875,
          141.64999389648438,
          139.6300048828125,
          140.69000244140625,
          139.9600067138672,
          140.17999267578125,
          140.36000061035156,
          139.22000122070312,
          140.25,
          136.3699951171875,
          136.75,
          138.25,
          138.17999267578125,
          137.75999450683594,
          138.6999969482422,
          139.6699981689453,
          141.02999877929688,
          140.2899932861328,
          141.7899932861328,
          140.99000549316406,
          141.4199981689453,
          140,
          138.5,
          140.00999450683594,
          137.4499969482422,
          140.4199981689453,
          141.13999938964844,
          145.6699981689453,
          144.5,
          145,
          144.92999267578125,
          144.4199981689453,
          145,
          145.02000427246094,
          144.52000427246094,
          144.8800048828125,
          145.99000549316406,
          146.4199981689453,
          147.57000732421875,
          147.4600067138672,
          148.41000366210938,
          149.99000549316406,
          150.5500030517578,
          151.3300018310547,
          150.83999633789062,
          149.8000030517578,
          150.3000030517578,
          151.35000610351562,
          152.4199981689453,
          152.5,
          152.3000030517578,
          151.8300018310547,
          149.42999267578125,
          150.17999267578125,
          150.32000732421875,
          151.8699951171875,
          152.2100067138672,
          151.88999938964844,
          151.8699951171875,
          153.44000244140625,
          154.88999938964844,
          155.89999389648438,
          155.7100067138672,
          155.47999572753906,
          155.77000427246094,
          158.49000549316406,
          158.1199951171875,
          157.7100067138672,
          158.72999572753906,
          159.5500030517578,
          159.02000427246094,
          157.77000427246094
         ],
         "low": [
          98.94000244140625,
          97.19999694824219,
          98.93000030517578,
          100.9800033569336,
          101.70999908447266,
          103.23999786376953,
          102.37999725341797,
          101.63999938964844,
          101.26000213623047,
          101.87999725341797,
          104.95999908447266,
          104.76000213623047,
          105.91000366210938,
          104.86000061035156,
          105.33999633789062,
          105.33999633789062,
          106.19999694824219,
          104.66000366210938,
          102.16999816894531,
          104.33000183105469,
          103.18000030517578,
          102.3499984741211,
          102.7699966430664,
          105.95999908447266,
          105.52999877929688,
          104.29000091552734,
          104.26000213623047,
          104.97000122070312,
          105.4800033569336,
          106.70999908447266,
          105.66000366210938,
          107.36000061035156,
          107.77999877929688,
          106.29000091552734,
          106.87000274658203,
          109.81999969482422,
          111.26000213623047,
          111.16999816894531,
          110.87999725341797,
          111.7300033569336,
          111.66999816894531,
          110.80000305175781,
          111.2300033569336,
          111.43000030517578,
          109.87000274658203,
          108.80000305175781,
          110.9800033569336,
          112.6500015258789,
          113.77999877929688,
          114.33000183105469,
          114.58999633789062,
          116.05000305175781,
          116.98999786376953,
          116.70999908447266,
          117.08999633789062,
          117.04000091552734,
          116.31999969482422,
          116.8499984741211,
          115.5199966430664,
          116.12999725341797,
          116.95999908447266,
          118.0999984741211,
          118.5199966430664,
          119.1500015258789,
          118.37999725341797,
          119.37000274658203,
          118.63999938964844,
          118.58000183105469,
          119.54000091552734,
          119.91999816894531,
          120.37000274658203,
          120.56999969482422,
          120.0999984741211,
          120.54000091552734,
          121.30000305175781,
          122.56999969482422,
          123.83000183105469,
          124.5199966430664,
          128.8300018310547,
          129.02000427246094,
          129.35000610351562,
          129.38999938964844,
          127.69999694824219,
          125.5199966430664,
          127.25,
          126.11000061035156,
          124.22000122070312,
          124.75,
          123.56999969482422,
          123.81999969482422,
          123.04000091552734,
          123.69999694824219,
          123.69999694824219,
          126.45999908447266,
          127.91999816894531,
          125.76000213623047,
          126.58000183105469,
          126.5199966430664,
          124.73999786376953,
          125.97000122070312,
          126.05000305175781,
          124.04000091552734,
          124.77999877929688,
          123.31999969482422,
          119.01000213623047,
          120.6500015258789,
          124.20999908447266,
          125.5999984741211,
          128.25999450683594,
          132,
          131.27999877929688,
          130.7100067138672,
          131.55999755859375,
          131.63999938964844,
          132.52999877929688,
          133.57000732421875,
          133.80999755859375,
          135.72000122070312,
          136.4600067138672,
          137,
          132.72999572753906,
          133.60000610351562,
          133.50999450683594,
          133.16000366210938,
          134.97000122070312,
          135.33999633789062,
          136.2899932861328,
          135.72000122070312,
          135.3699951171875,
          135.8000030517578,
          137.02000427246094,
          137.8699951171875,
          138.00999450683594,
          138.4600067138672,
          136.52000427246094,
          136.22000122070312,
          134.6699981689453,
          136.4499969482422,
          137.3300018310547,
          138.02999877929688,
          138.85000610351562,
          139.32000732421875,
          140.3000030517578,
          139.3699951171875,
          139.8000030517578,
          135.0800018310547,
          136.92999267578125,
          135.25999450683594,
          130.77999877929688,
          133.2100067138672,
          131.8300018310547,
          135.92999267578125,
          136.4600067138672,
          135.24000549316406,
          135,
          133.6699981689453,
          132.25,
          134.72000122070312,
          136.88999938964844,
          137.24000549316406,
          138,
          136.2899932861328,
          132.8000030517578,
          133.89999389648438,
          134.66000366210938,
          133.5500030517578,
          136.91000366210938,
          136.27000427246094,
          135.6999969482422,
          136.47999572753906,
          138.75999450683594,
          138.1999969482422,
          136.4600067138672,
          134.50999450683594,
          135.08999633789062,
          136.8699951171875,
          136.57000732421875,
          135.66000366210938,
          136.42999267578125,
          136.52999877929688,
          140.07000732421875,
          138.25,
          138.44000244140625,
          136.8800048828125,
          136.02999877929688,
          138.44000244140625,
          136.64999389648438,
          137.77999877929688,
          137,
          133.5800018310547,
          133.22000122070312,
          136.4199981689453,
          137.02000427246094,
          135.6199951171875,
          136.97000122070312,
          138.25,
          139.5,
          139.52000427246094,
          139.80999755859375,
          139.52999877929688,
          139.02000427246094,
          136.55999755859375,
          137.00999450683594,
          136.25999450683594,
          135.61000061035156,
          138.6699981689453,
          139.1999969482422,
          143.50999450683594,
          142.64999389648438,
          142.7899932861328,
          142.99000549316406,
          142.97000122070312,
          144.16000366210938,
          143.91000366210938,
          143.1999969482422,
          143.77000427246094,
          143.75999450683594,
          144.72999572753906,
          146.05999755859375,
          146.27999877929688,
          147,
          148.27000427246094,
          148.97999572753906,
          150.1999969482422,
          148.4600067138672,
          148.5,
          148.82000732421875,
          149.9199981689453,
          151.32000732421875,
          151.52000427246094,
          151.27999877929688,
          148.32000732421875,
          146.64999389648438,
          149.1999969482422,
          149.47999572753906,
          150.27000427246094,
          150.91000366210938,
          150.75999450683594,
          150.3300018310547,
          151.02000427246094,
          152.8300018310547,
          154.82000732421875,
          154.4499969482422,
          154.17999267578125,
          153.75,
          156.2899932861328,
          157.27000427246094,
          157.1199951171875,
          157.39999389648438,
          158.22000122070312,
          156.72999572753906,
          156.4499969482422
         ],
         "open": [
          99.55000305175781,
          100.0999984741211,
          99.72000122070312,
          101.63999938964844,
          103.04000091552734,
          103.86000061035156,
          103.22000122070312,
          103.19000244140625,
          101.9000015258789,
          102.51000213623047,
          105.26000213623047,
          105,
          107.45999908447266,
          106.75,
          106.12000274658203,
          106.86000061035156,
          107.23999786376953,
          106.26000213623047,
          104.87999725341797,
          104.62000274658203,
          103.80000305175781,
          103.77999877929688,
          102.87000274658203,
          106.05999755859375,
          107,
          105.19000244140625,
          104.38999938964844,
          106.19999694824219,
          106.13999938964844,
          107.5,
          106.30999755859375,
          107.91000366210938,
          107.79000091552734,
          107.86000061035156,
          106.9000015258789,
          110.05000305175781,
          111.76000213623047,
          111.26000213623047,
          111.69000244140625,
          112.04000091552734,
          112.88999938964844,
          113.0199966430664,
          112.25,
          111.87000274658203,
          111.4000015258789,
          109.16000366210938,
          110.98999786376953,
          112.81999969482422,
          114.12999725341797,
          114.54000091552734,
          115.33999633789062,
          116.16999816894531,
          118.08999633789062,
          117.38999938964844,
          117.13999938964844,
          119.5,
          116.55999755859375,
          118.62000274658203,
          117.87999725341797,
          117.44000244140625,
          118.06999969482422,
          118.94999694824219,
          119.05999755859375,
          119.86000061035156,
          120.0999984741211,
          119.38999938964844,
          119.80999755859375,
          118.62999725341797,
          119.76000213623047,
          120.54000091552734,
          120.63999938964844,
          120.94000244140625,
          121.63999938964844,
          121.23999786376953,
          122.19000244140625,
          122.62000274658203,
          124.0999984741211,
          125.79000091552734,
          130.05999755859375,
          129.6999969482422,
          129.89999389648438,
          129.80999755859375,
          130.52999877929688,
          127.9800033569336,
          127.36000061035156,
          126.38999938964844,
          126.45999908447266,
          125.44000244140625,
          124.29000091552734,
          124.91000366210938,
          124.11000061035156,
          123.87000274658203,
          124.26000213623047,
          126.75,
          128.30999755859375,
          126.5199966430664,
          127.43000030517578,
          126.62000274658203,
          126.19999694824219,
          126.91000366210938,
          126.9800033569336,
          125.37999725341797,
          125.26000213623047,
          124.2300033569336,
          123.8499984741211,
          121.27999877929688,
          124.94999694824219,
          126.44000244140625,
          129.19000244140625,
          132.39999389648438,
          133.8800048828125,
          131.39999389648438,
          131.97999572753906,
          132.25999450683594,
          132.6300048828125,
          134.19000244140625,
          135,
          137.4499969482422,
          136.5800018310547,
          137,
          137.25,
          134.35000610351562,
          134.13999938964844,
          134.57000732421875,
          136.6300048828125,
          136.1199951171875,
          136.8000030517578,
          135.94000244140625,
          136.39999389648438,
          136,
          137.1300048828125,
          138.1999969482422,
          138.85000610351562,
          139.44000244140625,
          138.9600067138672,
          137.6999969482422,
          135.5500030517578,
          140.22000122070312,
          137.41000366210938,
          139.75999450683594,
          138.89999389648438,
          140.42999267578125,
          140.3699951171875,
          141.5,
          140.13999938964844,
          140.3300018310547,
          137,
          138.08999633789062,
          133.3000030517578,
          133.8000030517578,
          133.7899932861328,
          136.60000610351562,
          138.61000061035156,
          137.07000732421875,
          136.0500030517578,
          136.36000061035156,
          134.38999938964844,
          134.8800048828125,
          137.85000610351562,
          138.2100067138672,
          138.5500030517578,
          138.66000366210938,
          137.19000244140625,
          134.99000549316406,
          136.38999938964844,
          134.8800048828125,
          137.25,
          139.14999389648438,
          136.61000061035156,
          137.3000030517578,
          139.11000061035156,
          140.02999877929688,
          139.58999633789062,
          136.8000030517578,
          135.91000366210938,
          137.85000610351562,
          137.77999877929688,
          135.8300018310547,
          136.9600067138672,
          137.36000061035156,
          140.3000030517578,
          141.00999450683594,
          139.22999572753906,
          140.36000061035156,
          137.5,
          139.44000244140625,
          140.14999389648438,
          138.0500030517578,
          139.66000366210938,
          136.25,
          134.9499969482422,
          136.75,
          137.13999938964844,
          137.0800018310547,
          137.4600067138672,
          138.49000549316406,
          140.1199951171875,
          139.69000244140625,
          140.05999755859375,
          140.7899932861328,
          140.9499969482422,
          139.75999450683594,
          138.4499969482422,
          138.97000122070312,
          136.8800048828125,
          139.38999938964844,
          139.33999633789062,
          144.39999389648438,
          144.0800018310547,
          143.52000427246094,
          144.89999389648438,
          144.25999450683594,
          144.8300018310547,
          144.97000122070312,
          144.3699951171875,
          143.83999633789062,
          143.97999572753906,
          145.33999633789062,
          146.27999877929688,
          146.74000549316406,
          147.02000427246094,
          148.92999267578125,
          150.07000732421875,
          150.8800048828125,
          150.30999755859375,
          149.39999389648438,
          150.07000732421875,
          150,
          151.36000061035156,
          152.3300018310547,
          152.10000610351562,
          151.80999755859375,
          147.49000549316406,
          150.13999938964844,
          150.0500030517578,
          150.99000549316406,
          151.07000732421875,
          151.2899932861328,
          151.5399932861328,
          151.64999389648438,
          153,
          155.11000061035156,
          155.4499969482422,
          154.3000030517578,
          154,
          157.35000610351562,
          158.1199951171875,
          157.47999572753906,
          157.55999755859375,
          159.4499969482422,
          158.99000549316406,
          156.77000427246094
         ],
         "type": "candlestick",
         "x": [
          "2019-01-02T00:00:00",
          "2019-01-03T00:00:00",
          "2019-01-04T00:00:00",
          "2019-01-07T00:00:00",
          "2019-01-08T00:00:00",
          "2019-01-09T00:00:00",
          "2019-01-10T00:00:00",
          "2019-01-11T00:00:00",
          "2019-01-14T00:00:00",
          "2019-01-15T00:00:00",
          "2019-01-16T00:00:00",
          "2019-01-17T00:00:00",
          "2019-01-18T00:00:00",
          "2019-01-22T00:00:00",
          "2019-01-23T00:00:00",
          "2019-01-24T00:00:00",
          "2019-01-25T00:00:00",
          "2019-01-28T00:00:00",
          "2019-01-29T00:00:00",
          "2019-01-30T00:00:00",
          "2019-01-31T00:00:00",
          "2019-02-01T00:00:00",
          "2019-02-04T00:00:00",
          "2019-02-05T00:00:00",
          "2019-02-06T00:00:00",
          "2019-02-07T00:00:00",
          "2019-02-08T00:00:00",
          "2019-02-11T00:00:00",
          "2019-02-12T00:00:00",
          "2019-02-13T00:00:00",
          "2019-02-14T00:00:00",
          "2019-02-15T00:00:00",
          "2019-02-19T00:00:00",
          "2019-02-20T00:00:00",
          "2019-02-21T00:00:00",
          "2019-02-22T00:00:00",
          "2019-02-25T00:00:00",
          "2019-02-26T00:00:00",
          "2019-02-27T00:00:00",
          "2019-02-28T00:00:00",
          "2019-03-01T00:00:00",
          "2019-03-04T00:00:00",
          "2019-03-05T00:00:00",
          "2019-03-06T00:00:00",
          "2019-03-07T00:00:00",
          "2019-03-08T00:00:00",
          "2019-03-11T00:00:00",
          "2019-03-12T00:00:00",
          "2019-03-13T00:00:00",
          "2019-03-14T00:00:00",
          "2019-03-15T00:00:00",
          "2019-03-18T00:00:00",
          "2019-03-19T00:00:00",
          "2019-03-20T00:00:00",
          "2019-03-21T00:00:00",
          "2019-03-22T00:00:00",
          "2019-03-25T00:00:00",
          "2019-03-26T00:00:00",
          "2019-03-27T00:00:00",
          "2019-03-28T00:00:00",
          "2019-03-29T00:00:00",
          "2019-04-01T00:00:00",
          "2019-04-02T00:00:00",
          "2019-04-03T00:00:00",
          "2019-04-04T00:00:00",
          "2019-04-05T00:00:00",
          "2019-04-08T00:00:00",
          "2019-04-09T00:00:00",
          "2019-04-10T00:00:00",
          "2019-04-11T00:00:00",
          "2019-04-12T00:00:00",
          "2019-04-15T00:00:00",
          "2019-04-16T00:00:00",
          "2019-04-17T00:00:00",
          "2019-04-18T00:00:00",
          "2019-04-22T00:00:00",
          "2019-04-23T00:00:00",
          "2019-04-24T00:00:00",
          "2019-04-25T00:00:00",
          "2019-04-26T00:00:00",
          "2019-04-29T00:00:00",
          "2019-04-30T00:00:00",
          "2019-05-01T00:00:00",
          "2019-05-02T00:00:00",
          "2019-05-03T00:00:00",
          "2019-05-06T00:00:00",
          "2019-05-07T00:00:00",
          "2019-05-08T00:00:00",
          "2019-05-09T00:00:00",
          "2019-05-10T00:00:00",
          "2019-05-13T00:00:00",
          "2019-05-14T00:00:00",
          "2019-05-15T00:00:00",
          "2019-05-16T00:00:00",
          "2019-05-17T00:00:00",
          "2019-05-20T00:00:00",
          "2019-05-21T00:00:00",
          "2019-05-22T00:00:00",
          "2019-05-23T00:00:00",
          "2019-05-24T00:00:00",
          "2019-05-28T00:00:00",
          "2019-05-29T00:00:00",
          "2019-05-30T00:00:00",
          "2019-05-31T00:00:00",
          "2019-06-03T00:00:00",
          "2019-06-04T00:00:00",
          "2019-06-05T00:00:00",
          "2019-06-06T00:00:00",
          "2019-06-07T00:00:00",
          "2019-06-10T00:00:00",
          "2019-06-11T00:00:00",
          "2019-06-12T00:00:00",
          "2019-06-13T00:00:00",
          "2019-06-14T00:00:00",
          "2019-06-17T00:00:00",
          "2019-06-18T00:00:00",
          "2019-06-19T00:00:00",
          "2019-06-20T00:00:00",
          "2019-06-21T00:00:00",
          "2019-06-24T00:00:00",
          "2019-06-25T00:00:00",
          "2019-06-26T00:00:00",
          "2019-06-27T00:00:00",
          "2019-06-28T00:00:00",
          "2019-07-01T00:00:00",
          "2019-07-02T00:00:00",
          "2019-07-03T00:00:00",
          "2019-07-05T00:00:00",
          "2019-07-08T00:00:00",
          "2019-07-09T00:00:00",
          "2019-07-10T00:00:00",
          "2019-07-11T00:00:00",
          "2019-07-12T00:00:00",
          "2019-07-15T00:00:00",
          "2019-07-16T00:00:00",
          "2019-07-17T00:00:00",
          "2019-07-18T00:00:00",
          "2019-07-19T00:00:00",
          "2019-07-22T00:00:00",
          "2019-07-23T00:00:00",
          "2019-07-24T00:00:00",
          "2019-07-25T00:00:00",
          "2019-07-26T00:00:00",
          "2019-07-29T00:00:00",
          "2019-07-30T00:00:00",
          "2019-07-31T00:00:00",
          "2019-08-01T00:00:00",
          "2019-08-02T00:00:00",
          "2019-08-05T00:00:00",
          "2019-08-06T00:00:00",
          "2019-08-07T00:00:00",
          "2019-08-08T00:00:00",
          "2019-08-09T00:00:00",
          "2019-08-12T00:00:00",
          "2019-08-13T00:00:00",
          "2019-08-14T00:00:00",
          "2019-08-15T00:00:00",
          "2019-08-16T00:00:00",
          "2019-08-19T00:00:00",
          "2019-08-20T00:00:00",
          "2019-08-21T00:00:00",
          "2019-08-22T00:00:00",
          "2019-08-23T00:00:00",
          "2019-08-26T00:00:00",
          "2019-08-27T00:00:00",
          "2019-08-28T00:00:00",
          "2019-08-29T00:00:00",
          "2019-08-30T00:00:00",
          "2019-09-03T00:00:00",
          "2019-09-04T00:00:00",
          "2019-09-05T00:00:00",
          "2019-09-06T00:00:00",
          "2019-09-09T00:00:00",
          "2019-09-10T00:00:00",
          "2019-09-11T00:00:00",
          "2019-09-12T00:00:00",
          "2019-09-13T00:00:00",
          "2019-09-16T00:00:00",
          "2019-09-17T00:00:00",
          "2019-09-18T00:00:00",
          "2019-09-19T00:00:00",
          "2019-09-20T00:00:00",
          "2019-09-23T00:00:00",
          "2019-09-24T00:00:00",
          "2019-09-25T00:00:00",
          "2019-09-26T00:00:00",
          "2019-09-27T00:00:00",
          "2019-09-30T00:00:00",
          "2019-10-01T00:00:00",
          "2019-10-02T00:00:00",
          "2019-10-03T00:00:00",
          "2019-10-04T00:00:00",
          "2019-10-07T00:00:00",
          "2019-10-08T00:00:00",
          "2019-10-09T00:00:00",
          "2019-10-10T00:00:00",
          "2019-10-11T00:00:00",
          "2019-10-14T00:00:00",
          "2019-10-15T00:00:00",
          "2019-10-16T00:00:00",
          "2019-10-17T00:00:00",
          "2019-10-18T00:00:00",
          "2019-10-21T00:00:00",
          "2019-10-22T00:00:00",
          "2019-10-23T00:00:00",
          "2019-10-24T00:00:00",
          "2019-10-25T00:00:00",
          "2019-10-28T00:00:00",
          "2019-10-29T00:00:00",
          "2019-10-30T00:00:00",
          "2019-10-31T00:00:00",
          "2019-11-01T00:00:00",
          "2019-11-04T00:00:00",
          "2019-11-05T00:00:00",
          "2019-11-06T00:00:00",
          "2019-11-07T00:00:00",
          "2019-11-08T00:00:00",
          "2019-11-11T00:00:00",
          "2019-11-12T00:00:00",
          "2019-11-13T00:00:00",
          "2019-11-14T00:00:00",
          "2019-11-15T00:00:00",
          "2019-11-18T00:00:00",
          "2019-11-19T00:00:00",
          "2019-11-20T00:00:00",
          "2019-11-21T00:00:00",
          "2019-11-22T00:00:00",
          "2019-11-25T00:00:00",
          "2019-11-26T00:00:00",
          "2019-11-27T00:00:00",
          "2019-11-29T00:00:00",
          "2019-12-02T00:00:00",
          "2019-12-03T00:00:00",
          "2019-12-04T00:00:00",
          "2019-12-05T00:00:00",
          "2019-12-06T00:00:00",
          "2019-12-09T00:00:00",
          "2019-12-10T00:00:00",
          "2019-12-11T00:00:00",
          "2019-12-12T00:00:00",
          "2019-12-13T00:00:00",
          "2019-12-16T00:00:00",
          "2019-12-17T00:00:00",
          "2019-12-18T00:00:00",
          "2019-12-19T00:00:00",
          "2019-12-20T00:00:00",
          "2019-12-23T00:00:00",
          "2019-12-24T00:00:00",
          "2019-12-26T00:00:00",
          "2019-12-27T00:00:00",
          "2019-12-30T00:00:00",
          "2019-12-31T00:00:00"
         ]
        }
       ],
       "layout": {
        "template": {
         "data": {
          "bar": [
           {
            "error_x": {
             "color": "#2a3f5f"
            },
            "error_y": {
             "color": "#2a3f5f"
            },
            "marker": {
             "line": {
              "color": "#E5ECF6",
              "width": 0.5
             },
             "pattern": {
              "fillmode": "overlay",
              "size": 10,
              "solidity": 0.2
             }
            },
            "type": "bar"
           }
          ],
          "barpolar": [
           {
            "marker": {
             "line": {
              "color": "#E5ECF6",
              "width": 0.5
             },
             "pattern": {
              "fillmode": "overlay",
              "size": 10,
              "solidity": 0.2
             }
            },
            "type": "barpolar"
           }
          ],
          "carpet": [
           {
            "aaxis": {
             "endlinecolor": "#2a3f5f",
             "gridcolor": "white",
             "linecolor": "white",
             "minorgridcolor": "white",
             "startlinecolor": "#2a3f5f"
            },
            "baxis": {
             "endlinecolor": "#2a3f5f",
             "gridcolor": "white",
             "linecolor": "white",
             "minorgridcolor": "white",
             "startlinecolor": "#2a3f5f"
            },
            "type": "carpet"
           }
          ],
          "choropleth": [
           {
            "colorbar": {
             "outlinewidth": 0,
             "ticks": ""
            },
            "type": "choropleth"
           }
          ],
          "contour": [
           {
            "colorbar": {
             "outlinewidth": 0,
             "ticks": ""
            },
            "colorscale": [
             [
              0,
              "#0d0887"
             ],
             [
              0.1111111111111111,
              "#46039f"
             ],
             [
              0.2222222222222222,
              "#7201a8"
             ],
             [
              0.3333333333333333,
              "#9c179e"
             ],
             [
              0.4444444444444444,
              "#bd3786"
             ],
             [
              0.5555555555555556,
              "#d8576b"
             ],
             [
              0.6666666666666666,
              "#ed7953"
             ],
             [
              0.7777777777777778,
              "#fb9f3a"
             ],
             [
              0.8888888888888888,
              "#fdca26"
             ],
             [
              1,
              "#f0f921"
             ]
            ],
            "type": "contour"
           }
          ],
          "contourcarpet": [
           {
            "colorbar": {
             "outlinewidth": 0,
             "ticks": ""
            },
            "type": "contourcarpet"
           }
          ],
          "heatmap": [
           {
            "colorbar": {
             "outlinewidth": 0,
             "ticks": ""
            },
            "colorscale": [
             [
              0,
              "#0d0887"
             ],
             [
              0.1111111111111111,
              "#46039f"
             ],
             [
              0.2222222222222222,
              "#7201a8"
             ],
             [
              0.3333333333333333,
              "#9c179e"
             ],
             [
              0.4444444444444444,
              "#bd3786"
             ],
             [
              0.5555555555555556,
              "#d8576b"
             ],
             [
              0.6666666666666666,
              "#ed7953"
             ],
             [
              0.7777777777777778,
              "#fb9f3a"
             ],
             [
              0.8888888888888888,
              "#fdca26"
             ],
             [
              1,
              "#f0f921"
             ]
            ],
            "type": "heatmap"
           }
          ],
          "heatmapgl": [
           {
            "colorbar": {
             "outlinewidth": 0,
             "ticks": ""
            },
            "colorscale": [
             [
              0,
              "#0d0887"
             ],
             [
              0.1111111111111111,
              "#46039f"
             ],
             [
              0.2222222222222222,
              "#7201a8"
             ],
             [
              0.3333333333333333,
              "#9c179e"
             ],
             [
              0.4444444444444444,
              "#bd3786"
             ],
             [
              0.5555555555555556,
              "#d8576b"
             ],
             [
              0.6666666666666666,
              "#ed7953"
             ],
             [
              0.7777777777777778,
              "#fb9f3a"
             ],
             [
              0.8888888888888888,
              "#fdca26"
             ],
             [
              1,
              "#f0f921"
             ]
            ],
            "type": "heatmapgl"
           }
          ],
          "histogram": [
           {
            "marker": {
             "pattern": {
              "fillmode": "overlay",
              "size": 10,
              "solidity": 0.2
             }
            },
            "type": "histogram"
           }
          ],
          "histogram2d": [
           {
            "colorbar": {
             "outlinewidth": 0,
             "ticks": ""
            },
            "colorscale": [
             [
              0,
              "#0d0887"
             ],
             [
              0.1111111111111111,
              "#46039f"
             ],
             [
              0.2222222222222222,
              "#7201a8"
             ],
             [
              0.3333333333333333,
              "#9c179e"
             ],
             [
              0.4444444444444444,
              "#bd3786"
             ],
             [
              0.5555555555555556,
              "#d8576b"
             ],
             [
              0.6666666666666666,
              "#ed7953"
             ],
             [
              0.7777777777777778,
              "#fb9f3a"
             ],
             [
              0.8888888888888888,
              "#fdca26"
             ],
             [
              1,
              "#f0f921"
             ]
            ],
            "type": "histogram2d"
           }
          ],
          "histogram2dcontour": [
           {
            "colorbar": {
             "outlinewidth": 0,
             "ticks": ""
            },
            "colorscale": [
             [
              0,
              "#0d0887"
             ],
             [
              0.1111111111111111,
              "#46039f"
             ],
             [
              0.2222222222222222,
              "#7201a8"
             ],
             [
              0.3333333333333333,
              "#9c179e"
             ],
             [
              0.4444444444444444,
              "#bd3786"
             ],
             [
              0.5555555555555556,
              "#d8576b"
             ],
             [
              0.6666666666666666,
              "#ed7953"
             ],
             [
              0.7777777777777778,
              "#fb9f3a"
             ],
             [
              0.8888888888888888,
              "#fdca26"
             ],
             [
              1,
              "#f0f921"
             ]
            ],
            "type": "histogram2dcontour"
           }
          ],
          "mesh3d": [
           {
            "colorbar": {
             "outlinewidth": 0,
             "ticks": ""
            },
            "type": "mesh3d"
           }
          ],
          "parcoords": [
           {
            "line": {
             "colorbar": {
              "outlinewidth": 0,
              "ticks": ""
             }
            },
            "type": "parcoords"
           }
          ],
          "pie": [
           {
            "automargin": true,
            "type": "pie"
           }
          ],
          "scatter": [
           {
            "marker": {
             "colorbar": {
              "outlinewidth": 0,
              "ticks": ""
             }
            },
            "type": "scatter"
           }
          ],
          "scatter3d": [
           {
            "line": {
             "colorbar": {
              "outlinewidth": 0,
              "ticks": ""
             }
            },
            "marker": {
             "colorbar": {
              "outlinewidth": 0,
              "ticks": ""
             }
            },
            "type": "scatter3d"
           }
          ],
          "scattercarpet": [
           {
            "marker": {
             "colorbar": {
              "outlinewidth": 0,
              "ticks": ""
             }
            },
            "type": "scattercarpet"
           }
          ],
          "scattergeo": [
           {
            "marker": {
             "colorbar": {
              "outlinewidth": 0,
              "ticks": ""
             }
            },
            "type": "scattergeo"
           }
          ],
          "scattergl": [
           {
            "marker": {
             "colorbar": {
              "outlinewidth": 0,
              "ticks": ""
             }
            },
            "type": "scattergl"
           }
          ],
          "scattermapbox": [
           {
            "marker": {
             "colorbar": {
              "outlinewidth": 0,
              "ticks": ""
             }
            },
            "type": "scattermapbox"
           }
          ],
          "scatterpolar": [
           {
            "marker": {
             "colorbar": {
              "outlinewidth": 0,
              "ticks": ""
             }
            },
            "type": "scatterpolar"
           }
          ],
          "scatterpolargl": [
           {
            "marker": {
             "colorbar": {
              "outlinewidth": 0,
              "ticks": ""
             }
            },
            "type": "scatterpolargl"
           }
          ],
          "scatterternary": [
           {
            "marker": {
             "colorbar": {
              "outlinewidth": 0,
              "ticks": ""
             }
            },
            "type": "scatterternary"
           }
          ],
          "surface": [
           {
            "colorbar": {
             "outlinewidth": 0,
             "ticks": ""
            },
            "colorscale": [
             [
              0,
              "#0d0887"
             ],
             [
              0.1111111111111111,
              "#46039f"
             ],
             [
              0.2222222222222222,
              "#7201a8"
             ],
             [
              0.3333333333333333,
              "#9c179e"
             ],
             [
              0.4444444444444444,
              "#bd3786"
             ],
             [
              0.5555555555555556,
              "#d8576b"
             ],
             [
              0.6666666666666666,
              "#ed7953"
             ],
             [
              0.7777777777777778,
              "#fb9f3a"
             ],
             [
              0.8888888888888888,
              "#fdca26"
             ],
             [
              1,
              "#f0f921"
             ]
            ],
            "type": "surface"
           }
          ],
          "table": [
           {
            "cells": {
             "fill": {
              "color": "#EBF0F8"
             },
             "line": {
              "color": "white"
             }
            },
            "header": {
             "fill": {
              "color": "#C8D4E3"
             },
             "line": {
              "color": "white"
             }
            },
            "type": "table"
           }
          ]
         },
         "layout": {
          "annotationdefaults": {
           "arrowcolor": "#2a3f5f",
           "arrowhead": 0,
           "arrowwidth": 1
          },
          "autotypenumbers": "strict",
          "coloraxis": {
           "colorbar": {
            "outlinewidth": 0,
            "ticks": ""
           }
          },
          "colorscale": {
           "diverging": [
            [
             0,
             "#8e0152"
            ],
            [
             0.1,
             "#c51b7d"
            ],
            [
             0.2,
             "#de77ae"
            ],
            [
             0.3,
             "#f1b6da"
            ],
            [
             0.4,
             "#fde0ef"
            ],
            [
             0.5,
             "#f7f7f7"
            ],
            [
             0.6,
             "#e6f5d0"
            ],
            [
             0.7,
             "#b8e186"
            ],
            [
             0.8,
             "#7fbc41"
            ],
            [
             0.9,
             "#4d9221"
            ],
            [
             1,
             "#276419"
            ]
           ],
           "sequential": [
            [
             0,
             "#0d0887"
            ],
            [
             0.1111111111111111,
             "#46039f"
            ],
            [
             0.2222222222222222,
             "#7201a8"
            ],
            [
             0.3333333333333333,
             "#9c179e"
            ],
            [
             0.4444444444444444,
             "#bd3786"
            ],
            [
             0.5555555555555556,
             "#d8576b"
            ],
            [
             0.6666666666666666,
             "#ed7953"
            ],
            [
             0.7777777777777778,
             "#fb9f3a"
            ],
            [
             0.8888888888888888,
             "#fdca26"
            ],
            [
             1,
             "#f0f921"
            ]
           ],
           "sequentialminus": [
            [
             0,
             "#0d0887"
            ],
            [
             0.1111111111111111,
             "#46039f"
            ],
            [
             0.2222222222222222,
             "#7201a8"
            ],
            [
             0.3333333333333333,
             "#9c179e"
            ],
            [
             0.4444444444444444,
             "#bd3786"
            ],
            [
             0.5555555555555556,
             "#d8576b"
            ],
            [
             0.6666666666666666,
             "#ed7953"
            ],
            [
             0.7777777777777778,
             "#fb9f3a"
            ],
            [
             0.8888888888888888,
             "#fdca26"
            ],
            [
             1,
             "#f0f921"
            ]
           ]
          },
          "colorway": [
           "#636efa",
           "#EF553B",
           "#00cc96",
           "#ab63fa",
           "#FFA15A",
           "#19d3f3",
           "#FF6692",
           "#B6E880",
           "#FF97FF",
           "#FECB52"
          ],
          "font": {
           "color": "#2a3f5f"
          },
          "geo": {
           "bgcolor": "white",
           "lakecolor": "white",
           "landcolor": "#E5ECF6",
           "showlakes": true,
           "showland": true,
           "subunitcolor": "white"
          },
          "hoverlabel": {
           "align": "left"
          },
          "hovermode": "closest",
          "mapbox": {
           "style": "light"
          },
          "paper_bgcolor": "white",
          "plot_bgcolor": "#E5ECF6",
          "polar": {
           "angularaxis": {
            "gridcolor": "white",
            "linecolor": "white",
            "ticks": ""
           },
           "bgcolor": "#E5ECF6",
           "radialaxis": {
            "gridcolor": "white",
            "linecolor": "white",
            "ticks": ""
           }
          },
          "scene": {
           "xaxis": {
            "backgroundcolor": "#E5ECF6",
            "gridcolor": "white",
            "gridwidth": 2,
            "linecolor": "white",
            "showbackground": true,
            "ticks": "",
            "zerolinecolor": "white"
           },
           "yaxis": {
            "backgroundcolor": "#E5ECF6",
            "gridcolor": "white",
            "gridwidth": 2,
            "linecolor": "white",
            "showbackground": true,
            "ticks": "",
            "zerolinecolor": "white"
           },
           "zaxis": {
            "backgroundcolor": "#E5ECF6",
            "gridcolor": "white",
            "gridwidth": 2,
            "linecolor": "white",
            "showbackground": true,
            "ticks": "",
            "zerolinecolor": "white"
           }
          },
          "shapedefaults": {
           "line": {
            "color": "#2a3f5f"
           }
          },
          "ternary": {
           "aaxis": {
            "gridcolor": "white",
            "linecolor": "white",
            "ticks": ""
           },
           "baxis": {
            "gridcolor": "white",
            "linecolor": "white",
            "ticks": ""
           },
           "bgcolor": "#E5ECF6",
           "caxis": {
            "gridcolor": "white",
            "linecolor": "white",
            "ticks": ""
           }
          },
          "title": {
           "x": 0.05
          },
          "xaxis": {
           "automargin": true,
           "gridcolor": "white",
           "linecolor": "white",
           "ticks": "",
           "title": {
            "standoff": 15
           },
           "zerolinecolor": "white",
           "zerolinewidth": 2
          },
          "yaxis": {
           "automargin": true,
           "gridcolor": "white",
           "linecolor": "white",
           "ticks": "",
           "title": {
            "standoff": 15
           },
           "zerolinecolor": "white",
           "zerolinewidth": 2
          }
         }
        },
        "title": {
         "text": "<b>MICROSOFT CANDLESTICK CHART</b>"
        },
        "xaxis": {
         "anchor": "y",
         "domain": [
          0,
          0.94
         ],
         "title": {
          "text": "<b>1-year Period of Time</b>"
         }
        },
        "yaxis": {
         "anchor": "x",
         "domain": [
          0,
          1
         ],
         "title": {
          "text": "<b>Stock Value</br>"
         }
        },
        "yaxis2": {
         "anchor": "x",
         "overlaying": "y",
         "side": "right",
         "title": {
          "text": "<b>Volume Shares</b>"
         }
        }
       }
      }
     },
     "metadata": {},
     "output_type": "display_data"
    },
    {
     "data": {
      "application/vnd.plotly.v1+json": {
       "config": {
        "plotlyServerURL": "https://plot.ly"
       },
       "data": [
        {
         "close": [
          39.47999954223633,
          35.54750061035156,
          37.064998626708984,
          36.98249816894531,
          37.6875,
          38.32749938964844,
          38.45000076293945,
          38.0724983215332,
          37.5,
          38.26750183105469,
          38.73500061035156,
          38.96500015258789,
          39.20500183105469,
          38.32500076293945,
          38.47999954223633,
          38.17499923706055,
          39.439998626708984,
          39.07500076293945,
          38.66999816894531,
          41.3125,
          41.61000061035156,
          41.630001068115234,
          42.8125,
          43.54499816894531,
          43.560001373291016,
          42.73500061035156,
          42.602500915527344,
          42.35749816894531,
          42.72249984741211,
          42.54499816894531,
          42.70000076293945,
          42.60499954223633,
          42.73249816894531,
          43.00749969482422,
          42.76499938964844,
          43.24250030517578,
          43.557498931884766,
          43.58250045776367,
          43.717498779296875,
          43.287498474121094,
          43.74250030517578,
          43.962501525878906,
          43.88249969482422,
          43.630001068115234,
          43.125,
          43.227500915527344,
          44.724998474121094,
          45.227500915527344,
          45.4275016784668,
          45.932498931884766,
          46.529998779296875,
          47.005001068115234,
          46.63249969482422,
          47.040000915527344,
          48.772499084472656,
          47.76250076293945,
          47.185001373291016,
          46.6974983215332,
          47.11750030517578,
          47.18000030517578,
          47.48749923706055,
          47.810001373291016,
          48.505001068115234,
          48.837501525878906,
          48.92250061035156,
          49.25,
          50.025001525878906,
          49.875,
          50.154998779296875,
          49.73749923706055,
          49.717498779296875,
          49.807498931884766,
          49.8125,
          50.782501220703125,
          50.96500015258789,
          51.13249969482422,
          51.869998931884766,
          51.790000915527344,
          51.31999969482422,
          51.07500076293945,
          51.15250015258789,
          50.16749954223633,
          52.630001068115234,
          52.287498474121094,
          52.9375,
          52.119998931884766,
          50.71500015258789,
          50.724998474121094,
          50.18000030517578,
          49.29499816894531,
          46.43000030517578,
          47.165000915527344,
          47.72999954223633,
          47.52000045776367,
          47.25,
          45.772499084472656,
          46.650001525878906,
          45.69499969482422,
          44.915000915527344,
          44.74250030517578,
          44.557498931884766,
          44.345001220703125,
          44.57500076293945,
          43.76750183105469,
          43.32500076293945,
          44.90999984741211,
          45.6349983215332,
          46.30500030517578,
          47.537498474121094,
          48.14500045776367,
          48.70249938964844,
          48.54750061035156,
          48.537498474121094,
          48.185001373291016,
          48.47249984741211,
          49.61249923706055,
          49.467498779296875,
          49.8650016784668,
          49.69499969482422,
          49.64500045776367,
          48.89250183105469,
          49.95000076293945,
          49.935001373291016,
          49.47999954223633,
          50.38750076293945,
          50.682498931884766,
          51.102500915527344,
          51.057498931884766,
          50.005001068115234,
          50.310001373291016,
          50.807498931884766,
          50.4375,
          50.82500076293945,
          51.3025016784668,
          51.125,
          50.837501525878906,
          51.415000915527344,
          50.647499084472656,
          51.80500030517578,
          52.209999084472656,
          52.16749954223633,
          51.755001068115234,
          51.935001373291016,
          52.41999816894531,
          52.19499969482422,
          53.2599983215332,
          52.10749816894531,
          51.005001068115234,
          48.334999084472656,
          49.25,
          49.7599983215332,
          50.85749816894531,
          50.247501373291016,
          50.119998931884766,
          52.24250030517578,
          50.6875,
          50.435001373291016,
          51.625,
          52.587501525878906,
          52.59000015258789,
          53.15999984741211,
          53.1150016784668,
          50.65999984741211,
          51.622501373291016,
          51.040000915527344,
          51.38249969482422,
          52.252498626708984,
          52.185001373291016,
          51.42499923706055,
          52.29750061035156,
          53.31999969482422,
          53.314998626708984,
          53.54249954223633,
          54.17499923706055,
          55.897499084472656,
          55.772499084472656,
          54.6875,
          54.974998474121094,
          55.17499923706055,
          55.692501068115234,
          55.2400016784668,
          54.432498931884766,
          54.68000030517578,
          54.41999816894531,
          55.25749969482422,
          54.97249984741211,
          54.70500183105469,
          55.99250030517578,
          56.147499084472656,
          54.7400016784668,
          55.20500183105469,
          56.752498626708984,
          56.76499938964844,
          56.099998474121094,
          56.75749969482422,
          57.522499084472656,
          59.0525016784668,
          58.967498779296875,
          58.83000183105469,
          58.592498779296875,
          58.81999969482422,
          59.102500915527344,
          60.127498626708984,
          59.9900016784668,
          60.79499816894531,
          60.89500045776367,
          61.64500045776367,
          62.26250076293945,
          60.8224983215332,
          60.814998626708984,
          62.189998626708984,
          63.95500183105469,
          64.375,
          64.28250122070312,
          64.30999755859375,
          64.85749816894531,
          65.03500366210938,
          65.55000305175781,
          65.48999786376953,
          66.11750030517578,
          65.66000366210938,
          66.44000244140625,
          66.7750015258789,
          66.57250213623047,
          65.79750061035156,
          65.50250244140625,
          65.44499969482422,
          66.59249877929688,
          66.07250213623047,
          66.95999908447266,
          66.8125,
          66.04000091552734,
          64.86250305175781,
          65.43499755859375,
          66.3949966430664,
          67.67749786376953,
          66.7300033569336,
          67.12000274658203,
          67.69249725341797,
          67.86499786376953,
          68.7874984741211,
          69.96499633789062,
          70.10250091552734,
          69.93499755859375,
          70.00499725341797,
          69.86000061035156,
          71,
          71.06749725341797,
          72.47750091552734,
          72.44999694824219,
          72.87999725341797,
          73.4124984741211
         ],
         "high": [
          39.712501525878906,
          36.43000030517578,
          37.13750076293945,
          37.20750045776367,
          37.95500183105469,
          38.63249969482422,
          38.49250030517578,
          38.42499923706055,
          37.817501068115234,
          38.34749984741211,
          38.970001220703125,
          39.415000915527344,
          39.470001220703125,
          39.182498931884766,
          38.78499984741211,
          38.619998931884766,
          39.532501220703125,
          39.08250045776367,
          39.532501220703125,
          41.537498474121094,
          42.25,
          42.244998931884766,
          42.915000915527344,
          43.77000045776367,
          43.89250183105469,
          43.48500061035156,
          42.665000915527344,
          42.8025016784668,
          42.75,
          43.119998931884766,
          42.814998626708984,
          42.92499923706055,
          42.86000061035156,
          43.33000183105469,
          43.092498779296875,
          43.25,
          43.967498779296875,
          43.82500076293945,
          43.75,
          43.727500915527344,
          43.787498474121094,
          44.4375,
          44,
          43.872501373291016,
          43.61000061035156,
          43.26750183105469,
          44.779998779296875,
          45.66749954223633,
          45.82500076293945,
          46.025001525878906,
          46.83250045776367,
          47.09749984741211,
          47.247501373291016,
          47.372501373291016,
          49.08250045776367,
          49.42250061035156,
          47.994998931884766,
          48.220001220703125,
          47.439998626708984,
          47.38999938964844,
          47.52000045776367,
          47.91999816894531,
          48.6150016784668,
          49.125,
          49.092498779296875,
          49.275001525878906,
          50.057498931884766,
          50.712501525878906,
          50.185001373291016,
          50.25,
          50.03499984741211,
          49.962501525878906,
          50.342498779296875,
          50.845001220703125,
          51.037498474121094,
          51.23500061035156,
          51.9375,
          52.119998931884766,
          51.939998626708984,
          51.25,
          51.49250030517578,
          50.849998474121094,
          53.82749938964844,
          53.162498474121094,
          52.959999084472656,
          52.209999084472656,
          51.85499954223633,
          51.334999084472656,
          50.41999816894531,
          49.712501525878906,
          47.369998931884766,
          47.42499923706055,
          47.9375,
          48.11750030517578,
          47.724998474121094,
          46.087501525878906,
          47,
          46.4275016784668,
          45.1349983215332,
          45.53499984741211,
          45.147499084472656,
          44.837501525878906,
          44.807498931884766,
          44.497501373291016,
          44.47999954223633,
          44.95750045776367,
          46.247501373291016,
          46.36750030517578,
          47.97999954223633,
          48.842498779296875,
          49,
          48.99250030517578,
          49.1974983215332,
          48.397499084472656,
          48.7400016784668,
          50.0724983215332,
          49.970001220703125,
          50.15250015258789,
          50.212501525878906,
          50.040000915527344,
          49.814998626708984,
          50.247501373291016,
          50.39250183105469,
          49.875,
          51.122501373291016,
          50.782501220703125,
          51.11000061035156,
          51.27000045776367,
          50.349998474121094,
          50.377498626708984,
          50.932498931884766,
          51.09749984741211,
          51,
          51.467498779296875,
          51.52750015258789,
          51.272499084472656,
          51.470001220703125,
          51.625,
          51.807498931884766,
          52.227500915527344,
          52.287498474121094,
          52.310001373291016,
          52.432498931884766,
          52.65999984741211,
          52.540000915527344,
          55.342498779296875,
          54.50749969482422,
          51.60749816894531,
          49.662498474121094,
          49.51750183105469,
          49.88999938964844,
          50.88249969482422,
          50.689998626708984,
          50.51250076293945,
          53.03499984741211,
          51.61000061035156,
          51.28499984741211,
          51.790000915527344,
          53.182498931884766,
          53.337501525878906,
          53.412498474121094,
          53.61000061035156,
          53.01250076293945,
          51.79750061035156,
          52.13750076293945,
          51.43000030517578,
          52.33000183105469,
          52.61249923706055,
          51.744998931884766,
          52.369998931884766,
          53.49250030517578,
          53.60499954223633,
          54.11000061035156,
          54.19499969482422,
          55.9275016784668,
          56.60499954223633,
          55.1974983215332,
          55.032501220703125,
          55.20500183105469,
          55.712501525878906,
          55.939998626708984,
          55.63999938964844,
          54.959999084472656,
          55.622501373291016,
          55.375,
          55.23500061035156,
          55.2400016784668,
          56.14500045776367,
          57.05500030517578,
          55.89500045776367,
          55.2400016784668,
          56.872501373291016,
          57.48249816894531,
          57.01499938964844,
          56.9474983215332,
          57.61000061035156,
          59.40999984741211,
          59.532501220703125,
          59.412498474121094,
          58.810001373291016,
          59.037498474121094,
          59.39500045776367,
          60.247501373291016,
          60.54999923706055,
          60.810001373291016,
          61.20000076293945,
          61.682498931884766,
          62.3125,
          62.4375,
          61.32500076293945,
          62.29249954223633,
          63.98249816894531,
          64.4625015258789,
          64.54750061035156,
          64.37249755859375,
          65.0875015258789,
          65.11000061035156,
          65.61750030517578,
          65.69750213623047,
          66.19499969482422,
          66.22000122070312,
          66.44499969482422,
          66.85749816894531,
          67,
          66.5199966430664,
          66.00250244140625,
          65.79499816894531,
          66.61000061035156,
          66.79000091552734,
          66.99500274658203,
          67,
          67.0625,
          64.88249969482422,
          65.82749938964844,
          66.47250366210938,
          67.75,
          67.69999694824219,
          67.51750183105469,
          67.7750015258789,
          68.13999938964844,
          68.82499694824219,
          70.19750213623047,
          70.44249725341797,
          70.4749984741211,
          70.29499816894531,
          70.6624984741211,
          71.0625,
          71.22250366210938,
          72.49500274658203,
          73.49250030517578,
          73.17250061035156,
          73.41999816894531
         ],
         "low": [
          38.557498931884766,
          35.5,
          35.95000076293945,
          36.474998474121094,
          37.130001068115234,
          37.407501220703125,
          37.71500015258789,
          37.877498626708984,
          37.30500030517578,
          37.51250076293945,
          38.25,
          38.314998626708984,
          38.994998931884766,
          38.154998779296875,
          37.92499923706055,
          37.935001373291016,
          38.58000183105469,
          38.415000915527344,
          38.52750015258789,
          40.057498931884766,
          41.13999938964844,
          41.48249816894531,
          41.81999969482422,
          43.087501525878906,
          43.212501525878906,
          42.584999084472656,
          42.10499954223633,
          42.3125,
          42.42499923706055,
          42.47999954223633,
          42.345001220703125,
          42.4375,
          42.372501373291016,
          42.747501373291016,
          42.57500076293945,
          42.845001220703125,
          43.48749923706055,
          43.29249954223633,
          43.182498931884766,
          43.22999954223633,
          43.22249984741211,
          43.49250030517578,
          43.6349983215332,
          43.48500061035156,
          43.005001068115234,
          42.375,
          43.837501525878906,
          44.842498779296875,
          45.22999954223633,
          45.63999938964844,
          45.935001373291016,
          46.4474983215332,
          46.47999954223633,
          46.182498931884766,
          47.45249938964844,
          47.69499969482422,
          46.650001525878906,
          46.14500045776367,
          46.63750076293945,
          46.88249969482422,
          47.1349983215332,
          47.095001220703125,
          47.76250076293945,
          48.287498474121094,
          48.28499984741211,
          48.98249816894531,
          49.084999084472656,
          49.807498931884766,
          49.54499816894531,
          49.61000061035156,
          49.0525016784668,
          49.502498626708984,
          49.63999938964844,
          49.65250015258789,
          50.630001068115234,
          50.584999084472656,
          50.974998474121094,
          51.76250076293945,
          51.279998779296875,
          50.529998779296875,
          50.96500015258789,
          49.77750015258789,
          52.307498931884766,
          52.032501220703125,
          52.557498931884766,
          50.875,
          50.20750045776367,
          50.4375,
          49.165000915527344,
          48.192501068115234,
          45.712501525878906,
          46.352500915527344,
          46.505001068115234,
          47.209999084472656,
          46.689998626708984,
          45.06999969482422,
          46.17499923706055,
          45.63750076293945,
          44.45249938964844,
          44.654998779296875,
          44.477500915527344,
          44,
          44.16749954223633,
          43.747501373291016,
          42.567501068115234,
          43.630001068115234,
          45.28499984741211,
          45.537498474121094,
          46.442501068115234,
          47.904998779296875,
          48.400001525878906,
          48.34749984741211,
          48.400001525878906,
          47.57500076293945,
          48.04249954223633,
          48.8025016784668,
          49.32749938964844,
          49.50749969482422,
          49.537498474121094,
          49.54249954223633,
          48.8224983215332,
          49.337501525878906,
          49.89250183105469,
          49.26250076293945,
          50.162498474121094,
          50.34000015258789,
          50.67250061035156,
          50.724998474121094,
          49.602500915527344,
          49.70249938964844,
          50.38999938964844,
          50.4275016784668,
          50.54999923706055,
          51,
          50.875,
          50.817501068115234,
          50.92499923706055,
          50.59000015258789,
          50.90250015258789,
          51.8224983215332,
          51.79249954223633,
          51.682498931884766,
          51.78499984741211,
          52.11000061035156,
          51.82749938964844,
          52.82500076293945,
          51.685001373291016,
          50.407501220703125,
          48.14500045776367,
          48.5099983215332,
          48.45500183105469,
          49.84749984741211,
          49.8224983215332,
          49.787498474121094,
          50.119998931884766,
          50.647499084472656,
          49.91749954223633,
          50.959999084472656,
          52.50749969482422,
          52.58000183105469,
          52.900001525878906,
          52.6875,
          50.25,
          51.26499938964844,
          50.88249969482422,
          50.83000183105469,
          51.665000915527344,
          51.79999923706055,
          51.05500030517578,
          51.83000183105469,
          52.877498626708984,
          53.127498626708984,
          52.76750183105469,
          52.9275016784668,
          54.432498931884766,
          55.71500015258789,
          54.255001068115234,
          54.38999938964844,
          54.779998779296875,
          54.86000061035156,
          55.092498779296875,
          54.36750030517578,
          54.412498474121094,
          54.29750061035156,
          54.28499984741211,
          54.70750045776367,
          54.31999969482422,
          55.1974983215332,
          56.04999923706055,
          54.48249816894531,
          53.782501220703125,
          55.97249984741211,
          56.459999084472656,
          56.08250045776367,
          56.40999984741211,
          56.82500076293945,
          58.07749938964844,
          58.66749954223633,
          58.720001220703125,
          58.29999923706055,
          58.380001068115234,
          58.5724983215332,
          59.33000183105469,
          59.904998779296875,
          60.30500030517578,
          60.45249938964844,
          60.720001220703125,
          61.68000030517578,
          60.64250183105469,
          60.3025016784668,
          59.314998626708984,
          62.290000915527344,
          63.845001220703125,
          64.08000183105469,
          63.842498779296875,
          64.52749633789062,
          64.2125015258789,
          64.56999969482422,
          65.2300033569336,
          65.26750183105469,
          65.5250015258789,
          65.75250244140625,
          66.05750274658203,
          66.34750366210938,
          65.0999984741211,
          65.29499816894531,
          65.20999908447266,
          65.62999725341797,
          65.625,
          66.32749938964844,
          66.4749984741211,
          65.86250305175781,
          64.07250213623047,
          65.16999816894531,
          65.68250274658203,
          66.82499694824219,
          66.22750091552734,
          66.46499633789062,
          67.125,
          66.83000183105469,
          67.73249816894531,
          69.24500274658203,
          69.69999694824219,
          69.77999877929688,
          69.73750305175781,
          69.63999938964844,
          70.09249877929688,
          70.7300033569336,
          71.17500305175781,
          72.02999877929688,
          71.30500030517578,
          72.37999725341797
         ],
         "open": [
          38.72249984741211,
          35.994998931884766,
          36.13249969482422,
          37.17499923706055,
          37.38999938964844,
          37.8224983215332,
          38.125,
          38.220001220703125,
          37.712501525878906,
          37.567501068115234,
          38.27000045776367,
          38.54999923706055,
          39.375,
          39.102500915527344,
          38.537498474121094,
          38.52750015258789,
          38.869998931884766,
          38.9474983215332,
          39.0625,
          40.8125,
          41.52750015258789,
          41.7400016784668,
          41.852500915527344,
          43.21500015258789,
          43.662498474121094,
          43.099998474121094,
          42.247501373291016,
          42.76250076293945,
          42.525001525878906,
          42.84749984741211,
          42.4275016784668,
          42.8125,
          42.4275016784668,
          42.79750061035156,
          42.95000076293945,
          42.89500045776367,
          43.540000915527344,
          43.4275016784668,
          43.3025016784668,
          43.58000183105469,
          43.56999969482422,
          43.92250061035156,
          43.98500061035156,
          43.66749954223633,
          43.467498779296875,
          42.58000183105469,
          43.872501373291016,
          45,
          45.5625,
          45.974998474121094,
          46.212501525878906,
          46.45000076293945,
          47.087501525878906,
          46.557498931884766,
          47.505001068115234,
          48.834999084472656,
          47.877498626708984,
          47.915000915527344,
          47.1875,
          47.23749923706055,
          47.45750045776367,
          47.90999984741211,
          47.772499084472656,
          48.3125,
          48.6974983215332,
          49.11249923706055,
          49.10499954223633,
          50.08000183105469,
          49.66999816894531,
          50.212501525878906,
          49.79999923706055,
          49.64500045776367,
          49.8650016784668,
          49.8849983215332,
          50.779998779296875,
          50.70750045776367,
          51.10749816894531,
          51.84000015258789,
          51.70750045776367,
          51.224998474121094,
          51.099998474121094,
          50.76499938964844,
          52.470001220703125,
          52.459999084472656,
          52.72249984741211,
          51.0724983215332,
          51.470001220703125,
          50.474998474121094,
          50.099998474121094,
          49.35499954223633,
          46.9275016784668,
          46.602500915527344,
          46.567501068115234,
          47.477500915527344,
          46.73249816894531,
          45.880001068115234,
          46.30500030517578,
          46.165000915527344,
          44.95000076293945,
          45.04999923706055,
          44.72999954223633,
          44.10499954223633,
          44.48749923706055,
          44.057498931884766,
          43.900001525878906,
          43.86000061035156,
          46.06999969482422,
          45.77000045776367,
          46.627498626708984,
          47.95249938964844,
          48.71500015258789,
          48.48749923706055,
          48.67499923706055,
          47.88750076293945,
          48.224998474121094,
          49.01250076293945,
          49.91999816894531,
          50.092498779296875,
          49.70000076293945,
          49.6349983215332,
          49.60749816894531,
          49.442501068115234,
          50.0724983215332,
          49.66999816894531,
          50.79249954223633,
          50.352500915527344,
          50.81999969482422,
          50.837501525878906,
          50.20249938964844,
          49.79999923706055,
          50.462501525878906,
          50.82749938964844,
          50.61249923706055,
          51.022499084472656,
          51.147499084472656,
          51.01250076293945,
          51,
          51.4474983215332,
          50.912498474121094,
          52.1150016784668,
          51.91749954223633,
          52.22249984741211,
          51.869998931884766,
          52.1150016784668,
          52.189998626708984,
          54.10499954223633,
          53.474998474121094,
          51.38249969482422,
          49.497501373291016,
          49.07749938964844,
          48.852500915527344,
          50.04999923706055,
          50.32500076293945,
          49.904998779296875,
          50.255001068115234,
          50.790000915527344,
          50.8650016784668,
          51.06999969482422,
          52.654998779296875,
          52.720001220703125,
          53.247501373291016,
          53.29750061035156,
          52.35749816894531,
          51.46500015258789,
          51.96500015258789,
          51.025001525878906,
          52.125,
          52.540000915527344,
          51.60749816894531,
          52.09749984741211,
          53,
          53.51250076293945,
          53.709999084472656,
          53.46500015258789,
          54.51750183105469,
          56.20000076293945,
          55,
          54.432498931884766,
          54.9900016784668,
          55.26499938964844,
          55.502498626708984,
          55.345001220703125,
          54.73749923706055,
          55.25749969482422,
          54.63750076293945,
          55,
          55.1349983215332,
          55.224998474121094,
          56.26750183105469,
          55.76499938964844,
          54.60749816894531,
          56.40999984741211,
          56.567501068115234,
          56.45500183105469,
          56.75749969482422,
          56.98249816894531,
          58.23749923706055,
          58.724998474121094,
          59.09749984741211,
          58.342498779296875,
          58.772499084472656,
          58.647499084472656,
          59.380001068115234,
          60.290000915527344,
          60.525001525878906,
          61.127498626708984,
          60.790000915527344,
          61.85499954223633,
          62.24250030517578,
          61.189998626708984,
          61.810001373291016,
          62.3849983215332,
          64.3324966430664,
          64.26249694824219,
          64.19249725341797,
          64.68499755859375,
          64.67250061035156,
          64.57499694824219,
          65.38749694824219,
          65.28250122070312,
          65.9375,
          65.91999816894531,
          66.44999694824219,
          66.9749984741211,
          66.38500213623047,
          65.92250061035156,
          65.64749908447266,
          65.67749786376953,
          66.73500061035156,
          66.3949966430664,
          66.6500015258789,
          66.81749725341797,
          64.57749938964844,
          65.26750183105469,
          65.94750213623047,
          66.87000274658203,
          67.5,
          67.1500015258789,
          67.20249938964844,
          66.94499969482422,
          67.86499786376953,
          69.25,
          69.89250183105469,
          69.94999694824219,
          69.875,
          70.55750274658203,
          70.13249969482422,
          71.17250061035156,
          71.20500183105469,
          72.77999877929688,
          72.36499786376953,
          72.48249816894531
         ],
         "type": "candlestick",
         "x": [
          "2019-01-02T00:00:00",
          "2019-01-03T00:00:00",
          "2019-01-04T00:00:00",
          "2019-01-07T00:00:00",
          "2019-01-08T00:00:00",
          "2019-01-09T00:00:00",
          "2019-01-10T00:00:00",
          "2019-01-11T00:00:00",
          "2019-01-14T00:00:00",
          "2019-01-15T00:00:00",
          "2019-01-16T00:00:00",
          "2019-01-17T00:00:00",
          "2019-01-18T00:00:00",
          "2019-01-22T00:00:00",
          "2019-01-23T00:00:00",
          "2019-01-24T00:00:00",
          "2019-01-25T00:00:00",
          "2019-01-28T00:00:00",
          "2019-01-29T00:00:00",
          "2019-01-30T00:00:00",
          "2019-01-31T00:00:00",
          "2019-02-01T00:00:00",
          "2019-02-04T00:00:00",
          "2019-02-05T00:00:00",
          "2019-02-06T00:00:00",
          "2019-02-07T00:00:00",
          "2019-02-08T00:00:00",
          "2019-02-11T00:00:00",
          "2019-02-12T00:00:00",
          "2019-02-13T00:00:00",
          "2019-02-14T00:00:00",
          "2019-02-15T00:00:00",
          "2019-02-19T00:00:00",
          "2019-02-20T00:00:00",
          "2019-02-21T00:00:00",
          "2019-02-22T00:00:00",
          "2019-02-25T00:00:00",
          "2019-02-26T00:00:00",
          "2019-02-27T00:00:00",
          "2019-02-28T00:00:00",
          "2019-03-01T00:00:00",
          "2019-03-04T00:00:00",
          "2019-03-05T00:00:00",
          "2019-03-06T00:00:00",
          "2019-03-07T00:00:00",
          "2019-03-08T00:00:00",
          "2019-03-11T00:00:00",
          "2019-03-12T00:00:00",
          "2019-03-13T00:00:00",
          "2019-03-14T00:00:00",
          "2019-03-15T00:00:00",
          "2019-03-18T00:00:00",
          "2019-03-19T00:00:00",
          "2019-03-20T00:00:00",
          "2019-03-21T00:00:00",
          "2019-03-22T00:00:00",
          "2019-03-25T00:00:00",
          "2019-03-26T00:00:00",
          "2019-03-27T00:00:00",
          "2019-03-28T00:00:00",
          "2019-03-29T00:00:00",
          "2019-04-01T00:00:00",
          "2019-04-02T00:00:00",
          "2019-04-03T00:00:00",
          "2019-04-04T00:00:00",
          "2019-04-05T00:00:00",
          "2019-04-08T00:00:00",
          "2019-04-09T00:00:00",
          "2019-04-10T00:00:00",
          "2019-04-11T00:00:00",
          "2019-04-12T00:00:00",
          "2019-04-15T00:00:00",
          "2019-04-16T00:00:00",
          "2019-04-17T00:00:00",
          "2019-04-18T00:00:00",
          "2019-04-22T00:00:00",
          "2019-04-23T00:00:00",
          "2019-04-24T00:00:00",
          "2019-04-25T00:00:00",
          "2019-04-26T00:00:00",
          "2019-04-29T00:00:00",
          "2019-04-30T00:00:00",
          "2019-05-01T00:00:00",
          "2019-05-02T00:00:00",
          "2019-05-03T00:00:00",
          "2019-05-06T00:00:00",
          "2019-05-07T00:00:00",
          "2019-05-08T00:00:00",
          "2019-05-09T00:00:00",
          "2019-05-10T00:00:00",
          "2019-05-13T00:00:00",
          "2019-05-14T00:00:00",
          "2019-05-15T00:00:00",
          "2019-05-16T00:00:00",
          "2019-05-17T00:00:00",
          "2019-05-20T00:00:00",
          "2019-05-21T00:00:00",
          "2019-05-22T00:00:00",
          "2019-05-23T00:00:00",
          "2019-05-24T00:00:00",
          "2019-05-28T00:00:00",
          "2019-05-29T00:00:00",
          "2019-05-30T00:00:00",
          "2019-05-31T00:00:00",
          "2019-06-03T00:00:00",
          "2019-06-04T00:00:00",
          "2019-06-05T00:00:00",
          "2019-06-06T00:00:00",
          "2019-06-07T00:00:00",
          "2019-06-10T00:00:00",
          "2019-06-11T00:00:00",
          "2019-06-12T00:00:00",
          "2019-06-13T00:00:00",
          "2019-06-14T00:00:00",
          "2019-06-17T00:00:00",
          "2019-06-18T00:00:00",
          "2019-06-19T00:00:00",
          "2019-06-20T00:00:00",
          "2019-06-21T00:00:00",
          "2019-06-24T00:00:00",
          "2019-06-25T00:00:00",
          "2019-06-26T00:00:00",
          "2019-06-27T00:00:00",
          "2019-06-28T00:00:00",
          "2019-07-01T00:00:00",
          "2019-07-02T00:00:00",
          "2019-07-03T00:00:00",
          "2019-07-05T00:00:00",
          "2019-07-08T00:00:00",
          "2019-07-09T00:00:00",
          "2019-07-10T00:00:00",
          "2019-07-11T00:00:00",
          "2019-07-12T00:00:00",
          "2019-07-15T00:00:00",
          "2019-07-16T00:00:00",
          "2019-07-17T00:00:00",
          "2019-07-18T00:00:00",
          "2019-07-19T00:00:00",
          "2019-07-22T00:00:00",
          "2019-07-23T00:00:00",
          "2019-07-24T00:00:00",
          "2019-07-25T00:00:00",
          "2019-07-26T00:00:00",
          "2019-07-29T00:00:00",
          "2019-07-30T00:00:00",
          "2019-07-31T00:00:00",
          "2019-08-01T00:00:00",
          "2019-08-02T00:00:00",
          "2019-08-05T00:00:00",
          "2019-08-06T00:00:00",
          "2019-08-07T00:00:00",
          "2019-08-08T00:00:00",
          "2019-08-09T00:00:00",
          "2019-08-12T00:00:00",
          "2019-08-13T00:00:00",
          "2019-08-14T00:00:00",
          "2019-08-15T00:00:00",
          "2019-08-16T00:00:00",
          "2019-08-19T00:00:00",
          "2019-08-20T00:00:00",
          "2019-08-21T00:00:00",
          "2019-08-22T00:00:00",
          "2019-08-23T00:00:00",
          "2019-08-26T00:00:00",
          "2019-08-27T00:00:00",
          "2019-08-28T00:00:00",
          "2019-08-29T00:00:00",
          "2019-08-30T00:00:00",
          "2019-09-03T00:00:00",
          "2019-09-04T00:00:00",
          "2019-09-05T00:00:00",
          "2019-09-06T00:00:00",
          "2019-09-09T00:00:00",
          "2019-09-10T00:00:00",
          "2019-09-11T00:00:00",
          "2019-09-12T00:00:00",
          "2019-09-13T00:00:00",
          "2019-09-16T00:00:00",
          "2019-09-17T00:00:00",
          "2019-09-18T00:00:00",
          "2019-09-19T00:00:00",
          "2019-09-20T00:00:00",
          "2019-09-23T00:00:00",
          "2019-09-24T00:00:00",
          "2019-09-25T00:00:00",
          "2019-09-26T00:00:00",
          "2019-09-27T00:00:00",
          "2019-09-30T00:00:00",
          "2019-10-01T00:00:00",
          "2019-10-02T00:00:00",
          "2019-10-03T00:00:00",
          "2019-10-04T00:00:00",
          "2019-10-07T00:00:00",
          "2019-10-08T00:00:00",
          "2019-10-09T00:00:00",
          "2019-10-10T00:00:00",
          "2019-10-11T00:00:00",
          "2019-10-14T00:00:00",
          "2019-10-15T00:00:00",
          "2019-10-16T00:00:00",
          "2019-10-17T00:00:00",
          "2019-10-18T00:00:00",
          "2019-10-21T00:00:00",
          "2019-10-22T00:00:00",
          "2019-10-23T00:00:00",
          "2019-10-24T00:00:00",
          "2019-10-25T00:00:00",
          "2019-10-28T00:00:00",
          "2019-10-29T00:00:00",
          "2019-10-30T00:00:00",
          "2019-10-31T00:00:00",
          "2019-11-01T00:00:00",
          "2019-11-04T00:00:00",
          "2019-11-05T00:00:00",
          "2019-11-06T00:00:00",
          "2019-11-07T00:00:00",
          "2019-11-08T00:00:00",
          "2019-11-11T00:00:00",
          "2019-11-12T00:00:00",
          "2019-11-13T00:00:00",
          "2019-11-14T00:00:00",
          "2019-11-15T00:00:00",
          "2019-11-18T00:00:00",
          "2019-11-19T00:00:00",
          "2019-11-20T00:00:00",
          "2019-11-21T00:00:00",
          "2019-11-22T00:00:00",
          "2019-11-25T00:00:00",
          "2019-11-26T00:00:00",
          "2019-11-27T00:00:00",
          "2019-11-29T00:00:00",
          "2019-12-02T00:00:00",
          "2019-12-03T00:00:00",
          "2019-12-04T00:00:00",
          "2019-12-05T00:00:00",
          "2019-12-06T00:00:00",
          "2019-12-09T00:00:00",
          "2019-12-10T00:00:00",
          "2019-12-11T00:00:00",
          "2019-12-12T00:00:00",
          "2019-12-13T00:00:00",
          "2019-12-16T00:00:00",
          "2019-12-17T00:00:00",
          "2019-12-18T00:00:00",
          "2019-12-19T00:00:00",
          "2019-12-20T00:00:00",
          "2019-12-23T00:00:00",
          "2019-12-24T00:00:00",
          "2019-12-26T00:00:00",
          "2019-12-27T00:00:00",
          "2019-12-30T00:00:00",
          "2019-12-31T00:00:00"
         ]
        }
       ],
       "layout": {
        "template": {
         "data": {
          "bar": [
           {
            "error_x": {
             "color": "#2a3f5f"
            },
            "error_y": {
             "color": "#2a3f5f"
            },
            "marker": {
             "line": {
              "color": "#E5ECF6",
              "width": 0.5
             },
             "pattern": {
              "fillmode": "overlay",
              "size": 10,
              "solidity": 0.2
             }
            },
            "type": "bar"
           }
          ],
          "barpolar": [
           {
            "marker": {
             "line": {
              "color": "#E5ECF6",
              "width": 0.5
             },
             "pattern": {
              "fillmode": "overlay",
              "size": 10,
              "solidity": 0.2
             }
            },
            "type": "barpolar"
           }
          ],
          "carpet": [
           {
            "aaxis": {
             "endlinecolor": "#2a3f5f",
             "gridcolor": "white",
             "linecolor": "white",
             "minorgridcolor": "white",
             "startlinecolor": "#2a3f5f"
            },
            "baxis": {
             "endlinecolor": "#2a3f5f",
             "gridcolor": "white",
             "linecolor": "white",
             "minorgridcolor": "white",
             "startlinecolor": "#2a3f5f"
            },
            "type": "carpet"
           }
          ],
          "choropleth": [
           {
            "colorbar": {
             "outlinewidth": 0,
             "ticks": ""
            },
            "type": "choropleth"
           }
          ],
          "contour": [
           {
            "colorbar": {
             "outlinewidth": 0,
             "ticks": ""
            },
            "colorscale": [
             [
              0,
              "#0d0887"
             ],
             [
              0.1111111111111111,
              "#46039f"
             ],
             [
              0.2222222222222222,
              "#7201a8"
             ],
             [
              0.3333333333333333,
              "#9c179e"
             ],
             [
              0.4444444444444444,
              "#bd3786"
             ],
             [
              0.5555555555555556,
              "#d8576b"
             ],
             [
              0.6666666666666666,
              "#ed7953"
             ],
             [
              0.7777777777777778,
              "#fb9f3a"
             ],
             [
              0.8888888888888888,
              "#fdca26"
             ],
             [
              1,
              "#f0f921"
             ]
            ],
            "type": "contour"
           }
          ],
          "contourcarpet": [
           {
            "colorbar": {
             "outlinewidth": 0,
             "ticks": ""
            },
            "type": "contourcarpet"
           }
          ],
          "heatmap": [
           {
            "colorbar": {
             "outlinewidth": 0,
             "ticks": ""
            },
            "colorscale": [
             [
              0,
              "#0d0887"
             ],
             [
              0.1111111111111111,
              "#46039f"
             ],
             [
              0.2222222222222222,
              "#7201a8"
             ],
             [
              0.3333333333333333,
              "#9c179e"
             ],
             [
              0.4444444444444444,
              "#bd3786"
             ],
             [
              0.5555555555555556,
              "#d8576b"
             ],
             [
              0.6666666666666666,
              "#ed7953"
             ],
             [
              0.7777777777777778,
              "#fb9f3a"
             ],
             [
              0.8888888888888888,
              "#fdca26"
             ],
             [
              1,
              "#f0f921"
             ]
            ],
            "type": "heatmap"
           }
          ],
          "heatmapgl": [
           {
            "colorbar": {
             "outlinewidth": 0,
             "ticks": ""
            },
            "colorscale": [
             [
              0,
              "#0d0887"
             ],
             [
              0.1111111111111111,
              "#46039f"
             ],
             [
              0.2222222222222222,
              "#7201a8"
             ],
             [
              0.3333333333333333,
              "#9c179e"
             ],
             [
              0.4444444444444444,
              "#bd3786"
             ],
             [
              0.5555555555555556,
              "#d8576b"
             ],
             [
              0.6666666666666666,
              "#ed7953"
             ],
             [
              0.7777777777777778,
              "#fb9f3a"
             ],
             [
              0.8888888888888888,
              "#fdca26"
             ],
             [
              1,
              "#f0f921"
             ]
            ],
            "type": "heatmapgl"
           }
          ],
          "histogram": [
           {
            "marker": {
             "pattern": {
              "fillmode": "overlay",
              "size": 10,
              "solidity": 0.2
             }
            },
            "type": "histogram"
           }
          ],
          "histogram2d": [
           {
            "colorbar": {
             "outlinewidth": 0,
             "ticks": ""
            },
            "colorscale": [
             [
              0,
              "#0d0887"
             ],
             [
              0.1111111111111111,
              "#46039f"
             ],
             [
              0.2222222222222222,
              "#7201a8"
             ],
             [
              0.3333333333333333,
              "#9c179e"
             ],
             [
              0.4444444444444444,
              "#bd3786"
             ],
             [
              0.5555555555555556,
              "#d8576b"
             ],
             [
              0.6666666666666666,
              "#ed7953"
             ],
             [
              0.7777777777777778,
              "#fb9f3a"
             ],
             [
              0.8888888888888888,
              "#fdca26"
             ],
             [
              1,
              "#f0f921"
             ]
            ],
            "type": "histogram2d"
           }
          ],
          "histogram2dcontour": [
           {
            "colorbar": {
             "outlinewidth": 0,
             "ticks": ""
            },
            "colorscale": [
             [
              0,
              "#0d0887"
             ],
             [
              0.1111111111111111,
              "#46039f"
             ],
             [
              0.2222222222222222,
              "#7201a8"
             ],
             [
              0.3333333333333333,
              "#9c179e"
             ],
             [
              0.4444444444444444,
              "#bd3786"
             ],
             [
              0.5555555555555556,
              "#d8576b"
             ],
             [
              0.6666666666666666,
              "#ed7953"
             ],
             [
              0.7777777777777778,
              "#fb9f3a"
             ],
             [
              0.8888888888888888,
              "#fdca26"
             ],
             [
              1,
              "#f0f921"
             ]
            ],
            "type": "histogram2dcontour"
           }
          ],
          "mesh3d": [
           {
            "colorbar": {
             "outlinewidth": 0,
             "ticks": ""
            },
            "type": "mesh3d"
           }
          ],
          "parcoords": [
           {
            "line": {
             "colorbar": {
              "outlinewidth": 0,
              "ticks": ""
             }
            },
            "type": "parcoords"
           }
          ],
          "pie": [
           {
            "automargin": true,
            "type": "pie"
           }
          ],
          "scatter": [
           {
            "marker": {
             "colorbar": {
              "outlinewidth": 0,
              "ticks": ""
             }
            },
            "type": "scatter"
           }
          ],
          "scatter3d": [
           {
            "line": {
             "colorbar": {
              "outlinewidth": 0,
              "ticks": ""
             }
            },
            "marker": {
             "colorbar": {
              "outlinewidth": 0,
              "ticks": ""
             }
            },
            "type": "scatter3d"
           }
          ],
          "scattercarpet": [
           {
            "marker": {
             "colorbar": {
              "outlinewidth": 0,
              "ticks": ""
             }
            },
            "type": "scattercarpet"
           }
          ],
          "scattergeo": [
           {
            "marker": {
             "colorbar": {
              "outlinewidth": 0,
              "ticks": ""
             }
            },
            "type": "scattergeo"
           }
          ],
          "scattergl": [
           {
            "marker": {
             "colorbar": {
              "outlinewidth": 0,
              "ticks": ""
             }
            },
            "type": "scattergl"
           }
          ],
          "scattermapbox": [
           {
            "marker": {
             "colorbar": {
              "outlinewidth": 0,
              "ticks": ""
             }
            },
            "type": "scattermapbox"
           }
          ],
          "scatterpolar": [
           {
            "marker": {
             "colorbar": {
              "outlinewidth": 0,
              "ticks": ""
             }
            },
            "type": "scatterpolar"
           }
          ],
          "scatterpolargl": [
           {
            "marker": {
             "colorbar": {
              "outlinewidth": 0,
              "ticks": ""
             }
            },
            "type": "scatterpolargl"
           }
          ],
          "scatterternary": [
           {
            "marker": {
             "colorbar": {
              "outlinewidth": 0,
              "ticks": ""
             }
            },
            "type": "scatterternary"
           }
          ],
          "surface": [
           {
            "colorbar": {
             "outlinewidth": 0,
             "ticks": ""
            },
            "colorscale": [
             [
              0,
              "#0d0887"
             ],
             [
              0.1111111111111111,
              "#46039f"
             ],
             [
              0.2222222222222222,
              "#7201a8"
             ],
             [
              0.3333333333333333,
              "#9c179e"
             ],
             [
              0.4444444444444444,
              "#bd3786"
             ],
             [
              0.5555555555555556,
              "#d8576b"
             ],
             [
              0.6666666666666666,
              "#ed7953"
             ],
             [
              0.7777777777777778,
              "#fb9f3a"
             ],
             [
              0.8888888888888888,
              "#fdca26"
             ],
             [
              1,
              "#f0f921"
             ]
            ],
            "type": "surface"
           }
          ],
          "table": [
           {
            "cells": {
             "fill": {
              "color": "#EBF0F8"
             },
             "line": {
              "color": "white"
             }
            },
            "header": {
             "fill": {
              "color": "#C8D4E3"
             },
             "line": {
              "color": "white"
             }
            },
            "type": "table"
           }
          ]
         },
         "layout": {
          "annotationdefaults": {
           "arrowcolor": "#2a3f5f",
           "arrowhead": 0,
           "arrowwidth": 1
          },
          "autotypenumbers": "strict",
          "coloraxis": {
           "colorbar": {
            "outlinewidth": 0,
            "ticks": ""
           }
          },
          "colorscale": {
           "diverging": [
            [
             0,
             "#8e0152"
            ],
            [
             0.1,
             "#c51b7d"
            ],
            [
             0.2,
             "#de77ae"
            ],
            [
             0.3,
             "#f1b6da"
            ],
            [
             0.4,
             "#fde0ef"
            ],
            [
             0.5,
             "#f7f7f7"
            ],
            [
             0.6,
             "#e6f5d0"
            ],
            [
             0.7,
             "#b8e186"
            ],
            [
             0.8,
             "#7fbc41"
            ],
            [
             0.9,
             "#4d9221"
            ],
            [
             1,
             "#276419"
            ]
           ],
           "sequential": [
            [
             0,
             "#0d0887"
            ],
            [
             0.1111111111111111,
             "#46039f"
            ],
            [
             0.2222222222222222,
             "#7201a8"
            ],
            [
             0.3333333333333333,
             "#9c179e"
            ],
            [
             0.4444444444444444,
             "#bd3786"
            ],
            [
             0.5555555555555556,
             "#d8576b"
            ],
            [
             0.6666666666666666,
             "#ed7953"
            ],
            [
             0.7777777777777778,
             "#fb9f3a"
            ],
            [
             0.8888888888888888,
             "#fdca26"
            ],
            [
             1,
             "#f0f921"
            ]
           ],
           "sequentialminus": [
            [
             0,
             "#0d0887"
            ],
            [
             0.1111111111111111,
             "#46039f"
            ],
            [
             0.2222222222222222,
             "#7201a8"
            ],
            [
             0.3333333333333333,
             "#9c179e"
            ],
            [
             0.4444444444444444,
             "#bd3786"
            ],
            [
             0.5555555555555556,
             "#d8576b"
            ],
            [
             0.6666666666666666,
             "#ed7953"
            ],
            [
             0.7777777777777778,
             "#fb9f3a"
            ],
            [
             0.8888888888888888,
             "#fdca26"
            ],
            [
             1,
             "#f0f921"
            ]
           ]
          },
          "colorway": [
           "#636efa",
           "#EF553B",
           "#00cc96",
           "#ab63fa",
           "#FFA15A",
           "#19d3f3",
           "#FF6692",
           "#B6E880",
           "#FF97FF",
           "#FECB52"
          ],
          "font": {
           "color": "#2a3f5f"
          },
          "geo": {
           "bgcolor": "white",
           "lakecolor": "white",
           "landcolor": "#E5ECF6",
           "showlakes": true,
           "showland": true,
           "subunitcolor": "white"
          },
          "hoverlabel": {
           "align": "left"
          },
          "hovermode": "closest",
          "mapbox": {
           "style": "light"
          },
          "paper_bgcolor": "white",
          "plot_bgcolor": "#E5ECF6",
          "polar": {
           "angularaxis": {
            "gridcolor": "white",
            "linecolor": "white",
            "ticks": ""
           },
           "bgcolor": "#E5ECF6",
           "radialaxis": {
            "gridcolor": "white",
            "linecolor": "white",
            "ticks": ""
           }
          },
          "scene": {
           "xaxis": {
            "backgroundcolor": "#E5ECF6",
            "gridcolor": "white",
            "gridwidth": 2,
            "linecolor": "white",
            "showbackground": true,
            "ticks": "",
            "zerolinecolor": "white"
           },
           "yaxis": {
            "backgroundcolor": "#E5ECF6",
            "gridcolor": "white",
            "gridwidth": 2,
            "linecolor": "white",
            "showbackground": true,
            "ticks": "",
            "zerolinecolor": "white"
           },
           "zaxis": {
            "backgroundcolor": "#E5ECF6",
            "gridcolor": "white",
            "gridwidth": 2,
            "linecolor": "white",
            "showbackground": true,
            "ticks": "",
            "zerolinecolor": "white"
           }
          },
          "shapedefaults": {
           "line": {
            "color": "#2a3f5f"
           }
          },
          "ternary": {
           "aaxis": {
            "gridcolor": "white",
            "linecolor": "white",
            "ticks": ""
           },
           "baxis": {
            "gridcolor": "white",
            "linecolor": "white",
            "ticks": ""
           },
           "bgcolor": "#E5ECF6",
           "caxis": {
            "gridcolor": "white",
            "linecolor": "white",
            "ticks": ""
           }
          },
          "title": {
           "x": 0.05
          },
          "xaxis": {
           "automargin": true,
           "gridcolor": "white",
           "linecolor": "white",
           "ticks": "",
           "title": {
            "standoff": 15
           },
           "zerolinecolor": "white",
           "zerolinewidth": 2
          },
          "yaxis": {
           "automargin": true,
           "gridcolor": "white",
           "linecolor": "white",
           "ticks": "",
           "title": {
            "standoff": 15
           },
           "zerolinecolor": "white",
           "zerolinewidth": 2
          }
         }
        },
        "title": {
         "text": "<b>APPLE CANDLESTICK CHART</b>"
        },
        "xaxis": {
         "anchor": "y",
         "domain": [
          0,
          0.94
         ],
         "title": {
          "text": "<b>1-year Period of Time</b>"
         }
        },
        "yaxis": {
         "anchor": "x",
         "domain": [
          0,
          1
         ],
         "title": {
          "text": "<b>Stock Value</br>"
         }
        },
        "yaxis2": {
         "anchor": "x",
         "overlaying": "y",
         "side": "right",
         "title": {
          "text": "<b>Volume Shares</b>"
         }
        }
       }
      }
     },
     "metadata": {},
     "output_type": "display_data"
    }
   ],
   "source": [
    "#MICROSOFT:\n",
    "\n",
    "#CREATING SUBPLOT:\n",
    "fig4 = make_subplots(specs=[[{\"secondary_y\": True}]])                       #Create a subplot for the Microsoft CandleStick Chart.\n",
    "fig4.add_trace(go.Candlestick(x=msft.index, open=msft['Open'], high=msft['High'], low=msft['Low'], close=msft['Close'])) #Passing out all the information in order to create the \"Candles\".\n",
    "\n",
    "#ADDING INFORMATION TO THE CHART:\n",
    "fig4.update_layout(title_text=\"<b>MICROSOFT CANDLESTICK CHART</b>\")         #Add figure title.\n",
    "fig4.update_xaxes(title_text=\"<b>1-year Period of Time</b>\")                #Set x-axis title\n",
    "fig4.update_yaxes(title_text=\"<b>Stock Value</br>\", secondary_y=False)      #Set y-axis title.\n",
    "fig4.update_yaxes(title_text=\"<b>Volume Shares</b>\", secondary_y=True)      #Set the Secondary y-axis title.\n",
    "fig4.show()                                                                 #Show the Plot.\n",
    "\n",
    "\n",
    "#APPLE:\n",
    "\n",
    "#CREATING SUBPLOT:\n",
    "fig5 = make_subplots(specs=[[{\"secondary_y\": True}]])                       #Create a subplot for the Apple CandleStick Chart.\n",
    "fig5.add_trace(go.Candlestick(x=aapl.index, open=aapl['Open'], high=aapl['High'], low=aapl['Low'], close=aapl['Close'])) #Passing out all the information in order to create the \"Candles\".\n",
    "\n",
    "#ADDING INFORMATION TO THE CHART:\n",
    "fig5.update_layout(title_text=\"<b>APPLE CANDLESTICK CHART</b>\")             #Add figure title.\n",
    "fig5.update_xaxes(title_text=\"<b>1-year Period of Time</b>\")                #Set x-axis title\n",
    "fig5.update_yaxes(title_text=\"<b>Stock Value</br>\", secondary_y=False)      #Set y-axis title.\n",
    "fig5.update_yaxes(title_text=\"<b>Volume Shares</b>\", secondary_y=True)      #Set the Secondary y-axis title.\n",
    "fig5.show()                                                                 #Show the Plot."
   ]
  },
  {
   "cell_type": "markdown",
   "id": "0e082f5a",
   "metadata": {},
   "source": [
    "##### 2.1.1.4: DATA VISUALIZATION OF THE TWO STOCKS: ADDING VOLUMES INFORMATION:\n",
    "\n",
    "We know add up the **VOLUME** of the trading to our chart. To do this, we build up a subplot and a secondary_y axis for the volume data. The latter is done for allowing the Volume to depend on a completely different scale w.r.t. the stock price. It will, indeed depend on the amount of stocks traded in a day.\n",
    "\n",
    "\n",
    "Although the volume data is on the secondary y-axis, some of the bars are way too long and covers the stock price graph. This is due to the fact that this two companies that we've chosen trade a tremendous amount of stocks during a day in the Stock Market (they are indeed both part of the 5 Big Tech). For this reason, we will zoom out a little bit the scale of the Volume bars by setting a range for the y-axis bigger, in such a way to obtain the bars that are more scaled out. \n",
    "\n",
    "For a better understanding, we will now create two different chart for the two Companies."
   ]
  },
  {
   "cell_type": "markdown",
   "id": "3aa47dab",
   "metadata": {},
   "source": [
    "\n",
    "Pick two stocks, gather their returns/performance measure in `Python` over a 1 year long period of your choosing, and implement a **nonparametric bootstrap** scheme to get (approximate) estimates for the **standard error** and **MSE** of the plug-in estimator $\\widehat{\\omega}$."
   ]
  },
  {
   "cell_type": "code",
   "execution_count": 17,
   "id": "5c357e38",
   "metadata": {},
   "outputs": [
    {
     "data": {
      "application/vnd.plotly.v1+json": {
       "config": {
        "plotlyServerURL": "https://plot.ly"
       },
       "data": [
        {
         "name": "msft Price",
         "type": "scatter",
         "x": [
          "2019-01-02T00:00:00",
          "2019-01-03T00:00:00",
          "2019-01-04T00:00:00",
          "2019-01-07T00:00:00",
          "2019-01-08T00:00:00",
          "2019-01-09T00:00:00",
          "2019-01-10T00:00:00",
          "2019-01-11T00:00:00",
          "2019-01-14T00:00:00",
          "2019-01-15T00:00:00",
          "2019-01-16T00:00:00",
          "2019-01-17T00:00:00",
          "2019-01-18T00:00:00",
          "2019-01-22T00:00:00",
          "2019-01-23T00:00:00",
          "2019-01-24T00:00:00",
          "2019-01-25T00:00:00",
          "2019-01-28T00:00:00",
          "2019-01-29T00:00:00",
          "2019-01-30T00:00:00",
          "2019-01-31T00:00:00",
          "2019-02-01T00:00:00",
          "2019-02-04T00:00:00",
          "2019-02-05T00:00:00",
          "2019-02-06T00:00:00",
          "2019-02-07T00:00:00",
          "2019-02-08T00:00:00",
          "2019-02-11T00:00:00",
          "2019-02-12T00:00:00",
          "2019-02-13T00:00:00",
          "2019-02-14T00:00:00",
          "2019-02-15T00:00:00",
          "2019-02-19T00:00:00",
          "2019-02-20T00:00:00",
          "2019-02-21T00:00:00",
          "2019-02-22T00:00:00",
          "2019-02-25T00:00:00",
          "2019-02-26T00:00:00",
          "2019-02-27T00:00:00",
          "2019-02-28T00:00:00",
          "2019-03-01T00:00:00",
          "2019-03-04T00:00:00",
          "2019-03-05T00:00:00",
          "2019-03-06T00:00:00",
          "2019-03-07T00:00:00",
          "2019-03-08T00:00:00",
          "2019-03-11T00:00:00",
          "2019-03-12T00:00:00",
          "2019-03-13T00:00:00",
          "2019-03-14T00:00:00",
          "2019-03-15T00:00:00",
          "2019-03-18T00:00:00",
          "2019-03-19T00:00:00",
          "2019-03-20T00:00:00",
          "2019-03-21T00:00:00",
          "2019-03-22T00:00:00",
          "2019-03-25T00:00:00",
          "2019-03-26T00:00:00",
          "2019-03-27T00:00:00",
          "2019-03-28T00:00:00",
          "2019-03-29T00:00:00",
          "2019-04-01T00:00:00",
          "2019-04-02T00:00:00",
          "2019-04-03T00:00:00",
          "2019-04-04T00:00:00",
          "2019-04-05T00:00:00",
          "2019-04-08T00:00:00",
          "2019-04-09T00:00:00",
          "2019-04-10T00:00:00",
          "2019-04-11T00:00:00",
          "2019-04-12T00:00:00",
          "2019-04-15T00:00:00",
          "2019-04-16T00:00:00",
          "2019-04-17T00:00:00",
          "2019-04-18T00:00:00",
          "2019-04-22T00:00:00",
          "2019-04-23T00:00:00",
          "2019-04-24T00:00:00",
          "2019-04-25T00:00:00",
          "2019-04-26T00:00:00",
          "2019-04-29T00:00:00",
          "2019-04-30T00:00:00",
          "2019-05-01T00:00:00",
          "2019-05-02T00:00:00",
          "2019-05-03T00:00:00",
          "2019-05-06T00:00:00",
          "2019-05-07T00:00:00",
          "2019-05-08T00:00:00",
          "2019-05-09T00:00:00",
          "2019-05-10T00:00:00",
          "2019-05-13T00:00:00",
          "2019-05-14T00:00:00",
          "2019-05-15T00:00:00",
          "2019-05-16T00:00:00",
          "2019-05-17T00:00:00",
          "2019-05-20T00:00:00",
          "2019-05-21T00:00:00",
          "2019-05-22T00:00:00",
          "2019-05-23T00:00:00",
          "2019-05-24T00:00:00",
          "2019-05-28T00:00:00",
          "2019-05-29T00:00:00",
          "2019-05-30T00:00:00",
          "2019-05-31T00:00:00",
          "2019-06-03T00:00:00",
          "2019-06-04T00:00:00",
          "2019-06-05T00:00:00",
          "2019-06-06T00:00:00",
          "2019-06-07T00:00:00",
          "2019-06-10T00:00:00",
          "2019-06-11T00:00:00",
          "2019-06-12T00:00:00",
          "2019-06-13T00:00:00",
          "2019-06-14T00:00:00",
          "2019-06-17T00:00:00",
          "2019-06-18T00:00:00",
          "2019-06-19T00:00:00",
          "2019-06-20T00:00:00",
          "2019-06-21T00:00:00",
          "2019-06-24T00:00:00",
          "2019-06-25T00:00:00",
          "2019-06-26T00:00:00",
          "2019-06-27T00:00:00",
          "2019-06-28T00:00:00",
          "2019-07-01T00:00:00",
          "2019-07-02T00:00:00",
          "2019-07-03T00:00:00",
          "2019-07-05T00:00:00",
          "2019-07-08T00:00:00",
          "2019-07-09T00:00:00",
          "2019-07-10T00:00:00",
          "2019-07-11T00:00:00",
          "2019-07-12T00:00:00",
          "2019-07-15T00:00:00",
          "2019-07-16T00:00:00",
          "2019-07-17T00:00:00",
          "2019-07-18T00:00:00",
          "2019-07-19T00:00:00",
          "2019-07-22T00:00:00",
          "2019-07-23T00:00:00",
          "2019-07-24T00:00:00",
          "2019-07-25T00:00:00",
          "2019-07-26T00:00:00",
          "2019-07-29T00:00:00",
          "2019-07-30T00:00:00",
          "2019-07-31T00:00:00",
          "2019-08-01T00:00:00",
          "2019-08-02T00:00:00",
          "2019-08-05T00:00:00",
          "2019-08-06T00:00:00",
          "2019-08-07T00:00:00",
          "2019-08-08T00:00:00",
          "2019-08-09T00:00:00",
          "2019-08-12T00:00:00",
          "2019-08-13T00:00:00",
          "2019-08-14T00:00:00",
          "2019-08-15T00:00:00",
          "2019-08-16T00:00:00",
          "2019-08-19T00:00:00",
          "2019-08-20T00:00:00",
          "2019-08-21T00:00:00",
          "2019-08-22T00:00:00",
          "2019-08-23T00:00:00",
          "2019-08-26T00:00:00",
          "2019-08-27T00:00:00",
          "2019-08-28T00:00:00",
          "2019-08-29T00:00:00",
          "2019-08-30T00:00:00",
          "2019-09-03T00:00:00",
          "2019-09-04T00:00:00",
          "2019-09-05T00:00:00",
          "2019-09-06T00:00:00",
          "2019-09-09T00:00:00",
          "2019-09-10T00:00:00",
          "2019-09-11T00:00:00",
          "2019-09-12T00:00:00",
          "2019-09-13T00:00:00",
          "2019-09-16T00:00:00",
          "2019-09-17T00:00:00",
          "2019-09-18T00:00:00",
          "2019-09-19T00:00:00",
          "2019-09-20T00:00:00",
          "2019-09-23T00:00:00",
          "2019-09-24T00:00:00",
          "2019-09-25T00:00:00",
          "2019-09-26T00:00:00",
          "2019-09-27T00:00:00",
          "2019-09-30T00:00:00",
          "2019-10-01T00:00:00",
          "2019-10-02T00:00:00",
          "2019-10-03T00:00:00",
          "2019-10-04T00:00:00",
          "2019-10-07T00:00:00",
          "2019-10-08T00:00:00",
          "2019-10-09T00:00:00",
          "2019-10-10T00:00:00",
          "2019-10-11T00:00:00",
          "2019-10-14T00:00:00",
          "2019-10-15T00:00:00",
          "2019-10-16T00:00:00",
          "2019-10-17T00:00:00",
          "2019-10-18T00:00:00",
          "2019-10-21T00:00:00",
          "2019-10-22T00:00:00",
          "2019-10-23T00:00:00",
          "2019-10-24T00:00:00",
          "2019-10-25T00:00:00",
          "2019-10-28T00:00:00",
          "2019-10-29T00:00:00",
          "2019-10-30T00:00:00",
          "2019-10-31T00:00:00",
          "2019-11-01T00:00:00",
          "2019-11-04T00:00:00",
          "2019-11-05T00:00:00",
          "2019-11-06T00:00:00",
          "2019-11-07T00:00:00",
          "2019-11-08T00:00:00",
          "2019-11-11T00:00:00",
          "2019-11-12T00:00:00",
          "2019-11-13T00:00:00",
          "2019-11-14T00:00:00",
          "2019-11-15T00:00:00",
          "2019-11-18T00:00:00",
          "2019-11-19T00:00:00",
          "2019-11-20T00:00:00",
          "2019-11-21T00:00:00",
          "2019-11-22T00:00:00",
          "2019-11-25T00:00:00",
          "2019-11-26T00:00:00",
          "2019-11-27T00:00:00",
          "2019-11-29T00:00:00",
          "2019-12-02T00:00:00",
          "2019-12-03T00:00:00",
          "2019-12-04T00:00:00",
          "2019-12-05T00:00:00",
          "2019-12-06T00:00:00",
          "2019-12-09T00:00:00",
          "2019-12-10T00:00:00",
          "2019-12-11T00:00:00",
          "2019-12-12T00:00:00",
          "2019-12-13T00:00:00",
          "2019-12-16T00:00:00",
          "2019-12-17T00:00:00",
          "2019-12-18T00:00:00",
          "2019-12-19T00:00:00",
          "2019-12-20T00:00:00",
          "2019-12-23T00:00:00",
          "2019-12-24T00:00:00",
          "2019-12-26T00:00:00",
          "2019-12-27T00:00:00",
          "2019-12-30T00:00:00",
          "2019-12-31T00:00:00"
         ],
         "xaxis": "x",
         "y": [
          101.12000274658203,
          97.4000015258789,
          101.93000030517578,
          102.05999755859375,
          102.80000305175781,
          104.2699966430664,
          103.5999984741211,
          102.80000305175781,
          102.05000305175781,
          105.01000213623047,
          105.37999725341797,
          106.12000274658203,
          107.70999908447266,
          105.68000030517578,
          106.70999908447266,
          106.19999694824219,
          107.16999816894531,
          105.08000183105469,
          102.94000244140625,
          106.37999725341797,
          104.43000030517578,
          102.77999877929688,
          105.73999786376953,
          107.22000122070312,
          106.02999877929688,
          105.2699966430664,
          105.66999816894531,
          105.25,
          106.88999938964844,
          106.80999755859375,
          106.9000015258789,
          108.22000122070312,
          108.16999816894531,
          107.1500015258789,
          109.41000366210938,
          110.97000122070312,
          111.58999633789062,
          112.36000061035156,
          112.16999816894531,
          112.02999877929688,
          112.52999877929688,
          112.26000213623047,
          111.69999694824219,
          111.75,
          110.38999938964844,
          110.51000213623047,
          112.83000183105469,
          113.62000274658203,
          114.5,
          114.58999633789062,
          115.91000366210938,
          117.56999969482422,
          117.6500015258789,
          117.5199966430664,
          120.22000122070312,
          117.05000305175781,
          117.66000366210938,
          117.91000366210938,
          116.7699966430664,
          116.93000030517578,
          117.94000244140625,
          119.0199966430664,
          119.19000244140625,
          119.97000122070312,
          119.36000061035156,
          119.88999938964844,
          119.93000030517578,
          119.27999877929688,
          120.19000244140625,
          120.33000183105469,
          120.94999694824219,
          121.05000305175781,
          120.7699966430664,
          121.7699966430664,
          123.37000274658203,
          123.76000213623047,
          125.44000244140625,
          125.01000213623047,
          129.14999389648438,
          129.88999938964844,
          129.77000427246094,
          130.60000610351562,
          127.87999725341797,
          126.20999908447266,
          128.89999389648438,
          128.14999389648438,
          125.5199966430664,
          125.51000213623047,
          125.5,
          127.12999725341797,
          123.3499984741211,
          124.7300033569336,
          126.0199966430664,
          128.92999267578125,
          128.07000732421875,
          126.22000122070312,
          126.9000015258789,
          127.66999816894531,
          126.18000030517578,
          126.23999786376953,
          126.16000366210938,
          124.94000244140625,
          125.7300033569336,
          123.68000030517578,
          119.83999633789062,
          123.16000366210938,
          125.83000183105469,
          127.81999969482422,
          131.39999389648438,
          132.60000610351562,
          132.10000610351562,
          131.49000549316406,
          132.32000732421875,
          132.4499969482422,
          132.85000610351562,
          135.16000366210938,
          135.69000244140625,
          136.9499969482422,
          136.97000122070312,
          137.77999877929688,
          133.42999267578125,
          133.92999267578125,
          134.14999389648438,
          133.9600067138672,
          135.67999267578125,
          136.5800018310547,
          137.4600067138672,
          137.05999755859375,
          136.9600067138672,
          136.4600067138672,
          137.85000610351562,
          138.39999389648438,
          138.89999389648438,
          138.89999389648438,
          137.0800018310547,
          136.27000427246094,
          136.4199981689453,
          136.6199951171875,
          138.42999267578125,
          139.2899932861328,
          140.72000122070312,
          140.19000244140625,
          141.33999633789062,
          141.02999877929688,
          140.35000610351562,
          136.27000427246094,
          138.05999755859375,
          136.89999389648438,
          132.2100067138672,
          134.69000244140625,
          135.27999877929688,
          138.88999938964844,
          137.7100067138672,
          135.7899932861328,
          138.60000610351562,
          133.97999572753906,
          133.67999267578125,
          136.1300048828125,
          138.41000366210938,
          137.25999450683594,
          138.7899932861328,
          137.77999877929688,
          133.38999938964844,
          135.4499969482422,
          135.74000549316406,
          135.55999755859375,
          138.1199951171875,
          137.86000061035156,
          136.0399932861328,
          137.6300048828125,
          140.0500030517578,
          139.10000610351562,
          137.52000427246094,
          136.0800018310547,
          136.1199951171875,
          137.52000427246094,
          137.32000732421875,
          136.3300018310547,
          137.38999938964844,
          138.52000427246094,
          141.07000732421875,
          139.44000244140625,
          139.13999938964844,
          137.3800048828125,
          139.36000061035156,
          139.5399932861328,
          137.72999572753906,
          139.02999877929688,
          137.07000732421875,
          134.64999389648438,
          136.27999877929688,
          138.1199951171875,
          137.1199951171875,
          135.6699981689453,
          138.24000549316406,
          139.10000610351562,
          139.67999267578125,
          139.5500030517578,
          141.57000732421875,
          140.41000366210938,
          139.69000244140625,
          137.41000366210938,
          138.42999267578125,
          136.3699951171875,
          137.24000549316406,
          139.94000244140625,
          140.72999572753906,
          144.19000244140625,
          142.8300018310547,
          144.61000061035156,
          143.3699951171875,
          143.72000122070312,
          144.5500030517578,
          144.4600067138672,
          144.05999755859375,
          144.25999450683594,
          145.9600067138672,
          146.11000061035156,
          147.07000732421875,
          147.30999755859375,
          148.05999755859375,
          149.97000122070312,
          150.33999633789062,
          150.38999938964844,
          149.6199951171875,
          149.47999572753906,
          149.58999633789062,
          151.22999572753906,
          152.02999877929688,
          152.32000732421875,
          151.3800048828125,
          149.5500030517578,
          149.30999755859375,
          149.85000610351562,
          149.92999267578125,
          151.75,
          151.36000061035156,
          151.1300048828125,
          151.6999969482422,
          153.24000549316406,
          154.52999877929688,
          155.52999877929688,
          154.69000244140625,
          154.3699951171875,
          155.7100067138672,
          157.41000366210938,
          157.41000366210938,
          157.3800048828125,
          158.6699981689453,
          158.9600067138672,
          157.58999633789062,
          157.6999969482422
         ],
         "yaxis": "y"
        },
        {
         "name": "Volume",
         "type": "bar",
         "x": [
          "2019-01-02T00:00:00",
          "2019-01-03T00:00:00",
          "2019-01-04T00:00:00",
          "2019-01-07T00:00:00",
          "2019-01-08T00:00:00",
          "2019-01-09T00:00:00",
          "2019-01-10T00:00:00",
          "2019-01-11T00:00:00",
          "2019-01-14T00:00:00",
          "2019-01-15T00:00:00",
          "2019-01-16T00:00:00",
          "2019-01-17T00:00:00",
          "2019-01-18T00:00:00",
          "2019-01-22T00:00:00",
          "2019-01-23T00:00:00",
          "2019-01-24T00:00:00",
          "2019-01-25T00:00:00",
          "2019-01-28T00:00:00",
          "2019-01-29T00:00:00",
          "2019-01-30T00:00:00",
          "2019-01-31T00:00:00",
          "2019-02-01T00:00:00",
          "2019-02-04T00:00:00",
          "2019-02-05T00:00:00",
          "2019-02-06T00:00:00",
          "2019-02-07T00:00:00",
          "2019-02-08T00:00:00",
          "2019-02-11T00:00:00",
          "2019-02-12T00:00:00",
          "2019-02-13T00:00:00",
          "2019-02-14T00:00:00",
          "2019-02-15T00:00:00",
          "2019-02-19T00:00:00",
          "2019-02-20T00:00:00",
          "2019-02-21T00:00:00",
          "2019-02-22T00:00:00",
          "2019-02-25T00:00:00",
          "2019-02-26T00:00:00",
          "2019-02-27T00:00:00",
          "2019-02-28T00:00:00",
          "2019-03-01T00:00:00",
          "2019-03-04T00:00:00",
          "2019-03-05T00:00:00",
          "2019-03-06T00:00:00",
          "2019-03-07T00:00:00",
          "2019-03-08T00:00:00",
          "2019-03-11T00:00:00",
          "2019-03-12T00:00:00",
          "2019-03-13T00:00:00",
          "2019-03-14T00:00:00",
          "2019-03-15T00:00:00",
          "2019-03-18T00:00:00",
          "2019-03-19T00:00:00",
          "2019-03-20T00:00:00",
          "2019-03-21T00:00:00",
          "2019-03-22T00:00:00",
          "2019-03-25T00:00:00",
          "2019-03-26T00:00:00",
          "2019-03-27T00:00:00",
          "2019-03-28T00:00:00",
          "2019-03-29T00:00:00",
          "2019-04-01T00:00:00",
          "2019-04-02T00:00:00",
          "2019-04-03T00:00:00",
          "2019-04-04T00:00:00",
          "2019-04-05T00:00:00",
          "2019-04-08T00:00:00",
          "2019-04-09T00:00:00",
          "2019-04-10T00:00:00",
          "2019-04-11T00:00:00",
          "2019-04-12T00:00:00",
          "2019-04-15T00:00:00",
          "2019-04-16T00:00:00",
          "2019-04-17T00:00:00",
          "2019-04-18T00:00:00",
          "2019-04-22T00:00:00",
          "2019-04-23T00:00:00",
          "2019-04-24T00:00:00",
          "2019-04-25T00:00:00",
          "2019-04-26T00:00:00",
          "2019-04-29T00:00:00",
          "2019-04-30T00:00:00",
          "2019-05-01T00:00:00",
          "2019-05-02T00:00:00",
          "2019-05-03T00:00:00",
          "2019-05-06T00:00:00",
          "2019-05-07T00:00:00",
          "2019-05-08T00:00:00",
          "2019-05-09T00:00:00",
          "2019-05-10T00:00:00",
          "2019-05-13T00:00:00",
          "2019-05-14T00:00:00",
          "2019-05-15T00:00:00",
          "2019-05-16T00:00:00",
          "2019-05-17T00:00:00",
          "2019-05-20T00:00:00",
          "2019-05-21T00:00:00",
          "2019-05-22T00:00:00",
          "2019-05-23T00:00:00",
          "2019-05-24T00:00:00",
          "2019-05-28T00:00:00",
          "2019-05-29T00:00:00",
          "2019-05-30T00:00:00",
          "2019-05-31T00:00:00",
          "2019-06-03T00:00:00",
          "2019-06-04T00:00:00",
          "2019-06-05T00:00:00",
          "2019-06-06T00:00:00",
          "2019-06-07T00:00:00",
          "2019-06-10T00:00:00",
          "2019-06-11T00:00:00",
          "2019-06-12T00:00:00",
          "2019-06-13T00:00:00",
          "2019-06-14T00:00:00",
          "2019-06-17T00:00:00",
          "2019-06-18T00:00:00",
          "2019-06-19T00:00:00",
          "2019-06-20T00:00:00",
          "2019-06-21T00:00:00",
          "2019-06-24T00:00:00",
          "2019-06-25T00:00:00",
          "2019-06-26T00:00:00",
          "2019-06-27T00:00:00",
          "2019-06-28T00:00:00",
          "2019-07-01T00:00:00",
          "2019-07-02T00:00:00",
          "2019-07-03T00:00:00",
          "2019-07-05T00:00:00",
          "2019-07-08T00:00:00",
          "2019-07-09T00:00:00",
          "2019-07-10T00:00:00",
          "2019-07-11T00:00:00",
          "2019-07-12T00:00:00",
          "2019-07-15T00:00:00",
          "2019-07-16T00:00:00",
          "2019-07-17T00:00:00",
          "2019-07-18T00:00:00",
          "2019-07-19T00:00:00",
          "2019-07-22T00:00:00",
          "2019-07-23T00:00:00",
          "2019-07-24T00:00:00",
          "2019-07-25T00:00:00",
          "2019-07-26T00:00:00",
          "2019-07-29T00:00:00",
          "2019-07-30T00:00:00",
          "2019-07-31T00:00:00",
          "2019-08-01T00:00:00",
          "2019-08-02T00:00:00",
          "2019-08-05T00:00:00",
          "2019-08-06T00:00:00",
          "2019-08-07T00:00:00",
          "2019-08-08T00:00:00",
          "2019-08-09T00:00:00",
          "2019-08-12T00:00:00",
          "2019-08-13T00:00:00",
          "2019-08-14T00:00:00",
          "2019-08-15T00:00:00",
          "2019-08-16T00:00:00",
          "2019-08-19T00:00:00",
          "2019-08-20T00:00:00",
          "2019-08-21T00:00:00",
          "2019-08-22T00:00:00",
          "2019-08-23T00:00:00",
          "2019-08-26T00:00:00",
          "2019-08-27T00:00:00",
          "2019-08-28T00:00:00",
          "2019-08-29T00:00:00",
          "2019-08-30T00:00:00",
          "2019-09-03T00:00:00",
          "2019-09-04T00:00:00",
          "2019-09-05T00:00:00",
          "2019-09-06T00:00:00",
          "2019-09-09T00:00:00",
          "2019-09-10T00:00:00",
          "2019-09-11T00:00:00",
          "2019-09-12T00:00:00",
          "2019-09-13T00:00:00",
          "2019-09-16T00:00:00",
          "2019-09-17T00:00:00",
          "2019-09-18T00:00:00",
          "2019-09-19T00:00:00",
          "2019-09-20T00:00:00",
          "2019-09-23T00:00:00",
          "2019-09-24T00:00:00",
          "2019-09-25T00:00:00",
          "2019-09-26T00:00:00",
          "2019-09-27T00:00:00",
          "2019-09-30T00:00:00",
          "2019-10-01T00:00:00",
          "2019-10-02T00:00:00",
          "2019-10-03T00:00:00",
          "2019-10-04T00:00:00",
          "2019-10-07T00:00:00",
          "2019-10-08T00:00:00",
          "2019-10-09T00:00:00",
          "2019-10-10T00:00:00",
          "2019-10-11T00:00:00",
          "2019-10-14T00:00:00",
          "2019-10-15T00:00:00",
          "2019-10-16T00:00:00",
          "2019-10-17T00:00:00",
          "2019-10-18T00:00:00",
          "2019-10-21T00:00:00",
          "2019-10-22T00:00:00",
          "2019-10-23T00:00:00",
          "2019-10-24T00:00:00",
          "2019-10-25T00:00:00",
          "2019-10-28T00:00:00",
          "2019-10-29T00:00:00",
          "2019-10-30T00:00:00",
          "2019-10-31T00:00:00",
          "2019-11-01T00:00:00",
          "2019-11-04T00:00:00",
          "2019-11-05T00:00:00",
          "2019-11-06T00:00:00",
          "2019-11-07T00:00:00",
          "2019-11-08T00:00:00",
          "2019-11-11T00:00:00",
          "2019-11-12T00:00:00",
          "2019-11-13T00:00:00",
          "2019-11-14T00:00:00",
          "2019-11-15T00:00:00",
          "2019-11-18T00:00:00",
          "2019-11-19T00:00:00",
          "2019-11-20T00:00:00",
          "2019-11-21T00:00:00",
          "2019-11-22T00:00:00",
          "2019-11-25T00:00:00",
          "2019-11-26T00:00:00",
          "2019-11-27T00:00:00",
          "2019-11-29T00:00:00",
          "2019-12-02T00:00:00",
          "2019-12-03T00:00:00",
          "2019-12-04T00:00:00",
          "2019-12-05T00:00:00",
          "2019-12-06T00:00:00",
          "2019-12-09T00:00:00",
          "2019-12-10T00:00:00",
          "2019-12-11T00:00:00",
          "2019-12-12T00:00:00",
          "2019-12-13T00:00:00",
          "2019-12-16T00:00:00",
          "2019-12-17T00:00:00",
          "2019-12-18T00:00:00",
          "2019-12-19T00:00:00",
          "2019-12-20T00:00:00",
          "2019-12-23T00:00:00",
          "2019-12-24T00:00:00",
          "2019-12-26T00:00:00",
          "2019-12-27T00:00:00",
          "2019-12-30T00:00:00",
          "2019-12-31T00:00:00"
         ],
         "xaxis": "x",
         "y": [
          35329300,
          42579100,
          44060600,
          35656100,
          31514400,
          32280800,
          30067600,
          28314200,
          28437100,
          31587600,
          29853900,
          28393000,
          37427600,
          32371300,
          25874300,
          23164800,
          31225600,
          29476700,
          31490500,
          49471900,
          55636400,
          35535700,
          31315100,
          27325400,
          20609800,
          29760700,
          21461100,
          18914100,
          25056600,
          18394900,
          21784700,
          26606900,
          18038500,
          21607700,
          29063200,
          27763200,
          23750600,
          21536700,
          21487100,
          29083900,
          23501200,
          26608000,
          19538300,
          17687000,
          25339000,
          22818400,
          26491600,
          26132700,
          35513800,
          30763400,
          54681100,
          31207600,
          37588700,
          28113300,
          29854400,
          33624500,
          27067100,
          26097700,
          22733400,
          18334800,
          25399800,
          22789100,
          18142300,
          22860700,
          20112800,
          15826200,
          15116200,
          17612000,
          16477200,
          14209100,
          19745100,
          15792600,
          14071800,
          19300900,
          27991000,
          15648700,
          24025500,
          31257000,
          38033900,
          23654900,
          16324200,
          24166500,
          26821700,
          27350200,
          24911100,
          24239800,
          36017700,
          28419000,
          27235800,
          30915100,
          33944900,
          25266300,
          24722700,
          30112200,
          25770500,
          23706900,
          15293300,
          15396500,
          23603800,
          14123400,
          23128400,
          22763100,
          16829600,
          26646800,
          37983600,
          29382600,
          24926100,
          21459000,
          33885600,
          26477100,
          23913700,
          17092500,
          17200800,
          17821700,
          14517800,
          25934500,
          23744400,
          33042600,
          36727900,
          20628800,
          33327400,
          23657700,
          16557500,
          30043000,
          22613500,
          15237800,
          13629300,
          18141100,
          16779700,
          19953100,
          24204400,
          22327900,
          18936800,
          16651500,
          22726100,
          20211000,
          30381800,
          48992400,
          25074900,
          18034600,
          20738300,
          18356900,
          19037600,
          16605900,
          16846500,
          38598800,
          40557500,
          30791600,
          42749600,
          32696700,
          33414500,
          27496500,
          23466700,
          20484300,
          25154600,
          32527300,
          28074400,
          24449100,
          24355700,
          21170800,
          14970300,
          18697000,
          38508600,
          20312600,
          23102100,
          17393300,
          20168700,
          23940100,
          18869300,
          17995900,
          26101800,
          20824500,
          25773900,
          28903400,
          24726100,
          27010000,
          23363100,
          16731400,
          17814200,
          23982100,
          35772100,
          39167300,
          17139300,
          29773200,
          21382000,
          17456600,
          22477700,
          17280900,
          21466600,
          30521700,
          24132900,
          22897700,
          15303700,
          25550500,
          19749900,
          17654600,
          25446000,
          13304300,
          19695700,
          20751600,
          21460600,
          32273500,
          20078200,
          27431000,
          29844600,
          37029300,
          25959700,
          35280100,
          20589500,
          18496600,
          24605100,
          33128400,
          16912000,
          18250200,
          16575800,
          17786700,
          16732700,
          14362600,
          18641600,
          16919200,
          19729800,
          23485700,
          21534000,
          23935700,
          25696800,
          18576100,
          15901800,
          22420900,
          24620100,
          15184400,
          11977300,
          27418400,
          24066000,
          17574700,
          17869100,
          16403500,
          16687400,
          16476100,
          18856600,
          24612100,
          23845400,
          24144200,
          25425600,
          24129200,
          24958900,
          53477500,
          17718200,
          8989200,
          14520600,
          18412800,
          16348400,
          18369400
         ],
         "yaxis": "y2"
        }
       ],
       "layout": {
        "template": {
         "data": {
          "bar": [
           {
            "error_x": {
             "color": "#2a3f5f"
            },
            "error_y": {
             "color": "#2a3f5f"
            },
            "marker": {
             "line": {
              "color": "#E5ECF6",
              "width": 0.5
             },
             "pattern": {
              "fillmode": "overlay",
              "size": 10,
              "solidity": 0.2
             }
            },
            "type": "bar"
           }
          ],
          "barpolar": [
           {
            "marker": {
             "line": {
              "color": "#E5ECF6",
              "width": 0.5
             },
             "pattern": {
              "fillmode": "overlay",
              "size": 10,
              "solidity": 0.2
             }
            },
            "type": "barpolar"
           }
          ],
          "carpet": [
           {
            "aaxis": {
             "endlinecolor": "#2a3f5f",
             "gridcolor": "white",
             "linecolor": "white",
             "minorgridcolor": "white",
             "startlinecolor": "#2a3f5f"
            },
            "baxis": {
             "endlinecolor": "#2a3f5f",
             "gridcolor": "white",
             "linecolor": "white",
             "minorgridcolor": "white",
             "startlinecolor": "#2a3f5f"
            },
            "type": "carpet"
           }
          ],
          "choropleth": [
           {
            "colorbar": {
             "outlinewidth": 0,
             "ticks": ""
            },
            "type": "choropleth"
           }
          ],
          "contour": [
           {
            "colorbar": {
             "outlinewidth": 0,
             "ticks": ""
            },
            "colorscale": [
             [
              0,
              "#0d0887"
             ],
             [
              0.1111111111111111,
              "#46039f"
             ],
             [
              0.2222222222222222,
              "#7201a8"
             ],
             [
              0.3333333333333333,
              "#9c179e"
             ],
             [
              0.4444444444444444,
              "#bd3786"
             ],
             [
              0.5555555555555556,
              "#d8576b"
             ],
             [
              0.6666666666666666,
              "#ed7953"
             ],
             [
              0.7777777777777778,
              "#fb9f3a"
             ],
             [
              0.8888888888888888,
              "#fdca26"
             ],
             [
              1,
              "#f0f921"
             ]
            ],
            "type": "contour"
           }
          ],
          "contourcarpet": [
           {
            "colorbar": {
             "outlinewidth": 0,
             "ticks": ""
            },
            "type": "contourcarpet"
           }
          ],
          "heatmap": [
           {
            "colorbar": {
             "outlinewidth": 0,
             "ticks": ""
            },
            "colorscale": [
             [
              0,
              "#0d0887"
             ],
             [
              0.1111111111111111,
              "#46039f"
             ],
             [
              0.2222222222222222,
              "#7201a8"
             ],
             [
              0.3333333333333333,
              "#9c179e"
             ],
             [
              0.4444444444444444,
              "#bd3786"
             ],
             [
              0.5555555555555556,
              "#d8576b"
             ],
             [
              0.6666666666666666,
              "#ed7953"
             ],
             [
              0.7777777777777778,
              "#fb9f3a"
             ],
             [
              0.8888888888888888,
              "#fdca26"
             ],
             [
              1,
              "#f0f921"
             ]
            ],
            "type": "heatmap"
           }
          ],
          "heatmapgl": [
           {
            "colorbar": {
             "outlinewidth": 0,
             "ticks": ""
            },
            "colorscale": [
             [
              0,
              "#0d0887"
             ],
             [
              0.1111111111111111,
              "#46039f"
             ],
             [
              0.2222222222222222,
              "#7201a8"
             ],
             [
              0.3333333333333333,
              "#9c179e"
             ],
             [
              0.4444444444444444,
              "#bd3786"
             ],
             [
              0.5555555555555556,
              "#d8576b"
             ],
             [
              0.6666666666666666,
              "#ed7953"
             ],
             [
              0.7777777777777778,
              "#fb9f3a"
             ],
             [
              0.8888888888888888,
              "#fdca26"
             ],
             [
              1,
              "#f0f921"
             ]
            ],
            "type": "heatmapgl"
           }
          ],
          "histogram": [
           {
            "marker": {
             "pattern": {
              "fillmode": "overlay",
              "size": 10,
              "solidity": 0.2
             }
            },
            "type": "histogram"
           }
          ],
          "histogram2d": [
           {
            "colorbar": {
             "outlinewidth": 0,
             "ticks": ""
            },
            "colorscale": [
             [
              0,
              "#0d0887"
             ],
             [
              0.1111111111111111,
              "#46039f"
             ],
             [
              0.2222222222222222,
              "#7201a8"
             ],
             [
              0.3333333333333333,
              "#9c179e"
             ],
             [
              0.4444444444444444,
              "#bd3786"
             ],
             [
              0.5555555555555556,
              "#d8576b"
             ],
             [
              0.6666666666666666,
              "#ed7953"
             ],
             [
              0.7777777777777778,
              "#fb9f3a"
             ],
             [
              0.8888888888888888,
              "#fdca26"
             ],
             [
              1,
              "#f0f921"
             ]
            ],
            "type": "histogram2d"
           }
          ],
          "histogram2dcontour": [
           {
            "colorbar": {
             "outlinewidth": 0,
             "ticks": ""
            },
            "colorscale": [
             [
              0,
              "#0d0887"
             ],
             [
              0.1111111111111111,
              "#46039f"
             ],
             [
              0.2222222222222222,
              "#7201a8"
             ],
             [
              0.3333333333333333,
              "#9c179e"
             ],
             [
              0.4444444444444444,
              "#bd3786"
             ],
             [
              0.5555555555555556,
              "#d8576b"
             ],
             [
              0.6666666666666666,
              "#ed7953"
             ],
             [
              0.7777777777777778,
              "#fb9f3a"
             ],
             [
              0.8888888888888888,
              "#fdca26"
             ],
             [
              1,
              "#f0f921"
             ]
            ],
            "type": "histogram2dcontour"
           }
          ],
          "mesh3d": [
           {
            "colorbar": {
             "outlinewidth": 0,
             "ticks": ""
            },
            "type": "mesh3d"
           }
          ],
          "parcoords": [
           {
            "line": {
             "colorbar": {
              "outlinewidth": 0,
              "ticks": ""
             }
            },
            "type": "parcoords"
           }
          ],
          "pie": [
           {
            "automargin": true,
            "type": "pie"
           }
          ],
          "scatter": [
           {
            "marker": {
             "colorbar": {
              "outlinewidth": 0,
              "ticks": ""
             }
            },
            "type": "scatter"
           }
          ],
          "scatter3d": [
           {
            "line": {
             "colorbar": {
              "outlinewidth": 0,
              "ticks": ""
             }
            },
            "marker": {
             "colorbar": {
              "outlinewidth": 0,
              "ticks": ""
             }
            },
            "type": "scatter3d"
           }
          ],
          "scattercarpet": [
           {
            "marker": {
             "colorbar": {
              "outlinewidth": 0,
              "ticks": ""
             }
            },
            "type": "scattercarpet"
           }
          ],
          "scattergeo": [
           {
            "marker": {
             "colorbar": {
              "outlinewidth": 0,
              "ticks": ""
             }
            },
            "type": "scattergeo"
           }
          ],
          "scattergl": [
           {
            "marker": {
             "colorbar": {
              "outlinewidth": 0,
              "ticks": ""
             }
            },
            "type": "scattergl"
           }
          ],
          "scattermapbox": [
           {
            "marker": {
             "colorbar": {
              "outlinewidth": 0,
              "ticks": ""
             }
            },
            "type": "scattermapbox"
           }
          ],
          "scatterpolar": [
           {
            "marker": {
             "colorbar": {
              "outlinewidth": 0,
              "ticks": ""
             }
            },
            "type": "scatterpolar"
           }
          ],
          "scatterpolargl": [
           {
            "marker": {
             "colorbar": {
              "outlinewidth": 0,
              "ticks": ""
             }
            },
            "type": "scatterpolargl"
           }
          ],
          "scatterternary": [
           {
            "marker": {
             "colorbar": {
              "outlinewidth": 0,
              "ticks": ""
             }
            },
            "type": "scatterternary"
           }
          ],
          "surface": [
           {
            "colorbar": {
             "outlinewidth": 0,
             "ticks": ""
            },
            "colorscale": [
             [
              0,
              "#0d0887"
             ],
             [
              0.1111111111111111,
              "#46039f"
             ],
             [
              0.2222222222222222,
              "#7201a8"
             ],
             [
              0.3333333333333333,
              "#9c179e"
             ],
             [
              0.4444444444444444,
              "#bd3786"
             ],
             [
              0.5555555555555556,
              "#d8576b"
             ],
             [
              0.6666666666666666,
              "#ed7953"
             ],
             [
              0.7777777777777778,
              "#fb9f3a"
             ],
             [
              0.8888888888888888,
              "#fdca26"
             ],
             [
              1,
              "#f0f921"
             ]
            ],
            "type": "surface"
           }
          ],
          "table": [
           {
            "cells": {
             "fill": {
              "color": "#EBF0F8"
             },
             "line": {
              "color": "white"
             }
            },
            "header": {
             "fill": {
              "color": "#C8D4E3"
             },
             "line": {
              "color": "white"
             }
            },
            "type": "table"
           }
          ]
         },
         "layout": {
          "annotationdefaults": {
           "arrowcolor": "#2a3f5f",
           "arrowhead": 0,
           "arrowwidth": 1
          },
          "autotypenumbers": "strict",
          "coloraxis": {
           "colorbar": {
            "outlinewidth": 0,
            "ticks": ""
           }
          },
          "colorscale": {
           "diverging": [
            [
             0,
             "#8e0152"
            ],
            [
             0.1,
             "#c51b7d"
            ],
            [
             0.2,
             "#de77ae"
            ],
            [
             0.3,
             "#f1b6da"
            ],
            [
             0.4,
             "#fde0ef"
            ],
            [
             0.5,
             "#f7f7f7"
            ],
            [
             0.6,
             "#e6f5d0"
            ],
            [
             0.7,
             "#b8e186"
            ],
            [
             0.8,
             "#7fbc41"
            ],
            [
             0.9,
             "#4d9221"
            ],
            [
             1,
             "#276419"
            ]
           ],
           "sequential": [
            [
             0,
             "#0d0887"
            ],
            [
             0.1111111111111111,
             "#46039f"
            ],
            [
             0.2222222222222222,
             "#7201a8"
            ],
            [
             0.3333333333333333,
             "#9c179e"
            ],
            [
             0.4444444444444444,
             "#bd3786"
            ],
            [
             0.5555555555555556,
             "#d8576b"
            ],
            [
             0.6666666666666666,
             "#ed7953"
            ],
            [
             0.7777777777777778,
             "#fb9f3a"
            ],
            [
             0.8888888888888888,
             "#fdca26"
            ],
            [
             1,
             "#f0f921"
            ]
           ],
           "sequentialminus": [
            [
             0,
             "#0d0887"
            ],
            [
             0.1111111111111111,
             "#46039f"
            ],
            [
             0.2222222222222222,
             "#7201a8"
            ],
            [
             0.3333333333333333,
             "#9c179e"
            ],
            [
             0.4444444444444444,
             "#bd3786"
            ],
            [
             0.5555555555555556,
             "#d8576b"
            ],
            [
             0.6666666666666666,
             "#ed7953"
            ],
            [
             0.7777777777777778,
             "#fb9f3a"
            ],
            [
             0.8888888888888888,
             "#fdca26"
            ],
            [
             1,
             "#f0f921"
            ]
           ]
          },
          "colorway": [
           "#636efa",
           "#EF553B",
           "#00cc96",
           "#ab63fa",
           "#FFA15A",
           "#19d3f3",
           "#FF6692",
           "#B6E880",
           "#FF97FF",
           "#FECB52"
          ],
          "font": {
           "color": "#2a3f5f"
          },
          "geo": {
           "bgcolor": "white",
           "lakecolor": "white",
           "landcolor": "#E5ECF6",
           "showlakes": true,
           "showland": true,
           "subunitcolor": "white"
          },
          "hoverlabel": {
           "align": "left"
          },
          "hovermode": "closest",
          "mapbox": {
           "style": "light"
          },
          "paper_bgcolor": "white",
          "plot_bgcolor": "#E5ECF6",
          "polar": {
           "angularaxis": {
            "gridcolor": "white",
            "linecolor": "white",
            "ticks": ""
           },
           "bgcolor": "#E5ECF6",
           "radialaxis": {
            "gridcolor": "white",
            "linecolor": "white",
            "ticks": ""
           }
          },
          "scene": {
           "xaxis": {
            "backgroundcolor": "#E5ECF6",
            "gridcolor": "white",
            "gridwidth": 2,
            "linecolor": "white",
            "showbackground": true,
            "ticks": "",
            "zerolinecolor": "white"
           },
           "yaxis": {
            "backgroundcolor": "#E5ECF6",
            "gridcolor": "white",
            "gridwidth": 2,
            "linecolor": "white",
            "showbackground": true,
            "ticks": "",
            "zerolinecolor": "white"
           },
           "zaxis": {
            "backgroundcolor": "#E5ECF6",
            "gridcolor": "white",
            "gridwidth": 2,
            "linecolor": "white",
            "showbackground": true,
            "ticks": "",
            "zerolinecolor": "white"
           }
          },
          "shapedefaults": {
           "line": {
            "color": "#2a3f5f"
           }
          },
          "ternary": {
           "aaxis": {
            "gridcolor": "white",
            "linecolor": "white",
            "ticks": ""
           },
           "baxis": {
            "gridcolor": "white",
            "linecolor": "white",
            "ticks": ""
           },
           "bgcolor": "#E5ECF6",
           "caxis": {
            "gridcolor": "white",
            "linecolor": "white",
            "ticks": ""
           }
          },
          "title": {
           "x": 0.05
          },
          "xaxis": {
           "automargin": true,
           "gridcolor": "white",
           "linecolor": "white",
           "ticks": "",
           "title": {
            "standoff": 15
           },
           "zerolinecolor": "white",
           "zerolinewidth": 2
          },
          "yaxis": {
           "automargin": true,
           "gridcolor": "white",
           "linecolor": "white",
           "ticks": "",
           "title": {
            "standoff": 15
           },
           "zerolinecolor": "white",
           "zerolinewidth": 2
          }
         }
        },
        "title": {
         "text": "<b>MICROSOFT STOCK GROWING-TRADING VOLUME</b>"
        },
        "xaxis": {
         "anchor": "y",
         "domain": [
          0,
          0.94
         ],
         "title": {
          "text": "<b>1-year Period of Time</b>"
         }
        },
        "yaxis": {
         "anchor": "x",
         "domain": [
          0,
          1
         ],
         "title": {
          "text": "<b>Stock Value</br>"
         }
        },
        "yaxis2": {
         "anchor": "x",
         "overlaying": "y",
         "range": [
          0,
          200000000
         ],
         "side": "right",
         "title": {
          "text": "<b>Volume Shares</b>"
         }
        }
       }
      }
     },
     "metadata": {},
     "output_type": "display_data"
    },
    {
     "data": {
      "application/vnd.plotly.v1+json": {
       "config": {
        "plotlyServerURL": "https://plot.ly"
       },
       "data": [
        {
         "name": "aapl Price",
         "type": "scatter",
         "x": [
          "2019-01-02T00:00:00",
          "2019-01-03T00:00:00",
          "2019-01-04T00:00:00",
          "2019-01-07T00:00:00",
          "2019-01-08T00:00:00",
          "2019-01-09T00:00:00",
          "2019-01-10T00:00:00",
          "2019-01-11T00:00:00",
          "2019-01-14T00:00:00",
          "2019-01-15T00:00:00",
          "2019-01-16T00:00:00",
          "2019-01-17T00:00:00",
          "2019-01-18T00:00:00",
          "2019-01-22T00:00:00",
          "2019-01-23T00:00:00",
          "2019-01-24T00:00:00",
          "2019-01-25T00:00:00",
          "2019-01-28T00:00:00",
          "2019-01-29T00:00:00",
          "2019-01-30T00:00:00",
          "2019-01-31T00:00:00",
          "2019-02-01T00:00:00",
          "2019-02-04T00:00:00",
          "2019-02-05T00:00:00",
          "2019-02-06T00:00:00",
          "2019-02-07T00:00:00",
          "2019-02-08T00:00:00",
          "2019-02-11T00:00:00",
          "2019-02-12T00:00:00",
          "2019-02-13T00:00:00",
          "2019-02-14T00:00:00",
          "2019-02-15T00:00:00",
          "2019-02-19T00:00:00",
          "2019-02-20T00:00:00",
          "2019-02-21T00:00:00",
          "2019-02-22T00:00:00",
          "2019-02-25T00:00:00",
          "2019-02-26T00:00:00",
          "2019-02-27T00:00:00",
          "2019-02-28T00:00:00",
          "2019-03-01T00:00:00",
          "2019-03-04T00:00:00",
          "2019-03-05T00:00:00",
          "2019-03-06T00:00:00",
          "2019-03-07T00:00:00",
          "2019-03-08T00:00:00",
          "2019-03-11T00:00:00",
          "2019-03-12T00:00:00",
          "2019-03-13T00:00:00",
          "2019-03-14T00:00:00",
          "2019-03-15T00:00:00",
          "2019-03-18T00:00:00",
          "2019-03-19T00:00:00",
          "2019-03-20T00:00:00",
          "2019-03-21T00:00:00",
          "2019-03-22T00:00:00",
          "2019-03-25T00:00:00",
          "2019-03-26T00:00:00",
          "2019-03-27T00:00:00",
          "2019-03-28T00:00:00",
          "2019-03-29T00:00:00",
          "2019-04-01T00:00:00",
          "2019-04-02T00:00:00",
          "2019-04-03T00:00:00",
          "2019-04-04T00:00:00",
          "2019-04-05T00:00:00",
          "2019-04-08T00:00:00",
          "2019-04-09T00:00:00",
          "2019-04-10T00:00:00",
          "2019-04-11T00:00:00",
          "2019-04-12T00:00:00",
          "2019-04-15T00:00:00",
          "2019-04-16T00:00:00",
          "2019-04-17T00:00:00",
          "2019-04-18T00:00:00",
          "2019-04-22T00:00:00",
          "2019-04-23T00:00:00",
          "2019-04-24T00:00:00",
          "2019-04-25T00:00:00",
          "2019-04-26T00:00:00",
          "2019-04-29T00:00:00",
          "2019-04-30T00:00:00",
          "2019-05-01T00:00:00",
          "2019-05-02T00:00:00",
          "2019-05-03T00:00:00",
          "2019-05-06T00:00:00",
          "2019-05-07T00:00:00",
          "2019-05-08T00:00:00",
          "2019-05-09T00:00:00",
          "2019-05-10T00:00:00",
          "2019-05-13T00:00:00",
          "2019-05-14T00:00:00",
          "2019-05-15T00:00:00",
          "2019-05-16T00:00:00",
          "2019-05-17T00:00:00",
          "2019-05-20T00:00:00",
          "2019-05-21T00:00:00",
          "2019-05-22T00:00:00",
          "2019-05-23T00:00:00",
          "2019-05-24T00:00:00",
          "2019-05-28T00:00:00",
          "2019-05-29T00:00:00",
          "2019-05-30T00:00:00",
          "2019-05-31T00:00:00",
          "2019-06-03T00:00:00",
          "2019-06-04T00:00:00",
          "2019-06-05T00:00:00",
          "2019-06-06T00:00:00",
          "2019-06-07T00:00:00",
          "2019-06-10T00:00:00",
          "2019-06-11T00:00:00",
          "2019-06-12T00:00:00",
          "2019-06-13T00:00:00",
          "2019-06-14T00:00:00",
          "2019-06-17T00:00:00",
          "2019-06-18T00:00:00",
          "2019-06-19T00:00:00",
          "2019-06-20T00:00:00",
          "2019-06-21T00:00:00",
          "2019-06-24T00:00:00",
          "2019-06-25T00:00:00",
          "2019-06-26T00:00:00",
          "2019-06-27T00:00:00",
          "2019-06-28T00:00:00",
          "2019-07-01T00:00:00",
          "2019-07-02T00:00:00",
          "2019-07-03T00:00:00",
          "2019-07-05T00:00:00",
          "2019-07-08T00:00:00",
          "2019-07-09T00:00:00",
          "2019-07-10T00:00:00",
          "2019-07-11T00:00:00",
          "2019-07-12T00:00:00",
          "2019-07-15T00:00:00",
          "2019-07-16T00:00:00",
          "2019-07-17T00:00:00",
          "2019-07-18T00:00:00",
          "2019-07-19T00:00:00",
          "2019-07-22T00:00:00",
          "2019-07-23T00:00:00",
          "2019-07-24T00:00:00",
          "2019-07-25T00:00:00",
          "2019-07-26T00:00:00",
          "2019-07-29T00:00:00",
          "2019-07-30T00:00:00",
          "2019-07-31T00:00:00",
          "2019-08-01T00:00:00",
          "2019-08-02T00:00:00",
          "2019-08-05T00:00:00",
          "2019-08-06T00:00:00",
          "2019-08-07T00:00:00",
          "2019-08-08T00:00:00",
          "2019-08-09T00:00:00",
          "2019-08-12T00:00:00",
          "2019-08-13T00:00:00",
          "2019-08-14T00:00:00",
          "2019-08-15T00:00:00",
          "2019-08-16T00:00:00",
          "2019-08-19T00:00:00",
          "2019-08-20T00:00:00",
          "2019-08-21T00:00:00",
          "2019-08-22T00:00:00",
          "2019-08-23T00:00:00",
          "2019-08-26T00:00:00",
          "2019-08-27T00:00:00",
          "2019-08-28T00:00:00",
          "2019-08-29T00:00:00",
          "2019-08-30T00:00:00",
          "2019-09-03T00:00:00",
          "2019-09-04T00:00:00",
          "2019-09-05T00:00:00",
          "2019-09-06T00:00:00",
          "2019-09-09T00:00:00",
          "2019-09-10T00:00:00",
          "2019-09-11T00:00:00",
          "2019-09-12T00:00:00",
          "2019-09-13T00:00:00",
          "2019-09-16T00:00:00",
          "2019-09-17T00:00:00",
          "2019-09-18T00:00:00",
          "2019-09-19T00:00:00",
          "2019-09-20T00:00:00",
          "2019-09-23T00:00:00",
          "2019-09-24T00:00:00",
          "2019-09-25T00:00:00",
          "2019-09-26T00:00:00",
          "2019-09-27T00:00:00",
          "2019-09-30T00:00:00",
          "2019-10-01T00:00:00",
          "2019-10-02T00:00:00",
          "2019-10-03T00:00:00",
          "2019-10-04T00:00:00",
          "2019-10-07T00:00:00",
          "2019-10-08T00:00:00",
          "2019-10-09T00:00:00",
          "2019-10-10T00:00:00",
          "2019-10-11T00:00:00",
          "2019-10-14T00:00:00",
          "2019-10-15T00:00:00",
          "2019-10-16T00:00:00",
          "2019-10-17T00:00:00",
          "2019-10-18T00:00:00",
          "2019-10-21T00:00:00",
          "2019-10-22T00:00:00",
          "2019-10-23T00:00:00",
          "2019-10-24T00:00:00",
          "2019-10-25T00:00:00",
          "2019-10-28T00:00:00",
          "2019-10-29T00:00:00",
          "2019-10-30T00:00:00",
          "2019-10-31T00:00:00",
          "2019-11-01T00:00:00",
          "2019-11-04T00:00:00",
          "2019-11-05T00:00:00",
          "2019-11-06T00:00:00",
          "2019-11-07T00:00:00",
          "2019-11-08T00:00:00",
          "2019-11-11T00:00:00",
          "2019-11-12T00:00:00",
          "2019-11-13T00:00:00",
          "2019-11-14T00:00:00",
          "2019-11-15T00:00:00",
          "2019-11-18T00:00:00",
          "2019-11-19T00:00:00",
          "2019-11-20T00:00:00",
          "2019-11-21T00:00:00",
          "2019-11-22T00:00:00",
          "2019-11-25T00:00:00",
          "2019-11-26T00:00:00",
          "2019-11-27T00:00:00",
          "2019-11-29T00:00:00",
          "2019-12-02T00:00:00",
          "2019-12-03T00:00:00",
          "2019-12-04T00:00:00",
          "2019-12-05T00:00:00",
          "2019-12-06T00:00:00",
          "2019-12-09T00:00:00",
          "2019-12-10T00:00:00",
          "2019-12-11T00:00:00",
          "2019-12-12T00:00:00",
          "2019-12-13T00:00:00",
          "2019-12-16T00:00:00",
          "2019-12-17T00:00:00",
          "2019-12-18T00:00:00",
          "2019-12-19T00:00:00",
          "2019-12-20T00:00:00",
          "2019-12-23T00:00:00",
          "2019-12-24T00:00:00",
          "2019-12-26T00:00:00",
          "2019-12-27T00:00:00",
          "2019-12-30T00:00:00",
          "2019-12-31T00:00:00"
         ],
         "xaxis": "x",
         "y": [
          39.47999954223633,
          35.54750061035156,
          37.064998626708984,
          36.98249816894531,
          37.6875,
          38.32749938964844,
          38.45000076293945,
          38.0724983215332,
          37.5,
          38.26750183105469,
          38.73500061035156,
          38.96500015258789,
          39.20500183105469,
          38.32500076293945,
          38.47999954223633,
          38.17499923706055,
          39.439998626708984,
          39.07500076293945,
          38.66999816894531,
          41.3125,
          41.61000061035156,
          41.630001068115234,
          42.8125,
          43.54499816894531,
          43.560001373291016,
          42.73500061035156,
          42.602500915527344,
          42.35749816894531,
          42.72249984741211,
          42.54499816894531,
          42.70000076293945,
          42.60499954223633,
          42.73249816894531,
          43.00749969482422,
          42.76499938964844,
          43.24250030517578,
          43.557498931884766,
          43.58250045776367,
          43.717498779296875,
          43.287498474121094,
          43.74250030517578,
          43.962501525878906,
          43.88249969482422,
          43.630001068115234,
          43.125,
          43.227500915527344,
          44.724998474121094,
          45.227500915527344,
          45.4275016784668,
          45.932498931884766,
          46.529998779296875,
          47.005001068115234,
          46.63249969482422,
          47.040000915527344,
          48.772499084472656,
          47.76250076293945,
          47.185001373291016,
          46.6974983215332,
          47.11750030517578,
          47.18000030517578,
          47.48749923706055,
          47.810001373291016,
          48.505001068115234,
          48.837501525878906,
          48.92250061035156,
          49.25,
          50.025001525878906,
          49.875,
          50.154998779296875,
          49.73749923706055,
          49.717498779296875,
          49.807498931884766,
          49.8125,
          50.782501220703125,
          50.96500015258789,
          51.13249969482422,
          51.869998931884766,
          51.790000915527344,
          51.31999969482422,
          51.07500076293945,
          51.15250015258789,
          50.16749954223633,
          52.630001068115234,
          52.287498474121094,
          52.9375,
          52.119998931884766,
          50.71500015258789,
          50.724998474121094,
          50.18000030517578,
          49.29499816894531,
          46.43000030517578,
          47.165000915527344,
          47.72999954223633,
          47.52000045776367,
          47.25,
          45.772499084472656,
          46.650001525878906,
          45.69499969482422,
          44.915000915527344,
          44.74250030517578,
          44.557498931884766,
          44.345001220703125,
          44.57500076293945,
          43.76750183105469,
          43.32500076293945,
          44.90999984741211,
          45.6349983215332,
          46.30500030517578,
          47.537498474121094,
          48.14500045776367,
          48.70249938964844,
          48.54750061035156,
          48.537498474121094,
          48.185001373291016,
          48.47249984741211,
          49.61249923706055,
          49.467498779296875,
          49.8650016784668,
          49.69499969482422,
          49.64500045776367,
          48.89250183105469,
          49.95000076293945,
          49.935001373291016,
          49.47999954223633,
          50.38750076293945,
          50.682498931884766,
          51.102500915527344,
          51.057498931884766,
          50.005001068115234,
          50.310001373291016,
          50.807498931884766,
          50.4375,
          50.82500076293945,
          51.3025016784668,
          51.125,
          50.837501525878906,
          51.415000915527344,
          50.647499084472656,
          51.80500030517578,
          52.209999084472656,
          52.16749954223633,
          51.755001068115234,
          51.935001373291016,
          52.41999816894531,
          52.19499969482422,
          53.2599983215332,
          52.10749816894531,
          51.005001068115234,
          48.334999084472656,
          49.25,
          49.7599983215332,
          50.85749816894531,
          50.247501373291016,
          50.119998931884766,
          52.24250030517578,
          50.6875,
          50.435001373291016,
          51.625,
          52.587501525878906,
          52.59000015258789,
          53.15999984741211,
          53.1150016784668,
          50.65999984741211,
          51.622501373291016,
          51.040000915527344,
          51.38249969482422,
          52.252498626708984,
          52.185001373291016,
          51.42499923706055,
          52.29750061035156,
          53.31999969482422,
          53.314998626708984,
          53.54249954223633,
          54.17499923706055,
          55.897499084472656,
          55.772499084472656,
          54.6875,
          54.974998474121094,
          55.17499923706055,
          55.692501068115234,
          55.2400016784668,
          54.432498931884766,
          54.68000030517578,
          54.41999816894531,
          55.25749969482422,
          54.97249984741211,
          54.70500183105469,
          55.99250030517578,
          56.147499084472656,
          54.7400016784668,
          55.20500183105469,
          56.752498626708984,
          56.76499938964844,
          56.099998474121094,
          56.75749969482422,
          57.522499084472656,
          59.0525016784668,
          58.967498779296875,
          58.83000183105469,
          58.592498779296875,
          58.81999969482422,
          59.102500915527344,
          60.127498626708984,
          59.9900016784668,
          60.79499816894531,
          60.89500045776367,
          61.64500045776367,
          62.26250076293945,
          60.8224983215332,
          60.814998626708984,
          62.189998626708984,
          63.95500183105469,
          64.375,
          64.28250122070312,
          64.30999755859375,
          64.85749816894531,
          65.03500366210938,
          65.55000305175781,
          65.48999786376953,
          66.11750030517578,
          65.66000366210938,
          66.44000244140625,
          66.7750015258789,
          66.57250213623047,
          65.79750061035156,
          65.50250244140625,
          65.44499969482422,
          66.59249877929688,
          66.07250213623047,
          66.95999908447266,
          66.8125,
          66.04000091552734,
          64.86250305175781,
          65.43499755859375,
          66.3949966430664,
          67.67749786376953,
          66.7300033569336,
          67.12000274658203,
          67.69249725341797,
          67.86499786376953,
          68.7874984741211,
          69.96499633789062,
          70.10250091552734,
          69.93499755859375,
          70.00499725341797,
          69.86000061035156,
          71,
          71.06749725341797,
          72.47750091552734,
          72.44999694824219,
          72.87999725341797,
          73.4124984741211
         ],
         "yaxis": "y"
        },
        {
         "name": "Volume",
         "type": "bar",
         "x": [
          "2019-01-02T00:00:00",
          "2019-01-03T00:00:00",
          "2019-01-04T00:00:00",
          "2019-01-07T00:00:00",
          "2019-01-08T00:00:00",
          "2019-01-09T00:00:00",
          "2019-01-10T00:00:00",
          "2019-01-11T00:00:00",
          "2019-01-14T00:00:00",
          "2019-01-15T00:00:00",
          "2019-01-16T00:00:00",
          "2019-01-17T00:00:00",
          "2019-01-18T00:00:00",
          "2019-01-22T00:00:00",
          "2019-01-23T00:00:00",
          "2019-01-24T00:00:00",
          "2019-01-25T00:00:00",
          "2019-01-28T00:00:00",
          "2019-01-29T00:00:00",
          "2019-01-30T00:00:00",
          "2019-01-31T00:00:00",
          "2019-02-01T00:00:00",
          "2019-02-04T00:00:00",
          "2019-02-05T00:00:00",
          "2019-02-06T00:00:00",
          "2019-02-07T00:00:00",
          "2019-02-08T00:00:00",
          "2019-02-11T00:00:00",
          "2019-02-12T00:00:00",
          "2019-02-13T00:00:00",
          "2019-02-14T00:00:00",
          "2019-02-15T00:00:00",
          "2019-02-19T00:00:00",
          "2019-02-20T00:00:00",
          "2019-02-21T00:00:00",
          "2019-02-22T00:00:00",
          "2019-02-25T00:00:00",
          "2019-02-26T00:00:00",
          "2019-02-27T00:00:00",
          "2019-02-28T00:00:00",
          "2019-03-01T00:00:00",
          "2019-03-04T00:00:00",
          "2019-03-05T00:00:00",
          "2019-03-06T00:00:00",
          "2019-03-07T00:00:00",
          "2019-03-08T00:00:00",
          "2019-03-11T00:00:00",
          "2019-03-12T00:00:00",
          "2019-03-13T00:00:00",
          "2019-03-14T00:00:00",
          "2019-03-15T00:00:00",
          "2019-03-18T00:00:00",
          "2019-03-19T00:00:00",
          "2019-03-20T00:00:00",
          "2019-03-21T00:00:00",
          "2019-03-22T00:00:00",
          "2019-03-25T00:00:00",
          "2019-03-26T00:00:00",
          "2019-03-27T00:00:00",
          "2019-03-28T00:00:00",
          "2019-03-29T00:00:00",
          "2019-04-01T00:00:00",
          "2019-04-02T00:00:00",
          "2019-04-03T00:00:00",
          "2019-04-04T00:00:00",
          "2019-04-05T00:00:00",
          "2019-04-08T00:00:00",
          "2019-04-09T00:00:00",
          "2019-04-10T00:00:00",
          "2019-04-11T00:00:00",
          "2019-04-12T00:00:00",
          "2019-04-15T00:00:00",
          "2019-04-16T00:00:00",
          "2019-04-17T00:00:00",
          "2019-04-18T00:00:00",
          "2019-04-22T00:00:00",
          "2019-04-23T00:00:00",
          "2019-04-24T00:00:00",
          "2019-04-25T00:00:00",
          "2019-04-26T00:00:00",
          "2019-04-29T00:00:00",
          "2019-04-30T00:00:00",
          "2019-05-01T00:00:00",
          "2019-05-02T00:00:00",
          "2019-05-03T00:00:00",
          "2019-05-06T00:00:00",
          "2019-05-07T00:00:00",
          "2019-05-08T00:00:00",
          "2019-05-09T00:00:00",
          "2019-05-10T00:00:00",
          "2019-05-13T00:00:00",
          "2019-05-14T00:00:00",
          "2019-05-15T00:00:00",
          "2019-05-16T00:00:00",
          "2019-05-17T00:00:00",
          "2019-05-20T00:00:00",
          "2019-05-21T00:00:00",
          "2019-05-22T00:00:00",
          "2019-05-23T00:00:00",
          "2019-05-24T00:00:00",
          "2019-05-28T00:00:00",
          "2019-05-29T00:00:00",
          "2019-05-30T00:00:00",
          "2019-05-31T00:00:00",
          "2019-06-03T00:00:00",
          "2019-06-04T00:00:00",
          "2019-06-05T00:00:00",
          "2019-06-06T00:00:00",
          "2019-06-07T00:00:00",
          "2019-06-10T00:00:00",
          "2019-06-11T00:00:00",
          "2019-06-12T00:00:00",
          "2019-06-13T00:00:00",
          "2019-06-14T00:00:00",
          "2019-06-17T00:00:00",
          "2019-06-18T00:00:00",
          "2019-06-19T00:00:00",
          "2019-06-20T00:00:00",
          "2019-06-21T00:00:00",
          "2019-06-24T00:00:00",
          "2019-06-25T00:00:00",
          "2019-06-26T00:00:00",
          "2019-06-27T00:00:00",
          "2019-06-28T00:00:00",
          "2019-07-01T00:00:00",
          "2019-07-02T00:00:00",
          "2019-07-03T00:00:00",
          "2019-07-05T00:00:00",
          "2019-07-08T00:00:00",
          "2019-07-09T00:00:00",
          "2019-07-10T00:00:00",
          "2019-07-11T00:00:00",
          "2019-07-12T00:00:00",
          "2019-07-15T00:00:00",
          "2019-07-16T00:00:00",
          "2019-07-17T00:00:00",
          "2019-07-18T00:00:00",
          "2019-07-19T00:00:00",
          "2019-07-22T00:00:00",
          "2019-07-23T00:00:00",
          "2019-07-24T00:00:00",
          "2019-07-25T00:00:00",
          "2019-07-26T00:00:00",
          "2019-07-29T00:00:00",
          "2019-07-30T00:00:00",
          "2019-07-31T00:00:00",
          "2019-08-01T00:00:00",
          "2019-08-02T00:00:00",
          "2019-08-05T00:00:00",
          "2019-08-06T00:00:00",
          "2019-08-07T00:00:00",
          "2019-08-08T00:00:00",
          "2019-08-09T00:00:00",
          "2019-08-12T00:00:00",
          "2019-08-13T00:00:00",
          "2019-08-14T00:00:00",
          "2019-08-15T00:00:00",
          "2019-08-16T00:00:00",
          "2019-08-19T00:00:00",
          "2019-08-20T00:00:00",
          "2019-08-21T00:00:00",
          "2019-08-22T00:00:00",
          "2019-08-23T00:00:00",
          "2019-08-26T00:00:00",
          "2019-08-27T00:00:00",
          "2019-08-28T00:00:00",
          "2019-08-29T00:00:00",
          "2019-08-30T00:00:00",
          "2019-09-03T00:00:00",
          "2019-09-04T00:00:00",
          "2019-09-05T00:00:00",
          "2019-09-06T00:00:00",
          "2019-09-09T00:00:00",
          "2019-09-10T00:00:00",
          "2019-09-11T00:00:00",
          "2019-09-12T00:00:00",
          "2019-09-13T00:00:00",
          "2019-09-16T00:00:00",
          "2019-09-17T00:00:00",
          "2019-09-18T00:00:00",
          "2019-09-19T00:00:00",
          "2019-09-20T00:00:00",
          "2019-09-23T00:00:00",
          "2019-09-24T00:00:00",
          "2019-09-25T00:00:00",
          "2019-09-26T00:00:00",
          "2019-09-27T00:00:00",
          "2019-09-30T00:00:00",
          "2019-10-01T00:00:00",
          "2019-10-02T00:00:00",
          "2019-10-03T00:00:00",
          "2019-10-04T00:00:00",
          "2019-10-07T00:00:00",
          "2019-10-08T00:00:00",
          "2019-10-09T00:00:00",
          "2019-10-10T00:00:00",
          "2019-10-11T00:00:00",
          "2019-10-14T00:00:00",
          "2019-10-15T00:00:00",
          "2019-10-16T00:00:00",
          "2019-10-17T00:00:00",
          "2019-10-18T00:00:00",
          "2019-10-21T00:00:00",
          "2019-10-22T00:00:00",
          "2019-10-23T00:00:00",
          "2019-10-24T00:00:00",
          "2019-10-25T00:00:00",
          "2019-10-28T00:00:00",
          "2019-10-29T00:00:00",
          "2019-10-30T00:00:00",
          "2019-10-31T00:00:00",
          "2019-11-01T00:00:00",
          "2019-11-04T00:00:00",
          "2019-11-05T00:00:00",
          "2019-11-06T00:00:00",
          "2019-11-07T00:00:00",
          "2019-11-08T00:00:00",
          "2019-11-11T00:00:00",
          "2019-11-12T00:00:00",
          "2019-11-13T00:00:00",
          "2019-11-14T00:00:00",
          "2019-11-15T00:00:00",
          "2019-11-18T00:00:00",
          "2019-11-19T00:00:00",
          "2019-11-20T00:00:00",
          "2019-11-21T00:00:00",
          "2019-11-22T00:00:00",
          "2019-11-25T00:00:00",
          "2019-11-26T00:00:00",
          "2019-11-27T00:00:00",
          "2019-11-29T00:00:00",
          "2019-12-02T00:00:00",
          "2019-12-03T00:00:00",
          "2019-12-04T00:00:00",
          "2019-12-05T00:00:00",
          "2019-12-06T00:00:00",
          "2019-12-09T00:00:00",
          "2019-12-10T00:00:00",
          "2019-12-11T00:00:00",
          "2019-12-12T00:00:00",
          "2019-12-13T00:00:00",
          "2019-12-16T00:00:00",
          "2019-12-17T00:00:00",
          "2019-12-18T00:00:00",
          "2019-12-19T00:00:00",
          "2019-12-20T00:00:00",
          "2019-12-23T00:00:00",
          "2019-12-24T00:00:00",
          "2019-12-26T00:00:00",
          "2019-12-27T00:00:00",
          "2019-12-30T00:00:00",
          "2019-12-31T00:00:00"
         ],
         "xaxis": "x",
         "y": [
          148158800,
          365248800,
          234428400,
          219111200,
          164101200,
          180396400,
          143122800,
          108092800,
          129756800,
          114843600,
          122278800,
          119284800,
          135004000,
          121576000,
          92522400,
          101766000,
          134142000,
          104768400,
          166348800,
          244439200,
          162958400,
          130672400,
          125982000,
          144406400,
          112958400,
          126966800,
          95280000,
          83973600,
          89134000,
          89960800,
          87342800,
          98507200,
          75891200,
          104457600,
          68998800,
          75652800,
          87493600,
          68280800,
          111341600,
          112861600,
          103544800,
          109744800,
          78949600,
          83241600,
          99185600,
          95997600,
          128044000,
          129870400,
          124130000,
          94318000,
          156171600,
          104879200,
          126585600,
          124140800,
          204136800,
          169630800,
          175381200,
          199202000,
          119393600,
          83121600,
          94256000,
          111448000,
          91062800,
          93087200,
          76457200,
          74106400,
          103526800,
          143072800,
          86781200,
          83603200,
          111042800,
          70146400,
          102785600,
          115627200,
          96783200,
          77758000,
          93292000,
          70162400,
          74172800,
          74596400,
          88818800,
          186139600,
          259309200,
          127985200,
          83569600,
          129772400,
          155054800,
          105358000,
          139634400,
          164834800,
          229722400,
          146118800,
          106178800,
          132125600,
          131516400,
          154449200,
          113459200,
          118994400,
          146118800,
          94858800,
          111792800,
          113924800,
          84873600,
          108174400,
          161584400,
          123872000,
          119093600,
          90105200,
          122737600,
          104883600,
          107731600,
          73012800,
          86698400,
          75046000,
          58676400,
          106204000,
          84496800,
          86056000,
          191202400,
          72881600,
          84281200,
          104270000,
          83598800,
          124442400,
          109012000,
          67740800,
          45448000,
          69062000,
          101354400,
          82312000,
          71588400,
          80767200,
          70380800,
          67789600,
          67467200,
          56430000,
          74162400,
          83717200,
          89111600,
          73420800,
          59966400,
          55638400,
          70475600,
          86693600,
          135742800,
          277125600,
          216071600,
          163448400,
          209572000,
          143299200,
          133457600,
          108038000,
          98478800,
          89927600,
          188874000,
          146189600,
          108909600,
          110481600,
          97654400,
          107537200,
          86141600,
          89014800,
          187272000,
          104174400,
          103493200,
          63755200,
          83962000,
          84573600,
          80092000,
          76752400,
          95654800,
          77449200,
          109237600,
          127111600,
          177158400,
          128906800,
          159053200,
          84632400,
          73274800,
          101360000,
          88242400,
          221652400,
          76662000,
          124763200,
          87613600,
          75334000,
          101408000,
          103909600,
          139223200,
          138449200,
          114426000,
          138478800,
          122306000,
          111820000,
          74770400,
          113013600,
          166795600,
          96427600,
          87360000,
          73903200,
          67585200,
          97433600,
          87247200,
          82293600,
          75828800,
          69275200,
          73477200,
          96572800,
          142839600,
          124522000,
          139162000,
          151125200,
          103272000,
          79897600,
          75864400,
          94940400,
          69986400,
          81821200,
          87388800,
          102734400,
          89182800,
          100206400,
          86703200,
          76167200,
          106234400,
          121395200,
          65325200,
          84020400,
          105207600,
          65235600,
          46617600,
          94487200,
          114430400,
          67181600,
          74424400,
          106075600,
          128042400,
          90420400,
          78756800,
          137310400,
          133587600,
          128186000,
          114158400,
          116028400,
          98369200,
          275978000,
          98572000,
          48478800,
          93121200,
          146266000,
          144114400,
          100805600
         ],
         "yaxis": "y2"
        }
       ],
       "layout": {
        "template": {
         "data": {
          "bar": [
           {
            "error_x": {
             "color": "#2a3f5f"
            },
            "error_y": {
             "color": "#2a3f5f"
            },
            "marker": {
             "line": {
              "color": "#E5ECF6",
              "width": 0.5
             },
             "pattern": {
              "fillmode": "overlay",
              "size": 10,
              "solidity": 0.2
             }
            },
            "type": "bar"
           }
          ],
          "barpolar": [
           {
            "marker": {
             "line": {
              "color": "#E5ECF6",
              "width": 0.5
             },
             "pattern": {
              "fillmode": "overlay",
              "size": 10,
              "solidity": 0.2
             }
            },
            "type": "barpolar"
           }
          ],
          "carpet": [
           {
            "aaxis": {
             "endlinecolor": "#2a3f5f",
             "gridcolor": "white",
             "linecolor": "white",
             "minorgridcolor": "white",
             "startlinecolor": "#2a3f5f"
            },
            "baxis": {
             "endlinecolor": "#2a3f5f",
             "gridcolor": "white",
             "linecolor": "white",
             "minorgridcolor": "white",
             "startlinecolor": "#2a3f5f"
            },
            "type": "carpet"
           }
          ],
          "choropleth": [
           {
            "colorbar": {
             "outlinewidth": 0,
             "ticks": ""
            },
            "type": "choropleth"
           }
          ],
          "contour": [
           {
            "colorbar": {
             "outlinewidth": 0,
             "ticks": ""
            },
            "colorscale": [
             [
              0,
              "#0d0887"
             ],
             [
              0.1111111111111111,
              "#46039f"
             ],
             [
              0.2222222222222222,
              "#7201a8"
             ],
             [
              0.3333333333333333,
              "#9c179e"
             ],
             [
              0.4444444444444444,
              "#bd3786"
             ],
             [
              0.5555555555555556,
              "#d8576b"
             ],
             [
              0.6666666666666666,
              "#ed7953"
             ],
             [
              0.7777777777777778,
              "#fb9f3a"
             ],
             [
              0.8888888888888888,
              "#fdca26"
             ],
             [
              1,
              "#f0f921"
             ]
            ],
            "type": "contour"
           }
          ],
          "contourcarpet": [
           {
            "colorbar": {
             "outlinewidth": 0,
             "ticks": ""
            },
            "type": "contourcarpet"
           }
          ],
          "heatmap": [
           {
            "colorbar": {
             "outlinewidth": 0,
             "ticks": ""
            },
            "colorscale": [
             [
              0,
              "#0d0887"
             ],
             [
              0.1111111111111111,
              "#46039f"
             ],
             [
              0.2222222222222222,
              "#7201a8"
             ],
             [
              0.3333333333333333,
              "#9c179e"
             ],
             [
              0.4444444444444444,
              "#bd3786"
             ],
             [
              0.5555555555555556,
              "#d8576b"
             ],
             [
              0.6666666666666666,
              "#ed7953"
             ],
             [
              0.7777777777777778,
              "#fb9f3a"
             ],
             [
              0.8888888888888888,
              "#fdca26"
             ],
             [
              1,
              "#f0f921"
             ]
            ],
            "type": "heatmap"
           }
          ],
          "heatmapgl": [
           {
            "colorbar": {
             "outlinewidth": 0,
             "ticks": ""
            },
            "colorscale": [
             [
              0,
              "#0d0887"
             ],
             [
              0.1111111111111111,
              "#46039f"
             ],
             [
              0.2222222222222222,
              "#7201a8"
             ],
             [
              0.3333333333333333,
              "#9c179e"
             ],
             [
              0.4444444444444444,
              "#bd3786"
             ],
             [
              0.5555555555555556,
              "#d8576b"
             ],
             [
              0.6666666666666666,
              "#ed7953"
             ],
             [
              0.7777777777777778,
              "#fb9f3a"
             ],
             [
              0.8888888888888888,
              "#fdca26"
             ],
             [
              1,
              "#f0f921"
             ]
            ],
            "type": "heatmapgl"
           }
          ],
          "histogram": [
           {
            "marker": {
             "pattern": {
              "fillmode": "overlay",
              "size": 10,
              "solidity": 0.2
             }
            },
            "type": "histogram"
           }
          ],
          "histogram2d": [
           {
            "colorbar": {
             "outlinewidth": 0,
             "ticks": ""
            },
            "colorscale": [
             [
              0,
              "#0d0887"
             ],
             [
              0.1111111111111111,
              "#46039f"
             ],
             [
              0.2222222222222222,
              "#7201a8"
             ],
             [
              0.3333333333333333,
              "#9c179e"
             ],
             [
              0.4444444444444444,
              "#bd3786"
             ],
             [
              0.5555555555555556,
              "#d8576b"
             ],
             [
              0.6666666666666666,
              "#ed7953"
             ],
             [
              0.7777777777777778,
              "#fb9f3a"
             ],
             [
              0.8888888888888888,
              "#fdca26"
             ],
             [
              1,
              "#f0f921"
             ]
            ],
            "type": "histogram2d"
           }
          ],
          "histogram2dcontour": [
           {
            "colorbar": {
             "outlinewidth": 0,
             "ticks": ""
            },
            "colorscale": [
             [
              0,
              "#0d0887"
             ],
             [
              0.1111111111111111,
              "#46039f"
             ],
             [
              0.2222222222222222,
              "#7201a8"
             ],
             [
              0.3333333333333333,
              "#9c179e"
             ],
             [
              0.4444444444444444,
              "#bd3786"
             ],
             [
              0.5555555555555556,
              "#d8576b"
             ],
             [
              0.6666666666666666,
              "#ed7953"
             ],
             [
              0.7777777777777778,
              "#fb9f3a"
             ],
             [
              0.8888888888888888,
              "#fdca26"
             ],
             [
              1,
              "#f0f921"
             ]
            ],
            "type": "histogram2dcontour"
           }
          ],
          "mesh3d": [
           {
            "colorbar": {
             "outlinewidth": 0,
             "ticks": ""
            },
            "type": "mesh3d"
           }
          ],
          "parcoords": [
           {
            "line": {
             "colorbar": {
              "outlinewidth": 0,
              "ticks": ""
             }
            },
            "type": "parcoords"
           }
          ],
          "pie": [
           {
            "automargin": true,
            "type": "pie"
           }
          ],
          "scatter": [
           {
            "marker": {
             "colorbar": {
              "outlinewidth": 0,
              "ticks": ""
             }
            },
            "type": "scatter"
           }
          ],
          "scatter3d": [
           {
            "line": {
             "colorbar": {
              "outlinewidth": 0,
              "ticks": ""
             }
            },
            "marker": {
             "colorbar": {
              "outlinewidth": 0,
              "ticks": ""
             }
            },
            "type": "scatter3d"
           }
          ],
          "scattercarpet": [
           {
            "marker": {
             "colorbar": {
              "outlinewidth": 0,
              "ticks": ""
             }
            },
            "type": "scattercarpet"
           }
          ],
          "scattergeo": [
           {
            "marker": {
             "colorbar": {
              "outlinewidth": 0,
              "ticks": ""
             }
            },
            "type": "scattergeo"
           }
          ],
          "scattergl": [
           {
            "marker": {
             "colorbar": {
              "outlinewidth": 0,
              "ticks": ""
             }
            },
            "type": "scattergl"
           }
          ],
          "scattermapbox": [
           {
            "marker": {
             "colorbar": {
              "outlinewidth": 0,
              "ticks": ""
             }
            },
            "type": "scattermapbox"
           }
          ],
          "scatterpolar": [
           {
            "marker": {
             "colorbar": {
              "outlinewidth": 0,
              "ticks": ""
             }
            },
            "type": "scatterpolar"
           }
          ],
          "scatterpolargl": [
           {
            "marker": {
             "colorbar": {
              "outlinewidth": 0,
              "ticks": ""
             }
            },
            "type": "scatterpolargl"
           }
          ],
          "scatterternary": [
           {
            "marker": {
             "colorbar": {
              "outlinewidth": 0,
              "ticks": ""
             }
            },
            "type": "scatterternary"
           }
          ],
          "surface": [
           {
            "colorbar": {
             "outlinewidth": 0,
             "ticks": ""
            },
            "colorscale": [
             [
              0,
              "#0d0887"
             ],
             [
              0.1111111111111111,
              "#46039f"
             ],
             [
              0.2222222222222222,
              "#7201a8"
             ],
             [
              0.3333333333333333,
              "#9c179e"
             ],
             [
              0.4444444444444444,
              "#bd3786"
             ],
             [
              0.5555555555555556,
              "#d8576b"
             ],
             [
              0.6666666666666666,
              "#ed7953"
             ],
             [
              0.7777777777777778,
              "#fb9f3a"
             ],
             [
              0.8888888888888888,
              "#fdca26"
             ],
             [
              1,
              "#f0f921"
             ]
            ],
            "type": "surface"
           }
          ],
          "table": [
           {
            "cells": {
             "fill": {
              "color": "#EBF0F8"
             },
             "line": {
              "color": "white"
             }
            },
            "header": {
             "fill": {
              "color": "#C8D4E3"
             },
             "line": {
              "color": "white"
             }
            },
            "type": "table"
           }
          ]
         },
         "layout": {
          "annotationdefaults": {
           "arrowcolor": "#2a3f5f",
           "arrowhead": 0,
           "arrowwidth": 1
          },
          "autotypenumbers": "strict",
          "coloraxis": {
           "colorbar": {
            "outlinewidth": 0,
            "ticks": ""
           }
          },
          "colorscale": {
           "diverging": [
            [
             0,
             "#8e0152"
            ],
            [
             0.1,
             "#c51b7d"
            ],
            [
             0.2,
             "#de77ae"
            ],
            [
             0.3,
             "#f1b6da"
            ],
            [
             0.4,
             "#fde0ef"
            ],
            [
             0.5,
             "#f7f7f7"
            ],
            [
             0.6,
             "#e6f5d0"
            ],
            [
             0.7,
             "#b8e186"
            ],
            [
             0.8,
             "#7fbc41"
            ],
            [
             0.9,
             "#4d9221"
            ],
            [
             1,
             "#276419"
            ]
           ],
           "sequential": [
            [
             0,
             "#0d0887"
            ],
            [
             0.1111111111111111,
             "#46039f"
            ],
            [
             0.2222222222222222,
             "#7201a8"
            ],
            [
             0.3333333333333333,
             "#9c179e"
            ],
            [
             0.4444444444444444,
             "#bd3786"
            ],
            [
             0.5555555555555556,
             "#d8576b"
            ],
            [
             0.6666666666666666,
             "#ed7953"
            ],
            [
             0.7777777777777778,
             "#fb9f3a"
            ],
            [
             0.8888888888888888,
             "#fdca26"
            ],
            [
             1,
             "#f0f921"
            ]
           ],
           "sequentialminus": [
            [
             0,
             "#0d0887"
            ],
            [
             0.1111111111111111,
             "#46039f"
            ],
            [
             0.2222222222222222,
             "#7201a8"
            ],
            [
             0.3333333333333333,
             "#9c179e"
            ],
            [
             0.4444444444444444,
             "#bd3786"
            ],
            [
             0.5555555555555556,
             "#d8576b"
            ],
            [
             0.6666666666666666,
             "#ed7953"
            ],
            [
             0.7777777777777778,
             "#fb9f3a"
            ],
            [
             0.8888888888888888,
             "#fdca26"
            ],
            [
             1,
             "#f0f921"
            ]
           ]
          },
          "colorway": [
           "#636efa",
           "#EF553B",
           "#00cc96",
           "#ab63fa",
           "#FFA15A",
           "#19d3f3",
           "#FF6692",
           "#B6E880",
           "#FF97FF",
           "#FECB52"
          ],
          "font": {
           "color": "#2a3f5f"
          },
          "geo": {
           "bgcolor": "white",
           "lakecolor": "white",
           "landcolor": "#E5ECF6",
           "showlakes": true,
           "showland": true,
           "subunitcolor": "white"
          },
          "hoverlabel": {
           "align": "left"
          },
          "hovermode": "closest",
          "mapbox": {
           "style": "light"
          },
          "paper_bgcolor": "white",
          "plot_bgcolor": "#E5ECF6",
          "polar": {
           "angularaxis": {
            "gridcolor": "white",
            "linecolor": "white",
            "ticks": ""
           },
           "bgcolor": "#E5ECF6",
           "radialaxis": {
            "gridcolor": "white",
            "linecolor": "white",
            "ticks": ""
           }
          },
          "scene": {
           "xaxis": {
            "backgroundcolor": "#E5ECF6",
            "gridcolor": "white",
            "gridwidth": 2,
            "linecolor": "white",
            "showbackground": true,
            "ticks": "",
            "zerolinecolor": "white"
           },
           "yaxis": {
            "backgroundcolor": "#E5ECF6",
            "gridcolor": "white",
            "gridwidth": 2,
            "linecolor": "white",
            "showbackground": true,
            "ticks": "",
            "zerolinecolor": "white"
           },
           "zaxis": {
            "backgroundcolor": "#E5ECF6",
            "gridcolor": "white",
            "gridwidth": 2,
            "linecolor": "white",
            "showbackground": true,
            "ticks": "",
            "zerolinecolor": "white"
           }
          },
          "shapedefaults": {
           "line": {
            "color": "#2a3f5f"
           }
          },
          "ternary": {
           "aaxis": {
            "gridcolor": "white",
            "linecolor": "white",
            "ticks": ""
           },
           "baxis": {
            "gridcolor": "white",
            "linecolor": "white",
            "ticks": ""
           },
           "bgcolor": "#E5ECF6",
           "caxis": {
            "gridcolor": "white",
            "linecolor": "white",
            "ticks": ""
           }
          },
          "title": {
           "x": 0.05
          },
          "xaxis": {
           "automargin": true,
           "gridcolor": "white",
           "linecolor": "white",
           "ticks": "",
           "title": {
            "standoff": 15
           },
           "zerolinecolor": "white",
           "zerolinewidth": 2
          },
          "yaxis": {
           "automargin": true,
           "gridcolor": "white",
           "linecolor": "white",
           "ticks": "",
           "title": {
            "standoff": 15
           },
           "zerolinecolor": "white",
           "zerolinewidth": 2
          }
         }
        },
        "title": {
         "text": "<b>APPLE STOCK GROWING-TRADING VOLUME</b>"
        },
        "xaxis": {
         "anchor": "y",
         "domain": [
          0,
          0.94
         ],
         "title": {
          "text": "<b>1-year Period of Time</b>"
         }
        },
        "yaxis": {
         "anchor": "x",
         "domain": [
          0,
          1
         ],
         "title": {
          "text": "<b>Stock Value</br>"
         }
        },
        "yaxis2": {
         "anchor": "x",
         "overlaying": "y",
         "range": [
          0,
          800000000
         ],
         "side": "right",
         "title": {
          "text": "<b>Volume Shares</b>"
         }
        }
       }
      }
     },
     "metadata": {},
     "output_type": "display_data"
    }
   ],
   "source": [
    "#MICROSOFT\n",
    "\n",
    "#CREATION OF THE SUBPLOT:\n",
    "fig2 = make_subplots(specs=[[{\"secondary_y\": True}]])                                       #Create a Subplot in order to insert both the Closing Behaviour and also Volume information.\n",
    "fig2.add_trace(go.Scatter(x=msft.index,y=msft['Close'],name='msft Price'),secondary_y=False)#Adding a Subplot for the Closing Behaviour of the Microsoft's Stock.\n",
    "fig2.add_trace(go.Bar(x=msft.index,y=msft['Volume'],name='Volume'),secondary_y=True)        #Adding a Subplot for the Volume Information referring to the Microsoft's Stock Traded.\n",
    "\n",
    "#ADDING UP INFORMATION TO THE PLOT:\n",
    "fig2.update_layout(title_text=\"<b>MICROSOFT STOCK GROWING-TRADING VOLUME</b>\")              #Add figure title.\n",
    "fig2.update_xaxes(title_text=\"<b>1-year Period of Time</b>\")                                #Set x-axis title.\n",
    "fig2.update_yaxes(title_text=\"<b>Stock Value</br>\", secondary_y=False)                      #Set y-axis title.\n",
    "fig2.update_yaxes(title_text=\"<b>Volume Shares</b>\", secondary_y=True)                      #Set the Secondary y-axis title.\n",
    "\n",
    "#ADJUSTING SCALE VOLUME:\n",
    "fig2.update_yaxes(range=[0,200000000],secondary_y=True)                                     #Adjust the Scale for the Volume of the Stock. \n",
    "fig2.show()                                                                                 #Show the Plot.\n",
    "\n",
    "\n",
    "#APPLE\n",
    "\n",
    "#CREATION OF THE SUBPLOT:\n",
    "fig3 = make_subplots(specs=[[{\"secondary_y\": True}]])                                       #Create a Subplot in order to insert both the Closing Behaviour and also Volume information.\n",
    "fig3.add_trace(go.Scatter(x=aapl.index,y=aapl['Close'],name='aapl Price'),secondary_y=False)#Adding a Subplot for the Closing Behaviour of the Apple's Stock.\n",
    "fig3.add_trace(go.Bar(x=aapl.index,y=aapl['Volume'],name='Volume'),secondary_y=True)        #Adding a Subplot for the Volume Information referring to the Apple's Stock Traded.\n",
    "\n",
    "#ADDING UP INFORMATION TO THE PLOT:\n",
    "fig3.update_layout(title_text=\"<b>APPLE STOCK GROWING-TRADING VOLUME</b>\")                  #Add figure title.\n",
    "fig3.update_xaxes(title_text=\"<b>1-year Period of Time</b>\")                                #Set x-axis title.\n",
    "fig3.update_yaxes(title_text=\"<b>Stock Value</br>\", secondary_y=False)                      #Set y-axis title.\n",
    "fig3.update_yaxes(title_text=\"<b>Volume Shares</b>\", secondary_y=True)                      #Set the Secondary y-axis title.\n",
    "\n",
    "#ADJUSTING SCALE VOLUME:\n",
    "fig3.update_yaxes(range=[0,800000000],secondary_y=True)                                     #Adjust the Scale for the Volume of the Stock. \n",
    "fig3.show()                                                                                 #Show the Plot.\n",
    "\n"
   ]
  },
  {
   "cell_type": "markdown",
   "id": "0a1e685a",
   "metadata": {},
   "source": [
    "##### 2.1.1.5: DATA VISUALIZATION OF THE TWO STOCKS: SIMPLE MOVING AVERAGE(20-DAY SMA):\n",
    "\n",
    "We build up a **Simple Moving Average**. Even if it is not requested, it is useful to have it, in such a way to understand i a deeper way our data. The n-day simple moving average is a popular trading tool taht provides a look back at a stock's price over a n-day period, and is beneficial to a short-term trade since it smooths out price fluctuations and provides more trend reversal signals than longer-term moving averages. We’ll draw a simple indicator 20 Day Moving Average here to show the concept, theoretically, we can plot any indicator on the chart.\n",
    "\n",
    "Note that in order to understand the following chart, there is a key concept to keep in mind: if a stock's price moves above the 20-day line, the trend is considered positive, while price falling below the moving average can signal a downward trend.\n",
    "\n",
    "In order to compute the simple moving average we just need to do:\n",
    "$$ SMA = \\frac{A_1 + A_2 + ... + A_n}{n} $$\n",
    "In which we have that we first sum up an asset price over the past n periods, and then we divide it by the number of periods.\n",
    "\n",
    "Fortunately, pandas provides convenient ways to calculate time series-related metrics such as the moving average. We will make use of the \"df.rolling()\" method that provides “moving windows” on which we can operate. To get the average of the moving window, we just need to add the .mean() at the end of the rolling() method."
   ]
  },
  {
   "cell_type": "code",
   "execution_count": 18,
   "id": "c29064d6",
   "metadata": {},
   "outputs": [
    {
     "data": {
      "application/vnd.plotly.v1+json": {
       "config": {
        "plotlyServerURL": "https://plot.ly"
       },
       "data": [
        {
         "close": [
          101.12000274658203,
          97.4000015258789,
          101.93000030517578,
          102.05999755859375,
          102.80000305175781,
          104.2699966430664,
          103.5999984741211,
          102.80000305175781,
          102.05000305175781,
          105.01000213623047,
          105.37999725341797,
          106.12000274658203,
          107.70999908447266,
          105.68000030517578,
          106.70999908447266,
          106.19999694824219,
          107.16999816894531,
          105.08000183105469,
          102.94000244140625,
          106.37999725341797,
          104.43000030517578,
          102.77999877929688,
          105.73999786376953,
          107.22000122070312,
          106.02999877929688,
          105.2699966430664,
          105.66999816894531,
          105.25,
          106.88999938964844,
          106.80999755859375,
          106.9000015258789,
          108.22000122070312,
          108.16999816894531,
          107.1500015258789,
          109.41000366210938,
          110.97000122070312,
          111.58999633789062,
          112.36000061035156,
          112.16999816894531,
          112.02999877929688,
          112.52999877929688,
          112.26000213623047,
          111.69999694824219,
          111.75,
          110.38999938964844,
          110.51000213623047,
          112.83000183105469,
          113.62000274658203,
          114.5,
          114.58999633789062,
          115.91000366210938,
          117.56999969482422,
          117.6500015258789,
          117.5199966430664,
          120.22000122070312,
          117.05000305175781,
          117.66000366210938,
          117.91000366210938,
          116.7699966430664,
          116.93000030517578,
          117.94000244140625,
          119.0199966430664,
          119.19000244140625,
          119.97000122070312,
          119.36000061035156,
          119.88999938964844,
          119.93000030517578,
          119.27999877929688,
          120.19000244140625,
          120.33000183105469,
          120.94999694824219,
          121.05000305175781,
          120.7699966430664,
          121.7699966430664,
          123.37000274658203,
          123.76000213623047,
          125.44000244140625,
          125.01000213623047,
          129.14999389648438,
          129.88999938964844,
          129.77000427246094,
          130.60000610351562,
          127.87999725341797,
          126.20999908447266,
          128.89999389648438,
          128.14999389648438,
          125.5199966430664,
          125.51000213623047,
          125.5,
          127.12999725341797,
          123.3499984741211,
          124.7300033569336,
          126.0199966430664,
          128.92999267578125,
          128.07000732421875,
          126.22000122070312,
          126.9000015258789,
          127.66999816894531,
          126.18000030517578,
          126.23999786376953,
          126.16000366210938,
          124.94000244140625,
          125.7300033569336,
          123.68000030517578,
          119.83999633789062,
          123.16000366210938,
          125.83000183105469,
          127.81999969482422,
          131.39999389648438,
          132.60000610351562,
          132.10000610351562,
          131.49000549316406,
          132.32000732421875,
          132.4499969482422,
          132.85000610351562,
          135.16000366210938,
          135.69000244140625,
          136.9499969482422,
          136.97000122070312,
          137.77999877929688,
          133.42999267578125,
          133.92999267578125,
          134.14999389648438,
          133.9600067138672,
          135.67999267578125,
          136.5800018310547,
          137.4600067138672,
          137.05999755859375,
          136.9600067138672,
          136.4600067138672,
          137.85000610351562,
          138.39999389648438,
          138.89999389648438,
          138.89999389648438,
          137.0800018310547,
          136.27000427246094,
          136.4199981689453,
          136.6199951171875,
          138.42999267578125,
          139.2899932861328,
          140.72000122070312,
          140.19000244140625,
          141.33999633789062,
          141.02999877929688,
          140.35000610351562,
          136.27000427246094,
          138.05999755859375,
          136.89999389648438,
          132.2100067138672,
          134.69000244140625,
          135.27999877929688,
          138.88999938964844,
          137.7100067138672,
          135.7899932861328,
          138.60000610351562,
          133.97999572753906,
          133.67999267578125,
          136.1300048828125,
          138.41000366210938,
          137.25999450683594,
          138.7899932861328,
          137.77999877929688,
          133.38999938964844,
          135.4499969482422,
          135.74000549316406,
          135.55999755859375,
          138.1199951171875,
          137.86000061035156,
          136.0399932861328,
          137.6300048828125,
          140.0500030517578,
          139.10000610351562,
          137.52000427246094,
          136.0800018310547,
          136.1199951171875,
          137.52000427246094,
          137.32000732421875,
          136.3300018310547,
          137.38999938964844,
          138.52000427246094,
          141.07000732421875,
          139.44000244140625,
          139.13999938964844,
          137.3800048828125,
          139.36000061035156,
          139.5399932861328,
          137.72999572753906,
          139.02999877929688,
          137.07000732421875,
          134.64999389648438,
          136.27999877929688,
          138.1199951171875,
          137.1199951171875,
          135.6699981689453,
          138.24000549316406,
          139.10000610351562,
          139.67999267578125,
          139.5500030517578,
          141.57000732421875,
          140.41000366210938,
          139.69000244140625,
          137.41000366210938,
          138.42999267578125,
          136.3699951171875,
          137.24000549316406,
          139.94000244140625,
          140.72999572753906,
          144.19000244140625,
          142.8300018310547,
          144.61000061035156,
          143.3699951171875,
          143.72000122070312,
          144.5500030517578,
          144.4600067138672,
          144.05999755859375,
          144.25999450683594,
          145.9600067138672,
          146.11000061035156,
          147.07000732421875,
          147.30999755859375,
          148.05999755859375,
          149.97000122070312,
          150.33999633789062,
          150.38999938964844,
          149.6199951171875,
          149.47999572753906,
          149.58999633789062,
          151.22999572753906,
          152.02999877929688,
          152.32000732421875,
          151.3800048828125,
          149.5500030517578,
          149.30999755859375,
          149.85000610351562,
          149.92999267578125,
          151.75,
          151.36000061035156,
          151.1300048828125,
          151.6999969482422,
          153.24000549316406,
          154.52999877929688,
          155.52999877929688,
          154.69000244140625,
          154.3699951171875,
          155.7100067138672,
          157.41000366210938,
          157.41000366210938,
          157.3800048828125,
          158.6699981689453,
          158.9600067138672,
          157.58999633789062,
          157.6999969482422
         ],
         "high": [
          101.75,
          100.19000244140625,
          102.51000213623047,
          103.2699966430664,
          103.97000122070312,
          104.87999725341797,
          103.75,
          103.44000244140625,
          102.87000274658203,
          105.05000305175781,
          106.26000213623047,
          106.62999725341797,
          107.9000015258789,
          107.0999984741211,
          107.04000091552734,
          107,
          107.87999725341797,
          106.4800033569336,
          104.97000122070312,
          106.37999725341797,
          105.22000122070312,
          104.0999984741211,
          105.80000305175781,
          107.2699966430664,
          107,
          105.58999633789062,
          105.77999877929688,
          106.58000183105469,
          107.13999938964844,
          107.77999877929688,
          107.29000091552734,
          108.30000305175781,
          108.66000366210938,
          107.94000244140625,
          109.4800033569336,
          111.19999694824219,
          112.18000030517578,
          113.23999786376953,
          112.36000061035156,
          112.87999725341797,
          113.0199966430664,
          113.25,
          112.38999938964844,
          112.66000366210938,
          111.55000305175781,
          110.70999908447266,
          112.94999694824219,
          113.98999786376953,
          115,
          115.19999694824219,
          117.25,
          117.61000061035156,
          118.44000244140625,
          118.75,
          120.81999969482422,
          119.58999633789062,
          118.01000213623047,
          118.70999908447266,
          118.20999908447266,
          117.58000183105469,
          118.31999969482422,
          119.11000061035156,
          119.4800033569336,
          120.43000030517578,
          120.2300033569336,
          120.2300033569336,
          120.0199966430664,
          119.54000091552734,
          120.3499984741211,
          120.8499984741211,
          120.9800033569336,
          121.58000183105469,
          121.6500015258789,
          121.8499984741211,
          123.5199966430664,
          124,
          125.58000183105469,
          125.8499984741211,
          131.3699951171875,
          130.52000427246094,
          130.17999267578125,
          130.6999969482422,
          130.64999389648438,
          128,
          129.42999267578125,
          128.55999755859375,
          127.18000030517578,
          126.37000274658203,
          125.79000091552734,
          127.93000030517578,
          125.55000305175781,
          125.87999725341797,
          126.70999908447266,
          129.3800048828125,
          130.4600067138672,
          127.58999633789062,
          127.52999877929688,
          128.24000549316406,
          126.29000091552734,
          127.41999816894531,
          128,
          125.38999938964844,
          125.76000213623047,
          124.62000274658203,
          124.37000274658203,
          123.27999877929688,
          125.87000274658203,
          127.97000122070312,
          132.25,
          134.0800018310547,
          134.24000549316406,
          131.97000122070312,
          133,
          133.7899932861328,
          133.72999572753906,
          135.24000549316406,
          135.92999267578125,
          137.66000366210938,
          137.72999572753906,
          138.39999389648438,
          137.58999633789062,
          135.74000549316406,
          134.7100067138672,
          134.60000610351562,
          136.6999969482422,
          136.58999633789062,
          137.74000549316406,
          137.3300018310547,
          137.10000610351562,
          136.97000122070312,
          138.5800018310547,
          139.22000122070312,
          139.1300048828125,
          139.5399932861328,
          139.0500030517578,
          137.92999267578125,
          136.6199951171875,
          140.6699981689453,
          139.19000244140625,
          139.99000549316406,
          140.74000549316406,
          140.61000061035156,
          141.67999267578125,
          141.50999450683594,
          141.22000122070312,
          140.49000549316406,
          140.94000244140625,
          138.32000732421875,
          133.92999267578125,
          135.67999267578125,
          135.64999389648438,
          138.99000549316406,
          139.3800048828125,
          137.86000061035156,
          138.8000030517578,
          136.9199981689453,
          134.5800018310547,
          136.4600067138672,
          138.5500030517578,
          138.7100067138672,
          139.49000549316406,
          139.1999969482422,
          138.35000610351562,
          135.55999755859375,
          136.72000122070312,
          135.75999450683594,
          138.44000244140625,
          139.17999267578125,
          137.1999969482422,
          137.69000244140625,
          140.3800048828125,
          140.17999267578125,
          139.75,
          136.88999938964844,
          136.27000427246094,
          138.4199981689453,
          138.05999755859375,
          136.6999969482422,
          137.52000427246094,
          138.6699981689453,
          142.3699951171875,
          141.64999389648438,
          139.6300048828125,
          140.69000244140625,
          139.9600067138672,
          140.17999267578125,
          140.36000061035156,
          139.22000122070312,
          140.25,
          136.3699951171875,
          136.75,
          138.25,
          138.17999267578125,
          137.75999450683594,
          138.6999969482422,
          139.6699981689453,
          141.02999877929688,
          140.2899932861328,
          141.7899932861328,
          140.99000549316406,
          141.4199981689453,
          140,
          138.5,
          140.00999450683594,
          137.4499969482422,
          140.4199981689453,
          141.13999938964844,
          145.6699981689453,
          144.5,
          145,
          144.92999267578125,
          144.4199981689453,
          145,
          145.02000427246094,
          144.52000427246094,
          144.8800048828125,
          145.99000549316406,
          146.4199981689453,
          147.57000732421875,
          147.4600067138672,
          148.41000366210938,
          149.99000549316406,
          150.5500030517578,
          151.3300018310547,
          150.83999633789062,
          149.8000030517578,
          150.3000030517578,
          151.35000610351562,
          152.4199981689453,
          152.5,
          152.3000030517578,
          151.8300018310547,
          149.42999267578125,
          150.17999267578125,
          150.32000732421875,
          151.8699951171875,
          152.2100067138672,
          151.88999938964844,
          151.8699951171875,
          153.44000244140625,
          154.88999938964844,
          155.89999389648438,
          155.7100067138672,
          155.47999572753906,
          155.77000427246094,
          158.49000549316406,
          158.1199951171875,
          157.7100067138672,
          158.72999572753906,
          159.5500030517578,
          159.02000427246094,
          157.77000427246094
         ],
         "low": [
          98.94000244140625,
          97.19999694824219,
          98.93000030517578,
          100.9800033569336,
          101.70999908447266,
          103.23999786376953,
          102.37999725341797,
          101.63999938964844,
          101.26000213623047,
          101.87999725341797,
          104.95999908447266,
          104.76000213623047,
          105.91000366210938,
          104.86000061035156,
          105.33999633789062,
          105.33999633789062,
          106.19999694824219,
          104.66000366210938,
          102.16999816894531,
          104.33000183105469,
          103.18000030517578,
          102.3499984741211,
          102.7699966430664,
          105.95999908447266,
          105.52999877929688,
          104.29000091552734,
          104.26000213623047,
          104.97000122070312,
          105.4800033569336,
          106.70999908447266,
          105.66000366210938,
          107.36000061035156,
          107.77999877929688,
          106.29000091552734,
          106.87000274658203,
          109.81999969482422,
          111.26000213623047,
          111.16999816894531,
          110.87999725341797,
          111.7300033569336,
          111.66999816894531,
          110.80000305175781,
          111.2300033569336,
          111.43000030517578,
          109.87000274658203,
          108.80000305175781,
          110.9800033569336,
          112.6500015258789,
          113.77999877929688,
          114.33000183105469,
          114.58999633789062,
          116.05000305175781,
          116.98999786376953,
          116.70999908447266,
          117.08999633789062,
          117.04000091552734,
          116.31999969482422,
          116.8499984741211,
          115.5199966430664,
          116.12999725341797,
          116.95999908447266,
          118.0999984741211,
          118.5199966430664,
          119.1500015258789,
          118.37999725341797,
          119.37000274658203,
          118.63999938964844,
          118.58000183105469,
          119.54000091552734,
          119.91999816894531,
          120.37000274658203,
          120.56999969482422,
          120.0999984741211,
          120.54000091552734,
          121.30000305175781,
          122.56999969482422,
          123.83000183105469,
          124.5199966430664,
          128.8300018310547,
          129.02000427246094,
          129.35000610351562,
          129.38999938964844,
          127.69999694824219,
          125.5199966430664,
          127.25,
          126.11000061035156,
          124.22000122070312,
          124.75,
          123.56999969482422,
          123.81999969482422,
          123.04000091552734,
          123.69999694824219,
          123.69999694824219,
          126.45999908447266,
          127.91999816894531,
          125.76000213623047,
          126.58000183105469,
          126.5199966430664,
          124.73999786376953,
          125.97000122070312,
          126.05000305175781,
          124.04000091552734,
          124.77999877929688,
          123.31999969482422,
          119.01000213623047,
          120.6500015258789,
          124.20999908447266,
          125.5999984741211,
          128.25999450683594,
          132,
          131.27999877929688,
          130.7100067138672,
          131.55999755859375,
          131.63999938964844,
          132.52999877929688,
          133.57000732421875,
          133.80999755859375,
          135.72000122070312,
          136.4600067138672,
          137,
          132.72999572753906,
          133.60000610351562,
          133.50999450683594,
          133.16000366210938,
          134.97000122070312,
          135.33999633789062,
          136.2899932861328,
          135.72000122070312,
          135.3699951171875,
          135.8000030517578,
          137.02000427246094,
          137.8699951171875,
          138.00999450683594,
          138.4600067138672,
          136.52000427246094,
          136.22000122070312,
          134.6699981689453,
          136.4499969482422,
          137.3300018310547,
          138.02999877929688,
          138.85000610351562,
          139.32000732421875,
          140.3000030517578,
          139.3699951171875,
          139.8000030517578,
          135.0800018310547,
          136.92999267578125,
          135.25999450683594,
          130.77999877929688,
          133.2100067138672,
          131.8300018310547,
          135.92999267578125,
          136.4600067138672,
          135.24000549316406,
          135,
          133.6699981689453,
          132.25,
          134.72000122070312,
          136.88999938964844,
          137.24000549316406,
          138,
          136.2899932861328,
          132.8000030517578,
          133.89999389648438,
          134.66000366210938,
          133.5500030517578,
          136.91000366210938,
          136.27000427246094,
          135.6999969482422,
          136.47999572753906,
          138.75999450683594,
          138.1999969482422,
          136.4600067138672,
          134.50999450683594,
          135.08999633789062,
          136.8699951171875,
          136.57000732421875,
          135.66000366210938,
          136.42999267578125,
          136.52999877929688,
          140.07000732421875,
          138.25,
          138.44000244140625,
          136.8800048828125,
          136.02999877929688,
          138.44000244140625,
          136.64999389648438,
          137.77999877929688,
          137,
          133.5800018310547,
          133.22000122070312,
          136.4199981689453,
          137.02000427246094,
          135.6199951171875,
          136.97000122070312,
          138.25,
          139.5,
          139.52000427246094,
          139.80999755859375,
          139.52999877929688,
          139.02000427246094,
          136.55999755859375,
          137.00999450683594,
          136.25999450683594,
          135.61000061035156,
          138.6699981689453,
          139.1999969482422,
          143.50999450683594,
          142.64999389648438,
          142.7899932861328,
          142.99000549316406,
          142.97000122070312,
          144.16000366210938,
          143.91000366210938,
          143.1999969482422,
          143.77000427246094,
          143.75999450683594,
          144.72999572753906,
          146.05999755859375,
          146.27999877929688,
          147,
          148.27000427246094,
          148.97999572753906,
          150.1999969482422,
          148.4600067138672,
          148.5,
          148.82000732421875,
          149.9199981689453,
          151.32000732421875,
          151.52000427246094,
          151.27999877929688,
          148.32000732421875,
          146.64999389648438,
          149.1999969482422,
          149.47999572753906,
          150.27000427246094,
          150.91000366210938,
          150.75999450683594,
          150.3300018310547,
          151.02000427246094,
          152.8300018310547,
          154.82000732421875,
          154.4499969482422,
          154.17999267578125,
          153.75,
          156.2899932861328,
          157.27000427246094,
          157.1199951171875,
          157.39999389648438,
          158.22000122070312,
          156.72999572753906,
          156.4499969482422
         ],
         "open": [
          99.55000305175781,
          100.0999984741211,
          99.72000122070312,
          101.63999938964844,
          103.04000091552734,
          103.86000061035156,
          103.22000122070312,
          103.19000244140625,
          101.9000015258789,
          102.51000213623047,
          105.26000213623047,
          105,
          107.45999908447266,
          106.75,
          106.12000274658203,
          106.86000061035156,
          107.23999786376953,
          106.26000213623047,
          104.87999725341797,
          104.62000274658203,
          103.80000305175781,
          103.77999877929688,
          102.87000274658203,
          106.05999755859375,
          107,
          105.19000244140625,
          104.38999938964844,
          106.19999694824219,
          106.13999938964844,
          107.5,
          106.30999755859375,
          107.91000366210938,
          107.79000091552734,
          107.86000061035156,
          106.9000015258789,
          110.05000305175781,
          111.76000213623047,
          111.26000213623047,
          111.69000244140625,
          112.04000091552734,
          112.88999938964844,
          113.0199966430664,
          112.25,
          111.87000274658203,
          111.4000015258789,
          109.16000366210938,
          110.98999786376953,
          112.81999969482422,
          114.12999725341797,
          114.54000091552734,
          115.33999633789062,
          116.16999816894531,
          118.08999633789062,
          117.38999938964844,
          117.13999938964844,
          119.5,
          116.55999755859375,
          118.62000274658203,
          117.87999725341797,
          117.44000244140625,
          118.06999969482422,
          118.94999694824219,
          119.05999755859375,
          119.86000061035156,
          120.0999984741211,
          119.38999938964844,
          119.80999755859375,
          118.62999725341797,
          119.76000213623047,
          120.54000091552734,
          120.63999938964844,
          120.94000244140625,
          121.63999938964844,
          121.23999786376953,
          122.19000244140625,
          122.62000274658203,
          124.0999984741211,
          125.79000091552734,
          130.05999755859375,
          129.6999969482422,
          129.89999389648438,
          129.80999755859375,
          130.52999877929688,
          127.9800033569336,
          127.36000061035156,
          126.38999938964844,
          126.45999908447266,
          125.44000244140625,
          124.29000091552734,
          124.91000366210938,
          124.11000061035156,
          123.87000274658203,
          124.26000213623047,
          126.75,
          128.30999755859375,
          126.5199966430664,
          127.43000030517578,
          126.62000274658203,
          126.19999694824219,
          126.91000366210938,
          126.9800033569336,
          125.37999725341797,
          125.26000213623047,
          124.2300033569336,
          123.8499984741211,
          121.27999877929688,
          124.94999694824219,
          126.44000244140625,
          129.19000244140625,
          132.39999389648438,
          133.8800048828125,
          131.39999389648438,
          131.97999572753906,
          132.25999450683594,
          132.6300048828125,
          134.19000244140625,
          135,
          137.4499969482422,
          136.5800018310547,
          137,
          137.25,
          134.35000610351562,
          134.13999938964844,
          134.57000732421875,
          136.6300048828125,
          136.1199951171875,
          136.8000030517578,
          135.94000244140625,
          136.39999389648438,
          136,
          137.1300048828125,
          138.1999969482422,
          138.85000610351562,
          139.44000244140625,
          138.9600067138672,
          137.6999969482422,
          135.5500030517578,
          140.22000122070312,
          137.41000366210938,
          139.75999450683594,
          138.89999389648438,
          140.42999267578125,
          140.3699951171875,
          141.5,
          140.13999938964844,
          140.3300018310547,
          137,
          138.08999633789062,
          133.3000030517578,
          133.8000030517578,
          133.7899932861328,
          136.60000610351562,
          138.61000061035156,
          137.07000732421875,
          136.0500030517578,
          136.36000061035156,
          134.38999938964844,
          134.8800048828125,
          137.85000610351562,
          138.2100067138672,
          138.5500030517578,
          138.66000366210938,
          137.19000244140625,
          134.99000549316406,
          136.38999938964844,
          134.8800048828125,
          137.25,
          139.14999389648438,
          136.61000061035156,
          137.3000030517578,
          139.11000061035156,
          140.02999877929688,
          139.58999633789062,
          136.8000030517578,
          135.91000366210938,
          137.85000610351562,
          137.77999877929688,
          135.8300018310547,
          136.9600067138672,
          137.36000061035156,
          140.3000030517578,
          141.00999450683594,
          139.22999572753906,
          140.36000061035156,
          137.5,
          139.44000244140625,
          140.14999389648438,
          138.0500030517578,
          139.66000366210938,
          136.25,
          134.9499969482422,
          136.75,
          137.13999938964844,
          137.0800018310547,
          137.4600067138672,
          138.49000549316406,
          140.1199951171875,
          139.69000244140625,
          140.05999755859375,
          140.7899932861328,
          140.9499969482422,
          139.75999450683594,
          138.4499969482422,
          138.97000122070312,
          136.8800048828125,
          139.38999938964844,
          139.33999633789062,
          144.39999389648438,
          144.0800018310547,
          143.52000427246094,
          144.89999389648438,
          144.25999450683594,
          144.8300018310547,
          144.97000122070312,
          144.3699951171875,
          143.83999633789062,
          143.97999572753906,
          145.33999633789062,
          146.27999877929688,
          146.74000549316406,
          147.02000427246094,
          148.92999267578125,
          150.07000732421875,
          150.8800048828125,
          150.30999755859375,
          149.39999389648438,
          150.07000732421875,
          150,
          151.36000061035156,
          152.3300018310547,
          152.10000610351562,
          151.80999755859375,
          147.49000549316406,
          150.13999938964844,
          150.0500030517578,
          150.99000549316406,
          151.07000732421875,
          151.2899932861328,
          151.5399932861328,
          151.64999389648438,
          153,
          155.11000061035156,
          155.4499969482422,
          154.3000030517578,
          154,
          157.35000610351562,
          158.1199951171875,
          157.47999572753906,
          157.55999755859375,
          159.4499969482422,
          158.99000549316406,
          156.77000427246094
         ],
         "type": "candlestick",
         "x": [
          "2019-01-02T00:00:00",
          "2019-01-03T00:00:00",
          "2019-01-04T00:00:00",
          "2019-01-07T00:00:00",
          "2019-01-08T00:00:00",
          "2019-01-09T00:00:00",
          "2019-01-10T00:00:00",
          "2019-01-11T00:00:00",
          "2019-01-14T00:00:00",
          "2019-01-15T00:00:00",
          "2019-01-16T00:00:00",
          "2019-01-17T00:00:00",
          "2019-01-18T00:00:00",
          "2019-01-22T00:00:00",
          "2019-01-23T00:00:00",
          "2019-01-24T00:00:00",
          "2019-01-25T00:00:00",
          "2019-01-28T00:00:00",
          "2019-01-29T00:00:00",
          "2019-01-30T00:00:00",
          "2019-01-31T00:00:00",
          "2019-02-01T00:00:00",
          "2019-02-04T00:00:00",
          "2019-02-05T00:00:00",
          "2019-02-06T00:00:00",
          "2019-02-07T00:00:00",
          "2019-02-08T00:00:00",
          "2019-02-11T00:00:00",
          "2019-02-12T00:00:00",
          "2019-02-13T00:00:00",
          "2019-02-14T00:00:00",
          "2019-02-15T00:00:00",
          "2019-02-19T00:00:00",
          "2019-02-20T00:00:00",
          "2019-02-21T00:00:00",
          "2019-02-22T00:00:00",
          "2019-02-25T00:00:00",
          "2019-02-26T00:00:00",
          "2019-02-27T00:00:00",
          "2019-02-28T00:00:00",
          "2019-03-01T00:00:00",
          "2019-03-04T00:00:00",
          "2019-03-05T00:00:00",
          "2019-03-06T00:00:00",
          "2019-03-07T00:00:00",
          "2019-03-08T00:00:00",
          "2019-03-11T00:00:00",
          "2019-03-12T00:00:00",
          "2019-03-13T00:00:00",
          "2019-03-14T00:00:00",
          "2019-03-15T00:00:00",
          "2019-03-18T00:00:00",
          "2019-03-19T00:00:00",
          "2019-03-20T00:00:00",
          "2019-03-21T00:00:00",
          "2019-03-22T00:00:00",
          "2019-03-25T00:00:00",
          "2019-03-26T00:00:00",
          "2019-03-27T00:00:00",
          "2019-03-28T00:00:00",
          "2019-03-29T00:00:00",
          "2019-04-01T00:00:00",
          "2019-04-02T00:00:00",
          "2019-04-03T00:00:00",
          "2019-04-04T00:00:00",
          "2019-04-05T00:00:00",
          "2019-04-08T00:00:00",
          "2019-04-09T00:00:00",
          "2019-04-10T00:00:00",
          "2019-04-11T00:00:00",
          "2019-04-12T00:00:00",
          "2019-04-15T00:00:00",
          "2019-04-16T00:00:00",
          "2019-04-17T00:00:00",
          "2019-04-18T00:00:00",
          "2019-04-22T00:00:00",
          "2019-04-23T00:00:00",
          "2019-04-24T00:00:00",
          "2019-04-25T00:00:00",
          "2019-04-26T00:00:00",
          "2019-04-29T00:00:00",
          "2019-04-30T00:00:00",
          "2019-05-01T00:00:00",
          "2019-05-02T00:00:00",
          "2019-05-03T00:00:00",
          "2019-05-06T00:00:00",
          "2019-05-07T00:00:00",
          "2019-05-08T00:00:00",
          "2019-05-09T00:00:00",
          "2019-05-10T00:00:00",
          "2019-05-13T00:00:00",
          "2019-05-14T00:00:00",
          "2019-05-15T00:00:00",
          "2019-05-16T00:00:00",
          "2019-05-17T00:00:00",
          "2019-05-20T00:00:00",
          "2019-05-21T00:00:00",
          "2019-05-22T00:00:00",
          "2019-05-23T00:00:00",
          "2019-05-24T00:00:00",
          "2019-05-28T00:00:00",
          "2019-05-29T00:00:00",
          "2019-05-30T00:00:00",
          "2019-05-31T00:00:00",
          "2019-06-03T00:00:00",
          "2019-06-04T00:00:00",
          "2019-06-05T00:00:00",
          "2019-06-06T00:00:00",
          "2019-06-07T00:00:00",
          "2019-06-10T00:00:00",
          "2019-06-11T00:00:00",
          "2019-06-12T00:00:00",
          "2019-06-13T00:00:00",
          "2019-06-14T00:00:00",
          "2019-06-17T00:00:00",
          "2019-06-18T00:00:00",
          "2019-06-19T00:00:00",
          "2019-06-20T00:00:00",
          "2019-06-21T00:00:00",
          "2019-06-24T00:00:00",
          "2019-06-25T00:00:00",
          "2019-06-26T00:00:00",
          "2019-06-27T00:00:00",
          "2019-06-28T00:00:00",
          "2019-07-01T00:00:00",
          "2019-07-02T00:00:00",
          "2019-07-03T00:00:00",
          "2019-07-05T00:00:00",
          "2019-07-08T00:00:00",
          "2019-07-09T00:00:00",
          "2019-07-10T00:00:00",
          "2019-07-11T00:00:00",
          "2019-07-12T00:00:00",
          "2019-07-15T00:00:00",
          "2019-07-16T00:00:00",
          "2019-07-17T00:00:00",
          "2019-07-18T00:00:00",
          "2019-07-19T00:00:00",
          "2019-07-22T00:00:00",
          "2019-07-23T00:00:00",
          "2019-07-24T00:00:00",
          "2019-07-25T00:00:00",
          "2019-07-26T00:00:00",
          "2019-07-29T00:00:00",
          "2019-07-30T00:00:00",
          "2019-07-31T00:00:00",
          "2019-08-01T00:00:00",
          "2019-08-02T00:00:00",
          "2019-08-05T00:00:00",
          "2019-08-06T00:00:00",
          "2019-08-07T00:00:00",
          "2019-08-08T00:00:00",
          "2019-08-09T00:00:00",
          "2019-08-12T00:00:00",
          "2019-08-13T00:00:00",
          "2019-08-14T00:00:00",
          "2019-08-15T00:00:00",
          "2019-08-16T00:00:00",
          "2019-08-19T00:00:00",
          "2019-08-20T00:00:00",
          "2019-08-21T00:00:00",
          "2019-08-22T00:00:00",
          "2019-08-23T00:00:00",
          "2019-08-26T00:00:00",
          "2019-08-27T00:00:00",
          "2019-08-28T00:00:00",
          "2019-08-29T00:00:00",
          "2019-08-30T00:00:00",
          "2019-09-03T00:00:00",
          "2019-09-04T00:00:00",
          "2019-09-05T00:00:00",
          "2019-09-06T00:00:00",
          "2019-09-09T00:00:00",
          "2019-09-10T00:00:00",
          "2019-09-11T00:00:00",
          "2019-09-12T00:00:00",
          "2019-09-13T00:00:00",
          "2019-09-16T00:00:00",
          "2019-09-17T00:00:00",
          "2019-09-18T00:00:00",
          "2019-09-19T00:00:00",
          "2019-09-20T00:00:00",
          "2019-09-23T00:00:00",
          "2019-09-24T00:00:00",
          "2019-09-25T00:00:00",
          "2019-09-26T00:00:00",
          "2019-09-27T00:00:00",
          "2019-09-30T00:00:00",
          "2019-10-01T00:00:00",
          "2019-10-02T00:00:00",
          "2019-10-03T00:00:00",
          "2019-10-04T00:00:00",
          "2019-10-07T00:00:00",
          "2019-10-08T00:00:00",
          "2019-10-09T00:00:00",
          "2019-10-10T00:00:00",
          "2019-10-11T00:00:00",
          "2019-10-14T00:00:00",
          "2019-10-15T00:00:00",
          "2019-10-16T00:00:00",
          "2019-10-17T00:00:00",
          "2019-10-18T00:00:00",
          "2019-10-21T00:00:00",
          "2019-10-22T00:00:00",
          "2019-10-23T00:00:00",
          "2019-10-24T00:00:00",
          "2019-10-25T00:00:00",
          "2019-10-28T00:00:00",
          "2019-10-29T00:00:00",
          "2019-10-30T00:00:00",
          "2019-10-31T00:00:00",
          "2019-11-01T00:00:00",
          "2019-11-04T00:00:00",
          "2019-11-05T00:00:00",
          "2019-11-06T00:00:00",
          "2019-11-07T00:00:00",
          "2019-11-08T00:00:00",
          "2019-11-11T00:00:00",
          "2019-11-12T00:00:00",
          "2019-11-13T00:00:00",
          "2019-11-14T00:00:00",
          "2019-11-15T00:00:00",
          "2019-11-18T00:00:00",
          "2019-11-19T00:00:00",
          "2019-11-20T00:00:00",
          "2019-11-21T00:00:00",
          "2019-11-22T00:00:00",
          "2019-11-25T00:00:00",
          "2019-11-26T00:00:00",
          "2019-11-27T00:00:00",
          "2019-11-29T00:00:00",
          "2019-12-02T00:00:00",
          "2019-12-03T00:00:00",
          "2019-12-04T00:00:00",
          "2019-12-05T00:00:00",
          "2019-12-06T00:00:00",
          "2019-12-09T00:00:00",
          "2019-12-10T00:00:00",
          "2019-12-11T00:00:00",
          "2019-12-12T00:00:00",
          "2019-12-13T00:00:00",
          "2019-12-16T00:00:00",
          "2019-12-17T00:00:00",
          "2019-12-18T00:00:00",
          "2019-12-19T00:00:00",
          "2019-12-20T00:00:00",
          "2019-12-23T00:00:00",
          "2019-12-24T00:00:00",
          "2019-12-26T00:00:00",
          "2019-12-27T00:00:00",
          "2019-12-30T00:00:00",
          "2019-12-31T00:00:00"
         ]
        },
        {
         "marker": {
          "color": "blue"
         },
         "name": "20-Day SMA",
         "type": "scatter",
         "x": [
          "2019-01-02T00:00:00",
          "2019-01-03T00:00:00",
          "2019-01-04T00:00:00",
          "2019-01-07T00:00:00",
          "2019-01-08T00:00:00",
          "2019-01-09T00:00:00",
          "2019-01-10T00:00:00",
          "2019-01-11T00:00:00",
          "2019-01-14T00:00:00",
          "2019-01-15T00:00:00",
          "2019-01-16T00:00:00",
          "2019-01-17T00:00:00",
          "2019-01-18T00:00:00",
          "2019-01-22T00:00:00",
          "2019-01-23T00:00:00",
          "2019-01-24T00:00:00",
          "2019-01-25T00:00:00",
          "2019-01-28T00:00:00",
          "2019-01-29T00:00:00",
          "2019-01-30T00:00:00",
          "2019-01-31T00:00:00",
          "2019-02-01T00:00:00",
          "2019-02-04T00:00:00",
          "2019-02-05T00:00:00",
          "2019-02-06T00:00:00",
          "2019-02-07T00:00:00",
          "2019-02-08T00:00:00",
          "2019-02-11T00:00:00",
          "2019-02-12T00:00:00",
          "2019-02-13T00:00:00",
          "2019-02-14T00:00:00",
          "2019-02-15T00:00:00",
          "2019-02-19T00:00:00",
          "2019-02-20T00:00:00",
          "2019-02-21T00:00:00",
          "2019-02-22T00:00:00",
          "2019-02-25T00:00:00",
          "2019-02-26T00:00:00",
          "2019-02-27T00:00:00",
          "2019-02-28T00:00:00",
          "2019-03-01T00:00:00",
          "2019-03-04T00:00:00",
          "2019-03-05T00:00:00",
          "2019-03-06T00:00:00",
          "2019-03-07T00:00:00",
          "2019-03-08T00:00:00",
          "2019-03-11T00:00:00",
          "2019-03-12T00:00:00",
          "2019-03-13T00:00:00",
          "2019-03-14T00:00:00",
          "2019-03-15T00:00:00",
          "2019-03-18T00:00:00",
          "2019-03-19T00:00:00",
          "2019-03-20T00:00:00",
          "2019-03-21T00:00:00",
          "2019-03-22T00:00:00",
          "2019-03-25T00:00:00",
          "2019-03-26T00:00:00",
          "2019-03-27T00:00:00",
          "2019-03-28T00:00:00",
          "2019-03-29T00:00:00",
          "2019-04-01T00:00:00",
          "2019-04-02T00:00:00",
          "2019-04-03T00:00:00",
          "2019-04-04T00:00:00",
          "2019-04-05T00:00:00",
          "2019-04-08T00:00:00",
          "2019-04-09T00:00:00",
          "2019-04-10T00:00:00",
          "2019-04-11T00:00:00",
          "2019-04-12T00:00:00",
          "2019-04-15T00:00:00",
          "2019-04-16T00:00:00",
          "2019-04-17T00:00:00",
          "2019-04-18T00:00:00",
          "2019-04-22T00:00:00",
          "2019-04-23T00:00:00",
          "2019-04-24T00:00:00",
          "2019-04-25T00:00:00",
          "2019-04-26T00:00:00",
          "2019-04-29T00:00:00",
          "2019-04-30T00:00:00",
          "2019-05-01T00:00:00",
          "2019-05-02T00:00:00",
          "2019-05-03T00:00:00",
          "2019-05-06T00:00:00",
          "2019-05-07T00:00:00",
          "2019-05-08T00:00:00",
          "2019-05-09T00:00:00",
          "2019-05-10T00:00:00",
          "2019-05-13T00:00:00",
          "2019-05-14T00:00:00",
          "2019-05-15T00:00:00",
          "2019-05-16T00:00:00",
          "2019-05-17T00:00:00",
          "2019-05-20T00:00:00",
          "2019-05-21T00:00:00",
          "2019-05-22T00:00:00",
          "2019-05-23T00:00:00",
          "2019-05-24T00:00:00",
          "2019-05-28T00:00:00",
          "2019-05-29T00:00:00",
          "2019-05-30T00:00:00",
          "2019-05-31T00:00:00",
          "2019-06-03T00:00:00",
          "2019-06-04T00:00:00",
          "2019-06-05T00:00:00",
          "2019-06-06T00:00:00",
          "2019-06-07T00:00:00",
          "2019-06-10T00:00:00",
          "2019-06-11T00:00:00",
          "2019-06-12T00:00:00",
          "2019-06-13T00:00:00",
          "2019-06-14T00:00:00",
          "2019-06-17T00:00:00",
          "2019-06-18T00:00:00",
          "2019-06-19T00:00:00",
          "2019-06-20T00:00:00",
          "2019-06-21T00:00:00",
          "2019-06-24T00:00:00",
          "2019-06-25T00:00:00",
          "2019-06-26T00:00:00",
          "2019-06-27T00:00:00",
          "2019-06-28T00:00:00",
          "2019-07-01T00:00:00",
          "2019-07-02T00:00:00",
          "2019-07-03T00:00:00",
          "2019-07-05T00:00:00",
          "2019-07-08T00:00:00",
          "2019-07-09T00:00:00",
          "2019-07-10T00:00:00",
          "2019-07-11T00:00:00",
          "2019-07-12T00:00:00",
          "2019-07-15T00:00:00",
          "2019-07-16T00:00:00",
          "2019-07-17T00:00:00",
          "2019-07-18T00:00:00",
          "2019-07-19T00:00:00",
          "2019-07-22T00:00:00",
          "2019-07-23T00:00:00",
          "2019-07-24T00:00:00",
          "2019-07-25T00:00:00",
          "2019-07-26T00:00:00",
          "2019-07-29T00:00:00",
          "2019-07-30T00:00:00",
          "2019-07-31T00:00:00",
          "2019-08-01T00:00:00",
          "2019-08-02T00:00:00",
          "2019-08-05T00:00:00",
          "2019-08-06T00:00:00",
          "2019-08-07T00:00:00",
          "2019-08-08T00:00:00",
          "2019-08-09T00:00:00",
          "2019-08-12T00:00:00",
          "2019-08-13T00:00:00",
          "2019-08-14T00:00:00",
          "2019-08-15T00:00:00",
          "2019-08-16T00:00:00",
          "2019-08-19T00:00:00",
          "2019-08-20T00:00:00",
          "2019-08-21T00:00:00",
          "2019-08-22T00:00:00",
          "2019-08-23T00:00:00",
          "2019-08-26T00:00:00",
          "2019-08-27T00:00:00",
          "2019-08-28T00:00:00",
          "2019-08-29T00:00:00",
          "2019-08-30T00:00:00",
          "2019-09-03T00:00:00",
          "2019-09-04T00:00:00",
          "2019-09-05T00:00:00",
          "2019-09-06T00:00:00",
          "2019-09-09T00:00:00",
          "2019-09-10T00:00:00",
          "2019-09-11T00:00:00",
          "2019-09-12T00:00:00",
          "2019-09-13T00:00:00",
          "2019-09-16T00:00:00",
          "2019-09-17T00:00:00",
          "2019-09-18T00:00:00",
          "2019-09-19T00:00:00",
          "2019-09-20T00:00:00",
          "2019-09-23T00:00:00",
          "2019-09-24T00:00:00",
          "2019-09-25T00:00:00",
          "2019-09-26T00:00:00",
          "2019-09-27T00:00:00",
          "2019-09-30T00:00:00",
          "2019-10-01T00:00:00",
          "2019-10-02T00:00:00",
          "2019-10-03T00:00:00",
          "2019-10-04T00:00:00",
          "2019-10-07T00:00:00",
          "2019-10-08T00:00:00",
          "2019-10-09T00:00:00",
          "2019-10-10T00:00:00",
          "2019-10-11T00:00:00",
          "2019-10-14T00:00:00",
          "2019-10-15T00:00:00",
          "2019-10-16T00:00:00",
          "2019-10-17T00:00:00",
          "2019-10-18T00:00:00",
          "2019-10-21T00:00:00",
          "2019-10-22T00:00:00",
          "2019-10-23T00:00:00",
          "2019-10-24T00:00:00",
          "2019-10-25T00:00:00",
          "2019-10-28T00:00:00",
          "2019-10-29T00:00:00",
          "2019-10-30T00:00:00",
          "2019-10-31T00:00:00",
          "2019-11-01T00:00:00",
          "2019-11-04T00:00:00",
          "2019-11-05T00:00:00",
          "2019-11-06T00:00:00",
          "2019-11-07T00:00:00",
          "2019-11-08T00:00:00",
          "2019-11-11T00:00:00",
          "2019-11-12T00:00:00",
          "2019-11-13T00:00:00",
          "2019-11-14T00:00:00",
          "2019-11-15T00:00:00",
          "2019-11-18T00:00:00",
          "2019-11-19T00:00:00",
          "2019-11-20T00:00:00",
          "2019-11-21T00:00:00",
          "2019-11-22T00:00:00",
          "2019-11-25T00:00:00",
          "2019-11-26T00:00:00",
          "2019-11-27T00:00:00",
          "2019-11-29T00:00:00",
          "2019-12-02T00:00:00",
          "2019-12-03T00:00:00",
          "2019-12-04T00:00:00",
          "2019-12-05T00:00:00",
          "2019-12-06T00:00:00",
          "2019-12-09T00:00:00",
          "2019-12-10T00:00:00",
          "2019-12-11T00:00:00",
          "2019-12-12T00:00:00",
          "2019-12-13T00:00:00",
          "2019-12-16T00:00:00",
          "2019-12-17T00:00:00",
          "2019-12-18T00:00:00",
          "2019-12-19T00:00:00",
          "2019-12-20T00:00:00",
          "2019-12-23T00:00:00",
          "2019-12-24T00:00:00",
          "2019-12-26T00:00:00",
          "2019-12-27T00:00:00",
          "2019-12-30T00:00:00",
          "2019-12-31T00:00:00"
         ],
         "y": [
          null,
          null,
          null,
          null,
          null,
          null,
          null,
          null,
          null,
          null,
          null,
          null,
          null,
          null,
          null,
          null,
          null,
          null,
          null,
          104.12050018310546,
          104.28600006103515,
          104.55499992370605,
          104.74549980163575,
          105.00349998474121,
          105.16499977111816,
          105.21499977111816,
          105.31849975585938,
          105.44099960327148,
          105.68299942016601,
          105.77299919128419,
          105.84899940490723,
          105.95399932861328,
          105.97699928283691,
          106.05049934387208,
          106.18549957275391,
          106.42399978637695,
          106.64499969482422,
          107.00899963378906,
          107.47049942016602,
          107.75299949645996,
          108.15799942016602,
          108.63199958801269,
          108.92999954223633,
          109.15649948120117,
          109.37449951171875,
          109.63649978637696,
          109.99449996948242,
          110.41300010681152,
          110.7935001373291,
          111.18250007629395,
          111.63300018310547,
          112.10050010681152,
          112.5745002746582,
          113.09300003051757,
          113.63349990844726,
          113.9375,
          114.24100036621094,
          114.51850051879883,
          114.74850044250488,
          114.99350051879883,
          115.2640007019043,
          115.6020004272461,
          115.9765007019043,
          116.38750076293945,
          116.83600082397462,
          117.30500068664551,
          117.66000061035156,
          117.9430004119873,
          118.22750053405761,
          118.51450080871582,
          118.76650047302246,
          118.94050064086915,
          119.09650039672852,
          119.30900039672852,
          119.46650047302246,
          119.8020004272461,
          120.19100036621094,
          120.54600028991699,
          121.1650001525879,
          121.81300010681153,
          122.40450019836426,
          122.98350067138672,
          123.41800041198731,
          123.73000030517578,
          124.20699996948242,
          124.61999969482422,
          124.89949951171874,
          125.21099967956543,
          125.47649955749512,
          125.81649932861328,
          125.93649940490722,
          126.12049942016601,
          126.38299942016602,
          126.74099922180176,
          126.97599945068359,
          127.09899940490723,
          127.17199935913087,
          127.3049991607666,
          127.15649948120117,
          126.97399940490723,
          126.79349937438965,
          126.51049919128418,
          126.40299949645996,
          126.27649955749511,
          125.82349967956543,
          125.57400016784668,
          125.5895004272461,
          125.70500030517579,
          126,
          126.27350044250488,
          126.71100082397462,
          127.04900093078614,
          127.36400146484375,
          127.5400016784668,
          127.77900161743165,
          128.22600173950195,
          128.6655017852783,
          129.12950172424317,
          129.66900177001952,
          130.2460018157959,
          130.6095012664795,
          131.05900077819825,
          131.4800003051758,
          131.99400062561034,
          132.78600044250487,
          133.45700035095214,
          134.03850059509278,
          134.50050048828126,
          134.77850112915038,
          134.97150115966798,
          135.25900115966797,
          135.604500579834,
          135.93349990844726,
          136.25599975585936,
          136.46749954223634,
          136.52299957275392,
          136.55949935913085,
          136.54299926757812,
          136.61599884033203,
          136.69149856567384,
          137.0559989929199,
          137.36899948120117,
          137.72849960327147,
          138.08199920654297,
          138.31549987792968,
          138.3,
          138.32999954223632,
          138.32199935913087,
          138.08449935913086,
          137.99599914550782,
          137.86749877929688,
          137.8919990539551,
          137.8324996948242,
          137.67699966430663,
          137.75299987792968,
          137.63849945068358,
          137.5014991760254,
          137.47699966430665,
          137.47600021362305,
          137.3745002746582,
          137.2779998779297,
          137.15749969482422,
          136.7599998474121,
          136.4809997558594,
          136.2504997253418,
          136.21499938964843,
          136.21799926757814,
          136.2659996032715,
          136.45749893188477,
          136.60449905395507,
          136.84299926757814,
          136.85349960327147,
          136.84399948120117,
          136.85849990844727,
          136.73449935913087,
          136.91149978637696,
          137.09350051879883,
          137.10350036621094,
          137.0525001525879,
          137.11550064086913,
          137.22950134277343,
          137.3125015258789,
          137.6000015258789,
          137.6965019226074,
          137.87750167846679,
          138.07650146484374,
          138.05700149536133,
          138.1155014038086,
          138.1670021057129,
          138.01800155639648,
          137.82950134277343,
          137.78050079345704,
          137.76050033569337,
          137.7400001525879,
          137.84600067138672,
          137.92500076293945,
          138.0430000305176,
          138.20400009155273,
          138.41300048828126,
          138.50750045776368,
          138.43850021362306,
          138.3370002746582,
          138.30149993896484,
          138.2509994506836,
          138.1449996948242,
          138.16500015258788,
          138.31500015258788,
          138.57300033569337,
          138.86100006103516,
          139.3590003967285,
          139.71350021362304,
          139.99350051879884,
          140.36500091552733,
          140.80450134277345,
          141.09550094604492,
          141.35350036621094,
          141.66750106811523,
          141.99550094604493,
          142.27050094604493,
          142.61550064086913,
          143.03400039672852,
          143.6620002746582,
          144.25750045776368,
          144.95850067138673,
          145.5775001525879,
          146.05449981689452,
          146.49749984741212,
          146.84949951171876,
          147.30949935913085,
          147.69499969482422,
          148.09550018310546,
          148.3870002746582,
          148.625,
          148.8944999694824,
          149.1879997253418,
          149.5625,
          149.8324996948242,
          150.08349990844727,
          150.31499938964845,
          150.61149978637695,
          150.93499984741212,
          151.2129997253418,
          151.43050003051758,
          151.62949981689454,
          151.93400039672852,
          152.33050079345702,
          152.72150115966798,
          153.02900161743165,
          153.36100158691406,
          153.6930015563965,
          154.00350112915038,
          154.4110008239746
         ]
        },
        {
         "name": "Volume",
         "type": "bar",
         "x": [
          "2019-01-02T00:00:00",
          "2019-01-03T00:00:00",
          "2019-01-04T00:00:00",
          "2019-01-07T00:00:00",
          "2019-01-08T00:00:00",
          "2019-01-09T00:00:00",
          "2019-01-10T00:00:00",
          "2019-01-11T00:00:00",
          "2019-01-14T00:00:00",
          "2019-01-15T00:00:00",
          "2019-01-16T00:00:00",
          "2019-01-17T00:00:00",
          "2019-01-18T00:00:00",
          "2019-01-22T00:00:00",
          "2019-01-23T00:00:00",
          "2019-01-24T00:00:00",
          "2019-01-25T00:00:00",
          "2019-01-28T00:00:00",
          "2019-01-29T00:00:00",
          "2019-01-30T00:00:00",
          "2019-01-31T00:00:00",
          "2019-02-01T00:00:00",
          "2019-02-04T00:00:00",
          "2019-02-05T00:00:00",
          "2019-02-06T00:00:00",
          "2019-02-07T00:00:00",
          "2019-02-08T00:00:00",
          "2019-02-11T00:00:00",
          "2019-02-12T00:00:00",
          "2019-02-13T00:00:00",
          "2019-02-14T00:00:00",
          "2019-02-15T00:00:00",
          "2019-02-19T00:00:00",
          "2019-02-20T00:00:00",
          "2019-02-21T00:00:00",
          "2019-02-22T00:00:00",
          "2019-02-25T00:00:00",
          "2019-02-26T00:00:00",
          "2019-02-27T00:00:00",
          "2019-02-28T00:00:00",
          "2019-03-01T00:00:00",
          "2019-03-04T00:00:00",
          "2019-03-05T00:00:00",
          "2019-03-06T00:00:00",
          "2019-03-07T00:00:00",
          "2019-03-08T00:00:00",
          "2019-03-11T00:00:00",
          "2019-03-12T00:00:00",
          "2019-03-13T00:00:00",
          "2019-03-14T00:00:00",
          "2019-03-15T00:00:00",
          "2019-03-18T00:00:00",
          "2019-03-19T00:00:00",
          "2019-03-20T00:00:00",
          "2019-03-21T00:00:00",
          "2019-03-22T00:00:00",
          "2019-03-25T00:00:00",
          "2019-03-26T00:00:00",
          "2019-03-27T00:00:00",
          "2019-03-28T00:00:00",
          "2019-03-29T00:00:00",
          "2019-04-01T00:00:00",
          "2019-04-02T00:00:00",
          "2019-04-03T00:00:00",
          "2019-04-04T00:00:00",
          "2019-04-05T00:00:00",
          "2019-04-08T00:00:00",
          "2019-04-09T00:00:00",
          "2019-04-10T00:00:00",
          "2019-04-11T00:00:00",
          "2019-04-12T00:00:00",
          "2019-04-15T00:00:00",
          "2019-04-16T00:00:00",
          "2019-04-17T00:00:00",
          "2019-04-18T00:00:00",
          "2019-04-22T00:00:00",
          "2019-04-23T00:00:00",
          "2019-04-24T00:00:00",
          "2019-04-25T00:00:00",
          "2019-04-26T00:00:00",
          "2019-04-29T00:00:00",
          "2019-04-30T00:00:00",
          "2019-05-01T00:00:00",
          "2019-05-02T00:00:00",
          "2019-05-03T00:00:00",
          "2019-05-06T00:00:00",
          "2019-05-07T00:00:00",
          "2019-05-08T00:00:00",
          "2019-05-09T00:00:00",
          "2019-05-10T00:00:00",
          "2019-05-13T00:00:00",
          "2019-05-14T00:00:00",
          "2019-05-15T00:00:00",
          "2019-05-16T00:00:00",
          "2019-05-17T00:00:00",
          "2019-05-20T00:00:00",
          "2019-05-21T00:00:00",
          "2019-05-22T00:00:00",
          "2019-05-23T00:00:00",
          "2019-05-24T00:00:00",
          "2019-05-28T00:00:00",
          "2019-05-29T00:00:00",
          "2019-05-30T00:00:00",
          "2019-05-31T00:00:00",
          "2019-06-03T00:00:00",
          "2019-06-04T00:00:00",
          "2019-06-05T00:00:00",
          "2019-06-06T00:00:00",
          "2019-06-07T00:00:00",
          "2019-06-10T00:00:00",
          "2019-06-11T00:00:00",
          "2019-06-12T00:00:00",
          "2019-06-13T00:00:00",
          "2019-06-14T00:00:00",
          "2019-06-17T00:00:00",
          "2019-06-18T00:00:00",
          "2019-06-19T00:00:00",
          "2019-06-20T00:00:00",
          "2019-06-21T00:00:00",
          "2019-06-24T00:00:00",
          "2019-06-25T00:00:00",
          "2019-06-26T00:00:00",
          "2019-06-27T00:00:00",
          "2019-06-28T00:00:00",
          "2019-07-01T00:00:00",
          "2019-07-02T00:00:00",
          "2019-07-03T00:00:00",
          "2019-07-05T00:00:00",
          "2019-07-08T00:00:00",
          "2019-07-09T00:00:00",
          "2019-07-10T00:00:00",
          "2019-07-11T00:00:00",
          "2019-07-12T00:00:00",
          "2019-07-15T00:00:00",
          "2019-07-16T00:00:00",
          "2019-07-17T00:00:00",
          "2019-07-18T00:00:00",
          "2019-07-19T00:00:00",
          "2019-07-22T00:00:00",
          "2019-07-23T00:00:00",
          "2019-07-24T00:00:00",
          "2019-07-25T00:00:00",
          "2019-07-26T00:00:00",
          "2019-07-29T00:00:00",
          "2019-07-30T00:00:00",
          "2019-07-31T00:00:00",
          "2019-08-01T00:00:00",
          "2019-08-02T00:00:00",
          "2019-08-05T00:00:00",
          "2019-08-06T00:00:00",
          "2019-08-07T00:00:00",
          "2019-08-08T00:00:00",
          "2019-08-09T00:00:00",
          "2019-08-12T00:00:00",
          "2019-08-13T00:00:00",
          "2019-08-14T00:00:00",
          "2019-08-15T00:00:00",
          "2019-08-16T00:00:00",
          "2019-08-19T00:00:00",
          "2019-08-20T00:00:00",
          "2019-08-21T00:00:00",
          "2019-08-22T00:00:00",
          "2019-08-23T00:00:00",
          "2019-08-26T00:00:00",
          "2019-08-27T00:00:00",
          "2019-08-28T00:00:00",
          "2019-08-29T00:00:00",
          "2019-08-30T00:00:00",
          "2019-09-03T00:00:00",
          "2019-09-04T00:00:00",
          "2019-09-05T00:00:00",
          "2019-09-06T00:00:00",
          "2019-09-09T00:00:00",
          "2019-09-10T00:00:00",
          "2019-09-11T00:00:00",
          "2019-09-12T00:00:00",
          "2019-09-13T00:00:00",
          "2019-09-16T00:00:00",
          "2019-09-17T00:00:00",
          "2019-09-18T00:00:00",
          "2019-09-19T00:00:00",
          "2019-09-20T00:00:00",
          "2019-09-23T00:00:00",
          "2019-09-24T00:00:00",
          "2019-09-25T00:00:00",
          "2019-09-26T00:00:00",
          "2019-09-27T00:00:00",
          "2019-09-30T00:00:00",
          "2019-10-01T00:00:00",
          "2019-10-02T00:00:00",
          "2019-10-03T00:00:00",
          "2019-10-04T00:00:00",
          "2019-10-07T00:00:00",
          "2019-10-08T00:00:00",
          "2019-10-09T00:00:00",
          "2019-10-10T00:00:00",
          "2019-10-11T00:00:00",
          "2019-10-14T00:00:00",
          "2019-10-15T00:00:00",
          "2019-10-16T00:00:00",
          "2019-10-17T00:00:00",
          "2019-10-18T00:00:00",
          "2019-10-21T00:00:00",
          "2019-10-22T00:00:00",
          "2019-10-23T00:00:00",
          "2019-10-24T00:00:00",
          "2019-10-25T00:00:00",
          "2019-10-28T00:00:00",
          "2019-10-29T00:00:00",
          "2019-10-30T00:00:00",
          "2019-10-31T00:00:00",
          "2019-11-01T00:00:00",
          "2019-11-04T00:00:00",
          "2019-11-05T00:00:00",
          "2019-11-06T00:00:00",
          "2019-11-07T00:00:00",
          "2019-11-08T00:00:00",
          "2019-11-11T00:00:00",
          "2019-11-12T00:00:00",
          "2019-11-13T00:00:00",
          "2019-11-14T00:00:00",
          "2019-11-15T00:00:00",
          "2019-11-18T00:00:00",
          "2019-11-19T00:00:00",
          "2019-11-20T00:00:00",
          "2019-11-21T00:00:00",
          "2019-11-22T00:00:00",
          "2019-11-25T00:00:00",
          "2019-11-26T00:00:00",
          "2019-11-27T00:00:00",
          "2019-11-29T00:00:00",
          "2019-12-02T00:00:00",
          "2019-12-03T00:00:00",
          "2019-12-04T00:00:00",
          "2019-12-05T00:00:00",
          "2019-12-06T00:00:00",
          "2019-12-09T00:00:00",
          "2019-12-10T00:00:00",
          "2019-12-11T00:00:00",
          "2019-12-12T00:00:00",
          "2019-12-13T00:00:00",
          "2019-12-16T00:00:00",
          "2019-12-17T00:00:00",
          "2019-12-18T00:00:00",
          "2019-12-19T00:00:00",
          "2019-12-20T00:00:00",
          "2019-12-23T00:00:00",
          "2019-12-24T00:00:00",
          "2019-12-26T00:00:00",
          "2019-12-27T00:00:00",
          "2019-12-30T00:00:00",
          "2019-12-31T00:00:00"
         ],
         "xaxis": "x",
         "y": [
          35329300,
          42579100,
          44060600,
          35656100,
          31514400,
          32280800,
          30067600,
          28314200,
          28437100,
          31587600,
          29853900,
          28393000,
          37427600,
          32371300,
          25874300,
          23164800,
          31225600,
          29476700,
          31490500,
          49471900,
          55636400,
          35535700,
          31315100,
          27325400,
          20609800,
          29760700,
          21461100,
          18914100,
          25056600,
          18394900,
          21784700,
          26606900,
          18038500,
          21607700,
          29063200,
          27763200,
          23750600,
          21536700,
          21487100,
          29083900,
          23501200,
          26608000,
          19538300,
          17687000,
          25339000,
          22818400,
          26491600,
          26132700,
          35513800,
          30763400,
          54681100,
          31207600,
          37588700,
          28113300,
          29854400,
          33624500,
          27067100,
          26097700,
          22733400,
          18334800,
          25399800,
          22789100,
          18142300,
          22860700,
          20112800,
          15826200,
          15116200,
          17612000,
          16477200,
          14209100,
          19745100,
          15792600,
          14071800,
          19300900,
          27991000,
          15648700,
          24025500,
          31257000,
          38033900,
          23654900,
          16324200,
          24166500,
          26821700,
          27350200,
          24911100,
          24239800,
          36017700,
          28419000,
          27235800,
          30915100,
          33944900,
          25266300,
          24722700,
          30112200,
          25770500,
          23706900,
          15293300,
          15396500,
          23603800,
          14123400,
          23128400,
          22763100,
          16829600,
          26646800,
          37983600,
          29382600,
          24926100,
          21459000,
          33885600,
          26477100,
          23913700,
          17092500,
          17200800,
          17821700,
          14517800,
          25934500,
          23744400,
          33042600,
          36727900,
          20628800,
          33327400,
          23657700,
          16557500,
          30043000,
          22613500,
          15237800,
          13629300,
          18141100,
          16779700,
          19953100,
          24204400,
          22327900,
          18936800,
          16651500,
          22726100,
          20211000,
          30381800,
          48992400,
          25074900,
          18034600,
          20738300,
          18356900,
          19037600,
          16605900,
          16846500,
          38598800,
          40557500,
          30791600,
          42749600,
          32696700,
          33414500,
          27496500,
          23466700,
          20484300,
          25154600,
          32527300,
          28074400,
          24449100,
          24355700,
          21170800,
          14970300,
          18697000,
          38508600,
          20312600,
          23102100,
          17393300,
          20168700,
          23940100,
          18869300,
          17995900,
          26101800,
          20824500,
          25773900,
          28903400,
          24726100,
          27010000,
          23363100,
          16731400,
          17814200,
          23982100,
          35772100,
          39167300,
          17139300,
          29773200,
          21382000,
          17456600,
          22477700,
          17280900,
          21466600,
          30521700,
          24132900,
          22897700,
          15303700,
          25550500,
          19749900,
          17654600,
          25446000,
          13304300,
          19695700,
          20751600,
          21460600,
          32273500,
          20078200,
          27431000,
          29844600,
          37029300,
          25959700,
          35280100,
          20589500,
          18496600,
          24605100,
          33128400,
          16912000,
          18250200,
          16575800,
          17786700,
          16732700,
          14362600,
          18641600,
          16919200,
          19729800,
          23485700,
          21534000,
          23935700,
          25696800,
          18576100,
          15901800,
          22420900,
          24620100,
          15184400,
          11977300,
          27418400,
          24066000,
          17574700,
          17869100,
          16403500,
          16687400,
          16476100,
          18856600,
          24612100,
          23845400,
          24144200,
          25425600,
          24129200,
          24958900,
          53477500,
          17718200,
          8989200,
          14520600,
          18412800,
          16348400,
          18369400
         ],
         "yaxis": "y2"
        }
       ],
       "layout": {
        "template": {
         "data": {
          "bar": [
           {
            "error_x": {
             "color": "#2a3f5f"
            },
            "error_y": {
             "color": "#2a3f5f"
            },
            "marker": {
             "line": {
              "color": "#E5ECF6",
              "width": 0.5
             },
             "pattern": {
              "fillmode": "overlay",
              "size": 10,
              "solidity": 0.2
             }
            },
            "type": "bar"
           }
          ],
          "barpolar": [
           {
            "marker": {
             "line": {
              "color": "#E5ECF6",
              "width": 0.5
             },
             "pattern": {
              "fillmode": "overlay",
              "size": 10,
              "solidity": 0.2
             }
            },
            "type": "barpolar"
           }
          ],
          "carpet": [
           {
            "aaxis": {
             "endlinecolor": "#2a3f5f",
             "gridcolor": "white",
             "linecolor": "white",
             "minorgridcolor": "white",
             "startlinecolor": "#2a3f5f"
            },
            "baxis": {
             "endlinecolor": "#2a3f5f",
             "gridcolor": "white",
             "linecolor": "white",
             "minorgridcolor": "white",
             "startlinecolor": "#2a3f5f"
            },
            "type": "carpet"
           }
          ],
          "choropleth": [
           {
            "colorbar": {
             "outlinewidth": 0,
             "ticks": ""
            },
            "type": "choropleth"
           }
          ],
          "contour": [
           {
            "colorbar": {
             "outlinewidth": 0,
             "ticks": ""
            },
            "colorscale": [
             [
              0,
              "#0d0887"
             ],
             [
              0.1111111111111111,
              "#46039f"
             ],
             [
              0.2222222222222222,
              "#7201a8"
             ],
             [
              0.3333333333333333,
              "#9c179e"
             ],
             [
              0.4444444444444444,
              "#bd3786"
             ],
             [
              0.5555555555555556,
              "#d8576b"
             ],
             [
              0.6666666666666666,
              "#ed7953"
             ],
             [
              0.7777777777777778,
              "#fb9f3a"
             ],
             [
              0.8888888888888888,
              "#fdca26"
             ],
             [
              1,
              "#f0f921"
             ]
            ],
            "type": "contour"
           }
          ],
          "contourcarpet": [
           {
            "colorbar": {
             "outlinewidth": 0,
             "ticks": ""
            },
            "type": "contourcarpet"
           }
          ],
          "heatmap": [
           {
            "colorbar": {
             "outlinewidth": 0,
             "ticks": ""
            },
            "colorscale": [
             [
              0,
              "#0d0887"
             ],
             [
              0.1111111111111111,
              "#46039f"
             ],
             [
              0.2222222222222222,
              "#7201a8"
             ],
             [
              0.3333333333333333,
              "#9c179e"
             ],
             [
              0.4444444444444444,
              "#bd3786"
             ],
             [
              0.5555555555555556,
              "#d8576b"
             ],
             [
              0.6666666666666666,
              "#ed7953"
             ],
             [
              0.7777777777777778,
              "#fb9f3a"
             ],
             [
              0.8888888888888888,
              "#fdca26"
             ],
             [
              1,
              "#f0f921"
             ]
            ],
            "type": "heatmap"
           }
          ],
          "heatmapgl": [
           {
            "colorbar": {
             "outlinewidth": 0,
             "ticks": ""
            },
            "colorscale": [
             [
              0,
              "#0d0887"
             ],
             [
              0.1111111111111111,
              "#46039f"
             ],
             [
              0.2222222222222222,
              "#7201a8"
             ],
             [
              0.3333333333333333,
              "#9c179e"
             ],
             [
              0.4444444444444444,
              "#bd3786"
             ],
             [
              0.5555555555555556,
              "#d8576b"
             ],
             [
              0.6666666666666666,
              "#ed7953"
             ],
             [
              0.7777777777777778,
              "#fb9f3a"
             ],
             [
              0.8888888888888888,
              "#fdca26"
             ],
             [
              1,
              "#f0f921"
             ]
            ],
            "type": "heatmapgl"
           }
          ],
          "histogram": [
           {
            "marker": {
             "pattern": {
              "fillmode": "overlay",
              "size": 10,
              "solidity": 0.2
             }
            },
            "type": "histogram"
           }
          ],
          "histogram2d": [
           {
            "colorbar": {
             "outlinewidth": 0,
             "ticks": ""
            },
            "colorscale": [
             [
              0,
              "#0d0887"
             ],
             [
              0.1111111111111111,
              "#46039f"
             ],
             [
              0.2222222222222222,
              "#7201a8"
             ],
             [
              0.3333333333333333,
              "#9c179e"
             ],
             [
              0.4444444444444444,
              "#bd3786"
             ],
             [
              0.5555555555555556,
              "#d8576b"
             ],
             [
              0.6666666666666666,
              "#ed7953"
             ],
             [
              0.7777777777777778,
              "#fb9f3a"
             ],
             [
              0.8888888888888888,
              "#fdca26"
             ],
             [
              1,
              "#f0f921"
             ]
            ],
            "type": "histogram2d"
           }
          ],
          "histogram2dcontour": [
           {
            "colorbar": {
             "outlinewidth": 0,
             "ticks": ""
            },
            "colorscale": [
             [
              0,
              "#0d0887"
             ],
             [
              0.1111111111111111,
              "#46039f"
             ],
             [
              0.2222222222222222,
              "#7201a8"
             ],
             [
              0.3333333333333333,
              "#9c179e"
             ],
             [
              0.4444444444444444,
              "#bd3786"
             ],
             [
              0.5555555555555556,
              "#d8576b"
             ],
             [
              0.6666666666666666,
              "#ed7953"
             ],
             [
              0.7777777777777778,
              "#fb9f3a"
             ],
             [
              0.8888888888888888,
              "#fdca26"
             ],
             [
              1,
              "#f0f921"
             ]
            ],
            "type": "histogram2dcontour"
           }
          ],
          "mesh3d": [
           {
            "colorbar": {
             "outlinewidth": 0,
             "ticks": ""
            },
            "type": "mesh3d"
           }
          ],
          "parcoords": [
           {
            "line": {
             "colorbar": {
              "outlinewidth": 0,
              "ticks": ""
             }
            },
            "type": "parcoords"
           }
          ],
          "pie": [
           {
            "automargin": true,
            "type": "pie"
           }
          ],
          "scatter": [
           {
            "marker": {
             "colorbar": {
              "outlinewidth": 0,
              "ticks": ""
             }
            },
            "type": "scatter"
           }
          ],
          "scatter3d": [
           {
            "line": {
             "colorbar": {
              "outlinewidth": 0,
              "ticks": ""
             }
            },
            "marker": {
             "colorbar": {
              "outlinewidth": 0,
              "ticks": ""
             }
            },
            "type": "scatter3d"
           }
          ],
          "scattercarpet": [
           {
            "marker": {
             "colorbar": {
              "outlinewidth": 0,
              "ticks": ""
             }
            },
            "type": "scattercarpet"
           }
          ],
          "scattergeo": [
           {
            "marker": {
             "colorbar": {
              "outlinewidth": 0,
              "ticks": ""
             }
            },
            "type": "scattergeo"
           }
          ],
          "scattergl": [
           {
            "marker": {
             "colorbar": {
              "outlinewidth": 0,
              "ticks": ""
             }
            },
            "type": "scattergl"
           }
          ],
          "scattermapbox": [
           {
            "marker": {
             "colorbar": {
              "outlinewidth": 0,
              "ticks": ""
             }
            },
            "type": "scattermapbox"
           }
          ],
          "scatterpolar": [
           {
            "marker": {
             "colorbar": {
              "outlinewidth": 0,
              "ticks": ""
             }
            },
            "type": "scatterpolar"
           }
          ],
          "scatterpolargl": [
           {
            "marker": {
             "colorbar": {
              "outlinewidth": 0,
              "ticks": ""
             }
            },
            "type": "scatterpolargl"
           }
          ],
          "scatterternary": [
           {
            "marker": {
             "colorbar": {
              "outlinewidth": 0,
              "ticks": ""
             }
            },
            "type": "scatterternary"
           }
          ],
          "surface": [
           {
            "colorbar": {
             "outlinewidth": 0,
             "ticks": ""
            },
            "colorscale": [
             [
              0,
              "#0d0887"
             ],
             [
              0.1111111111111111,
              "#46039f"
             ],
             [
              0.2222222222222222,
              "#7201a8"
             ],
             [
              0.3333333333333333,
              "#9c179e"
             ],
             [
              0.4444444444444444,
              "#bd3786"
             ],
             [
              0.5555555555555556,
              "#d8576b"
             ],
             [
              0.6666666666666666,
              "#ed7953"
             ],
             [
              0.7777777777777778,
              "#fb9f3a"
             ],
             [
              0.8888888888888888,
              "#fdca26"
             ],
             [
              1,
              "#f0f921"
             ]
            ],
            "type": "surface"
           }
          ],
          "table": [
           {
            "cells": {
             "fill": {
              "color": "#EBF0F8"
             },
             "line": {
              "color": "white"
             }
            },
            "header": {
             "fill": {
              "color": "#C8D4E3"
             },
             "line": {
              "color": "white"
             }
            },
            "type": "table"
           }
          ]
         },
         "layout": {
          "annotationdefaults": {
           "arrowcolor": "#2a3f5f",
           "arrowhead": 0,
           "arrowwidth": 1
          },
          "autotypenumbers": "strict",
          "coloraxis": {
           "colorbar": {
            "outlinewidth": 0,
            "ticks": ""
           }
          },
          "colorscale": {
           "diverging": [
            [
             0,
             "#8e0152"
            ],
            [
             0.1,
             "#c51b7d"
            ],
            [
             0.2,
             "#de77ae"
            ],
            [
             0.3,
             "#f1b6da"
            ],
            [
             0.4,
             "#fde0ef"
            ],
            [
             0.5,
             "#f7f7f7"
            ],
            [
             0.6,
             "#e6f5d0"
            ],
            [
             0.7,
             "#b8e186"
            ],
            [
             0.8,
             "#7fbc41"
            ],
            [
             0.9,
             "#4d9221"
            ],
            [
             1,
             "#276419"
            ]
           ],
           "sequential": [
            [
             0,
             "#0d0887"
            ],
            [
             0.1111111111111111,
             "#46039f"
            ],
            [
             0.2222222222222222,
             "#7201a8"
            ],
            [
             0.3333333333333333,
             "#9c179e"
            ],
            [
             0.4444444444444444,
             "#bd3786"
            ],
            [
             0.5555555555555556,
             "#d8576b"
            ],
            [
             0.6666666666666666,
             "#ed7953"
            ],
            [
             0.7777777777777778,
             "#fb9f3a"
            ],
            [
             0.8888888888888888,
             "#fdca26"
            ],
            [
             1,
             "#f0f921"
            ]
           ],
           "sequentialminus": [
            [
             0,
             "#0d0887"
            ],
            [
             0.1111111111111111,
             "#46039f"
            ],
            [
             0.2222222222222222,
             "#7201a8"
            ],
            [
             0.3333333333333333,
             "#9c179e"
            ],
            [
             0.4444444444444444,
             "#bd3786"
            ],
            [
             0.5555555555555556,
             "#d8576b"
            ],
            [
             0.6666666666666666,
             "#ed7953"
            ],
            [
             0.7777777777777778,
             "#fb9f3a"
            ],
            [
             0.8888888888888888,
             "#fdca26"
            ],
            [
             1,
             "#f0f921"
            ]
           ]
          },
          "colorway": [
           "#636efa",
           "#EF553B",
           "#00cc96",
           "#ab63fa",
           "#FFA15A",
           "#19d3f3",
           "#FF6692",
           "#B6E880",
           "#FF97FF",
           "#FECB52"
          ],
          "font": {
           "color": "#2a3f5f"
          },
          "geo": {
           "bgcolor": "white",
           "lakecolor": "white",
           "landcolor": "#E5ECF6",
           "showlakes": true,
           "showland": true,
           "subunitcolor": "white"
          },
          "hoverlabel": {
           "align": "left"
          },
          "hovermode": "closest",
          "mapbox": {
           "style": "light"
          },
          "paper_bgcolor": "white",
          "plot_bgcolor": "#E5ECF6",
          "polar": {
           "angularaxis": {
            "gridcolor": "white",
            "linecolor": "white",
            "ticks": ""
           },
           "bgcolor": "#E5ECF6",
           "radialaxis": {
            "gridcolor": "white",
            "linecolor": "white",
            "ticks": ""
           }
          },
          "scene": {
           "xaxis": {
            "backgroundcolor": "#E5ECF6",
            "gridcolor": "white",
            "gridwidth": 2,
            "linecolor": "white",
            "showbackground": true,
            "ticks": "",
            "zerolinecolor": "white"
           },
           "yaxis": {
            "backgroundcolor": "#E5ECF6",
            "gridcolor": "white",
            "gridwidth": 2,
            "linecolor": "white",
            "showbackground": true,
            "ticks": "",
            "zerolinecolor": "white"
           },
           "zaxis": {
            "backgroundcolor": "#E5ECF6",
            "gridcolor": "white",
            "gridwidth": 2,
            "linecolor": "white",
            "showbackground": true,
            "ticks": "",
            "zerolinecolor": "white"
           }
          },
          "shapedefaults": {
           "line": {
            "color": "#2a3f5f"
           }
          },
          "ternary": {
           "aaxis": {
            "gridcolor": "white",
            "linecolor": "white",
            "ticks": ""
           },
           "baxis": {
            "gridcolor": "white",
            "linecolor": "white",
            "ticks": ""
           },
           "bgcolor": "#E5ECF6",
           "caxis": {
            "gridcolor": "white",
            "linecolor": "white",
            "ticks": ""
           }
          },
          "title": {
           "x": 0.05
          },
          "xaxis": {
           "automargin": true,
           "gridcolor": "white",
           "linecolor": "white",
           "ticks": "",
           "title": {
            "standoff": 15
           },
           "zerolinecolor": "white",
           "zerolinewidth": 2
          },
          "yaxis": {
           "automargin": true,
           "gridcolor": "white",
           "linecolor": "white",
           "ticks": "",
           "title": {
            "standoff": 15
           },
           "zerolinecolor": "white",
           "zerolinewidth": 2
          }
         }
        },
        "title": {
         "text": "MSFT",
         "x": 0.5
        },
        "xaxis": {
         "anchor": "y",
         "domain": [
          0,
          0.94
         ],
         "rangeslider": {
          "visible": false
         },
         "title": {
          "text": "<b>1-year Period of Time</b>"
         }
        },
        "yaxis": {
         "anchor": "x",
         "domain": [
          0,
          1
         ],
         "title": {
          "text": "<b>Stock Value</br>"
         }
        },
        "yaxis2": {
         "anchor": "x",
         "overlaying": "y",
         "range": [
          0,
          1000000000
         ],
         "side": "right",
         "title": {
          "text": "<b>Volume Shares</b>"
         }
        }
       }
      }
     },
     "metadata": {},
     "output_type": "display_data"
    },
    {
     "data": {
      "application/vnd.plotly.v1+json": {
       "config": {
        "plotlyServerURL": "https://plot.ly"
       },
       "data": [
        {
         "close": [
          39.47999954223633,
          35.54750061035156,
          37.064998626708984,
          36.98249816894531,
          37.6875,
          38.32749938964844,
          38.45000076293945,
          38.0724983215332,
          37.5,
          38.26750183105469,
          38.73500061035156,
          38.96500015258789,
          39.20500183105469,
          38.32500076293945,
          38.47999954223633,
          38.17499923706055,
          39.439998626708984,
          39.07500076293945,
          38.66999816894531,
          41.3125,
          41.61000061035156,
          41.630001068115234,
          42.8125,
          43.54499816894531,
          43.560001373291016,
          42.73500061035156,
          42.602500915527344,
          42.35749816894531,
          42.72249984741211,
          42.54499816894531,
          42.70000076293945,
          42.60499954223633,
          42.73249816894531,
          43.00749969482422,
          42.76499938964844,
          43.24250030517578,
          43.557498931884766,
          43.58250045776367,
          43.717498779296875,
          43.287498474121094,
          43.74250030517578,
          43.962501525878906,
          43.88249969482422,
          43.630001068115234,
          43.125,
          43.227500915527344,
          44.724998474121094,
          45.227500915527344,
          45.4275016784668,
          45.932498931884766,
          46.529998779296875,
          47.005001068115234,
          46.63249969482422,
          47.040000915527344,
          48.772499084472656,
          47.76250076293945,
          47.185001373291016,
          46.6974983215332,
          47.11750030517578,
          47.18000030517578,
          47.48749923706055,
          47.810001373291016,
          48.505001068115234,
          48.837501525878906,
          48.92250061035156,
          49.25,
          50.025001525878906,
          49.875,
          50.154998779296875,
          49.73749923706055,
          49.717498779296875,
          49.807498931884766,
          49.8125,
          50.782501220703125,
          50.96500015258789,
          51.13249969482422,
          51.869998931884766,
          51.790000915527344,
          51.31999969482422,
          51.07500076293945,
          51.15250015258789,
          50.16749954223633,
          52.630001068115234,
          52.287498474121094,
          52.9375,
          52.119998931884766,
          50.71500015258789,
          50.724998474121094,
          50.18000030517578,
          49.29499816894531,
          46.43000030517578,
          47.165000915527344,
          47.72999954223633,
          47.52000045776367,
          47.25,
          45.772499084472656,
          46.650001525878906,
          45.69499969482422,
          44.915000915527344,
          44.74250030517578,
          44.557498931884766,
          44.345001220703125,
          44.57500076293945,
          43.76750183105469,
          43.32500076293945,
          44.90999984741211,
          45.6349983215332,
          46.30500030517578,
          47.537498474121094,
          48.14500045776367,
          48.70249938964844,
          48.54750061035156,
          48.537498474121094,
          48.185001373291016,
          48.47249984741211,
          49.61249923706055,
          49.467498779296875,
          49.8650016784668,
          49.69499969482422,
          49.64500045776367,
          48.89250183105469,
          49.95000076293945,
          49.935001373291016,
          49.47999954223633,
          50.38750076293945,
          50.682498931884766,
          51.102500915527344,
          51.057498931884766,
          50.005001068115234,
          50.310001373291016,
          50.807498931884766,
          50.4375,
          50.82500076293945,
          51.3025016784668,
          51.125,
          50.837501525878906,
          51.415000915527344,
          50.647499084472656,
          51.80500030517578,
          52.209999084472656,
          52.16749954223633,
          51.755001068115234,
          51.935001373291016,
          52.41999816894531,
          52.19499969482422,
          53.2599983215332,
          52.10749816894531,
          51.005001068115234,
          48.334999084472656,
          49.25,
          49.7599983215332,
          50.85749816894531,
          50.247501373291016,
          50.119998931884766,
          52.24250030517578,
          50.6875,
          50.435001373291016,
          51.625,
          52.587501525878906,
          52.59000015258789,
          53.15999984741211,
          53.1150016784668,
          50.65999984741211,
          51.622501373291016,
          51.040000915527344,
          51.38249969482422,
          52.252498626708984,
          52.185001373291016,
          51.42499923706055,
          52.29750061035156,
          53.31999969482422,
          53.314998626708984,
          53.54249954223633,
          54.17499923706055,
          55.897499084472656,
          55.772499084472656,
          54.6875,
          54.974998474121094,
          55.17499923706055,
          55.692501068115234,
          55.2400016784668,
          54.432498931884766,
          54.68000030517578,
          54.41999816894531,
          55.25749969482422,
          54.97249984741211,
          54.70500183105469,
          55.99250030517578,
          56.147499084472656,
          54.7400016784668,
          55.20500183105469,
          56.752498626708984,
          56.76499938964844,
          56.099998474121094,
          56.75749969482422,
          57.522499084472656,
          59.0525016784668,
          58.967498779296875,
          58.83000183105469,
          58.592498779296875,
          58.81999969482422,
          59.102500915527344,
          60.127498626708984,
          59.9900016784668,
          60.79499816894531,
          60.89500045776367,
          61.64500045776367,
          62.26250076293945,
          60.8224983215332,
          60.814998626708984,
          62.189998626708984,
          63.95500183105469,
          64.375,
          64.28250122070312,
          64.30999755859375,
          64.85749816894531,
          65.03500366210938,
          65.55000305175781,
          65.48999786376953,
          66.11750030517578,
          65.66000366210938,
          66.44000244140625,
          66.7750015258789,
          66.57250213623047,
          65.79750061035156,
          65.50250244140625,
          65.44499969482422,
          66.59249877929688,
          66.07250213623047,
          66.95999908447266,
          66.8125,
          66.04000091552734,
          64.86250305175781,
          65.43499755859375,
          66.3949966430664,
          67.67749786376953,
          66.7300033569336,
          67.12000274658203,
          67.69249725341797,
          67.86499786376953,
          68.7874984741211,
          69.96499633789062,
          70.10250091552734,
          69.93499755859375,
          70.00499725341797,
          69.86000061035156,
          71,
          71.06749725341797,
          72.47750091552734,
          72.44999694824219,
          72.87999725341797,
          73.4124984741211
         ],
         "high": [
          39.712501525878906,
          36.43000030517578,
          37.13750076293945,
          37.20750045776367,
          37.95500183105469,
          38.63249969482422,
          38.49250030517578,
          38.42499923706055,
          37.817501068115234,
          38.34749984741211,
          38.970001220703125,
          39.415000915527344,
          39.470001220703125,
          39.182498931884766,
          38.78499984741211,
          38.619998931884766,
          39.532501220703125,
          39.08250045776367,
          39.532501220703125,
          41.537498474121094,
          42.25,
          42.244998931884766,
          42.915000915527344,
          43.77000045776367,
          43.89250183105469,
          43.48500061035156,
          42.665000915527344,
          42.8025016784668,
          42.75,
          43.119998931884766,
          42.814998626708984,
          42.92499923706055,
          42.86000061035156,
          43.33000183105469,
          43.092498779296875,
          43.25,
          43.967498779296875,
          43.82500076293945,
          43.75,
          43.727500915527344,
          43.787498474121094,
          44.4375,
          44,
          43.872501373291016,
          43.61000061035156,
          43.26750183105469,
          44.779998779296875,
          45.66749954223633,
          45.82500076293945,
          46.025001525878906,
          46.83250045776367,
          47.09749984741211,
          47.247501373291016,
          47.372501373291016,
          49.08250045776367,
          49.42250061035156,
          47.994998931884766,
          48.220001220703125,
          47.439998626708984,
          47.38999938964844,
          47.52000045776367,
          47.91999816894531,
          48.6150016784668,
          49.125,
          49.092498779296875,
          49.275001525878906,
          50.057498931884766,
          50.712501525878906,
          50.185001373291016,
          50.25,
          50.03499984741211,
          49.962501525878906,
          50.342498779296875,
          50.845001220703125,
          51.037498474121094,
          51.23500061035156,
          51.9375,
          52.119998931884766,
          51.939998626708984,
          51.25,
          51.49250030517578,
          50.849998474121094,
          53.82749938964844,
          53.162498474121094,
          52.959999084472656,
          52.209999084472656,
          51.85499954223633,
          51.334999084472656,
          50.41999816894531,
          49.712501525878906,
          47.369998931884766,
          47.42499923706055,
          47.9375,
          48.11750030517578,
          47.724998474121094,
          46.087501525878906,
          47,
          46.4275016784668,
          45.1349983215332,
          45.53499984741211,
          45.147499084472656,
          44.837501525878906,
          44.807498931884766,
          44.497501373291016,
          44.47999954223633,
          44.95750045776367,
          46.247501373291016,
          46.36750030517578,
          47.97999954223633,
          48.842498779296875,
          49,
          48.99250030517578,
          49.1974983215332,
          48.397499084472656,
          48.7400016784668,
          50.0724983215332,
          49.970001220703125,
          50.15250015258789,
          50.212501525878906,
          50.040000915527344,
          49.814998626708984,
          50.247501373291016,
          50.39250183105469,
          49.875,
          51.122501373291016,
          50.782501220703125,
          51.11000061035156,
          51.27000045776367,
          50.349998474121094,
          50.377498626708984,
          50.932498931884766,
          51.09749984741211,
          51,
          51.467498779296875,
          51.52750015258789,
          51.272499084472656,
          51.470001220703125,
          51.625,
          51.807498931884766,
          52.227500915527344,
          52.287498474121094,
          52.310001373291016,
          52.432498931884766,
          52.65999984741211,
          52.540000915527344,
          55.342498779296875,
          54.50749969482422,
          51.60749816894531,
          49.662498474121094,
          49.51750183105469,
          49.88999938964844,
          50.88249969482422,
          50.689998626708984,
          50.51250076293945,
          53.03499984741211,
          51.61000061035156,
          51.28499984741211,
          51.790000915527344,
          53.182498931884766,
          53.337501525878906,
          53.412498474121094,
          53.61000061035156,
          53.01250076293945,
          51.79750061035156,
          52.13750076293945,
          51.43000030517578,
          52.33000183105469,
          52.61249923706055,
          51.744998931884766,
          52.369998931884766,
          53.49250030517578,
          53.60499954223633,
          54.11000061035156,
          54.19499969482422,
          55.9275016784668,
          56.60499954223633,
          55.1974983215332,
          55.032501220703125,
          55.20500183105469,
          55.712501525878906,
          55.939998626708984,
          55.63999938964844,
          54.959999084472656,
          55.622501373291016,
          55.375,
          55.23500061035156,
          55.2400016784668,
          56.14500045776367,
          57.05500030517578,
          55.89500045776367,
          55.2400016784668,
          56.872501373291016,
          57.48249816894531,
          57.01499938964844,
          56.9474983215332,
          57.61000061035156,
          59.40999984741211,
          59.532501220703125,
          59.412498474121094,
          58.810001373291016,
          59.037498474121094,
          59.39500045776367,
          60.247501373291016,
          60.54999923706055,
          60.810001373291016,
          61.20000076293945,
          61.682498931884766,
          62.3125,
          62.4375,
          61.32500076293945,
          62.29249954223633,
          63.98249816894531,
          64.4625015258789,
          64.54750061035156,
          64.37249755859375,
          65.0875015258789,
          65.11000061035156,
          65.61750030517578,
          65.69750213623047,
          66.19499969482422,
          66.22000122070312,
          66.44499969482422,
          66.85749816894531,
          67,
          66.5199966430664,
          66.00250244140625,
          65.79499816894531,
          66.61000061035156,
          66.79000091552734,
          66.99500274658203,
          67,
          67.0625,
          64.88249969482422,
          65.82749938964844,
          66.47250366210938,
          67.75,
          67.69999694824219,
          67.51750183105469,
          67.7750015258789,
          68.13999938964844,
          68.82499694824219,
          70.19750213623047,
          70.44249725341797,
          70.4749984741211,
          70.29499816894531,
          70.6624984741211,
          71.0625,
          71.22250366210938,
          72.49500274658203,
          73.49250030517578,
          73.17250061035156,
          73.41999816894531
         ],
         "low": [
          38.557498931884766,
          35.5,
          35.95000076293945,
          36.474998474121094,
          37.130001068115234,
          37.407501220703125,
          37.71500015258789,
          37.877498626708984,
          37.30500030517578,
          37.51250076293945,
          38.25,
          38.314998626708984,
          38.994998931884766,
          38.154998779296875,
          37.92499923706055,
          37.935001373291016,
          38.58000183105469,
          38.415000915527344,
          38.52750015258789,
          40.057498931884766,
          41.13999938964844,
          41.48249816894531,
          41.81999969482422,
          43.087501525878906,
          43.212501525878906,
          42.584999084472656,
          42.10499954223633,
          42.3125,
          42.42499923706055,
          42.47999954223633,
          42.345001220703125,
          42.4375,
          42.372501373291016,
          42.747501373291016,
          42.57500076293945,
          42.845001220703125,
          43.48749923706055,
          43.29249954223633,
          43.182498931884766,
          43.22999954223633,
          43.22249984741211,
          43.49250030517578,
          43.6349983215332,
          43.48500061035156,
          43.005001068115234,
          42.375,
          43.837501525878906,
          44.842498779296875,
          45.22999954223633,
          45.63999938964844,
          45.935001373291016,
          46.4474983215332,
          46.47999954223633,
          46.182498931884766,
          47.45249938964844,
          47.69499969482422,
          46.650001525878906,
          46.14500045776367,
          46.63750076293945,
          46.88249969482422,
          47.1349983215332,
          47.095001220703125,
          47.76250076293945,
          48.287498474121094,
          48.28499984741211,
          48.98249816894531,
          49.084999084472656,
          49.807498931884766,
          49.54499816894531,
          49.61000061035156,
          49.0525016784668,
          49.502498626708984,
          49.63999938964844,
          49.65250015258789,
          50.630001068115234,
          50.584999084472656,
          50.974998474121094,
          51.76250076293945,
          51.279998779296875,
          50.529998779296875,
          50.96500015258789,
          49.77750015258789,
          52.307498931884766,
          52.032501220703125,
          52.557498931884766,
          50.875,
          50.20750045776367,
          50.4375,
          49.165000915527344,
          48.192501068115234,
          45.712501525878906,
          46.352500915527344,
          46.505001068115234,
          47.209999084472656,
          46.689998626708984,
          45.06999969482422,
          46.17499923706055,
          45.63750076293945,
          44.45249938964844,
          44.654998779296875,
          44.477500915527344,
          44,
          44.16749954223633,
          43.747501373291016,
          42.567501068115234,
          43.630001068115234,
          45.28499984741211,
          45.537498474121094,
          46.442501068115234,
          47.904998779296875,
          48.400001525878906,
          48.34749984741211,
          48.400001525878906,
          47.57500076293945,
          48.04249954223633,
          48.8025016784668,
          49.32749938964844,
          49.50749969482422,
          49.537498474121094,
          49.54249954223633,
          48.8224983215332,
          49.337501525878906,
          49.89250183105469,
          49.26250076293945,
          50.162498474121094,
          50.34000015258789,
          50.67250061035156,
          50.724998474121094,
          49.602500915527344,
          49.70249938964844,
          50.38999938964844,
          50.4275016784668,
          50.54999923706055,
          51,
          50.875,
          50.817501068115234,
          50.92499923706055,
          50.59000015258789,
          50.90250015258789,
          51.8224983215332,
          51.79249954223633,
          51.682498931884766,
          51.78499984741211,
          52.11000061035156,
          51.82749938964844,
          52.82500076293945,
          51.685001373291016,
          50.407501220703125,
          48.14500045776367,
          48.5099983215332,
          48.45500183105469,
          49.84749984741211,
          49.8224983215332,
          49.787498474121094,
          50.119998931884766,
          50.647499084472656,
          49.91749954223633,
          50.959999084472656,
          52.50749969482422,
          52.58000183105469,
          52.900001525878906,
          52.6875,
          50.25,
          51.26499938964844,
          50.88249969482422,
          50.83000183105469,
          51.665000915527344,
          51.79999923706055,
          51.05500030517578,
          51.83000183105469,
          52.877498626708984,
          53.127498626708984,
          52.76750183105469,
          52.9275016784668,
          54.432498931884766,
          55.71500015258789,
          54.255001068115234,
          54.38999938964844,
          54.779998779296875,
          54.86000061035156,
          55.092498779296875,
          54.36750030517578,
          54.412498474121094,
          54.29750061035156,
          54.28499984741211,
          54.70750045776367,
          54.31999969482422,
          55.1974983215332,
          56.04999923706055,
          54.48249816894531,
          53.782501220703125,
          55.97249984741211,
          56.459999084472656,
          56.08250045776367,
          56.40999984741211,
          56.82500076293945,
          58.07749938964844,
          58.66749954223633,
          58.720001220703125,
          58.29999923706055,
          58.380001068115234,
          58.5724983215332,
          59.33000183105469,
          59.904998779296875,
          60.30500030517578,
          60.45249938964844,
          60.720001220703125,
          61.68000030517578,
          60.64250183105469,
          60.3025016784668,
          59.314998626708984,
          62.290000915527344,
          63.845001220703125,
          64.08000183105469,
          63.842498779296875,
          64.52749633789062,
          64.2125015258789,
          64.56999969482422,
          65.2300033569336,
          65.26750183105469,
          65.5250015258789,
          65.75250244140625,
          66.05750274658203,
          66.34750366210938,
          65.0999984741211,
          65.29499816894531,
          65.20999908447266,
          65.62999725341797,
          65.625,
          66.32749938964844,
          66.4749984741211,
          65.86250305175781,
          64.07250213623047,
          65.16999816894531,
          65.68250274658203,
          66.82499694824219,
          66.22750091552734,
          66.46499633789062,
          67.125,
          66.83000183105469,
          67.73249816894531,
          69.24500274658203,
          69.69999694824219,
          69.77999877929688,
          69.73750305175781,
          69.63999938964844,
          70.09249877929688,
          70.7300033569336,
          71.17500305175781,
          72.02999877929688,
          71.30500030517578,
          72.37999725341797
         ],
         "open": [
          38.72249984741211,
          35.994998931884766,
          36.13249969482422,
          37.17499923706055,
          37.38999938964844,
          37.8224983215332,
          38.125,
          38.220001220703125,
          37.712501525878906,
          37.567501068115234,
          38.27000045776367,
          38.54999923706055,
          39.375,
          39.102500915527344,
          38.537498474121094,
          38.52750015258789,
          38.869998931884766,
          38.9474983215332,
          39.0625,
          40.8125,
          41.52750015258789,
          41.7400016784668,
          41.852500915527344,
          43.21500015258789,
          43.662498474121094,
          43.099998474121094,
          42.247501373291016,
          42.76250076293945,
          42.525001525878906,
          42.84749984741211,
          42.4275016784668,
          42.8125,
          42.4275016784668,
          42.79750061035156,
          42.95000076293945,
          42.89500045776367,
          43.540000915527344,
          43.4275016784668,
          43.3025016784668,
          43.58000183105469,
          43.56999969482422,
          43.92250061035156,
          43.98500061035156,
          43.66749954223633,
          43.467498779296875,
          42.58000183105469,
          43.872501373291016,
          45,
          45.5625,
          45.974998474121094,
          46.212501525878906,
          46.45000076293945,
          47.087501525878906,
          46.557498931884766,
          47.505001068115234,
          48.834999084472656,
          47.877498626708984,
          47.915000915527344,
          47.1875,
          47.23749923706055,
          47.45750045776367,
          47.90999984741211,
          47.772499084472656,
          48.3125,
          48.6974983215332,
          49.11249923706055,
          49.10499954223633,
          50.08000183105469,
          49.66999816894531,
          50.212501525878906,
          49.79999923706055,
          49.64500045776367,
          49.8650016784668,
          49.8849983215332,
          50.779998779296875,
          50.70750045776367,
          51.10749816894531,
          51.84000015258789,
          51.70750045776367,
          51.224998474121094,
          51.099998474121094,
          50.76499938964844,
          52.470001220703125,
          52.459999084472656,
          52.72249984741211,
          51.0724983215332,
          51.470001220703125,
          50.474998474121094,
          50.099998474121094,
          49.35499954223633,
          46.9275016784668,
          46.602500915527344,
          46.567501068115234,
          47.477500915527344,
          46.73249816894531,
          45.880001068115234,
          46.30500030517578,
          46.165000915527344,
          44.95000076293945,
          45.04999923706055,
          44.72999954223633,
          44.10499954223633,
          44.48749923706055,
          44.057498931884766,
          43.900001525878906,
          43.86000061035156,
          46.06999969482422,
          45.77000045776367,
          46.627498626708984,
          47.95249938964844,
          48.71500015258789,
          48.48749923706055,
          48.67499923706055,
          47.88750076293945,
          48.224998474121094,
          49.01250076293945,
          49.91999816894531,
          50.092498779296875,
          49.70000076293945,
          49.6349983215332,
          49.60749816894531,
          49.442501068115234,
          50.0724983215332,
          49.66999816894531,
          50.79249954223633,
          50.352500915527344,
          50.81999969482422,
          50.837501525878906,
          50.20249938964844,
          49.79999923706055,
          50.462501525878906,
          50.82749938964844,
          50.61249923706055,
          51.022499084472656,
          51.147499084472656,
          51.01250076293945,
          51,
          51.4474983215332,
          50.912498474121094,
          52.1150016784668,
          51.91749954223633,
          52.22249984741211,
          51.869998931884766,
          52.1150016784668,
          52.189998626708984,
          54.10499954223633,
          53.474998474121094,
          51.38249969482422,
          49.497501373291016,
          49.07749938964844,
          48.852500915527344,
          50.04999923706055,
          50.32500076293945,
          49.904998779296875,
          50.255001068115234,
          50.790000915527344,
          50.8650016784668,
          51.06999969482422,
          52.654998779296875,
          52.720001220703125,
          53.247501373291016,
          53.29750061035156,
          52.35749816894531,
          51.46500015258789,
          51.96500015258789,
          51.025001525878906,
          52.125,
          52.540000915527344,
          51.60749816894531,
          52.09749984741211,
          53,
          53.51250076293945,
          53.709999084472656,
          53.46500015258789,
          54.51750183105469,
          56.20000076293945,
          55,
          54.432498931884766,
          54.9900016784668,
          55.26499938964844,
          55.502498626708984,
          55.345001220703125,
          54.73749923706055,
          55.25749969482422,
          54.63750076293945,
          55,
          55.1349983215332,
          55.224998474121094,
          56.26750183105469,
          55.76499938964844,
          54.60749816894531,
          56.40999984741211,
          56.567501068115234,
          56.45500183105469,
          56.75749969482422,
          56.98249816894531,
          58.23749923706055,
          58.724998474121094,
          59.09749984741211,
          58.342498779296875,
          58.772499084472656,
          58.647499084472656,
          59.380001068115234,
          60.290000915527344,
          60.525001525878906,
          61.127498626708984,
          60.790000915527344,
          61.85499954223633,
          62.24250030517578,
          61.189998626708984,
          61.810001373291016,
          62.3849983215332,
          64.3324966430664,
          64.26249694824219,
          64.19249725341797,
          64.68499755859375,
          64.67250061035156,
          64.57499694824219,
          65.38749694824219,
          65.28250122070312,
          65.9375,
          65.91999816894531,
          66.44999694824219,
          66.9749984741211,
          66.38500213623047,
          65.92250061035156,
          65.64749908447266,
          65.67749786376953,
          66.73500061035156,
          66.3949966430664,
          66.6500015258789,
          66.81749725341797,
          64.57749938964844,
          65.26750183105469,
          65.94750213623047,
          66.87000274658203,
          67.5,
          67.1500015258789,
          67.20249938964844,
          66.94499969482422,
          67.86499786376953,
          69.25,
          69.89250183105469,
          69.94999694824219,
          69.875,
          70.55750274658203,
          70.13249969482422,
          71.17250061035156,
          71.20500183105469,
          72.77999877929688,
          72.36499786376953,
          72.48249816894531
         ],
         "type": "candlestick",
         "x": [
          "2019-01-02T00:00:00",
          "2019-01-03T00:00:00",
          "2019-01-04T00:00:00",
          "2019-01-07T00:00:00",
          "2019-01-08T00:00:00",
          "2019-01-09T00:00:00",
          "2019-01-10T00:00:00",
          "2019-01-11T00:00:00",
          "2019-01-14T00:00:00",
          "2019-01-15T00:00:00",
          "2019-01-16T00:00:00",
          "2019-01-17T00:00:00",
          "2019-01-18T00:00:00",
          "2019-01-22T00:00:00",
          "2019-01-23T00:00:00",
          "2019-01-24T00:00:00",
          "2019-01-25T00:00:00",
          "2019-01-28T00:00:00",
          "2019-01-29T00:00:00",
          "2019-01-30T00:00:00",
          "2019-01-31T00:00:00",
          "2019-02-01T00:00:00",
          "2019-02-04T00:00:00",
          "2019-02-05T00:00:00",
          "2019-02-06T00:00:00",
          "2019-02-07T00:00:00",
          "2019-02-08T00:00:00",
          "2019-02-11T00:00:00",
          "2019-02-12T00:00:00",
          "2019-02-13T00:00:00",
          "2019-02-14T00:00:00",
          "2019-02-15T00:00:00",
          "2019-02-19T00:00:00",
          "2019-02-20T00:00:00",
          "2019-02-21T00:00:00",
          "2019-02-22T00:00:00",
          "2019-02-25T00:00:00",
          "2019-02-26T00:00:00",
          "2019-02-27T00:00:00",
          "2019-02-28T00:00:00",
          "2019-03-01T00:00:00",
          "2019-03-04T00:00:00",
          "2019-03-05T00:00:00",
          "2019-03-06T00:00:00",
          "2019-03-07T00:00:00",
          "2019-03-08T00:00:00",
          "2019-03-11T00:00:00",
          "2019-03-12T00:00:00",
          "2019-03-13T00:00:00",
          "2019-03-14T00:00:00",
          "2019-03-15T00:00:00",
          "2019-03-18T00:00:00",
          "2019-03-19T00:00:00",
          "2019-03-20T00:00:00",
          "2019-03-21T00:00:00",
          "2019-03-22T00:00:00",
          "2019-03-25T00:00:00",
          "2019-03-26T00:00:00",
          "2019-03-27T00:00:00",
          "2019-03-28T00:00:00",
          "2019-03-29T00:00:00",
          "2019-04-01T00:00:00",
          "2019-04-02T00:00:00",
          "2019-04-03T00:00:00",
          "2019-04-04T00:00:00",
          "2019-04-05T00:00:00",
          "2019-04-08T00:00:00",
          "2019-04-09T00:00:00",
          "2019-04-10T00:00:00",
          "2019-04-11T00:00:00",
          "2019-04-12T00:00:00",
          "2019-04-15T00:00:00",
          "2019-04-16T00:00:00",
          "2019-04-17T00:00:00",
          "2019-04-18T00:00:00",
          "2019-04-22T00:00:00",
          "2019-04-23T00:00:00",
          "2019-04-24T00:00:00",
          "2019-04-25T00:00:00",
          "2019-04-26T00:00:00",
          "2019-04-29T00:00:00",
          "2019-04-30T00:00:00",
          "2019-05-01T00:00:00",
          "2019-05-02T00:00:00",
          "2019-05-03T00:00:00",
          "2019-05-06T00:00:00",
          "2019-05-07T00:00:00",
          "2019-05-08T00:00:00",
          "2019-05-09T00:00:00",
          "2019-05-10T00:00:00",
          "2019-05-13T00:00:00",
          "2019-05-14T00:00:00",
          "2019-05-15T00:00:00",
          "2019-05-16T00:00:00",
          "2019-05-17T00:00:00",
          "2019-05-20T00:00:00",
          "2019-05-21T00:00:00",
          "2019-05-22T00:00:00",
          "2019-05-23T00:00:00",
          "2019-05-24T00:00:00",
          "2019-05-28T00:00:00",
          "2019-05-29T00:00:00",
          "2019-05-30T00:00:00",
          "2019-05-31T00:00:00",
          "2019-06-03T00:00:00",
          "2019-06-04T00:00:00",
          "2019-06-05T00:00:00",
          "2019-06-06T00:00:00",
          "2019-06-07T00:00:00",
          "2019-06-10T00:00:00",
          "2019-06-11T00:00:00",
          "2019-06-12T00:00:00",
          "2019-06-13T00:00:00",
          "2019-06-14T00:00:00",
          "2019-06-17T00:00:00",
          "2019-06-18T00:00:00",
          "2019-06-19T00:00:00",
          "2019-06-20T00:00:00",
          "2019-06-21T00:00:00",
          "2019-06-24T00:00:00",
          "2019-06-25T00:00:00",
          "2019-06-26T00:00:00",
          "2019-06-27T00:00:00",
          "2019-06-28T00:00:00",
          "2019-07-01T00:00:00",
          "2019-07-02T00:00:00",
          "2019-07-03T00:00:00",
          "2019-07-05T00:00:00",
          "2019-07-08T00:00:00",
          "2019-07-09T00:00:00",
          "2019-07-10T00:00:00",
          "2019-07-11T00:00:00",
          "2019-07-12T00:00:00",
          "2019-07-15T00:00:00",
          "2019-07-16T00:00:00",
          "2019-07-17T00:00:00",
          "2019-07-18T00:00:00",
          "2019-07-19T00:00:00",
          "2019-07-22T00:00:00",
          "2019-07-23T00:00:00",
          "2019-07-24T00:00:00",
          "2019-07-25T00:00:00",
          "2019-07-26T00:00:00",
          "2019-07-29T00:00:00",
          "2019-07-30T00:00:00",
          "2019-07-31T00:00:00",
          "2019-08-01T00:00:00",
          "2019-08-02T00:00:00",
          "2019-08-05T00:00:00",
          "2019-08-06T00:00:00",
          "2019-08-07T00:00:00",
          "2019-08-08T00:00:00",
          "2019-08-09T00:00:00",
          "2019-08-12T00:00:00",
          "2019-08-13T00:00:00",
          "2019-08-14T00:00:00",
          "2019-08-15T00:00:00",
          "2019-08-16T00:00:00",
          "2019-08-19T00:00:00",
          "2019-08-20T00:00:00",
          "2019-08-21T00:00:00",
          "2019-08-22T00:00:00",
          "2019-08-23T00:00:00",
          "2019-08-26T00:00:00",
          "2019-08-27T00:00:00",
          "2019-08-28T00:00:00",
          "2019-08-29T00:00:00",
          "2019-08-30T00:00:00",
          "2019-09-03T00:00:00",
          "2019-09-04T00:00:00",
          "2019-09-05T00:00:00",
          "2019-09-06T00:00:00",
          "2019-09-09T00:00:00",
          "2019-09-10T00:00:00",
          "2019-09-11T00:00:00",
          "2019-09-12T00:00:00",
          "2019-09-13T00:00:00",
          "2019-09-16T00:00:00",
          "2019-09-17T00:00:00",
          "2019-09-18T00:00:00",
          "2019-09-19T00:00:00",
          "2019-09-20T00:00:00",
          "2019-09-23T00:00:00",
          "2019-09-24T00:00:00",
          "2019-09-25T00:00:00",
          "2019-09-26T00:00:00",
          "2019-09-27T00:00:00",
          "2019-09-30T00:00:00",
          "2019-10-01T00:00:00",
          "2019-10-02T00:00:00",
          "2019-10-03T00:00:00",
          "2019-10-04T00:00:00",
          "2019-10-07T00:00:00",
          "2019-10-08T00:00:00",
          "2019-10-09T00:00:00",
          "2019-10-10T00:00:00",
          "2019-10-11T00:00:00",
          "2019-10-14T00:00:00",
          "2019-10-15T00:00:00",
          "2019-10-16T00:00:00",
          "2019-10-17T00:00:00",
          "2019-10-18T00:00:00",
          "2019-10-21T00:00:00",
          "2019-10-22T00:00:00",
          "2019-10-23T00:00:00",
          "2019-10-24T00:00:00",
          "2019-10-25T00:00:00",
          "2019-10-28T00:00:00",
          "2019-10-29T00:00:00",
          "2019-10-30T00:00:00",
          "2019-10-31T00:00:00",
          "2019-11-01T00:00:00",
          "2019-11-04T00:00:00",
          "2019-11-05T00:00:00",
          "2019-11-06T00:00:00",
          "2019-11-07T00:00:00",
          "2019-11-08T00:00:00",
          "2019-11-11T00:00:00",
          "2019-11-12T00:00:00",
          "2019-11-13T00:00:00",
          "2019-11-14T00:00:00",
          "2019-11-15T00:00:00",
          "2019-11-18T00:00:00",
          "2019-11-19T00:00:00",
          "2019-11-20T00:00:00",
          "2019-11-21T00:00:00",
          "2019-11-22T00:00:00",
          "2019-11-25T00:00:00",
          "2019-11-26T00:00:00",
          "2019-11-27T00:00:00",
          "2019-11-29T00:00:00",
          "2019-12-02T00:00:00",
          "2019-12-03T00:00:00",
          "2019-12-04T00:00:00",
          "2019-12-05T00:00:00",
          "2019-12-06T00:00:00",
          "2019-12-09T00:00:00",
          "2019-12-10T00:00:00",
          "2019-12-11T00:00:00",
          "2019-12-12T00:00:00",
          "2019-12-13T00:00:00",
          "2019-12-16T00:00:00",
          "2019-12-17T00:00:00",
          "2019-12-18T00:00:00",
          "2019-12-19T00:00:00",
          "2019-12-20T00:00:00",
          "2019-12-23T00:00:00",
          "2019-12-24T00:00:00",
          "2019-12-26T00:00:00",
          "2019-12-27T00:00:00",
          "2019-12-30T00:00:00",
          "2019-12-31T00:00:00"
         ]
        },
        {
         "marker": {
          "color": "blue"
         },
         "name": "20-Day SMA",
         "type": "scatter",
         "x": [
          "2019-01-02T00:00:00",
          "2019-01-03T00:00:00",
          "2019-01-04T00:00:00",
          "2019-01-07T00:00:00",
          "2019-01-08T00:00:00",
          "2019-01-09T00:00:00",
          "2019-01-10T00:00:00",
          "2019-01-11T00:00:00",
          "2019-01-14T00:00:00",
          "2019-01-15T00:00:00",
          "2019-01-16T00:00:00",
          "2019-01-17T00:00:00",
          "2019-01-18T00:00:00",
          "2019-01-22T00:00:00",
          "2019-01-23T00:00:00",
          "2019-01-24T00:00:00",
          "2019-01-25T00:00:00",
          "2019-01-28T00:00:00",
          "2019-01-29T00:00:00",
          "2019-01-30T00:00:00",
          "2019-01-31T00:00:00",
          "2019-02-01T00:00:00",
          "2019-02-04T00:00:00",
          "2019-02-05T00:00:00",
          "2019-02-06T00:00:00",
          "2019-02-07T00:00:00",
          "2019-02-08T00:00:00",
          "2019-02-11T00:00:00",
          "2019-02-12T00:00:00",
          "2019-02-13T00:00:00",
          "2019-02-14T00:00:00",
          "2019-02-15T00:00:00",
          "2019-02-19T00:00:00",
          "2019-02-20T00:00:00",
          "2019-02-21T00:00:00",
          "2019-02-22T00:00:00",
          "2019-02-25T00:00:00",
          "2019-02-26T00:00:00",
          "2019-02-27T00:00:00",
          "2019-02-28T00:00:00",
          "2019-03-01T00:00:00",
          "2019-03-04T00:00:00",
          "2019-03-05T00:00:00",
          "2019-03-06T00:00:00",
          "2019-03-07T00:00:00",
          "2019-03-08T00:00:00",
          "2019-03-11T00:00:00",
          "2019-03-12T00:00:00",
          "2019-03-13T00:00:00",
          "2019-03-14T00:00:00",
          "2019-03-15T00:00:00",
          "2019-03-18T00:00:00",
          "2019-03-19T00:00:00",
          "2019-03-20T00:00:00",
          "2019-03-21T00:00:00",
          "2019-03-22T00:00:00",
          "2019-03-25T00:00:00",
          "2019-03-26T00:00:00",
          "2019-03-27T00:00:00",
          "2019-03-28T00:00:00",
          "2019-03-29T00:00:00",
          "2019-04-01T00:00:00",
          "2019-04-02T00:00:00",
          "2019-04-03T00:00:00",
          "2019-04-04T00:00:00",
          "2019-04-05T00:00:00",
          "2019-04-08T00:00:00",
          "2019-04-09T00:00:00",
          "2019-04-10T00:00:00",
          "2019-04-11T00:00:00",
          "2019-04-12T00:00:00",
          "2019-04-15T00:00:00",
          "2019-04-16T00:00:00",
          "2019-04-17T00:00:00",
          "2019-04-18T00:00:00",
          "2019-04-22T00:00:00",
          "2019-04-23T00:00:00",
          "2019-04-24T00:00:00",
          "2019-04-25T00:00:00",
          "2019-04-26T00:00:00",
          "2019-04-29T00:00:00",
          "2019-04-30T00:00:00",
          "2019-05-01T00:00:00",
          "2019-05-02T00:00:00",
          "2019-05-03T00:00:00",
          "2019-05-06T00:00:00",
          "2019-05-07T00:00:00",
          "2019-05-08T00:00:00",
          "2019-05-09T00:00:00",
          "2019-05-10T00:00:00",
          "2019-05-13T00:00:00",
          "2019-05-14T00:00:00",
          "2019-05-15T00:00:00",
          "2019-05-16T00:00:00",
          "2019-05-17T00:00:00",
          "2019-05-20T00:00:00",
          "2019-05-21T00:00:00",
          "2019-05-22T00:00:00",
          "2019-05-23T00:00:00",
          "2019-05-24T00:00:00",
          "2019-05-28T00:00:00",
          "2019-05-29T00:00:00",
          "2019-05-30T00:00:00",
          "2019-05-31T00:00:00",
          "2019-06-03T00:00:00",
          "2019-06-04T00:00:00",
          "2019-06-05T00:00:00",
          "2019-06-06T00:00:00",
          "2019-06-07T00:00:00",
          "2019-06-10T00:00:00",
          "2019-06-11T00:00:00",
          "2019-06-12T00:00:00",
          "2019-06-13T00:00:00",
          "2019-06-14T00:00:00",
          "2019-06-17T00:00:00",
          "2019-06-18T00:00:00",
          "2019-06-19T00:00:00",
          "2019-06-20T00:00:00",
          "2019-06-21T00:00:00",
          "2019-06-24T00:00:00",
          "2019-06-25T00:00:00",
          "2019-06-26T00:00:00",
          "2019-06-27T00:00:00",
          "2019-06-28T00:00:00",
          "2019-07-01T00:00:00",
          "2019-07-02T00:00:00",
          "2019-07-03T00:00:00",
          "2019-07-05T00:00:00",
          "2019-07-08T00:00:00",
          "2019-07-09T00:00:00",
          "2019-07-10T00:00:00",
          "2019-07-11T00:00:00",
          "2019-07-12T00:00:00",
          "2019-07-15T00:00:00",
          "2019-07-16T00:00:00",
          "2019-07-17T00:00:00",
          "2019-07-18T00:00:00",
          "2019-07-19T00:00:00",
          "2019-07-22T00:00:00",
          "2019-07-23T00:00:00",
          "2019-07-24T00:00:00",
          "2019-07-25T00:00:00",
          "2019-07-26T00:00:00",
          "2019-07-29T00:00:00",
          "2019-07-30T00:00:00",
          "2019-07-31T00:00:00",
          "2019-08-01T00:00:00",
          "2019-08-02T00:00:00",
          "2019-08-05T00:00:00",
          "2019-08-06T00:00:00",
          "2019-08-07T00:00:00",
          "2019-08-08T00:00:00",
          "2019-08-09T00:00:00",
          "2019-08-12T00:00:00",
          "2019-08-13T00:00:00",
          "2019-08-14T00:00:00",
          "2019-08-15T00:00:00",
          "2019-08-16T00:00:00",
          "2019-08-19T00:00:00",
          "2019-08-20T00:00:00",
          "2019-08-21T00:00:00",
          "2019-08-22T00:00:00",
          "2019-08-23T00:00:00",
          "2019-08-26T00:00:00",
          "2019-08-27T00:00:00",
          "2019-08-28T00:00:00",
          "2019-08-29T00:00:00",
          "2019-08-30T00:00:00",
          "2019-09-03T00:00:00",
          "2019-09-04T00:00:00",
          "2019-09-05T00:00:00",
          "2019-09-06T00:00:00",
          "2019-09-09T00:00:00",
          "2019-09-10T00:00:00",
          "2019-09-11T00:00:00",
          "2019-09-12T00:00:00",
          "2019-09-13T00:00:00",
          "2019-09-16T00:00:00",
          "2019-09-17T00:00:00",
          "2019-09-18T00:00:00",
          "2019-09-19T00:00:00",
          "2019-09-20T00:00:00",
          "2019-09-23T00:00:00",
          "2019-09-24T00:00:00",
          "2019-09-25T00:00:00",
          "2019-09-26T00:00:00",
          "2019-09-27T00:00:00",
          "2019-09-30T00:00:00",
          "2019-10-01T00:00:00",
          "2019-10-02T00:00:00",
          "2019-10-03T00:00:00",
          "2019-10-04T00:00:00",
          "2019-10-07T00:00:00",
          "2019-10-08T00:00:00",
          "2019-10-09T00:00:00",
          "2019-10-10T00:00:00",
          "2019-10-11T00:00:00",
          "2019-10-14T00:00:00",
          "2019-10-15T00:00:00",
          "2019-10-16T00:00:00",
          "2019-10-17T00:00:00",
          "2019-10-18T00:00:00",
          "2019-10-21T00:00:00",
          "2019-10-22T00:00:00",
          "2019-10-23T00:00:00",
          "2019-10-24T00:00:00",
          "2019-10-25T00:00:00",
          "2019-10-28T00:00:00",
          "2019-10-29T00:00:00",
          "2019-10-30T00:00:00",
          "2019-10-31T00:00:00",
          "2019-11-01T00:00:00",
          "2019-11-04T00:00:00",
          "2019-11-05T00:00:00",
          "2019-11-06T00:00:00",
          "2019-11-07T00:00:00",
          "2019-11-08T00:00:00",
          "2019-11-11T00:00:00",
          "2019-11-12T00:00:00",
          "2019-11-13T00:00:00",
          "2019-11-14T00:00:00",
          "2019-11-15T00:00:00",
          "2019-11-18T00:00:00",
          "2019-11-19T00:00:00",
          "2019-11-20T00:00:00",
          "2019-11-21T00:00:00",
          "2019-11-22T00:00:00",
          "2019-11-25T00:00:00",
          "2019-11-26T00:00:00",
          "2019-11-27T00:00:00",
          "2019-11-29T00:00:00",
          "2019-12-02T00:00:00",
          "2019-12-03T00:00:00",
          "2019-12-04T00:00:00",
          "2019-12-05T00:00:00",
          "2019-12-06T00:00:00",
          "2019-12-09T00:00:00",
          "2019-12-10T00:00:00",
          "2019-12-11T00:00:00",
          "2019-12-12T00:00:00",
          "2019-12-13T00:00:00",
          "2019-12-16T00:00:00",
          "2019-12-17T00:00:00",
          "2019-12-18T00:00:00",
          "2019-12-19T00:00:00",
          "2019-12-20T00:00:00",
          "2019-12-23T00:00:00",
          "2019-12-24T00:00:00",
          "2019-12-26T00:00:00",
          "2019-12-27T00:00:00",
          "2019-12-30T00:00:00",
          "2019-12-31T00:00:00"
         ],
         "y": [
          null,
          null,
          null,
          null,
          null,
          null,
          null,
          null,
          null,
          null,
          null,
          null,
          null,
          null,
          null,
          null,
          null,
          null,
          null,
          38.38812484741211,
          38.49462490081787,
          38.798749923706055,
          39.08612499237061,
          39.41424999237061,
          39.70787506103515,
          39.92825012207031,
          40.135875129699706,
          40.35012512207031,
          40.61125011444092,
          40.82512493133545,
          41.02337493896484,
          41.20537490844727,
          41.3817497253418,
          41.615874671936034,
          41.83012466430664,
          42.0834997177124,
          42.28937473297119,
          42.514749717712405,
          42.76712474822998,
          42.865874671936034,
          42.97249965667724,
          43.08912467956543,
          43.14262466430664,
          43.146874809265135,
          43.12512474060058,
          43.149749755859375,
          43.25587463378906,
          43.39937477111816,
          43.534624862670896,
          43.70399990081787,
          43.895499801635744,
          44.115499877929686,
          44.31049995422363,
          44.51212501525879,
          44.8125,
          45.038500022888186,
          45.21987514495849,
          45.37562503814697,
          45.54562511444092,
          45.740250205993654,
          45.92750015258789,
          46.1198751449585,
          46.351000213623045,
          46.61137523651123,
          46.90125026702881,
          47.20237522125244,
          47.46737537384033,
          47.69975032806396,
          47.93612518310547,
          48.12637519836426,
          48.285750198364255,
          48.42587509155273,
          48.58487510681152,
          48.77200012207031,
          48.881625175476074,
          49.05012512207031,
          49.284375,
          49.53900012969971,
          49.74912509918213,
          49.94387512207031,
          50.12712516784668,
          50.24500007629395,
          50.451250076293945,
          50.62374992370606,
          50.824499893188474,
          50.96799983978271,
          51.00249977111817,
          51.04499969482422,
          51.04624977111816,
          51.024124717712404,
          50.85974979400635,
          50.72762489318848,
          50.62349987030029,
          50.46037483215332,
          50.274624824523926,
          50.00662479400635,
          49.74562492370605,
          49.440874862670896,
          49.12062492370605,
          48.80399990081787,
          48.474249839782715,
          48.18312492370605,
          47.780374908447264,
          47.35437507629395,
          46.87375011444092,
          46.51325016021728,
          46.25925006866455,
          46.03825016021729,
          45.90612506866455,
          45.84862518310547,
          45.9622501373291,
          46.031375122070315,
          46.07175006866455,
          46.10500011444092,
          46.16612510681152,
          46.35812511444092,
          46.498999977111815,
          46.70750007629395,
          46.94650001525879,
          47.19162502288818,
          47.40837516784668,
          47.68862514495849,
          47.95662517547608,
          48.24225006103516,
          48.595375061035156,
          48.88400001525879,
          49.15737514495849,
          49.39500007629395,
          49.51837520599365,
          49.62662525177002,
          49.73187522888183,
          49.82637519836426,
          49.94075031280518,
          50.096625328063965,
          50.22925033569336,
          50.290500450134275,
          50.3878755569458,
          50.42700042724609,
          50.532500457763675,
          50.66075038909912,
          50.824500274658206,
          50.914750289916995,
          51.01475028991699,
          51.16175022125244,
          51.25212516784668,
          51.3810001373291,
          51.43125,
          51.42862510681152,
          51.34512500762939,
          51.29212493896485,
          51.239749908447266,
          51.26074981689453,
          51.23187484741211,
          51.17274971008301,
          51.228624725341795,
          51.22112464904785,
          51.17212467193603,
          51.2209997177124,
          51.26012477874756,
          51.27912483215332,
          51.32874984741211,
          51.396749877929686,
          51.332999801635744,
          51.293124961853025,
          51.235375022888185,
          51.141500091552736,
          51.148750114440915,
          51.207750129699704,
          51.3622501373291,
          51.51462516784668,
          51.69262523651123,
          51.815500259399414,
          51.98025016784668,
          52.18300018310547,
          52.36575012207031,
          52.62000007629395,
          52.832625007629396,
          53.00012493133545,
          53.12949981689453,
          53.284624862670896,
          53.38862495422363,
          53.45449981689453,
          53.65549983978271,
          53.79537467956543,
          54.006249618530276,
          54.18574962615967,
          54.30837478637695,
          54.49874973297119,
          54.7348747253418,
          54.85699977874756,
          54.95124988555908,
          55.12312488555908,
          55.28424987792969,
          55.380499839782715,
          55.42349987030029,
          55.510999870300296,
          55.72924995422363,
          55.92887496948242,
          56.11162509918213,
          56.25662498474121,
          56.43562488555908,
          56.66912498474121,
          56.941499900817874,
          57.22000007629394,
          57.496875,
          57.793000030517575,
          58.13999996185303,
          58.453499984741214,
          58.687249946594235,
          58.99099979400635,
          59.340249633789064,
          59.70037479400635,
          60.080874824523924,
          60.48999996185303,
          60.867624855041505,
          61.234374809265134,
          61.53349990844727,
          61.86262512207031,
          62.195624923706056,
          62.571875,
          62.91387519836426,
          63.2807502746582,
          63.6131254196167,
          63.942250442504886,
          64.1923755645752,
          64.42275066375733,
          64.61275062561035,
          64.82925052642823,
          65.09175071716308,
          65.39900074005126,
          65.63012580871582,
          65.73437576293945,
          65.75875091552734,
          65.81637573242188,
          65.92062568664551,
          66.06162567138672,
          66.14637565612793,
          66.22487564086914,
          66.33500061035156,
          66.42237548828125,
          66.57875022888183,
          66.75499992370605,
          66.92137489318847,
          67.08949966430664,
          67.29987449645996,
          67.51774940490722,
          67.79549942016601,
          68.01924934387208,
          68.33949928283691,
          68.61399917602539,
          68.9173740386963,
          69.28599891662597
         ]
        },
        {
         "name": "Volume",
         "type": "bar",
         "x": [
          "2019-01-02T00:00:00",
          "2019-01-03T00:00:00",
          "2019-01-04T00:00:00",
          "2019-01-07T00:00:00",
          "2019-01-08T00:00:00",
          "2019-01-09T00:00:00",
          "2019-01-10T00:00:00",
          "2019-01-11T00:00:00",
          "2019-01-14T00:00:00",
          "2019-01-15T00:00:00",
          "2019-01-16T00:00:00",
          "2019-01-17T00:00:00",
          "2019-01-18T00:00:00",
          "2019-01-22T00:00:00",
          "2019-01-23T00:00:00",
          "2019-01-24T00:00:00",
          "2019-01-25T00:00:00",
          "2019-01-28T00:00:00",
          "2019-01-29T00:00:00",
          "2019-01-30T00:00:00",
          "2019-01-31T00:00:00",
          "2019-02-01T00:00:00",
          "2019-02-04T00:00:00",
          "2019-02-05T00:00:00",
          "2019-02-06T00:00:00",
          "2019-02-07T00:00:00",
          "2019-02-08T00:00:00",
          "2019-02-11T00:00:00",
          "2019-02-12T00:00:00",
          "2019-02-13T00:00:00",
          "2019-02-14T00:00:00",
          "2019-02-15T00:00:00",
          "2019-02-19T00:00:00",
          "2019-02-20T00:00:00",
          "2019-02-21T00:00:00",
          "2019-02-22T00:00:00",
          "2019-02-25T00:00:00",
          "2019-02-26T00:00:00",
          "2019-02-27T00:00:00",
          "2019-02-28T00:00:00",
          "2019-03-01T00:00:00",
          "2019-03-04T00:00:00",
          "2019-03-05T00:00:00",
          "2019-03-06T00:00:00",
          "2019-03-07T00:00:00",
          "2019-03-08T00:00:00",
          "2019-03-11T00:00:00",
          "2019-03-12T00:00:00",
          "2019-03-13T00:00:00",
          "2019-03-14T00:00:00",
          "2019-03-15T00:00:00",
          "2019-03-18T00:00:00",
          "2019-03-19T00:00:00",
          "2019-03-20T00:00:00",
          "2019-03-21T00:00:00",
          "2019-03-22T00:00:00",
          "2019-03-25T00:00:00",
          "2019-03-26T00:00:00",
          "2019-03-27T00:00:00",
          "2019-03-28T00:00:00",
          "2019-03-29T00:00:00",
          "2019-04-01T00:00:00",
          "2019-04-02T00:00:00",
          "2019-04-03T00:00:00",
          "2019-04-04T00:00:00",
          "2019-04-05T00:00:00",
          "2019-04-08T00:00:00",
          "2019-04-09T00:00:00",
          "2019-04-10T00:00:00",
          "2019-04-11T00:00:00",
          "2019-04-12T00:00:00",
          "2019-04-15T00:00:00",
          "2019-04-16T00:00:00",
          "2019-04-17T00:00:00",
          "2019-04-18T00:00:00",
          "2019-04-22T00:00:00",
          "2019-04-23T00:00:00",
          "2019-04-24T00:00:00",
          "2019-04-25T00:00:00",
          "2019-04-26T00:00:00",
          "2019-04-29T00:00:00",
          "2019-04-30T00:00:00",
          "2019-05-01T00:00:00",
          "2019-05-02T00:00:00",
          "2019-05-03T00:00:00",
          "2019-05-06T00:00:00",
          "2019-05-07T00:00:00",
          "2019-05-08T00:00:00",
          "2019-05-09T00:00:00",
          "2019-05-10T00:00:00",
          "2019-05-13T00:00:00",
          "2019-05-14T00:00:00",
          "2019-05-15T00:00:00",
          "2019-05-16T00:00:00",
          "2019-05-17T00:00:00",
          "2019-05-20T00:00:00",
          "2019-05-21T00:00:00",
          "2019-05-22T00:00:00",
          "2019-05-23T00:00:00",
          "2019-05-24T00:00:00",
          "2019-05-28T00:00:00",
          "2019-05-29T00:00:00",
          "2019-05-30T00:00:00",
          "2019-05-31T00:00:00",
          "2019-06-03T00:00:00",
          "2019-06-04T00:00:00",
          "2019-06-05T00:00:00",
          "2019-06-06T00:00:00",
          "2019-06-07T00:00:00",
          "2019-06-10T00:00:00",
          "2019-06-11T00:00:00",
          "2019-06-12T00:00:00",
          "2019-06-13T00:00:00",
          "2019-06-14T00:00:00",
          "2019-06-17T00:00:00",
          "2019-06-18T00:00:00",
          "2019-06-19T00:00:00",
          "2019-06-20T00:00:00",
          "2019-06-21T00:00:00",
          "2019-06-24T00:00:00",
          "2019-06-25T00:00:00",
          "2019-06-26T00:00:00",
          "2019-06-27T00:00:00",
          "2019-06-28T00:00:00",
          "2019-07-01T00:00:00",
          "2019-07-02T00:00:00",
          "2019-07-03T00:00:00",
          "2019-07-05T00:00:00",
          "2019-07-08T00:00:00",
          "2019-07-09T00:00:00",
          "2019-07-10T00:00:00",
          "2019-07-11T00:00:00",
          "2019-07-12T00:00:00",
          "2019-07-15T00:00:00",
          "2019-07-16T00:00:00",
          "2019-07-17T00:00:00",
          "2019-07-18T00:00:00",
          "2019-07-19T00:00:00",
          "2019-07-22T00:00:00",
          "2019-07-23T00:00:00",
          "2019-07-24T00:00:00",
          "2019-07-25T00:00:00",
          "2019-07-26T00:00:00",
          "2019-07-29T00:00:00",
          "2019-07-30T00:00:00",
          "2019-07-31T00:00:00",
          "2019-08-01T00:00:00",
          "2019-08-02T00:00:00",
          "2019-08-05T00:00:00",
          "2019-08-06T00:00:00",
          "2019-08-07T00:00:00",
          "2019-08-08T00:00:00",
          "2019-08-09T00:00:00",
          "2019-08-12T00:00:00",
          "2019-08-13T00:00:00",
          "2019-08-14T00:00:00",
          "2019-08-15T00:00:00",
          "2019-08-16T00:00:00",
          "2019-08-19T00:00:00",
          "2019-08-20T00:00:00",
          "2019-08-21T00:00:00",
          "2019-08-22T00:00:00",
          "2019-08-23T00:00:00",
          "2019-08-26T00:00:00",
          "2019-08-27T00:00:00",
          "2019-08-28T00:00:00",
          "2019-08-29T00:00:00",
          "2019-08-30T00:00:00",
          "2019-09-03T00:00:00",
          "2019-09-04T00:00:00",
          "2019-09-05T00:00:00",
          "2019-09-06T00:00:00",
          "2019-09-09T00:00:00",
          "2019-09-10T00:00:00",
          "2019-09-11T00:00:00",
          "2019-09-12T00:00:00",
          "2019-09-13T00:00:00",
          "2019-09-16T00:00:00",
          "2019-09-17T00:00:00",
          "2019-09-18T00:00:00",
          "2019-09-19T00:00:00",
          "2019-09-20T00:00:00",
          "2019-09-23T00:00:00",
          "2019-09-24T00:00:00",
          "2019-09-25T00:00:00",
          "2019-09-26T00:00:00",
          "2019-09-27T00:00:00",
          "2019-09-30T00:00:00",
          "2019-10-01T00:00:00",
          "2019-10-02T00:00:00",
          "2019-10-03T00:00:00",
          "2019-10-04T00:00:00",
          "2019-10-07T00:00:00",
          "2019-10-08T00:00:00",
          "2019-10-09T00:00:00",
          "2019-10-10T00:00:00",
          "2019-10-11T00:00:00",
          "2019-10-14T00:00:00",
          "2019-10-15T00:00:00",
          "2019-10-16T00:00:00",
          "2019-10-17T00:00:00",
          "2019-10-18T00:00:00",
          "2019-10-21T00:00:00",
          "2019-10-22T00:00:00",
          "2019-10-23T00:00:00",
          "2019-10-24T00:00:00",
          "2019-10-25T00:00:00",
          "2019-10-28T00:00:00",
          "2019-10-29T00:00:00",
          "2019-10-30T00:00:00",
          "2019-10-31T00:00:00",
          "2019-11-01T00:00:00",
          "2019-11-04T00:00:00",
          "2019-11-05T00:00:00",
          "2019-11-06T00:00:00",
          "2019-11-07T00:00:00",
          "2019-11-08T00:00:00",
          "2019-11-11T00:00:00",
          "2019-11-12T00:00:00",
          "2019-11-13T00:00:00",
          "2019-11-14T00:00:00",
          "2019-11-15T00:00:00",
          "2019-11-18T00:00:00",
          "2019-11-19T00:00:00",
          "2019-11-20T00:00:00",
          "2019-11-21T00:00:00",
          "2019-11-22T00:00:00",
          "2019-11-25T00:00:00",
          "2019-11-26T00:00:00",
          "2019-11-27T00:00:00",
          "2019-11-29T00:00:00",
          "2019-12-02T00:00:00",
          "2019-12-03T00:00:00",
          "2019-12-04T00:00:00",
          "2019-12-05T00:00:00",
          "2019-12-06T00:00:00",
          "2019-12-09T00:00:00",
          "2019-12-10T00:00:00",
          "2019-12-11T00:00:00",
          "2019-12-12T00:00:00",
          "2019-12-13T00:00:00",
          "2019-12-16T00:00:00",
          "2019-12-17T00:00:00",
          "2019-12-18T00:00:00",
          "2019-12-19T00:00:00",
          "2019-12-20T00:00:00",
          "2019-12-23T00:00:00",
          "2019-12-24T00:00:00",
          "2019-12-26T00:00:00",
          "2019-12-27T00:00:00",
          "2019-12-30T00:00:00",
          "2019-12-31T00:00:00"
         ],
         "xaxis": "x",
         "y": [
          148158800,
          365248800,
          234428400,
          219111200,
          164101200,
          180396400,
          143122800,
          108092800,
          129756800,
          114843600,
          122278800,
          119284800,
          135004000,
          121576000,
          92522400,
          101766000,
          134142000,
          104768400,
          166348800,
          244439200,
          162958400,
          130672400,
          125982000,
          144406400,
          112958400,
          126966800,
          95280000,
          83973600,
          89134000,
          89960800,
          87342800,
          98507200,
          75891200,
          104457600,
          68998800,
          75652800,
          87493600,
          68280800,
          111341600,
          112861600,
          103544800,
          109744800,
          78949600,
          83241600,
          99185600,
          95997600,
          128044000,
          129870400,
          124130000,
          94318000,
          156171600,
          104879200,
          126585600,
          124140800,
          204136800,
          169630800,
          175381200,
          199202000,
          119393600,
          83121600,
          94256000,
          111448000,
          91062800,
          93087200,
          76457200,
          74106400,
          103526800,
          143072800,
          86781200,
          83603200,
          111042800,
          70146400,
          102785600,
          115627200,
          96783200,
          77758000,
          93292000,
          70162400,
          74172800,
          74596400,
          88818800,
          186139600,
          259309200,
          127985200,
          83569600,
          129772400,
          155054800,
          105358000,
          139634400,
          164834800,
          229722400,
          146118800,
          106178800,
          132125600,
          131516400,
          154449200,
          113459200,
          118994400,
          146118800,
          94858800,
          111792800,
          113924800,
          84873600,
          108174400,
          161584400,
          123872000,
          119093600,
          90105200,
          122737600,
          104883600,
          107731600,
          73012800,
          86698400,
          75046000,
          58676400,
          106204000,
          84496800,
          86056000,
          191202400,
          72881600,
          84281200,
          104270000,
          83598800,
          124442400,
          109012000,
          67740800,
          45448000,
          69062000,
          101354400,
          82312000,
          71588400,
          80767200,
          70380800,
          67789600,
          67467200,
          56430000,
          74162400,
          83717200,
          89111600,
          73420800,
          59966400,
          55638400,
          70475600,
          86693600,
          135742800,
          277125600,
          216071600,
          163448400,
          209572000,
          143299200,
          133457600,
          108038000,
          98478800,
          89927600,
          188874000,
          146189600,
          108909600,
          110481600,
          97654400,
          107537200,
          86141600,
          89014800,
          187272000,
          104174400,
          103493200,
          63755200,
          83962000,
          84573600,
          80092000,
          76752400,
          95654800,
          77449200,
          109237600,
          127111600,
          177158400,
          128906800,
          159053200,
          84632400,
          73274800,
          101360000,
          88242400,
          221652400,
          76662000,
          124763200,
          87613600,
          75334000,
          101408000,
          103909600,
          139223200,
          138449200,
          114426000,
          138478800,
          122306000,
          111820000,
          74770400,
          113013600,
          166795600,
          96427600,
          87360000,
          73903200,
          67585200,
          97433600,
          87247200,
          82293600,
          75828800,
          69275200,
          73477200,
          96572800,
          142839600,
          124522000,
          139162000,
          151125200,
          103272000,
          79897600,
          75864400,
          94940400,
          69986400,
          81821200,
          87388800,
          102734400,
          89182800,
          100206400,
          86703200,
          76167200,
          106234400,
          121395200,
          65325200,
          84020400,
          105207600,
          65235600,
          46617600,
          94487200,
          114430400,
          67181600,
          74424400,
          106075600,
          128042400,
          90420400,
          78756800,
          137310400,
          133587600,
          128186000,
          114158400,
          116028400,
          98369200,
          275978000,
          98572000,
          48478800,
          93121200,
          146266000,
          144114400,
          100805600
         ],
         "yaxis": "y2"
        }
       ],
       "layout": {
        "template": {
         "data": {
          "bar": [
           {
            "error_x": {
             "color": "#2a3f5f"
            },
            "error_y": {
             "color": "#2a3f5f"
            },
            "marker": {
             "line": {
              "color": "#E5ECF6",
              "width": 0.5
             },
             "pattern": {
              "fillmode": "overlay",
              "size": 10,
              "solidity": 0.2
             }
            },
            "type": "bar"
           }
          ],
          "barpolar": [
           {
            "marker": {
             "line": {
              "color": "#E5ECF6",
              "width": 0.5
             },
             "pattern": {
              "fillmode": "overlay",
              "size": 10,
              "solidity": 0.2
             }
            },
            "type": "barpolar"
           }
          ],
          "carpet": [
           {
            "aaxis": {
             "endlinecolor": "#2a3f5f",
             "gridcolor": "white",
             "linecolor": "white",
             "minorgridcolor": "white",
             "startlinecolor": "#2a3f5f"
            },
            "baxis": {
             "endlinecolor": "#2a3f5f",
             "gridcolor": "white",
             "linecolor": "white",
             "minorgridcolor": "white",
             "startlinecolor": "#2a3f5f"
            },
            "type": "carpet"
           }
          ],
          "choropleth": [
           {
            "colorbar": {
             "outlinewidth": 0,
             "ticks": ""
            },
            "type": "choropleth"
           }
          ],
          "contour": [
           {
            "colorbar": {
             "outlinewidth": 0,
             "ticks": ""
            },
            "colorscale": [
             [
              0,
              "#0d0887"
             ],
             [
              0.1111111111111111,
              "#46039f"
             ],
             [
              0.2222222222222222,
              "#7201a8"
             ],
             [
              0.3333333333333333,
              "#9c179e"
             ],
             [
              0.4444444444444444,
              "#bd3786"
             ],
             [
              0.5555555555555556,
              "#d8576b"
             ],
             [
              0.6666666666666666,
              "#ed7953"
             ],
             [
              0.7777777777777778,
              "#fb9f3a"
             ],
             [
              0.8888888888888888,
              "#fdca26"
             ],
             [
              1,
              "#f0f921"
             ]
            ],
            "type": "contour"
           }
          ],
          "contourcarpet": [
           {
            "colorbar": {
             "outlinewidth": 0,
             "ticks": ""
            },
            "type": "contourcarpet"
           }
          ],
          "heatmap": [
           {
            "colorbar": {
             "outlinewidth": 0,
             "ticks": ""
            },
            "colorscale": [
             [
              0,
              "#0d0887"
             ],
             [
              0.1111111111111111,
              "#46039f"
             ],
             [
              0.2222222222222222,
              "#7201a8"
             ],
             [
              0.3333333333333333,
              "#9c179e"
             ],
             [
              0.4444444444444444,
              "#bd3786"
             ],
             [
              0.5555555555555556,
              "#d8576b"
             ],
             [
              0.6666666666666666,
              "#ed7953"
             ],
             [
              0.7777777777777778,
              "#fb9f3a"
             ],
             [
              0.8888888888888888,
              "#fdca26"
             ],
             [
              1,
              "#f0f921"
             ]
            ],
            "type": "heatmap"
           }
          ],
          "heatmapgl": [
           {
            "colorbar": {
             "outlinewidth": 0,
             "ticks": ""
            },
            "colorscale": [
             [
              0,
              "#0d0887"
             ],
             [
              0.1111111111111111,
              "#46039f"
             ],
             [
              0.2222222222222222,
              "#7201a8"
             ],
             [
              0.3333333333333333,
              "#9c179e"
             ],
             [
              0.4444444444444444,
              "#bd3786"
             ],
             [
              0.5555555555555556,
              "#d8576b"
             ],
             [
              0.6666666666666666,
              "#ed7953"
             ],
             [
              0.7777777777777778,
              "#fb9f3a"
             ],
             [
              0.8888888888888888,
              "#fdca26"
             ],
             [
              1,
              "#f0f921"
             ]
            ],
            "type": "heatmapgl"
           }
          ],
          "histogram": [
           {
            "marker": {
             "pattern": {
              "fillmode": "overlay",
              "size": 10,
              "solidity": 0.2
             }
            },
            "type": "histogram"
           }
          ],
          "histogram2d": [
           {
            "colorbar": {
             "outlinewidth": 0,
             "ticks": ""
            },
            "colorscale": [
             [
              0,
              "#0d0887"
             ],
             [
              0.1111111111111111,
              "#46039f"
             ],
             [
              0.2222222222222222,
              "#7201a8"
             ],
             [
              0.3333333333333333,
              "#9c179e"
             ],
             [
              0.4444444444444444,
              "#bd3786"
             ],
             [
              0.5555555555555556,
              "#d8576b"
             ],
             [
              0.6666666666666666,
              "#ed7953"
             ],
             [
              0.7777777777777778,
              "#fb9f3a"
             ],
             [
              0.8888888888888888,
              "#fdca26"
             ],
             [
              1,
              "#f0f921"
             ]
            ],
            "type": "histogram2d"
           }
          ],
          "histogram2dcontour": [
           {
            "colorbar": {
             "outlinewidth": 0,
             "ticks": ""
            },
            "colorscale": [
             [
              0,
              "#0d0887"
             ],
             [
              0.1111111111111111,
              "#46039f"
             ],
             [
              0.2222222222222222,
              "#7201a8"
             ],
             [
              0.3333333333333333,
              "#9c179e"
             ],
             [
              0.4444444444444444,
              "#bd3786"
             ],
             [
              0.5555555555555556,
              "#d8576b"
             ],
             [
              0.6666666666666666,
              "#ed7953"
             ],
             [
              0.7777777777777778,
              "#fb9f3a"
             ],
             [
              0.8888888888888888,
              "#fdca26"
             ],
             [
              1,
              "#f0f921"
             ]
            ],
            "type": "histogram2dcontour"
           }
          ],
          "mesh3d": [
           {
            "colorbar": {
             "outlinewidth": 0,
             "ticks": ""
            },
            "type": "mesh3d"
           }
          ],
          "parcoords": [
           {
            "line": {
             "colorbar": {
              "outlinewidth": 0,
              "ticks": ""
             }
            },
            "type": "parcoords"
           }
          ],
          "pie": [
           {
            "automargin": true,
            "type": "pie"
           }
          ],
          "scatter": [
           {
            "marker": {
             "colorbar": {
              "outlinewidth": 0,
              "ticks": ""
             }
            },
            "type": "scatter"
           }
          ],
          "scatter3d": [
           {
            "line": {
             "colorbar": {
              "outlinewidth": 0,
              "ticks": ""
             }
            },
            "marker": {
             "colorbar": {
              "outlinewidth": 0,
              "ticks": ""
             }
            },
            "type": "scatter3d"
           }
          ],
          "scattercarpet": [
           {
            "marker": {
             "colorbar": {
              "outlinewidth": 0,
              "ticks": ""
             }
            },
            "type": "scattercarpet"
           }
          ],
          "scattergeo": [
           {
            "marker": {
             "colorbar": {
              "outlinewidth": 0,
              "ticks": ""
             }
            },
            "type": "scattergeo"
           }
          ],
          "scattergl": [
           {
            "marker": {
             "colorbar": {
              "outlinewidth": 0,
              "ticks": ""
             }
            },
            "type": "scattergl"
           }
          ],
          "scattermapbox": [
           {
            "marker": {
             "colorbar": {
              "outlinewidth": 0,
              "ticks": ""
             }
            },
            "type": "scattermapbox"
           }
          ],
          "scatterpolar": [
           {
            "marker": {
             "colorbar": {
              "outlinewidth": 0,
              "ticks": ""
             }
            },
            "type": "scatterpolar"
           }
          ],
          "scatterpolargl": [
           {
            "marker": {
             "colorbar": {
              "outlinewidth": 0,
              "ticks": ""
             }
            },
            "type": "scatterpolargl"
           }
          ],
          "scatterternary": [
           {
            "marker": {
             "colorbar": {
              "outlinewidth": 0,
              "ticks": ""
             }
            },
            "type": "scatterternary"
           }
          ],
          "surface": [
           {
            "colorbar": {
             "outlinewidth": 0,
             "ticks": ""
            },
            "colorscale": [
             [
              0,
              "#0d0887"
             ],
             [
              0.1111111111111111,
              "#46039f"
             ],
             [
              0.2222222222222222,
              "#7201a8"
             ],
             [
              0.3333333333333333,
              "#9c179e"
             ],
             [
              0.4444444444444444,
              "#bd3786"
             ],
             [
              0.5555555555555556,
              "#d8576b"
             ],
             [
              0.6666666666666666,
              "#ed7953"
             ],
             [
              0.7777777777777778,
              "#fb9f3a"
             ],
             [
              0.8888888888888888,
              "#fdca26"
             ],
             [
              1,
              "#f0f921"
             ]
            ],
            "type": "surface"
           }
          ],
          "table": [
           {
            "cells": {
             "fill": {
              "color": "#EBF0F8"
             },
             "line": {
              "color": "white"
             }
            },
            "header": {
             "fill": {
              "color": "#C8D4E3"
             },
             "line": {
              "color": "white"
             }
            },
            "type": "table"
           }
          ]
         },
         "layout": {
          "annotationdefaults": {
           "arrowcolor": "#2a3f5f",
           "arrowhead": 0,
           "arrowwidth": 1
          },
          "autotypenumbers": "strict",
          "coloraxis": {
           "colorbar": {
            "outlinewidth": 0,
            "ticks": ""
           }
          },
          "colorscale": {
           "diverging": [
            [
             0,
             "#8e0152"
            ],
            [
             0.1,
             "#c51b7d"
            ],
            [
             0.2,
             "#de77ae"
            ],
            [
             0.3,
             "#f1b6da"
            ],
            [
             0.4,
             "#fde0ef"
            ],
            [
             0.5,
             "#f7f7f7"
            ],
            [
             0.6,
             "#e6f5d0"
            ],
            [
             0.7,
             "#b8e186"
            ],
            [
             0.8,
             "#7fbc41"
            ],
            [
             0.9,
             "#4d9221"
            ],
            [
             1,
             "#276419"
            ]
           ],
           "sequential": [
            [
             0,
             "#0d0887"
            ],
            [
             0.1111111111111111,
             "#46039f"
            ],
            [
             0.2222222222222222,
             "#7201a8"
            ],
            [
             0.3333333333333333,
             "#9c179e"
            ],
            [
             0.4444444444444444,
             "#bd3786"
            ],
            [
             0.5555555555555556,
             "#d8576b"
            ],
            [
             0.6666666666666666,
             "#ed7953"
            ],
            [
             0.7777777777777778,
             "#fb9f3a"
            ],
            [
             0.8888888888888888,
             "#fdca26"
            ],
            [
             1,
             "#f0f921"
            ]
           ],
           "sequentialminus": [
            [
             0,
             "#0d0887"
            ],
            [
             0.1111111111111111,
             "#46039f"
            ],
            [
             0.2222222222222222,
             "#7201a8"
            ],
            [
             0.3333333333333333,
             "#9c179e"
            ],
            [
             0.4444444444444444,
             "#bd3786"
            ],
            [
             0.5555555555555556,
             "#d8576b"
            ],
            [
             0.6666666666666666,
             "#ed7953"
            ],
            [
             0.7777777777777778,
             "#fb9f3a"
            ],
            [
             0.8888888888888888,
             "#fdca26"
            ],
            [
             1,
             "#f0f921"
            ]
           ]
          },
          "colorway": [
           "#636efa",
           "#EF553B",
           "#00cc96",
           "#ab63fa",
           "#FFA15A",
           "#19d3f3",
           "#FF6692",
           "#B6E880",
           "#FF97FF",
           "#FECB52"
          ],
          "font": {
           "color": "#2a3f5f"
          },
          "geo": {
           "bgcolor": "white",
           "lakecolor": "white",
           "landcolor": "#E5ECF6",
           "showlakes": true,
           "showland": true,
           "subunitcolor": "white"
          },
          "hoverlabel": {
           "align": "left"
          },
          "hovermode": "closest",
          "mapbox": {
           "style": "light"
          },
          "paper_bgcolor": "white",
          "plot_bgcolor": "#E5ECF6",
          "polar": {
           "angularaxis": {
            "gridcolor": "white",
            "linecolor": "white",
            "ticks": ""
           },
           "bgcolor": "#E5ECF6",
           "radialaxis": {
            "gridcolor": "white",
            "linecolor": "white",
            "ticks": ""
           }
          },
          "scene": {
           "xaxis": {
            "backgroundcolor": "#E5ECF6",
            "gridcolor": "white",
            "gridwidth": 2,
            "linecolor": "white",
            "showbackground": true,
            "ticks": "",
            "zerolinecolor": "white"
           },
           "yaxis": {
            "backgroundcolor": "#E5ECF6",
            "gridcolor": "white",
            "gridwidth": 2,
            "linecolor": "white",
            "showbackground": true,
            "ticks": "",
            "zerolinecolor": "white"
           },
           "zaxis": {
            "backgroundcolor": "#E5ECF6",
            "gridcolor": "white",
            "gridwidth": 2,
            "linecolor": "white",
            "showbackground": true,
            "ticks": "",
            "zerolinecolor": "white"
           }
          },
          "shapedefaults": {
           "line": {
            "color": "#2a3f5f"
           }
          },
          "ternary": {
           "aaxis": {
            "gridcolor": "white",
            "linecolor": "white",
            "ticks": ""
           },
           "baxis": {
            "gridcolor": "white",
            "linecolor": "white",
            "ticks": ""
           },
           "bgcolor": "#E5ECF6",
           "caxis": {
            "gridcolor": "white",
            "linecolor": "white",
            "ticks": ""
           }
          },
          "title": {
           "x": 0.05
          },
          "xaxis": {
           "automargin": true,
           "gridcolor": "white",
           "linecolor": "white",
           "ticks": "",
           "title": {
            "standoff": 15
           },
           "zerolinecolor": "white",
           "zerolinewidth": 2
          },
          "yaxis": {
           "automargin": true,
           "gridcolor": "white",
           "linecolor": "white",
           "ticks": "",
           "title": {
            "standoff": 15
           },
           "zerolinecolor": "white",
           "zerolinewidth": 2
          }
         }
        },
        "title": {
         "text": "AAPL",
         "x": 0.5
        },
        "xaxis": {
         "anchor": "y",
         "domain": [
          0,
          0.94
         ],
         "rangeslider": {
          "visible": false
         },
         "title": {
          "text": "<b>1-year Period of Time</b>"
         }
        },
        "yaxis": {
         "anchor": "x",
         "domain": [
          0,
          1
         ],
         "title": {
          "text": "<b>Stock Value</br>"
         }
        },
        "yaxis2": {
         "anchor": "x",
         "overlaying": "y",
         "range": [
          0,
          1000000000
         ],
         "side": "right",
         "title": {
          "text": "<b>Volume Shares</b>"
         }
        }
       }
      }
     },
     "metadata": {},
     "output_type": "display_data"
    }
   ],
   "source": [
    "#MICROSOFT:\n",
    "\n",
    "#CREATION OF THE SMA:\n",
    "fig4.add_trace(go.Scatter(x=msft.index,y=msft['Close'].rolling(window=20).mean(),marker_color='blue',name='20-Day SMA')) #Creation of the SMA Indicator over 20 days.\n",
    "\n",
    "#ADDING THE VOLUME INFORMATION:\n",
    "fig4.add_trace(go.Bar(x=msft.index, y=msft['Volume'], name='Volume'),secondary_y=True)      #Adding up the Volume information on the below part of the chart.\n",
    "\n",
    "#SETTING UP THE CHART INFORMATION:\n",
    "fig4.update_layout(title={'text':'MSFT', 'x':0.5})                                          #Add figure title.\n",
    "fig4.update_yaxes(range=[0,1000000000],secondary_y=True)                                    #Adjust the Scale for the Volume of the Stock. \n",
    "fig4.update_layout(xaxis_rangeslider_visible=False)                                         #Hide the \"Range Slider\", that in this case is useless.\n",
    "fig4.show()                                                                                 #Show the Plot.\n",
    "\n",
    "\n",
    "#APPLE:\n",
    "\n",
    "#CREATION OF THE SMA:\n",
    "fig5.add_trace(go.Scatter(x=aapl.index,y=aapl['Close'].rolling(window=20).mean(),marker_color='blue',name='20-Day SMA')) #Creation of the SMA Indicator over 20 days.\n",
    "\n",
    "#ADDING THE VOLUME INFORMATION:\n",
    "fig5.add_trace(go.Bar(x=aapl.index, y=aapl['Volume'], name='Volume'),secondary_y=True)       #Adding up the Volume information on the below part of the chart.\n",
    "\n",
    "#SETTING UP THE CHART INFORMATION:\n",
    "fig5.update_layout(title={'text':'AAPL', 'x':0.5})                                          #Add figure title.\n",
    "fig5.update_yaxes(range=[0,1000000000],secondary_y=True)                                    #Adjust the Scale for the Volume of the Stock. \n",
    "fig5.update_layout(xaxis_rangeslider_visible=False)                                         #Hide the \"Range Slider\", that in this case is useless.\n",
    "fig5.show()                                                                                 #Show the Plot."
   ]
  },
  {
   "cell_type": "markdown",
   "id": "0e2c27a7",
   "metadata": {},
   "source": [
    "## 2.2: IMPLEMETATION OF THE **NON-PARAMETRIC BOOTSTRAP** SCHEME: ESTIMATES FOR **SE** and **MSE**\n",
    "\n",
    "##### TASK: \n",
    "Pick two stocks, gather their returns/performance measure in `Python` over a 1 year long period of your choosing, and implement a **nonparametric bootstrap** scheme to get (approximate) estimates for the **standard error** and **MSE** of the plug-in estimator $\\widehat{\\omega}$.\n",
    "\n",
    "##### IMPLEMENTATION APPROACH:\n",
    "We have already picked two stocks, AAPL and MSFT. We will proceed first in gathering their Performance Measure. First of all, we understood that a good performance measure is the so called **Yield**. "
   ]
  },
  {
   "cell_type": "markdown",
   "id": "d56ffc06",
   "metadata": {},
   "source": [
    "#### 2.2.1.1: GATHERING STOCKS' PERFORMANCE MEASURE: RATE OF RETURN(RoR):\n",
    "We proceed with finding the **Yield** that is the Performance Measure(\"Rendimento\" in Italian). More commonly called, in the Financial World, the **Rate of Return**, it is a synthetic measure of the performance of an investment. It is, for sure, one of the most used Performance Measurment when analyzing the effectiveness of an investment. \n",
    "\n",
    "The formula for calculating the Rate of Return is very simple:\n",
    "$$ RoR = \\frac{Final Capital - Initial Capital}{Initial Capital}$$\n",
    "That in our case is interpreted as:\n",
    "$$ RoR = \\frac{Closed - Open}{Open}$$\n",
    "\n",
    "Notice that, indeed, the \"Final Capital\" represents the total amount at closing. Instead, we have that \"Initial Capital\" represents the sum initially committed. When the value is greater than zero then it means that the investment has generated a gain, values ​​below zero indicate that there has been a loss. The Rate of Return is a neutral measure expressed in percentage terms; this makes it possible to compare various investments regardless of its risk capital. \n"
   ]
  },
  {
   "cell_type": "code",
   "execution_count": 19,
   "id": "7bfaad43",
   "metadata": {},
   "outputs": [
    {
     "data": {
      "application/vnd.plotly.v1+json": {
       "config": {
        "plotlyServerURL": "https://plot.ly"
       },
       "data": [
        {
         "mode": "lines+markers",
         "name": "MSFT",
         "type": "scatter",
         "x": [
          "2019-01-02T00:00:00",
          "2019-01-03T00:00:00",
          "2019-01-04T00:00:00",
          "2019-01-07T00:00:00",
          "2019-01-08T00:00:00",
          "2019-01-09T00:00:00",
          "2019-01-10T00:00:00",
          "2019-01-11T00:00:00",
          "2019-01-14T00:00:00",
          "2019-01-15T00:00:00",
          "2019-01-16T00:00:00",
          "2019-01-17T00:00:00",
          "2019-01-18T00:00:00",
          "2019-01-22T00:00:00",
          "2019-01-23T00:00:00",
          "2019-01-24T00:00:00",
          "2019-01-25T00:00:00",
          "2019-01-28T00:00:00",
          "2019-01-29T00:00:00",
          "2019-01-30T00:00:00",
          "2019-01-31T00:00:00",
          "2019-02-01T00:00:00",
          "2019-02-04T00:00:00",
          "2019-02-05T00:00:00",
          "2019-02-06T00:00:00",
          "2019-02-07T00:00:00",
          "2019-02-08T00:00:00",
          "2019-02-11T00:00:00",
          "2019-02-12T00:00:00",
          "2019-02-13T00:00:00",
          "2019-02-14T00:00:00",
          "2019-02-15T00:00:00",
          "2019-02-19T00:00:00",
          "2019-02-20T00:00:00",
          "2019-02-21T00:00:00",
          "2019-02-22T00:00:00",
          "2019-02-25T00:00:00",
          "2019-02-26T00:00:00",
          "2019-02-27T00:00:00",
          "2019-02-28T00:00:00",
          "2019-03-01T00:00:00",
          "2019-03-04T00:00:00",
          "2019-03-05T00:00:00",
          "2019-03-06T00:00:00",
          "2019-03-07T00:00:00",
          "2019-03-08T00:00:00",
          "2019-03-11T00:00:00",
          "2019-03-12T00:00:00",
          "2019-03-13T00:00:00",
          "2019-03-14T00:00:00",
          "2019-03-15T00:00:00",
          "2019-03-18T00:00:00",
          "2019-03-19T00:00:00",
          "2019-03-20T00:00:00",
          "2019-03-21T00:00:00",
          "2019-03-22T00:00:00",
          "2019-03-25T00:00:00",
          "2019-03-26T00:00:00",
          "2019-03-27T00:00:00",
          "2019-03-28T00:00:00",
          "2019-03-29T00:00:00",
          "2019-04-01T00:00:00",
          "2019-04-02T00:00:00",
          "2019-04-03T00:00:00",
          "2019-04-04T00:00:00",
          "2019-04-05T00:00:00",
          "2019-04-08T00:00:00",
          "2019-04-09T00:00:00",
          "2019-04-10T00:00:00",
          "2019-04-11T00:00:00",
          "2019-04-12T00:00:00",
          "2019-04-15T00:00:00",
          "2019-04-16T00:00:00",
          "2019-04-17T00:00:00",
          "2019-04-18T00:00:00",
          "2019-04-22T00:00:00",
          "2019-04-23T00:00:00",
          "2019-04-24T00:00:00",
          "2019-04-25T00:00:00",
          "2019-04-26T00:00:00",
          "2019-04-29T00:00:00",
          "2019-04-30T00:00:00",
          "2019-05-01T00:00:00",
          "2019-05-02T00:00:00",
          "2019-05-03T00:00:00",
          "2019-05-06T00:00:00",
          "2019-05-07T00:00:00",
          "2019-05-08T00:00:00",
          "2019-05-09T00:00:00",
          "2019-05-10T00:00:00",
          "2019-05-13T00:00:00",
          "2019-05-14T00:00:00",
          "2019-05-15T00:00:00",
          "2019-05-16T00:00:00",
          "2019-05-17T00:00:00",
          "2019-05-20T00:00:00",
          "2019-05-21T00:00:00",
          "2019-05-22T00:00:00",
          "2019-05-23T00:00:00",
          "2019-05-24T00:00:00",
          "2019-05-28T00:00:00",
          "2019-05-29T00:00:00",
          "2019-05-30T00:00:00",
          "2019-05-31T00:00:00",
          "2019-06-03T00:00:00",
          "2019-06-04T00:00:00",
          "2019-06-05T00:00:00",
          "2019-06-06T00:00:00",
          "2019-06-07T00:00:00",
          "2019-06-10T00:00:00",
          "2019-06-11T00:00:00",
          "2019-06-12T00:00:00",
          "2019-06-13T00:00:00",
          "2019-06-14T00:00:00",
          "2019-06-17T00:00:00",
          "2019-06-18T00:00:00",
          "2019-06-19T00:00:00",
          "2019-06-20T00:00:00",
          "2019-06-21T00:00:00",
          "2019-06-24T00:00:00",
          "2019-06-25T00:00:00",
          "2019-06-26T00:00:00",
          "2019-06-27T00:00:00",
          "2019-06-28T00:00:00",
          "2019-07-01T00:00:00",
          "2019-07-02T00:00:00",
          "2019-07-03T00:00:00",
          "2019-07-05T00:00:00",
          "2019-07-08T00:00:00",
          "2019-07-09T00:00:00",
          "2019-07-10T00:00:00",
          "2019-07-11T00:00:00",
          "2019-07-12T00:00:00",
          "2019-07-15T00:00:00",
          "2019-07-16T00:00:00",
          "2019-07-17T00:00:00",
          "2019-07-18T00:00:00",
          "2019-07-19T00:00:00",
          "2019-07-22T00:00:00",
          "2019-07-23T00:00:00",
          "2019-07-24T00:00:00",
          "2019-07-25T00:00:00",
          "2019-07-26T00:00:00",
          "2019-07-29T00:00:00",
          "2019-07-30T00:00:00",
          "2019-07-31T00:00:00",
          "2019-08-01T00:00:00",
          "2019-08-02T00:00:00",
          "2019-08-05T00:00:00",
          "2019-08-06T00:00:00",
          "2019-08-07T00:00:00",
          "2019-08-08T00:00:00",
          "2019-08-09T00:00:00",
          "2019-08-12T00:00:00",
          "2019-08-13T00:00:00",
          "2019-08-14T00:00:00",
          "2019-08-15T00:00:00",
          "2019-08-16T00:00:00",
          "2019-08-19T00:00:00",
          "2019-08-20T00:00:00",
          "2019-08-21T00:00:00",
          "2019-08-22T00:00:00",
          "2019-08-23T00:00:00",
          "2019-08-26T00:00:00",
          "2019-08-27T00:00:00",
          "2019-08-28T00:00:00",
          "2019-08-29T00:00:00",
          "2019-08-30T00:00:00",
          "2019-09-03T00:00:00",
          "2019-09-04T00:00:00",
          "2019-09-05T00:00:00",
          "2019-09-06T00:00:00",
          "2019-09-09T00:00:00",
          "2019-09-10T00:00:00",
          "2019-09-11T00:00:00",
          "2019-09-12T00:00:00",
          "2019-09-13T00:00:00",
          "2019-09-16T00:00:00",
          "2019-09-17T00:00:00",
          "2019-09-18T00:00:00",
          "2019-09-19T00:00:00",
          "2019-09-20T00:00:00",
          "2019-09-23T00:00:00",
          "2019-09-24T00:00:00",
          "2019-09-25T00:00:00",
          "2019-09-26T00:00:00",
          "2019-09-27T00:00:00",
          "2019-09-30T00:00:00",
          "2019-10-01T00:00:00",
          "2019-10-02T00:00:00",
          "2019-10-03T00:00:00",
          "2019-10-04T00:00:00",
          "2019-10-07T00:00:00",
          "2019-10-08T00:00:00",
          "2019-10-09T00:00:00",
          "2019-10-10T00:00:00",
          "2019-10-11T00:00:00",
          "2019-10-14T00:00:00",
          "2019-10-15T00:00:00",
          "2019-10-16T00:00:00",
          "2019-10-17T00:00:00",
          "2019-10-18T00:00:00",
          "2019-10-21T00:00:00",
          "2019-10-22T00:00:00",
          "2019-10-23T00:00:00",
          "2019-10-24T00:00:00",
          "2019-10-25T00:00:00",
          "2019-10-28T00:00:00",
          "2019-10-29T00:00:00",
          "2019-10-30T00:00:00",
          "2019-10-31T00:00:00",
          "2019-11-01T00:00:00",
          "2019-11-04T00:00:00",
          "2019-11-05T00:00:00",
          "2019-11-06T00:00:00",
          "2019-11-07T00:00:00",
          "2019-11-08T00:00:00",
          "2019-11-11T00:00:00",
          "2019-11-12T00:00:00",
          "2019-11-13T00:00:00",
          "2019-11-14T00:00:00",
          "2019-11-15T00:00:00",
          "2019-11-18T00:00:00",
          "2019-11-19T00:00:00",
          "2019-11-20T00:00:00",
          "2019-11-21T00:00:00",
          "2019-11-22T00:00:00",
          "2019-11-25T00:00:00",
          "2019-11-26T00:00:00",
          "2019-11-27T00:00:00",
          "2019-11-29T00:00:00",
          "2019-12-02T00:00:00",
          "2019-12-03T00:00:00",
          "2019-12-04T00:00:00",
          "2019-12-05T00:00:00",
          "2019-12-06T00:00:00",
          "2019-12-09T00:00:00",
          "2019-12-10T00:00:00",
          "2019-12-11T00:00:00",
          "2019-12-12T00:00:00",
          "2019-12-13T00:00:00",
          "2019-12-16T00:00:00",
          "2019-12-17T00:00:00",
          "2019-12-18T00:00:00",
          "2019-12-19T00:00:00",
          "2019-12-20T00:00:00",
          "2019-12-23T00:00:00",
          "2019-12-24T00:00:00",
          "2019-12-26T00:00:00",
          "2019-12-27T00:00:00",
          "2019-12-30T00:00:00",
          "2019-12-31T00:00:00"
         ],
         "y": [
          0.015770965813109498,
          -0.026972996897100046,
          0.022162044298228836,
          0.004132213414673508,
          -0.00232917179383842,
          0.003947583576982765,
          0.003681430429413245,
          -0.0037794299876084264,
          0.0014720463555715582,
          0.0243878640903512,
          0.0011399877897798152,
          0.010666692824590774,
          0.00232644706988578,
          -0.010023416344957552,
          0.005559709033362496,
          -0.006176339681261804,
          -0.000652738681635761,
          -0.011104839840516507,
          -0.01849728130068668,
          0.016822734282459548,
          0.006069337523081123,
          -0.00963576808404714,
          0.02789924215572998,
          0.010937240135881779,
          -0.009065431969188084,
          0.0007604734271654309,
          0.012261699269861311,
          -0.008945357585134203,
          0.007066139102250132,
          -0.006418627361918605,
          0.0055498446132497565,
          0.0028727416186957277,
          0.0035253479004584503,
          -0.006582598557898729,
          0.02347990739385382,
          0.00835981956777072,
          -0.0015211685315880206,
          0.00988673784828998,
          0.00429757110795009,
          -0.0000892729038623435,
          -0.0031889504145446307,
          -0.006724425140766113,
          -0.004899804470002784,
          -0.0010726981642601033,
          -0.009066446341078721,
          0.012367153067343593,
          0.01657810616001272,
          0.0070909683914359535,
          0.003241941255465599,
          0.00043648875470284494,
          0.004941974530230634,
          0.012051317448097853,
          -0.0037259278995382694,
          0.0011073963207587514,
          0.02629333999575609,
          -0.020502066512486924,
          0.009437252286854768,
          -0.0059854920589530545,
          -0.009416361013016376,
          -0.004342661151466865,
          -0.0011010184954177431,
          0.0005884800052132594,
          0.0010919274775603777,
          0.0009177424477842229,
          -0.0061615143478039635,
          0.004187955461563993,
          0.0010016087891441883,
          0.00547923409700811,
          0.0035905168462392265,
          -0.0017421526702975597,
          0.0025696084230944507,
          0.0009095469499833711,
          -0.007152275163987452,
          0.0043714845647919295,
          0.009657093719607924,
          0.009297009982983502,
          0.010797775856255075,
          -0.006200801125843644,
          -0.006996799009621742,
          0.0014649379019035134,
          -0.001000689993311505,
          0.006085883674447188,
          -0.020301858198586133,
          -0.013830319003230779,
          0.012091655769100592,
          0.013925108911584378,
          -0.007433199811889512,
          0.0005580332705822133,
          0.009735289046260623,
          0.01777274458588471,
          -0.00612361721451059,
          0.006942767347079055,
          0.014163805541435575,
          0.017199153260601577,
          -0.0018703938815477462,
          -0.0023711304957556817,
          -0.004159136608550633,
          0.008292492493976232,
          -0.00015845200911222986,
          -0.005279377346199562,
          -0.006457707301513027,
          -0.0035092903305971646,
          0.003752205114861489,
          -0.004427296441243438,
          -0.032377894110902014,
          0.01550135967789461,
          0.007042856376995534,
          0.010914245703668626,
          0.017106520731590358,
          0.0015106662858884086,
          -0.013295478894364688,
          0.0006850197934605519,
          0.0025762358515423137,
          0.0014365828617695098,
          0.0016587590485087505,
          0.007228565489643491,
          0.005111129195601852,
          -0.0036376865121959855,
          0.0028554648149064672,
          0.005693421746692518,
          -0.027832475950591986,
          -0.003126262810965248,
          0.00007450802804095416,
          -0.004532961114298608,
          -0.006953174069239587,
          0.0033794205874835776,
          0.004824588065686409,
          0.008238892872392345,
          0.004105666000306518,
          0.0033824023078469667,
          0.005250500948486205,
          0.0014471559526668379,
          0.000360012897165327,
          -0.0038726946031773825,
          -0.013529107599164281,
          -0.010384841739094205,
          0.006418259665072121,
          -0.025673984254566483,
          0.0074229603848932554,
          -0.003362916708472941,
          0.01310300506978507,
          -0.0017089670789136847,
          0.006910317407173251,
          -0.00332156339719523,
          0.0014985494133140393,
          -0.028931785830671047,
          0.007737208456888686,
          -0.008617586160944261,
          -0.008177016601172923,
          0.0066517142701720215,
          0.011136897884264264,
          0.016764225357336026,
          -0.006492993958021542,
          -0.00933839621864362,
          0.018743131161766378,
          -0.017453834498089797,
          -0.005283181167436457,
          0.009267496698906816,
          0.004062368761690379,
          -0.006873686136185762,
          0.0017321561103491813,
          -0.006346494011040998,
          -0.027698833618585224,
          0.003407596387581591,
          -0.004765700560107983,
          0.005041463902466838,
          0.006338762238160291,
          -0.009270523483403502,
          -0.004172515347866545,
          0.002403509276910119,
          0.006757259990525094,
          -0.006641381731688963,
          -0.014829086035786393,
          -0.0052631667005936765,
          0.0015450772527399242,
          -0.0023939195969775976,
          -0.003338593839117121,
          0.0036810718785228306,
          0.003139549172771129,
          0.008444988766416445,
          0.005488269819758141,
          -0.011133906294518554,
          -0.0006463861283651834,
          -0.021231089445573056,
          0.013527277166193181,
          0.00071708866161688,
          -0.017267201386628225,
          0.007098846112822191,
          -0.018545011241420346,
          -0.0117431640625,
          0.009855515829057688,
          0.01001824582952468,
          -0.00014586752625031334,
          -0.010285990978079683,
          0.005674368843299259,
          0.004404654387725275,
          -0.0031401831054751307,
          -0.0010022148128113965,
          0.010781163729445955,
          -0.002698981761091289,
          -0.008939301412674853,
          -0.0168144743638468,
          -0.00014448734490341556,
          -0.018709117656165695,
          0.0026300452769545918,
          0.003945785595567321,
          0.009975595135497043,
          -0.001454234514917369,
          -0.008675735592131133,
          0.00759473456969355,
          -0.010558998231496796,
          -0.0037431949722362165,
          -0.001933292658681975,
          -0.0035179313136620527,
          -0.00214724367305076,
          0.002919898356773496,
          0.013751986700117732,
          0.005297951643474721,
          0.005400660045901542,
          0.0038843672079339046,
          0.0070738216290993465,
          0.0069832041634888195,
          0.0017990870959883225,
          -0.003247650300280985,
          -0.004590529256959595,
          0.0005354875122024357,
          -0.003198580415146414,
          0.008199971516927083,
          0.0044265206543576815,
          -0.0000656108889634371,
          -0.0047337356463556576,
          -0.014886993894876079,
          0.012339765391859324,
          -0.0019314858619401752,
          -0.000799802556053041,
          0.005033409359471449,
          0.001919595366871491,
          -0.001057494946263422,
          0.0010558510571348737,
          0.010484745536917216,
          0.009999992021548203,
          0.0027077439706829783,
          -0.004888996601839634,
          0.0004536102660102322,
          0.011103939700436282,
          0.00038130000804880484,
          -0.004490206659517848,
          -0.0006349431511260624,
          0.0070449392456913,
          -0.003073002469445339,
          -0.008805642536653868,
          0.005932210566027378
         ]
        }
       ],
       "layout": {
        "template": {
         "data": {
          "bar": [
           {
            "error_x": {
             "color": "#2a3f5f"
            },
            "error_y": {
             "color": "#2a3f5f"
            },
            "marker": {
             "line": {
              "color": "#E5ECF6",
              "width": 0.5
             },
             "pattern": {
              "fillmode": "overlay",
              "size": 10,
              "solidity": 0.2
             }
            },
            "type": "bar"
           }
          ],
          "barpolar": [
           {
            "marker": {
             "line": {
              "color": "#E5ECF6",
              "width": 0.5
             },
             "pattern": {
              "fillmode": "overlay",
              "size": 10,
              "solidity": 0.2
             }
            },
            "type": "barpolar"
           }
          ],
          "carpet": [
           {
            "aaxis": {
             "endlinecolor": "#2a3f5f",
             "gridcolor": "white",
             "linecolor": "white",
             "minorgridcolor": "white",
             "startlinecolor": "#2a3f5f"
            },
            "baxis": {
             "endlinecolor": "#2a3f5f",
             "gridcolor": "white",
             "linecolor": "white",
             "minorgridcolor": "white",
             "startlinecolor": "#2a3f5f"
            },
            "type": "carpet"
           }
          ],
          "choropleth": [
           {
            "colorbar": {
             "outlinewidth": 0,
             "ticks": ""
            },
            "type": "choropleth"
           }
          ],
          "contour": [
           {
            "colorbar": {
             "outlinewidth": 0,
             "ticks": ""
            },
            "colorscale": [
             [
              0,
              "#0d0887"
             ],
             [
              0.1111111111111111,
              "#46039f"
             ],
             [
              0.2222222222222222,
              "#7201a8"
             ],
             [
              0.3333333333333333,
              "#9c179e"
             ],
             [
              0.4444444444444444,
              "#bd3786"
             ],
             [
              0.5555555555555556,
              "#d8576b"
             ],
             [
              0.6666666666666666,
              "#ed7953"
             ],
             [
              0.7777777777777778,
              "#fb9f3a"
             ],
             [
              0.8888888888888888,
              "#fdca26"
             ],
             [
              1,
              "#f0f921"
             ]
            ],
            "type": "contour"
           }
          ],
          "contourcarpet": [
           {
            "colorbar": {
             "outlinewidth": 0,
             "ticks": ""
            },
            "type": "contourcarpet"
           }
          ],
          "heatmap": [
           {
            "colorbar": {
             "outlinewidth": 0,
             "ticks": ""
            },
            "colorscale": [
             [
              0,
              "#0d0887"
             ],
             [
              0.1111111111111111,
              "#46039f"
             ],
             [
              0.2222222222222222,
              "#7201a8"
             ],
             [
              0.3333333333333333,
              "#9c179e"
             ],
             [
              0.4444444444444444,
              "#bd3786"
             ],
             [
              0.5555555555555556,
              "#d8576b"
             ],
             [
              0.6666666666666666,
              "#ed7953"
             ],
             [
              0.7777777777777778,
              "#fb9f3a"
             ],
             [
              0.8888888888888888,
              "#fdca26"
             ],
             [
              1,
              "#f0f921"
             ]
            ],
            "type": "heatmap"
           }
          ],
          "heatmapgl": [
           {
            "colorbar": {
             "outlinewidth": 0,
             "ticks": ""
            },
            "colorscale": [
             [
              0,
              "#0d0887"
             ],
             [
              0.1111111111111111,
              "#46039f"
             ],
             [
              0.2222222222222222,
              "#7201a8"
             ],
             [
              0.3333333333333333,
              "#9c179e"
             ],
             [
              0.4444444444444444,
              "#bd3786"
             ],
             [
              0.5555555555555556,
              "#d8576b"
             ],
             [
              0.6666666666666666,
              "#ed7953"
             ],
             [
              0.7777777777777778,
              "#fb9f3a"
             ],
             [
              0.8888888888888888,
              "#fdca26"
             ],
             [
              1,
              "#f0f921"
             ]
            ],
            "type": "heatmapgl"
           }
          ],
          "histogram": [
           {
            "marker": {
             "pattern": {
              "fillmode": "overlay",
              "size": 10,
              "solidity": 0.2
             }
            },
            "type": "histogram"
           }
          ],
          "histogram2d": [
           {
            "colorbar": {
             "outlinewidth": 0,
             "ticks": ""
            },
            "colorscale": [
             [
              0,
              "#0d0887"
             ],
             [
              0.1111111111111111,
              "#46039f"
             ],
             [
              0.2222222222222222,
              "#7201a8"
             ],
             [
              0.3333333333333333,
              "#9c179e"
             ],
             [
              0.4444444444444444,
              "#bd3786"
             ],
             [
              0.5555555555555556,
              "#d8576b"
             ],
             [
              0.6666666666666666,
              "#ed7953"
             ],
             [
              0.7777777777777778,
              "#fb9f3a"
             ],
             [
              0.8888888888888888,
              "#fdca26"
             ],
             [
              1,
              "#f0f921"
             ]
            ],
            "type": "histogram2d"
           }
          ],
          "histogram2dcontour": [
           {
            "colorbar": {
             "outlinewidth": 0,
             "ticks": ""
            },
            "colorscale": [
             [
              0,
              "#0d0887"
             ],
             [
              0.1111111111111111,
              "#46039f"
             ],
             [
              0.2222222222222222,
              "#7201a8"
             ],
             [
              0.3333333333333333,
              "#9c179e"
             ],
             [
              0.4444444444444444,
              "#bd3786"
             ],
             [
              0.5555555555555556,
              "#d8576b"
             ],
             [
              0.6666666666666666,
              "#ed7953"
             ],
             [
              0.7777777777777778,
              "#fb9f3a"
             ],
             [
              0.8888888888888888,
              "#fdca26"
             ],
             [
              1,
              "#f0f921"
             ]
            ],
            "type": "histogram2dcontour"
           }
          ],
          "mesh3d": [
           {
            "colorbar": {
             "outlinewidth": 0,
             "ticks": ""
            },
            "type": "mesh3d"
           }
          ],
          "parcoords": [
           {
            "line": {
             "colorbar": {
              "outlinewidth": 0,
              "ticks": ""
             }
            },
            "type": "parcoords"
           }
          ],
          "pie": [
           {
            "automargin": true,
            "type": "pie"
           }
          ],
          "scatter": [
           {
            "marker": {
             "colorbar": {
              "outlinewidth": 0,
              "ticks": ""
             }
            },
            "type": "scatter"
           }
          ],
          "scatter3d": [
           {
            "line": {
             "colorbar": {
              "outlinewidth": 0,
              "ticks": ""
             }
            },
            "marker": {
             "colorbar": {
              "outlinewidth": 0,
              "ticks": ""
             }
            },
            "type": "scatter3d"
           }
          ],
          "scattercarpet": [
           {
            "marker": {
             "colorbar": {
              "outlinewidth": 0,
              "ticks": ""
             }
            },
            "type": "scattercarpet"
           }
          ],
          "scattergeo": [
           {
            "marker": {
             "colorbar": {
              "outlinewidth": 0,
              "ticks": ""
             }
            },
            "type": "scattergeo"
           }
          ],
          "scattergl": [
           {
            "marker": {
             "colorbar": {
              "outlinewidth": 0,
              "ticks": ""
             }
            },
            "type": "scattergl"
           }
          ],
          "scattermapbox": [
           {
            "marker": {
             "colorbar": {
              "outlinewidth": 0,
              "ticks": ""
             }
            },
            "type": "scattermapbox"
           }
          ],
          "scatterpolar": [
           {
            "marker": {
             "colorbar": {
              "outlinewidth": 0,
              "ticks": ""
             }
            },
            "type": "scatterpolar"
           }
          ],
          "scatterpolargl": [
           {
            "marker": {
             "colorbar": {
              "outlinewidth": 0,
              "ticks": ""
             }
            },
            "type": "scatterpolargl"
           }
          ],
          "scatterternary": [
           {
            "marker": {
             "colorbar": {
              "outlinewidth": 0,
              "ticks": ""
             }
            },
            "type": "scatterternary"
           }
          ],
          "surface": [
           {
            "colorbar": {
             "outlinewidth": 0,
             "ticks": ""
            },
            "colorscale": [
             [
              0,
              "#0d0887"
             ],
             [
              0.1111111111111111,
              "#46039f"
             ],
             [
              0.2222222222222222,
              "#7201a8"
             ],
             [
              0.3333333333333333,
              "#9c179e"
             ],
             [
              0.4444444444444444,
              "#bd3786"
             ],
             [
              0.5555555555555556,
              "#d8576b"
             ],
             [
              0.6666666666666666,
              "#ed7953"
             ],
             [
              0.7777777777777778,
              "#fb9f3a"
             ],
             [
              0.8888888888888888,
              "#fdca26"
             ],
             [
              1,
              "#f0f921"
             ]
            ],
            "type": "surface"
           }
          ],
          "table": [
           {
            "cells": {
             "fill": {
              "color": "#EBF0F8"
             },
             "line": {
              "color": "white"
             }
            },
            "header": {
             "fill": {
              "color": "#C8D4E3"
             },
             "line": {
              "color": "white"
             }
            },
            "type": "table"
           }
          ]
         },
         "layout": {
          "annotationdefaults": {
           "arrowcolor": "#2a3f5f",
           "arrowhead": 0,
           "arrowwidth": 1
          },
          "autotypenumbers": "strict",
          "coloraxis": {
           "colorbar": {
            "outlinewidth": 0,
            "ticks": ""
           }
          },
          "colorscale": {
           "diverging": [
            [
             0,
             "#8e0152"
            ],
            [
             0.1,
             "#c51b7d"
            ],
            [
             0.2,
             "#de77ae"
            ],
            [
             0.3,
             "#f1b6da"
            ],
            [
             0.4,
             "#fde0ef"
            ],
            [
             0.5,
             "#f7f7f7"
            ],
            [
             0.6,
             "#e6f5d0"
            ],
            [
             0.7,
             "#b8e186"
            ],
            [
             0.8,
             "#7fbc41"
            ],
            [
             0.9,
             "#4d9221"
            ],
            [
             1,
             "#276419"
            ]
           ],
           "sequential": [
            [
             0,
             "#0d0887"
            ],
            [
             0.1111111111111111,
             "#46039f"
            ],
            [
             0.2222222222222222,
             "#7201a8"
            ],
            [
             0.3333333333333333,
             "#9c179e"
            ],
            [
             0.4444444444444444,
             "#bd3786"
            ],
            [
             0.5555555555555556,
             "#d8576b"
            ],
            [
             0.6666666666666666,
             "#ed7953"
            ],
            [
             0.7777777777777778,
             "#fb9f3a"
            ],
            [
             0.8888888888888888,
             "#fdca26"
            ],
            [
             1,
             "#f0f921"
            ]
           ],
           "sequentialminus": [
            [
             0,
             "#0d0887"
            ],
            [
             0.1111111111111111,
             "#46039f"
            ],
            [
             0.2222222222222222,
             "#7201a8"
            ],
            [
             0.3333333333333333,
             "#9c179e"
            ],
            [
             0.4444444444444444,
             "#bd3786"
            ],
            [
             0.5555555555555556,
             "#d8576b"
            ],
            [
             0.6666666666666666,
             "#ed7953"
            ],
            [
             0.7777777777777778,
             "#fb9f3a"
            ],
            [
             0.8888888888888888,
             "#fdca26"
            ],
            [
             1,
             "#f0f921"
            ]
           ]
          },
          "colorway": [
           "#636efa",
           "#EF553B",
           "#00cc96",
           "#ab63fa",
           "#FFA15A",
           "#19d3f3",
           "#FF6692",
           "#B6E880",
           "#FF97FF",
           "#FECB52"
          ],
          "font": {
           "color": "#2a3f5f"
          },
          "geo": {
           "bgcolor": "white",
           "lakecolor": "white",
           "landcolor": "#E5ECF6",
           "showlakes": true,
           "showland": true,
           "subunitcolor": "white"
          },
          "hoverlabel": {
           "align": "left"
          },
          "hovermode": "closest",
          "mapbox": {
           "style": "light"
          },
          "paper_bgcolor": "white",
          "plot_bgcolor": "#E5ECF6",
          "polar": {
           "angularaxis": {
            "gridcolor": "white",
            "linecolor": "white",
            "ticks": ""
           },
           "bgcolor": "#E5ECF6",
           "radialaxis": {
            "gridcolor": "white",
            "linecolor": "white",
            "ticks": ""
           }
          },
          "scene": {
           "xaxis": {
            "backgroundcolor": "#E5ECF6",
            "gridcolor": "white",
            "gridwidth": 2,
            "linecolor": "white",
            "showbackground": true,
            "ticks": "",
            "zerolinecolor": "white"
           },
           "yaxis": {
            "backgroundcolor": "#E5ECF6",
            "gridcolor": "white",
            "gridwidth": 2,
            "linecolor": "white",
            "showbackground": true,
            "ticks": "",
            "zerolinecolor": "white"
           },
           "zaxis": {
            "backgroundcolor": "#E5ECF6",
            "gridcolor": "white",
            "gridwidth": 2,
            "linecolor": "white",
            "showbackground": true,
            "ticks": "",
            "zerolinecolor": "white"
           }
          },
          "shapedefaults": {
           "line": {
            "color": "#2a3f5f"
           }
          },
          "ternary": {
           "aaxis": {
            "gridcolor": "white",
            "linecolor": "white",
            "ticks": ""
           },
           "baxis": {
            "gridcolor": "white",
            "linecolor": "white",
            "ticks": ""
           },
           "bgcolor": "#E5ECF6",
           "caxis": {
            "gridcolor": "white",
            "linecolor": "white",
            "ticks": ""
           }
          },
          "title": {
           "x": 0.05
          },
          "xaxis": {
           "automargin": true,
           "gridcolor": "white",
           "linecolor": "white",
           "ticks": "",
           "title": {
            "standoff": 15
           },
           "zerolinecolor": "white",
           "zerolinewidth": 2
          },
          "yaxis": {
           "automargin": true,
           "gridcolor": "white",
           "linecolor": "white",
           "ticks": "",
           "title": {
            "standoff": 15
           },
           "zerolinecolor": "white",
           "zerolinewidth": 2
          }
         }
        },
        "title": {
         "text": "<b>MICROSOFT RoR PLOT (2019)</b>"
        },
        "xaxis": {
         "title": {
          "text": "<b>1-year Period of Time</b>"
         }
        },
        "yaxis": {
         "title": {
          "text": "<b>Rate of Return(RoR)</b>"
         }
        }
       }
      }
     },
     "metadata": {},
     "output_type": "display_data"
    },
    {
     "data": {
      "application/vnd.plotly.v1+json": {
       "config": {
        "plotlyServerURL": "https://plot.ly"
       },
       "data": [
        {
         "mode": "lines+markers",
         "name": "AAPL",
         "type": "scatter",
         "x": [
          "2019-01-02T00:00:00",
          "2019-01-03T00:00:00",
          "2019-01-04T00:00:00",
          "2019-01-07T00:00:00",
          "2019-01-08T00:00:00",
          "2019-01-09T00:00:00",
          "2019-01-10T00:00:00",
          "2019-01-11T00:00:00",
          "2019-01-14T00:00:00",
          "2019-01-15T00:00:00",
          "2019-01-16T00:00:00",
          "2019-01-17T00:00:00",
          "2019-01-18T00:00:00",
          "2019-01-22T00:00:00",
          "2019-01-23T00:00:00",
          "2019-01-24T00:00:00",
          "2019-01-25T00:00:00",
          "2019-01-28T00:00:00",
          "2019-01-29T00:00:00",
          "2019-01-30T00:00:00",
          "2019-01-31T00:00:00",
          "2019-02-01T00:00:00",
          "2019-02-04T00:00:00",
          "2019-02-05T00:00:00",
          "2019-02-06T00:00:00",
          "2019-02-07T00:00:00",
          "2019-02-08T00:00:00",
          "2019-02-11T00:00:00",
          "2019-02-12T00:00:00",
          "2019-02-13T00:00:00",
          "2019-02-14T00:00:00",
          "2019-02-15T00:00:00",
          "2019-02-19T00:00:00",
          "2019-02-20T00:00:00",
          "2019-02-21T00:00:00",
          "2019-02-22T00:00:00",
          "2019-02-25T00:00:00",
          "2019-02-26T00:00:00",
          "2019-02-27T00:00:00",
          "2019-02-28T00:00:00",
          "2019-03-01T00:00:00",
          "2019-03-04T00:00:00",
          "2019-03-05T00:00:00",
          "2019-03-06T00:00:00",
          "2019-03-07T00:00:00",
          "2019-03-08T00:00:00",
          "2019-03-11T00:00:00",
          "2019-03-12T00:00:00",
          "2019-03-13T00:00:00",
          "2019-03-14T00:00:00",
          "2019-03-15T00:00:00",
          "2019-03-18T00:00:00",
          "2019-03-19T00:00:00",
          "2019-03-20T00:00:00",
          "2019-03-21T00:00:00",
          "2019-03-22T00:00:00",
          "2019-03-25T00:00:00",
          "2019-03-26T00:00:00",
          "2019-03-27T00:00:00",
          "2019-03-28T00:00:00",
          "2019-03-29T00:00:00",
          "2019-04-01T00:00:00",
          "2019-04-02T00:00:00",
          "2019-04-03T00:00:00",
          "2019-04-04T00:00:00",
          "2019-04-05T00:00:00",
          "2019-04-08T00:00:00",
          "2019-04-09T00:00:00",
          "2019-04-10T00:00:00",
          "2019-04-11T00:00:00",
          "2019-04-12T00:00:00",
          "2019-04-15T00:00:00",
          "2019-04-16T00:00:00",
          "2019-04-17T00:00:00",
          "2019-04-18T00:00:00",
          "2019-04-22T00:00:00",
          "2019-04-23T00:00:00",
          "2019-04-24T00:00:00",
          "2019-04-25T00:00:00",
          "2019-04-26T00:00:00",
          "2019-04-29T00:00:00",
          "2019-04-30T00:00:00",
          "2019-05-01T00:00:00",
          "2019-05-02T00:00:00",
          "2019-05-03T00:00:00",
          "2019-05-06T00:00:00",
          "2019-05-07T00:00:00",
          "2019-05-08T00:00:00",
          "2019-05-09T00:00:00",
          "2019-05-10T00:00:00",
          "2019-05-13T00:00:00",
          "2019-05-14T00:00:00",
          "2019-05-15T00:00:00",
          "2019-05-16T00:00:00",
          "2019-05-17T00:00:00",
          "2019-05-20T00:00:00",
          "2019-05-21T00:00:00",
          "2019-05-22T00:00:00",
          "2019-05-23T00:00:00",
          "2019-05-24T00:00:00",
          "2019-05-28T00:00:00",
          "2019-05-29T00:00:00",
          "2019-05-30T00:00:00",
          "2019-05-31T00:00:00",
          "2019-06-03T00:00:00",
          "2019-06-04T00:00:00",
          "2019-06-05T00:00:00",
          "2019-06-06T00:00:00",
          "2019-06-07T00:00:00",
          "2019-06-10T00:00:00",
          "2019-06-11T00:00:00",
          "2019-06-12T00:00:00",
          "2019-06-13T00:00:00",
          "2019-06-14T00:00:00",
          "2019-06-17T00:00:00",
          "2019-06-18T00:00:00",
          "2019-06-19T00:00:00",
          "2019-06-20T00:00:00",
          "2019-06-21T00:00:00",
          "2019-06-24T00:00:00",
          "2019-06-25T00:00:00",
          "2019-06-26T00:00:00",
          "2019-06-27T00:00:00",
          "2019-06-28T00:00:00",
          "2019-07-01T00:00:00",
          "2019-07-02T00:00:00",
          "2019-07-03T00:00:00",
          "2019-07-05T00:00:00",
          "2019-07-08T00:00:00",
          "2019-07-09T00:00:00",
          "2019-07-10T00:00:00",
          "2019-07-11T00:00:00",
          "2019-07-12T00:00:00",
          "2019-07-15T00:00:00",
          "2019-07-16T00:00:00",
          "2019-07-17T00:00:00",
          "2019-07-18T00:00:00",
          "2019-07-19T00:00:00",
          "2019-07-22T00:00:00",
          "2019-07-23T00:00:00",
          "2019-07-24T00:00:00",
          "2019-07-25T00:00:00",
          "2019-07-26T00:00:00",
          "2019-07-29T00:00:00",
          "2019-07-30T00:00:00",
          "2019-07-31T00:00:00",
          "2019-08-01T00:00:00",
          "2019-08-02T00:00:00",
          "2019-08-05T00:00:00",
          "2019-08-06T00:00:00",
          "2019-08-07T00:00:00",
          "2019-08-08T00:00:00",
          "2019-08-09T00:00:00",
          "2019-08-12T00:00:00",
          "2019-08-13T00:00:00",
          "2019-08-14T00:00:00",
          "2019-08-15T00:00:00",
          "2019-08-16T00:00:00",
          "2019-08-19T00:00:00",
          "2019-08-20T00:00:00",
          "2019-08-21T00:00:00",
          "2019-08-22T00:00:00",
          "2019-08-23T00:00:00",
          "2019-08-26T00:00:00",
          "2019-08-27T00:00:00",
          "2019-08-28T00:00:00",
          "2019-08-29T00:00:00",
          "2019-08-30T00:00:00",
          "2019-09-03T00:00:00",
          "2019-09-04T00:00:00",
          "2019-09-05T00:00:00",
          "2019-09-06T00:00:00",
          "2019-09-09T00:00:00",
          "2019-09-10T00:00:00",
          "2019-09-11T00:00:00",
          "2019-09-12T00:00:00",
          "2019-09-13T00:00:00",
          "2019-09-16T00:00:00",
          "2019-09-17T00:00:00",
          "2019-09-18T00:00:00",
          "2019-09-19T00:00:00",
          "2019-09-20T00:00:00",
          "2019-09-23T00:00:00",
          "2019-09-24T00:00:00",
          "2019-09-25T00:00:00",
          "2019-09-26T00:00:00",
          "2019-09-27T00:00:00",
          "2019-09-30T00:00:00",
          "2019-10-01T00:00:00",
          "2019-10-02T00:00:00",
          "2019-10-03T00:00:00",
          "2019-10-04T00:00:00",
          "2019-10-07T00:00:00",
          "2019-10-08T00:00:00",
          "2019-10-09T00:00:00",
          "2019-10-10T00:00:00",
          "2019-10-11T00:00:00",
          "2019-10-14T00:00:00",
          "2019-10-15T00:00:00",
          "2019-10-16T00:00:00",
          "2019-10-17T00:00:00",
          "2019-10-18T00:00:00",
          "2019-10-21T00:00:00",
          "2019-10-22T00:00:00",
          "2019-10-23T00:00:00",
          "2019-10-24T00:00:00",
          "2019-10-25T00:00:00",
          "2019-10-28T00:00:00",
          "2019-10-29T00:00:00",
          "2019-10-30T00:00:00",
          "2019-10-31T00:00:00",
          "2019-11-01T00:00:00",
          "2019-11-04T00:00:00",
          "2019-11-05T00:00:00",
          "2019-11-06T00:00:00",
          "2019-11-07T00:00:00",
          "2019-11-08T00:00:00",
          "2019-11-11T00:00:00",
          "2019-11-12T00:00:00",
          "2019-11-13T00:00:00",
          "2019-11-14T00:00:00",
          "2019-11-15T00:00:00",
          "2019-11-18T00:00:00",
          "2019-11-19T00:00:00",
          "2019-11-20T00:00:00",
          "2019-11-21T00:00:00",
          "2019-11-22T00:00:00",
          "2019-11-25T00:00:00",
          "2019-11-26T00:00:00",
          "2019-11-27T00:00:00",
          "2019-11-29T00:00:00",
          "2019-12-02T00:00:00",
          "2019-12-03T00:00:00",
          "2019-12-04T00:00:00",
          "2019-12-05T00:00:00",
          "2019-12-06T00:00:00",
          "2019-12-09T00:00:00",
          "2019-12-10T00:00:00",
          "2019-12-11T00:00:00",
          "2019-12-12T00:00:00",
          "2019-12-13T00:00:00",
          "2019-12-16T00:00:00",
          "2019-12-17T00:00:00",
          "2019-12-18T00:00:00",
          "2019-12-19T00:00:00",
          "2019-12-20T00:00:00",
          "2019-12-23T00:00:00",
          "2019-12-24T00:00:00",
          "2019-12-26T00:00:00",
          "2019-12-27T00:00:00",
          "2019-12-30T00:00:00",
          "2019-12-31T00:00:00"
         ],
         "y": [
          0.019562262194052115,
          -0.012432235999785076,
          0.025807761426988703,
          -0.00517824000177318,
          0.00795668936100402,
          0.013351869668210834,
          0.008524610175461066,
          -0.0038593117336171634,
          -0.005634776726043601,
          0.018633146816719376,
          0.012150513379300417,
          0.010765263910261695,
          -0.004317413814484127,
          -0.01988364259021475,
          -0.0014920255377597386,
          -0.00914933266189777,
          0.014664258052156836,
          0.0032737004146876554,
          -0.010048046875,
          0.01225114854517611,
          0.0019866463779551788,
          -0.002635376280023261,
          0.022937675490653776,
          0.007636191488886533,
          -0.002347485929849582,
          -0.008468628229504232,
          0.00840285296637116,
          -0.0094709754286667,
          0.0046442872297844376,
          -0.007059961013922899,
          0.006422699279768281,
          -0.0048467260207572995,
          0.007188650719759686,
          0.004906807207845757,
          -0.004307366007095604,
          0.008101173649695452,
          0.0004018836929142482,
          0.003569138755539557,
          0.009583674955122636,
          -0.006711871148320115,
          0.003959160237773751,
          0.0009107158056004766,
          -0.0023303606707969645,
          -0.0008587273032389744,
          -0.007879422302071903,
          0.015206647642753706,
          0.019431239937211943,
          0.0050555759006076385,
          -0.002962926124185528,
          -0.0009244055170605547,
          0.006870375827635535,
          0.011948337913023096,
          -0.009662900266743229,
          0.010363571813608271,
          0.026681359601276818,
          -0.021961673833105683,
          -0.014463939706149386,
          -0.0254096331155364,
          -0.001483437241307947,
          -0.001217230649662639,
          0.0006321188222623182,
          -0.0020872150790978397,
          0.015333130936846068,
          0.010866784494259379,
          0.004620407548099184,
          0.0027997101567923126,
          0.018735403568251,
          -0.004093486892158329,
          0.009764457987332777,
          -0.009459841162734125,
          -0.0016566357234454744,
          0.003273209238044868,
          -0.0010528763000015836,
          0.017991438896821785,
          0.003643193732537881,
          0.008381388023938311,
          0.014919547820925718,
          -0.0009644914528043433,
          -0.007494091950083258,
          -0.0029282130922350263,
          0.0010274301376620519,
          -0.011769917356365544,
          0.0030493585608871326,
          -0.003288231287877014,
          0.004077958238136235,
          0.02051007185426672,
          -0.014668759475598092,
          0.004952947153196584,
          0.0015968429838578149,
          -0.0012157101377271516,
          -0.010601488583384349,
          0.012070167672322975,
          0.024963728940934227,
          0.0008951512067146062,
          0.011073703553870311,
          -0.0023431120562306985,
          0.007450625600461603,
          -0.010180899195976029,
          -0.0007786395287665086,
          -0.0068257255736377575,
          -0.0038564858510378185,
          0.0054415980264768795,
          0.001966878952054303,
          -0.006582241567512242,
          -0.013097966809875669,
          0.02393979075350794,
          -0.009442183116399853,
          0.011688875727799142,
          0.019516377121093234,
          0.004014411564891023,
          -0.00025661013856712565,
          0.001237460669969027,
          -0.002824874475493812,
          0.006212489806563486,
          0.0051322214851667,
          0.012241743734381728,
          -0.009064491311017964,
          -0.0045415402779647755,
          -0.00010062511143789753,
          0.00020151378198253133,
          -0.014413069884226058,
          0.010264442207829532,
          -0.0027459574187665057,
          -0.003825219120458421,
          -0.00797359419101042,
          0.006553756225754011,
          0.005558859157803113,
          0.004327462983086794,
          -0.003934033642435072,
          0.010241006908508774,
          0.00683670835915522,
          -0.007672999740921054,
          0.0041985977590947325,
          0.005487825939897013,
          -0.00043988630676737264,
          -0.0034305167251805014,
          0.008137272853477328,
          -0.015549818031204629,
          0.01753011260110025,
          0.0018228418487245487,
          0.0048153320596000205,
          -0.008952056693242385,
          0.001253179925675546,
          0.005852374185081068,
          0.00009582426225002824,
          -0.015617802936001993,
          -0.025572703958796274,
          -0.007346832656080568,
          -0.02348608023769153,
          0.0035148614435711613,
          0.018576273251087932,
          0.01613384503883941,
          -0.0015399779130358191,
          0.0043081887154976465,
          0.03954828762945813,
          -0.0020181317912913747,
          -0.00845375584363379,
          0.010867442891957345,
          -0.0012818774092253444,
          -0.002465877562692146,
          -0.0016432982510386314,
          -0.003424155538155203,
          -0.032421303173344455,
          0.0030603559746653405,
          -0.01780042787153694,
          0.007006333331788266,
          0.0024460168193570146,
          -0.006756747926348318,
          -0.0035362871357826043,
          0.00383897045971944,
          0.006037730091022995,
          -0.003690766333373277,
          -0.0031185914185716595,
          0.013279698540097916,
          0.02531292166861329,
          -0.007606791328528036,
          -0.005681818181818182,
          0.009966464022076153,
          0.003364203545136317,
          0.007735486893841733,
          -0.004729461821307417,
          -0.016487528569734965,
          -0.0010504486446438791,
          -0.015156341320259776,
          0.01134749802292037,
          -0.0005000027743252841,
          -0.007798975307315439,
          0.01389772480327628,
          -0.002132718579586918,
          -0.0183806639003014,
          0.010941787888923445,
          0.006071596883944818,
          0.0034913743369251425,
          -0.006288253395083835,
          0,
          0.009476610062379416,
          0.013994461508189343,
          0.004129422077084365,
          -0.004526384653294867,
          0.00428504101179694,
          0.0008082115120422347,
          0.007758247805235952,
          0.012588372265879383,
          -0.0049759368469885655,
          0.004460910966701302,
          -0.003803495548952906,
          0.014064805549590624,
          0.006588007820206542,
          -0.02281402541158035,
          -0.006128452499038221,
          0.006147827940061671,
          0.025166362936000466,
          0.0006606825345115011,
          0.0003112899966686509,
          0.001830436736429114,
          0.0026667792666345224,
          0.005605211617560213,
          0.015098817647596744,
          0.001567591975702616,
          0.012790549823600384,
          -0.004208475266587678,
          0.007888414546496601,
          0.004890964523141579,
          -0.006009650572013797,
          -0.00884991348909319,
          -0.006371089765356409,
          -0.003084647434746435,
          0.013931726166323653,
          -0.00992730153685397,
          0.008509714134690793,
          0.0024380865776574474,
          -0.011636118828902307,
          0.004413358597082193,
          0.0025662959794696323,
          0.006785617230983664,
          0.01207559569344827,
          -0.01140735767505787,
          -0.00044674279397169907,
          0.007291363687657847,
          0.013742597253554714,
          0.013593172318422034,
          0.01032485686484657,
          0.0030046010512010217,
          -0.00021443016873232942,
          0.0018604258092016995,
          -0.009885584226749825,
          0.012369447958516197,
          -0.0014753360642540318,
          0.017870922712590682,
          -0.0045342379306079405,
          0.007116691837923464,
          0.012830687802841682
         ]
        }
       ],
       "layout": {
        "template": {
         "data": {
          "bar": [
           {
            "error_x": {
             "color": "#2a3f5f"
            },
            "error_y": {
             "color": "#2a3f5f"
            },
            "marker": {
             "line": {
              "color": "#E5ECF6",
              "width": 0.5
             },
             "pattern": {
              "fillmode": "overlay",
              "size": 10,
              "solidity": 0.2
             }
            },
            "type": "bar"
           }
          ],
          "barpolar": [
           {
            "marker": {
             "line": {
              "color": "#E5ECF6",
              "width": 0.5
             },
             "pattern": {
              "fillmode": "overlay",
              "size": 10,
              "solidity": 0.2
             }
            },
            "type": "barpolar"
           }
          ],
          "carpet": [
           {
            "aaxis": {
             "endlinecolor": "#2a3f5f",
             "gridcolor": "white",
             "linecolor": "white",
             "minorgridcolor": "white",
             "startlinecolor": "#2a3f5f"
            },
            "baxis": {
             "endlinecolor": "#2a3f5f",
             "gridcolor": "white",
             "linecolor": "white",
             "minorgridcolor": "white",
             "startlinecolor": "#2a3f5f"
            },
            "type": "carpet"
           }
          ],
          "choropleth": [
           {
            "colorbar": {
             "outlinewidth": 0,
             "ticks": ""
            },
            "type": "choropleth"
           }
          ],
          "contour": [
           {
            "colorbar": {
             "outlinewidth": 0,
             "ticks": ""
            },
            "colorscale": [
             [
              0,
              "#0d0887"
             ],
             [
              0.1111111111111111,
              "#46039f"
             ],
             [
              0.2222222222222222,
              "#7201a8"
             ],
             [
              0.3333333333333333,
              "#9c179e"
             ],
             [
              0.4444444444444444,
              "#bd3786"
             ],
             [
              0.5555555555555556,
              "#d8576b"
             ],
             [
              0.6666666666666666,
              "#ed7953"
             ],
             [
              0.7777777777777778,
              "#fb9f3a"
             ],
             [
              0.8888888888888888,
              "#fdca26"
             ],
             [
              1,
              "#f0f921"
             ]
            ],
            "type": "contour"
           }
          ],
          "contourcarpet": [
           {
            "colorbar": {
             "outlinewidth": 0,
             "ticks": ""
            },
            "type": "contourcarpet"
           }
          ],
          "heatmap": [
           {
            "colorbar": {
             "outlinewidth": 0,
             "ticks": ""
            },
            "colorscale": [
             [
              0,
              "#0d0887"
             ],
             [
              0.1111111111111111,
              "#46039f"
             ],
             [
              0.2222222222222222,
              "#7201a8"
             ],
             [
              0.3333333333333333,
              "#9c179e"
             ],
             [
              0.4444444444444444,
              "#bd3786"
             ],
             [
              0.5555555555555556,
              "#d8576b"
             ],
             [
              0.6666666666666666,
              "#ed7953"
             ],
             [
              0.7777777777777778,
              "#fb9f3a"
             ],
             [
              0.8888888888888888,
              "#fdca26"
             ],
             [
              1,
              "#f0f921"
             ]
            ],
            "type": "heatmap"
           }
          ],
          "heatmapgl": [
           {
            "colorbar": {
             "outlinewidth": 0,
             "ticks": ""
            },
            "colorscale": [
             [
              0,
              "#0d0887"
             ],
             [
              0.1111111111111111,
              "#46039f"
             ],
             [
              0.2222222222222222,
              "#7201a8"
             ],
             [
              0.3333333333333333,
              "#9c179e"
             ],
             [
              0.4444444444444444,
              "#bd3786"
             ],
             [
              0.5555555555555556,
              "#d8576b"
             ],
             [
              0.6666666666666666,
              "#ed7953"
             ],
             [
              0.7777777777777778,
              "#fb9f3a"
             ],
             [
              0.8888888888888888,
              "#fdca26"
             ],
             [
              1,
              "#f0f921"
             ]
            ],
            "type": "heatmapgl"
           }
          ],
          "histogram": [
           {
            "marker": {
             "pattern": {
              "fillmode": "overlay",
              "size": 10,
              "solidity": 0.2
             }
            },
            "type": "histogram"
           }
          ],
          "histogram2d": [
           {
            "colorbar": {
             "outlinewidth": 0,
             "ticks": ""
            },
            "colorscale": [
             [
              0,
              "#0d0887"
             ],
             [
              0.1111111111111111,
              "#46039f"
             ],
             [
              0.2222222222222222,
              "#7201a8"
             ],
             [
              0.3333333333333333,
              "#9c179e"
             ],
             [
              0.4444444444444444,
              "#bd3786"
             ],
             [
              0.5555555555555556,
              "#d8576b"
             ],
             [
              0.6666666666666666,
              "#ed7953"
             ],
             [
              0.7777777777777778,
              "#fb9f3a"
             ],
             [
              0.8888888888888888,
              "#fdca26"
             ],
             [
              1,
              "#f0f921"
             ]
            ],
            "type": "histogram2d"
           }
          ],
          "histogram2dcontour": [
           {
            "colorbar": {
             "outlinewidth": 0,
             "ticks": ""
            },
            "colorscale": [
             [
              0,
              "#0d0887"
             ],
             [
              0.1111111111111111,
              "#46039f"
             ],
             [
              0.2222222222222222,
              "#7201a8"
             ],
             [
              0.3333333333333333,
              "#9c179e"
             ],
             [
              0.4444444444444444,
              "#bd3786"
             ],
             [
              0.5555555555555556,
              "#d8576b"
             ],
             [
              0.6666666666666666,
              "#ed7953"
             ],
             [
              0.7777777777777778,
              "#fb9f3a"
             ],
             [
              0.8888888888888888,
              "#fdca26"
             ],
             [
              1,
              "#f0f921"
             ]
            ],
            "type": "histogram2dcontour"
           }
          ],
          "mesh3d": [
           {
            "colorbar": {
             "outlinewidth": 0,
             "ticks": ""
            },
            "type": "mesh3d"
           }
          ],
          "parcoords": [
           {
            "line": {
             "colorbar": {
              "outlinewidth": 0,
              "ticks": ""
             }
            },
            "type": "parcoords"
           }
          ],
          "pie": [
           {
            "automargin": true,
            "type": "pie"
           }
          ],
          "scatter": [
           {
            "marker": {
             "colorbar": {
              "outlinewidth": 0,
              "ticks": ""
             }
            },
            "type": "scatter"
           }
          ],
          "scatter3d": [
           {
            "line": {
             "colorbar": {
              "outlinewidth": 0,
              "ticks": ""
             }
            },
            "marker": {
             "colorbar": {
              "outlinewidth": 0,
              "ticks": ""
             }
            },
            "type": "scatter3d"
           }
          ],
          "scattercarpet": [
           {
            "marker": {
             "colorbar": {
              "outlinewidth": 0,
              "ticks": ""
             }
            },
            "type": "scattercarpet"
           }
          ],
          "scattergeo": [
           {
            "marker": {
             "colorbar": {
              "outlinewidth": 0,
              "ticks": ""
             }
            },
            "type": "scattergeo"
           }
          ],
          "scattergl": [
           {
            "marker": {
             "colorbar": {
              "outlinewidth": 0,
              "ticks": ""
             }
            },
            "type": "scattergl"
           }
          ],
          "scattermapbox": [
           {
            "marker": {
             "colorbar": {
              "outlinewidth": 0,
              "ticks": ""
             }
            },
            "type": "scattermapbox"
           }
          ],
          "scatterpolar": [
           {
            "marker": {
             "colorbar": {
              "outlinewidth": 0,
              "ticks": ""
             }
            },
            "type": "scatterpolar"
           }
          ],
          "scatterpolargl": [
           {
            "marker": {
             "colorbar": {
              "outlinewidth": 0,
              "ticks": ""
             }
            },
            "type": "scatterpolargl"
           }
          ],
          "scatterternary": [
           {
            "marker": {
             "colorbar": {
              "outlinewidth": 0,
              "ticks": ""
             }
            },
            "type": "scatterternary"
           }
          ],
          "surface": [
           {
            "colorbar": {
             "outlinewidth": 0,
             "ticks": ""
            },
            "colorscale": [
             [
              0,
              "#0d0887"
             ],
             [
              0.1111111111111111,
              "#46039f"
             ],
             [
              0.2222222222222222,
              "#7201a8"
             ],
             [
              0.3333333333333333,
              "#9c179e"
             ],
             [
              0.4444444444444444,
              "#bd3786"
             ],
             [
              0.5555555555555556,
              "#d8576b"
             ],
             [
              0.6666666666666666,
              "#ed7953"
             ],
             [
              0.7777777777777778,
              "#fb9f3a"
             ],
             [
              0.8888888888888888,
              "#fdca26"
             ],
             [
              1,
              "#f0f921"
             ]
            ],
            "type": "surface"
           }
          ],
          "table": [
           {
            "cells": {
             "fill": {
              "color": "#EBF0F8"
             },
             "line": {
              "color": "white"
             }
            },
            "header": {
             "fill": {
              "color": "#C8D4E3"
             },
             "line": {
              "color": "white"
             }
            },
            "type": "table"
           }
          ]
         },
         "layout": {
          "annotationdefaults": {
           "arrowcolor": "#2a3f5f",
           "arrowhead": 0,
           "arrowwidth": 1
          },
          "autotypenumbers": "strict",
          "coloraxis": {
           "colorbar": {
            "outlinewidth": 0,
            "ticks": ""
           }
          },
          "colorscale": {
           "diverging": [
            [
             0,
             "#8e0152"
            ],
            [
             0.1,
             "#c51b7d"
            ],
            [
             0.2,
             "#de77ae"
            ],
            [
             0.3,
             "#f1b6da"
            ],
            [
             0.4,
             "#fde0ef"
            ],
            [
             0.5,
             "#f7f7f7"
            ],
            [
             0.6,
             "#e6f5d0"
            ],
            [
             0.7,
             "#b8e186"
            ],
            [
             0.8,
             "#7fbc41"
            ],
            [
             0.9,
             "#4d9221"
            ],
            [
             1,
             "#276419"
            ]
           ],
           "sequential": [
            [
             0,
             "#0d0887"
            ],
            [
             0.1111111111111111,
             "#46039f"
            ],
            [
             0.2222222222222222,
             "#7201a8"
            ],
            [
             0.3333333333333333,
             "#9c179e"
            ],
            [
             0.4444444444444444,
             "#bd3786"
            ],
            [
             0.5555555555555556,
             "#d8576b"
            ],
            [
             0.6666666666666666,
             "#ed7953"
            ],
            [
             0.7777777777777778,
             "#fb9f3a"
            ],
            [
             0.8888888888888888,
             "#fdca26"
            ],
            [
             1,
             "#f0f921"
            ]
           ],
           "sequentialminus": [
            [
             0,
             "#0d0887"
            ],
            [
             0.1111111111111111,
             "#46039f"
            ],
            [
             0.2222222222222222,
             "#7201a8"
            ],
            [
             0.3333333333333333,
             "#9c179e"
            ],
            [
             0.4444444444444444,
             "#bd3786"
            ],
            [
             0.5555555555555556,
             "#d8576b"
            ],
            [
             0.6666666666666666,
             "#ed7953"
            ],
            [
             0.7777777777777778,
             "#fb9f3a"
            ],
            [
             0.8888888888888888,
             "#fdca26"
            ],
            [
             1,
             "#f0f921"
            ]
           ]
          },
          "colorway": [
           "#636efa",
           "#EF553B",
           "#00cc96",
           "#ab63fa",
           "#FFA15A",
           "#19d3f3",
           "#FF6692",
           "#B6E880",
           "#FF97FF",
           "#FECB52"
          ],
          "font": {
           "color": "#2a3f5f"
          },
          "geo": {
           "bgcolor": "white",
           "lakecolor": "white",
           "landcolor": "#E5ECF6",
           "showlakes": true,
           "showland": true,
           "subunitcolor": "white"
          },
          "hoverlabel": {
           "align": "left"
          },
          "hovermode": "closest",
          "mapbox": {
           "style": "light"
          },
          "paper_bgcolor": "white",
          "plot_bgcolor": "#E5ECF6",
          "polar": {
           "angularaxis": {
            "gridcolor": "white",
            "linecolor": "white",
            "ticks": ""
           },
           "bgcolor": "#E5ECF6",
           "radialaxis": {
            "gridcolor": "white",
            "linecolor": "white",
            "ticks": ""
           }
          },
          "scene": {
           "xaxis": {
            "backgroundcolor": "#E5ECF6",
            "gridcolor": "white",
            "gridwidth": 2,
            "linecolor": "white",
            "showbackground": true,
            "ticks": "",
            "zerolinecolor": "white"
           },
           "yaxis": {
            "backgroundcolor": "#E5ECF6",
            "gridcolor": "white",
            "gridwidth": 2,
            "linecolor": "white",
            "showbackground": true,
            "ticks": "",
            "zerolinecolor": "white"
           },
           "zaxis": {
            "backgroundcolor": "#E5ECF6",
            "gridcolor": "white",
            "gridwidth": 2,
            "linecolor": "white",
            "showbackground": true,
            "ticks": "",
            "zerolinecolor": "white"
           }
          },
          "shapedefaults": {
           "line": {
            "color": "#2a3f5f"
           }
          },
          "ternary": {
           "aaxis": {
            "gridcolor": "white",
            "linecolor": "white",
            "ticks": ""
           },
           "baxis": {
            "gridcolor": "white",
            "linecolor": "white",
            "ticks": ""
           },
           "bgcolor": "#E5ECF6",
           "caxis": {
            "gridcolor": "white",
            "linecolor": "white",
            "ticks": ""
           }
          },
          "title": {
           "x": 0.05
          },
          "xaxis": {
           "automargin": true,
           "gridcolor": "white",
           "linecolor": "white",
           "ticks": "",
           "title": {
            "standoff": 15
           },
           "zerolinecolor": "white",
           "zerolinewidth": 2
          },
          "yaxis": {
           "automargin": true,
           "gridcolor": "white",
           "linecolor": "white",
           "ticks": "",
           "title": {
            "standoff": 15
           },
           "zerolinecolor": "white",
           "zerolinewidth": 2
          }
         }
        },
        "title": {
         "text": "<b>APPLE RoR PLOT (2019)</b>"
        },
        "xaxis": {
         "title": {
          "text": "<b>1-year Period of Time</b>"
         }
        },
        "yaxis": {
         "title": {
          "text": "<b>Rate of Return(RoR)</b>"
         }
        }
       }
      }
     },
     "metadata": {},
     "output_type": "display_data"
    },
    {
     "data": {
      "application/vnd.plotly.v1+json": {
       "config": {
        "plotlyServerURL": "https://plot.ly"
       },
       "data": [
        {
         "mode": "lines+markers",
         "name": "AAPL",
         "type": "scatter",
         "x": [
          "2019-01-02T00:00:00",
          "2019-01-03T00:00:00",
          "2019-01-04T00:00:00",
          "2019-01-07T00:00:00",
          "2019-01-08T00:00:00",
          "2019-01-09T00:00:00",
          "2019-01-10T00:00:00",
          "2019-01-11T00:00:00",
          "2019-01-14T00:00:00",
          "2019-01-15T00:00:00",
          "2019-01-16T00:00:00",
          "2019-01-17T00:00:00",
          "2019-01-18T00:00:00",
          "2019-01-22T00:00:00",
          "2019-01-23T00:00:00",
          "2019-01-24T00:00:00",
          "2019-01-25T00:00:00",
          "2019-01-28T00:00:00",
          "2019-01-29T00:00:00",
          "2019-01-30T00:00:00",
          "2019-01-31T00:00:00",
          "2019-02-01T00:00:00",
          "2019-02-04T00:00:00",
          "2019-02-05T00:00:00",
          "2019-02-06T00:00:00",
          "2019-02-07T00:00:00",
          "2019-02-08T00:00:00",
          "2019-02-11T00:00:00",
          "2019-02-12T00:00:00",
          "2019-02-13T00:00:00",
          "2019-02-14T00:00:00",
          "2019-02-15T00:00:00",
          "2019-02-19T00:00:00",
          "2019-02-20T00:00:00",
          "2019-02-21T00:00:00",
          "2019-02-22T00:00:00",
          "2019-02-25T00:00:00",
          "2019-02-26T00:00:00",
          "2019-02-27T00:00:00",
          "2019-02-28T00:00:00",
          "2019-03-01T00:00:00",
          "2019-03-04T00:00:00",
          "2019-03-05T00:00:00",
          "2019-03-06T00:00:00",
          "2019-03-07T00:00:00",
          "2019-03-08T00:00:00",
          "2019-03-11T00:00:00",
          "2019-03-12T00:00:00",
          "2019-03-13T00:00:00",
          "2019-03-14T00:00:00",
          "2019-03-15T00:00:00",
          "2019-03-18T00:00:00",
          "2019-03-19T00:00:00",
          "2019-03-20T00:00:00",
          "2019-03-21T00:00:00",
          "2019-03-22T00:00:00",
          "2019-03-25T00:00:00",
          "2019-03-26T00:00:00",
          "2019-03-27T00:00:00",
          "2019-03-28T00:00:00",
          "2019-03-29T00:00:00",
          "2019-04-01T00:00:00",
          "2019-04-02T00:00:00",
          "2019-04-03T00:00:00",
          "2019-04-04T00:00:00",
          "2019-04-05T00:00:00",
          "2019-04-08T00:00:00",
          "2019-04-09T00:00:00",
          "2019-04-10T00:00:00",
          "2019-04-11T00:00:00",
          "2019-04-12T00:00:00",
          "2019-04-15T00:00:00",
          "2019-04-16T00:00:00",
          "2019-04-17T00:00:00",
          "2019-04-18T00:00:00",
          "2019-04-22T00:00:00",
          "2019-04-23T00:00:00",
          "2019-04-24T00:00:00",
          "2019-04-25T00:00:00",
          "2019-04-26T00:00:00",
          "2019-04-29T00:00:00",
          "2019-04-30T00:00:00",
          "2019-05-01T00:00:00",
          "2019-05-02T00:00:00",
          "2019-05-03T00:00:00",
          "2019-05-06T00:00:00",
          "2019-05-07T00:00:00",
          "2019-05-08T00:00:00",
          "2019-05-09T00:00:00",
          "2019-05-10T00:00:00",
          "2019-05-13T00:00:00",
          "2019-05-14T00:00:00",
          "2019-05-15T00:00:00",
          "2019-05-16T00:00:00",
          "2019-05-17T00:00:00",
          "2019-05-20T00:00:00",
          "2019-05-21T00:00:00",
          "2019-05-22T00:00:00",
          "2019-05-23T00:00:00",
          "2019-05-24T00:00:00",
          "2019-05-28T00:00:00",
          "2019-05-29T00:00:00",
          "2019-05-30T00:00:00",
          "2019-05-31T00:00:00",
          "2019-06-03T00:00:00",
          "2019-06-04T00:00:00",
          "2019-06-05T00:00:00",
          "2019-06-06T00:00:00",
          "2019-06-07T00:00:00",
          "2019-06-10T00:00:00",
          "2019-06-11T00:00:00",
          "2019-06-12T00:00:00",
          "2019-06-13T00:00:00",
          "2019-06-14T00:00:00",
          "2019-06-17T00:00:00",
          "2019-06-18T00:00:00",
          "2019-06-19T00:00:00",
          "2019-06-20T00:00:00",
          "2019-06-21T00:00:00",
          "2019-06-24T00:00:00",
          "2019-06-25T00:00:00",
          "2019-06-26T00:00:00",
          "2019-06-27T00:00:00",
          "2019-06-28T00:00:00",
          "2019-07-01T00:00:00",
          "2019-07-02T00:00:00",
          "2019-07-03T00:00:00",
          "2019-07-05T00:00:00",
          "2019-07-08T00:00:00",
          "2019-07-09T00:00:00",
          "2019-07-10T00:00:00",
          "2019-07-11T00:00:00",
          "2019-07-12T00:00:00",
          "2019-07-15T00:00:00",
          "2019-07-16T00:00:00",
          "2019-07-17T00:00:00",
          "2019-07-18T00:00:00",
          "2019-07-19T00:00:00",
          "2019-07-22T00:00:00",
          "2019-07-23T00:00:00",
          "2019-07-24T00:00:00",
          "2019-07-25T00:00:00",
          "2019-07-26T00:00:00",
          "2019-07-29T00:00:00",
          "2019-07-30T00:00:00",
          "2019-07-31T00:00:00",
          "2019-08-01T00:00:00",
          "2019-08-02T00:00:00",
          "2019-08-05T00:00:00",
          "2019-08-06T00:00:00",
          "2019-08-07T00:00:00",
          "2019-08-08T00:00:00",
          "2019-08-09T00:00:00",
          "2019-08-12T00:00:00",
          "2019-08-13T00:00:00",
          "2019-08-14T00:00:00",
          "2019-08-15T00:00:00",
          "2019-08-16T00:00:00",
          "2019-08-19T00:00:00",
          "2019-08-20T00:00:00",
          "2019-08-21T00:00:00",
          "2019-08-22T00:00:00",
          "2019-08-23T00:00:00",
          "2019-08-26T00:00:00",
          "2019-08-27T00:00:00",
          "2019-08-28T00:00:00",
          "2019-08-29T00:00:00",
          "2019-08-30T00:00:00",
          "2019-09-03T00:00:00",
          "2019-09-04T00:00:00",
          "2019-09-05T00:00:00",
          "2019-09-06T00:00:00",
          "2019-09-09T00:00:00",
          "2019-09-10T00:00:00",
          "2019-09-11T00:00:00",
          "2019-09-12T00:00:00",
          "2019-09-13T00:00:00",
          "2019-09-16T00:00:00",
          "2019-09-17T00:00:00",
          "2019-09-18T00:00:00",
          "2019-09-19T00:00:00",
          "2019-09-20T00:00:00",
          "2019-09-23T00:00:00",
          "2019-09-24T00:00:00",
          "2019-09-25T00:00:00",
          "2019-09-26T00:00:00",
          "2019-09-27T00:00:00",
          "2019-09-30T00:00:00",
          "2019-10-01T00:00:00",
          "2019-10-02T00:00:00",
          "2019-10-03T00:00:00",
          "2019-10-04T00:00:00",
          "2019-10-07T00:00:00",
          "2019-10-08T00:00:00",
          "2019-10-09T00:00:00",
          "2019-10-10T00:00:00",
          "2019-10-11T00:00:00",
          "2019-10-14T00:00:00",
          "2019-10-15T00:00:00",
          "2019-10-16T00:00:00",
          "2019-10-17T00:00:00",
          "2019-10-18T00:00:00",
          "2019-10-21T00:00:00",
          "2019-10-22T00:00:00",
          "2019-10-23T00:00:00",
          "2019-10-24T00:00:00",
          "2019-10-25T00:00:00",
          "2019-10-28T00:00:00",
          "2019-10-29T00:00:00",
          "2019-10-30T00:00:00",
          "2019-10-31T00:00:00",
          "2019-11-01T00:00:00",
          "2019-11-04T00:00:00",
          "2019-11-05T00:00:00",
          "2019-11-06T00:00:00",
          "2019-11-07T00:00:00",
          "2019-11-08T00:00:00",
          "2019-11-11T00:00:00",
          "2019-11-12T00:00:00",
          "2019-11-13T00:00:00",
          "2019-11-14T00:00:00",
          "2019-11-15T00:00:00",
          "2019-11-18T00:00:00",
          "2019-11-19T00:00:00",
          "2019-11-20T00:00:00",
          "2019-11-21T00:00:00",
          "2019-11-22T00:00:00",
          "2019-11-25T00:00:00",
          "2019-11-26T00:00:00",
          "2019-11-27T00:00:00",
          "2019-11-29T00:00:00",
          "2019-12-02T00:00:00",
          "2019-12-03T00:00:00",
          "2019-12-04T00:00:00",
          "2019-12-05T00:00:00",
          "2019-12-06T00:00:00",
          "2019-12-09T00:00:00",
          "2019-12-10T00:00:00",
          "2019-12-11T00:00:00",
          "2019-12-12T00:00:00",
          "2019-12-13T00:00:00",
          "2019-12-16T00:00:00",
          "2019-12-17T00:00:00",
          "2019-12-18T00:00:00",
          "2019-12-19T00:00:00",
          "2019-12-20T00:00:00",
          "2019-12-23T00:00:00",
          "2019-12-24T00:00:00",
          "2019-12-26T00:00:00",
          "2019-12-27T00:00:00",
          "2019-12-30T00:00:00",
          "2019-12-31T00:00:00"
         ],
         "y": [
          0.03533322800716161,
          -0.03940523289688512,
          0.04796980572521754,
          -0.001046026587099672,
          0.0056275175671655995,
          0.0172994532451936,
          0.012206040604874312,
          -0.00763874172122559,
          -0.004162730370472044,
          0.04302101090707058,
          0.013290501169080232,
          0.02143195673485247,
          -0.001990966744598347,
          -0.0299070589351723,
          0.0040676834956027575,
          -0.015325672343159576,
          0.014011519370521074,
          -0.007831139425828852,
          -0.028545328175686682,
          0.029073882827635657,
          0.008055983901036302,
          -0.012271144364070402,
          0.050836917646383754,
          0.01857343162476831,
          -0.011412917899037667,
          -0.007708154802338801,
          0.020664552236232474,
          -0.018416333013800905,
          0.01171042633203457,
          -0.013478588375841503,
          0.011972543893018037,
          -0.0019739844020615718,
          0.010713998620218136,
          -0.0016757913500529721,
          0.019172541386758217,
          0.01646099321746617,
          -0.0011192848386737725,
          0.013455876603829537,
          0.013881246063072726,
          -0.006801144052182458,
          0.0007702098232291203,
          -0.005813709335165637,
          -0.007230165140799749,
          -0.0019314254674990777,
          -0.016945868643150626,
          0.0275738007100973,
          0.03600934609722466,
          0.012146544292043593,
          0.0002790151312800711,
          -0.0004879167623577098,
          0.01181235035786617,
          0.023999655361120947,
          -0.013388828166281497,
          0.011470968134367023,
          0.05297469959703291,
          -0.04246374034559261,
          -0.005026687419294618,
          -0.031395125174489454,
          -0.010899798254324322,
          -0.005559891801129504,
          -0.0004688996731554249,
          -0.0014987350738845805,
          0.016425058414406446,
          0.011784526942043603,
          -0.0015411067997047794,
          0.006987665618356306,
          0.019737012357395188,
          0.001385747204849781,
          0.013354974833572003,
          -0.011201993833031684,
          0.0009129726996489763,
          0.004182756188028239,
          -0.008205151463989035,
          0.022362923461613716,
          0.013300287452145804,
          0.017678398006921815,
          0.02571732367718079,
          -0.007165292578647987,
          -0.014490890959705,
          -0.001463275190331513,
          0.000026740144350546847,
          -0.005684033681918357,
          -0.017252499637699,
          -0.017118550291107794,
          0.016169614007236828,
          0.0344351807658511,
          -0.022101959287487604,
          0.005510980423778797,
          0.011332132030118437,
          0.016557034448157558,
          -0.016725105797894938,
          0.01901293501940203,
          0.0391275344823698,
          0.018094304467316184,
          0.009203309672322565,
          -0.004714242551986381,
          0.0032914889919109696,
          -0.0018884067019997973,
          -0.0009370915378787384,
          -0.01210510291983732,
          -0.010314193152550846,
          0.0019323076958797148,
          0.005719084066915792,
          -0.01100953800875568,
          -0.04547586092077768,
          0.03944115043140255,
          -0.0023993267394043193,
          0.022603121431467768,
          0.03662289785268359,
          0.005525077850779431,
          -0.013552089032931813,
          0.0019224804634295788,
          -0.00024863862395149835,
          0.0076490726683329955,
          0.006790980533675451,
          0.01947030922402522,
          -0.003953362115416112,
          -0.008179226790160761,
          0.0027548397034685697,
          0.0058949355286750495,
          -0.042245545834818043,
          0.007138179396864284,
          -0.0026714493907255515,
          -0.00835818023475703,
          -0.014926768260250006,
          0.009933176813237589,
          0.010383447223489523,
          0.01256635585547914,
          0.0001716323578714457,
          0.01362340921635574,
          0.012087209307641424,
          -0.006225843788254216,
          0.00455861065626006,
          0.0016151313367196302,
          -0.013968993905931653,
          -0.013815358464274705,
          0.01455553251854945,
          -0.04122380228577111,
          0.024953072985993505,
          -0.0015400748597483923,
          0.01791833712938509,
          -0.01066102377215607,
          0.008163497332848798,
          0.0025308107878858383,
          0.0015943736755640676,
          -0.04454958876667304,
          -0.017835495501907588,
          -0.01596441881702483,
          -0.03166309683886445,
          0.010166575713743183,
          0.029713171135352198,
          0.03289807039617544,
          -0.008032971871057362,
          -0.005030207503145973,
          0.058291418791224514,
          -0.019471966289381172,
          -0.013736937011070247,
          0.02013493959086416,
          0.002780491352465035,
          -0.009339563698877907,
          0.00008885785931054993,
          -0.009770649549196202,
          -0.06012013679192968,
          0.006467952362246931,
          -0.022566128431644922,
          0.012047797234255104,
          0.008784779057517306,
          -0.01602727140975182,
          -0.007708802483649149,
          0.006242479736629559,
          0.01279499008154809,
          -0.01033214806506224,
          -0.017947677454358053,
          0.008016531839504239,
          0.026857998921353213,
          -0.010000710925505633,
          -0.009020412020935304,
          0.013647535900598983,
          0.006503752717907446,
          0.016180475660258178,
          0.0007588079984507242,
          -0.02762143486425352,
          -0.0016968347730090625,
          -0.03638743076583283,
          0.024874775189113553,
          0.000217085887291596,
          -0.025066176693943665,
          0.02099657091609847,
          -0.020677729821007265,
          -0.0301238279628014,
          0.020797303717981133,
          0.0160898427134695,
          0.003345506810674829,
          -0.01657424437316352,
          0.005674368843299259,
          0.01388126445010469,
          0.010854278402714211,
          0.003127207264272968,
          0.006254779076151088,
          0.001586059250705651,
          -0.008131089900632618,
          -0.009056226558610847,
          0.012443884920975968,
          -0.023685054503154262,
          0.007090956243655893,
          0.00014229004661441523,
          0.024040400685087667,
          0.005133773305289174,
          -0.03148976100371148,
          0.001466282070655329,
          -0.004411170291435125,
          0.02142316796376425,
          -0.0012726101241704738,
          -0.0032066413169934017,
          -0.0003168069366216461,
          0.005586677623408018,
          0.019357198317677946,
          0.020396769291071464,
          0.006968252021604158,
          0.01667491703153429,
          0.0028653463625116686,
          0.01487161870998542,
          0.006690051619129902,
          -0.009257300872294781,
          -0.013440442746052786,
          -0.005835602253153974,
          -0.006283227849892849,
          0.022131697683250736,
          -0.005500780882496289,
          0.008444103245727357,
          -0.00229564906869821,
          -0.026523112723778386,
          0.016753123988941517,
          0.0006348101175294571,
          0.0059858146749306234,
          0.01710900505291972,
          -0.00948776230818638,
          -0.001504237740235121,
          0.008347214744792721,
          0.02422734279047193,
          0.02359316433997024,
          0.013032600835529548,
          -0.0018843955506386125,
          0.00023918009727790277,
          0.012964365509637981,
          -0.00950428421870102,
          0.007879241298998349,
          -0.0021102792153800945,
          0.024915861958281982,
          -0.00760724040005328,
          -0.001688950698730404,
          0.01876289836886906
         ]
        }
       ],
       "layout": {
        "template": {
         "data": {
          "bar": [
           {
            "error_x": {
             "color": "#2a3f5f"
            },
            "error_y": {
             "color": "#2a3f5f"
            },
            "marker": {
             "line": {
              "color": "#E5ECF6",
              "width": 0.5
             },
             "pattern": {
              "fillmode": "overlay",
              "size": 10,
              "solidity": 0.2
             }
            },
            "type": "bar"
           }
          ],
          "barpolar": [
           {
            "marker": {
             "line": {
              "color": "#E5ECF6",
              "width": 0.5
             },
             "pattern": {
              "fillmode": "overlay",
              "size": 10,
              "solidity": 0.2
             }
            },
            "type": "barpolar"
           }
          ],
          "carpet": [
           {
            "aaxis": {
             "endlinecolor": "#2a3f5f",
             "gridcolor": "white",
             "linecolor": "white",
             "minorgridcolor": "white",
             "startlinecolor": "#2a3f5f"
            },
            "baxis": {
             "endlinecolor": "#2a3f5f",
             "gridcolor": "white",
             "linecolor": "white",
             "minorgridcolor": "white",
             "startlinecolor": "#2a3f5f"
            },
            "type": "carpet"
           }
          ],
          "choropleth": [
           {
            "colorbar": {
             "outlinewidth": 0,
             "ticks": ""
            },
            "type": "choropleth"
           }
          ],
          "contour": [
           {
            "colorbar": {
             "outlinewidth": 0,
             "ticks": ""
            },
            "colorscale": [
             [
              0,
              "#0d0887"
             ],
             [
              0.1111111111111111,
              "#46039f"
             ],
             [
              0.2222222222222222,
              "#7201a8"
             ],
             [
              0.3333333333333333,
              "#9c179e"
             ],
             [
              0.4444444444444444,
              "#bd3786"
             ],
             [
              0.5555555555555556,
              "#d8576b"
             ],
             [
              0.6666666666666666,
              "#ed7953"
             ],
             [
              0.7777777777777778,
              "#fb9f3a"
             ],
             [
              0.8888888888888888,
              "#fdca26"
             ],
             [
              1,
              "#f0f921"
             ]
            ],
            "type": "contour"
           }
          ],
          "contourcarpet": [
           {
            "colorbar": {
             "outlinewidth": 0,
             "ticks": ""
            },
            "type": "contourcarpet"
           }
          ],
          "heatmap": [
           {
            "colorbar": {
             "outlinewidth": 0,
             "ticks": ""
            },
            "colorscale": [
             [
              0,
              "#0d0887"
             ],
             [
              0.1111111111111111,
              "#46039f"
             ],
             [
              0.2222222222222222,
              "#7201a8"
             ],
             [
              0.3333333333333333,
              "#9c179e"
             ],
             [
              0.4444444444444444,
              "#bd3786"
             ],
             [
              0.5555555555555556,
              "#d8576b"
             ],
             [
              0.6666666666666666,
              "#ed7953"
             ],
             [
              0.7777777777777778,
              "#fb9f3a"
             ],
             [
              0.8888888888888888,
              "#fdca26"
             ],
             [
              1,
              "#f0f921"
             ]
            ],
            "type": "heatmap"
           }
          ],
          "heatmapgl": [
           {
            "colorbar": {
             "outlinewidth": 0,
             "ticks": ""
            },
            "colorscale": [
             [
              0,
              "#0d0887"
             ],
             [
              0.1111111111111111,
              "#46039f"
             ],
             [
              0.2222222222222222,
              "#7201a8"
             ],
             [
              0.3333333333333333,
              "#9c179e"
             ],
             [
              0.4444444444444444,
              "#bd3786"
             ],
             [
              0.5555555555555556,
              "#d8576b"
             ],
             [
              0.6666666666666666,
              "#ed7953"
             ],
             [
              0.7777777777777778,
              "#fb9f3a"
             ],
             [
              0.8888888888888888,
              "#fdca26"
             ],
             [
              1,
              "#f0f921"
             ]
            ],
            "type": "heatmapgl"
           }
          ],
          "histogram": [
           {
            "marker": {
             "pattern": {
              "fillmode": "overlay",
              "size": 10,
              "solidity": 0.2
             }
            },
            "type": "histogram"
           }
          ],
          "histogram2d": [
           {
            "colorbar": {
             "outlinewidth": 0,
             "ticks": ""
            },
            "colorscale": [
             [
              0,
              "#0d0887"
             ],
             [
              0.1111111111111111,
              "#46039f"
             ],
             [
              0.2222222222222222,
              "#7201a8"
             ],
             [
              0.3333333333333333,
              "#9c179e"
             ],
             [
              0.4444444444444444,
              "#bd3786"
             ],
             [
              0.5555555555555556,
              "#d8576b"
             ],
             [
              0.6666666666666666,
              "#ed7953"
             ],
             [
              0.7777777777777778,
              "#fb9f3a"
             ],
             [
              0.8888888888888888,
              "#fdca26"
             ],
             [
              1,
              "#f0f921"
             ]
            ],
            "type": "histogram2d"
           }
          ],
          "histogram2dcontour": [
           {
            "colorbar": {
             "outlinewidth": 0,
             "ticks": ""
            },
            "colorscale": [
             [
              0,
              "#0d0887"
             ],
             [
              0.1111111111111111,
              "#46039f"
             ],
             [
              0.2222222222222222,
              "#7201a8"
             ],
             [
              0.3333333333333333,
              "#9c179e"
             ],
             [
              0.4444444444444444,
              "#bd3786"
             ],
             [
              0.5555555555555556,
              "#d8576b"
             ],
             [
              0.6666666666666666,
              "#ed7953"
             ],
             [
              0.7777777777777778,
              "#fb9f3a"
             ],
             [
              0.8888888888888888,
              "#fdca26"
             ],
             [
              1,
              "#f0f921"
             ]
            ],
            "type": "histogram2dcontour"
           }
          ],
          "mesh3d": [
           {
            "colorbar": {
             "outlinewidth": 0,
             "ticks": ""
            },
            "type": "mesh3d"
           }
          ],
          "parcoords": [
           {
            "line": {
             "colorbar": {
              "outlinewidth": 0,
              "ticks": ""
             }
            },
            "type": "parcoords"
           }
          ],
          "pie": [
           {
            "automargin": true,
            "type": "pie"
           }
          ],
          "scatter": [
           {
            "marker": {
             "colorbar": {
              "outlinewidth": 0,
              "ticks": ""
             }
            },
            "type": "scatter"
           }
          ],
          "scatter3d": [
           {
            "line": {
             "colorbar": {
              "outlinewidth": 0,
              "ticks": ""
             }
            },
            "marker": {
             "colorbar": {
              "outlinewidth": 0,
              "ticks": ""
             }
            },
            "type": "scatter3d"
           }
          ],
          "scattercarpet": [
           {
            "marker": {
             "colorbar": {
              "outlinewidth": 0,
              "ticks": ""
             }
            },
            "type": "scattercarpet"
           }
          ],
          "scattergeo": [
           {
            "marker": {
             "colorbar": {
              "outlinewidth": 0,
              "ticks": ""
             }
            },
            "type": "scattergeo"
           }
          ],
          "scattergl": [
           {
            "marker": {
             "colorbar": {
              "outlinewidth": 0,
              "ticks": ""
             }
            },
            "type": "scattergl"
           }
          ],
          "scattermapbox": [
           {
            "marker": {
             "colorbar": {
              "outlinewidth": 0,
              "ticks": ""
             }
            },
            "type": "scattermapbox"
           }
          ],
          "scatterpolar": [
           {
            "marker": {
             "colorbar": {
              "outlinewidth": 0,
              "ticks": ""
             }
            },
            "type": "scatterpolar"
           }
          ],
          "scatterpolargl": [
           {
            "marker": {
             "colorbar": {
              "outlinewidth": 0,
              "ticks": ""
             }
            },
            "type": "scatterpolargl"
           }
          ],
          "scatterternary": [
           {
            "marker": {
             "colorbar": {
              "outlinewidth": 0,
              "ticks": ""
             }
            },
            "type": "scatterternary"
           }
          ],
          "surface": [
           {
            "colorbar": {
             "outlinewidth": 0,
             "ticks": ""
            },
            "colorscale": [
             [
              0,
              "#0d0887"
             ],
             [
              0.1111111111111111,
              "#46039f"
             ],
             [
              0.2222222222222222,
              "#7201a8"
             ],
             [
              0.3333333333333333,
              "#9c179e"
             ],
             [
              0.4444444444444444,
              "#bd3786"
             ],
             [
              0.5555555555555556,
              "#d8576b"
             ],
             [
              0.6666666666666666,
              "#ed7953"
             ],
             [
              0.7777777777777778,
              "#fb9f3a"
             ],
             [
              0.8888888888888888,
              "#fdca26"
             ],
             [
              1,
              "#f0f921"
             ]
            ],
            "type": "surface"
           }
          ],
          "table": [
           {
            "cells": {
             "fill": {
              "color": "#EBF0F8"
             },
             "line": {
              "color": "white"
             }
            },
            "header": {
             "fill": {
              "color": "#C8D4E3"
             },
             "line": {
              "color": "white"
             }
            },
            "type": "table"
           }
          ]
         },
         "layout": {
          "annotationdefaults": {
           "arrowcolor": "#2a3f5f",
           "arrowhead": 0,
           "arrowwidth": 1
          },
          "autotypenumbers": "strict",
          "coloraxis": {
           "colorbar": {
            "outlinewidth": 0,
            "ticks": ""
           }
          },
          "colorscale": {
           "diverging": [
            [
             0,
             "#8e0152"
            ],
            [
             0.1,
             "#c51b7d"
            ],
            [
             0.2,
             "#de77ae"
            ],
            [
             0.3,
             "#f1b6da"
            ],
            [
             0.4,
             "#fde0ef"
            ],
            [
             0.5,
             "#f7f7f7"
            ],
            [
             0.6,
             "#e6f5d0"
            ],
            [
             0.7,
             "#b8e186"
            ],
            [
             0.8,
             "#7fbc41"
            ],
            [
             0.9,
             "#4d9221"
            ],
            [
             1,
             "#276419"
            ]
           ],
           "sequential": [
            [
             0,
             "#0d0887"
            ],
            [
             0.1111111111111111,
             "#46039f"
            ],
            [
             0.2222222222222222,
             "#7201a8"
            ],
            [
             0.3333333333333333,
             "#9c179e"
            ],
            [
             0.4444444444444444,
             "#bd3786"
            ],
            [
             0.5555555555555556,
             "#d8576b"
            ],
            [
             0.6666666666666666,
             "#ed7953"
            ],
            [
             0.7777777777777778,
             "#fb9f3a"
            ],
            [
             0.8888888888888888,
             "#fdca26"
            ],
            [
             1,
             "#f0f921"
            ]
           ],
           "sequentialminus": [
            [
             0,
             "#0d0887"
            ],
            [
             0.1111111111111111,
             "#46039f"
            ],
            [
             0.2222222222222222,
             "#7201a8"
            ],
            [
             0.3333333333333333,
             "#9c179e"
            ],
            [
             0.4444444444444444,
             "#bd3786"
            ],
            [
             0.5555555555555556,
             "#d8576b"
            ],
            [
             0.6666666666666666,
             "#ed7953"
            ],
            [
             0.7777777777777778,
             "#fb9f3a"
            ],
            [
             0.8888888888888888,
             "#fdca26"
            ],
            [
             1,
             "#f0f921"
            ]
           ]
          },
          "colorway": [
           "#636efa",
           "#EF553B",
           "#00cc96",
           "#ab63fa",
           "#FFA15A",
           "#19d3f3",
           "#FF6692",
           "#B6E880",
           "#FF97FF",
           "#FECB52"
          ],
          "font": {
           "color": "#2a3f5f"
          },
          "geo": {
           "bgcolor": "white",
           "lakecolor": "white",
           "landcolor": "#E5ECF6",
           "showlakes": true,
           "showland": true,
           "subunitcolor": "white"
          },
          "hoverlabel": {
           "align": "left"
          },
          "hovermode": "closest",
          "mapbox": {
           "style": "light"
          },
          "paper_bgcolor": "white",
          "plot_bgcolor": "#E5ECF6",
          "polar": {
           "angularaxis": {
            "gridcolor": "white",
            "linecolor": "white",
            "ticks": ""
           },
           "bgcolor": "#E5ECF6",
           "radialaxis": {
            "gridcolor": "white",
            "linecolor": "white",
            "ticks": ""
           }
          },
          "scene": {
           "xaxis": {
            "backgroundcolor": "#E5ECF6",
            "gridcolor": "white",
            "gridwidth": 2,
            "linecolor": "white",
            "showbackground": true,
            "ticks": "",
            "zerolinecolor": "white"
           },
           "yaxis": {
            "backgroundcolor": "#E5ECF6",
            "gridcolor": "white",
            "gridwidth": 2,
            "linecolor": "white",
            "showbackground": true,
            "ticks": "",
            "zerolinecolor": "white"
           },
           "zaxis": {
            "backgroundcolor": "#E5ECF6",
            "gridcolor": "white",
            "gridwidth": 2,
            "linecolor": "white",
            "showbackground": true,
            "ticks": "",
            "zerolinecolor": "white"
           }
          },
          "shapedefaults": {
           "line": {
            "color": "#2a3f5f"
           }
          },
          "ternary": {
           "aaxis": {
            "gridcolor": "white",
            "linecolor": "white",
            "ticks": ""
           },
           "baxis": {
            "gridcolor": "white",
            "linecolor": "white",
            "ticks": ""
           },
           "bgcolor": "#E5ECF6",
           "caxis": {
            "gridcolor": "white",
            "linecolor": "white",
            "ticks": ""
           }
          },
          "title": {
           "x": 0.05
          },
          "xaxis": {
           "automargin": true,
           "gridcolor": "white",
           "linecolor": "white",
           "ticks": "",
           "title": {
            "standoff": 15
           },
           "zerolinecolor": "white",
           "zerolinewidth": 2
          },
          "yaxis": {
           "automargin": true,
           "gridcolor": "white",
           "linecolor": "white",
           "ticks": "",
           "title": {
            "standoff": 15
           },
           "zerolinecolor": "white",
           "zerolinewidth": 2
          }
         }
        },
        "title": {
         "text": "<b>PORTFOLIO RoR PLOT (2019)</b>"
        },
        "xaxis": {
         "title": {
          "text": "<b>1-year Period of Time</b>"
         }
        },
        "yaxis": {
         "title": {
          "text": "<b>Rate of Return(RoR)</b>"
         }
        }
       }
      }
     },
     "metadata": {},
     "output_type": "display_data"
    }
   ],
   "source": [
    "#MICROSOFT:\n",
    "\n",
    "#PERFORMANCE MEASURE COMPUTATION: \n",
    "Perf_return_msft = (msft.Close - msft.Open) / (msft.Open)                                                              #Compute the RoR of MICROSOFT's Stock.\n",
    "\n",
    "#PLOTTING THE RoR:\n",
    "fig = go.Figure(data = go.Scatter(x=Perf_return_msft.index,y=Perf_return_msft, mode='lines+markers', name='MSFT'))    #Let's create a plot inserting all the Microsoft'RoR. \n",
    "fig.update_layout(title=\"<b>MICROSOFT RoR PLOT (2019)</b>\", xaxis_title=\"<b>1-year Period of Time</b>\", yaxis_title=\"<b>Rate of Return(RoR)</b>\")   \n",
    "                                                                                                                        #Let's adjust the plot by inserting x and y labels, in addition to \n",
    "                                                                                                                        #the title.\n",
    "fig.show()\n",
    "\n",
    "#APPLE:\n",
    "\n",
    "#PERFORMANCE MEASURE COMPUTATION: \n",
    "Perf_return_aapl = (aapl.Close - aapl.Open) / (aapl.Open)                                                               #Compute the RoR of APPLE's Stock.\n",
    "\n",
    "#PLOTTING THE RoR:\n",
    "fig = go.Figure(data = go.Scatter(x=Perf_return_aapl.index,y=Perf_return_aapl, mode='lines+markers', name='AAPL'))      #Let's create a plot inserting all the APPLE'RoR. \n",
    "fig.update_layout(title=\"<b>APPLE RoR PLOT (2019)</b>\", xaxis_title=\"<b>1-year Period of Time</b>\", yaxis_title=\"<b>Rate of Return(RoR)</b>\")   \n",
    "                                                                                                                        #Let's adjust the plot by inserting x and y labels, in addition to \n",
    "                                                                                                                        #the title.\n",
    "fig.show()\n",
    "\n",
    "\n",
    "#PORTFOLIO:\n",
    "\n",
    "#PERFORMANCE MEASURE COMPUTATION: \n",
    "Perf_return = (aapl.Close - aapl.Open) / (aapl.Open) + (msft.Close - msft.Open) / (msft.Open)                           #Compute the RoR of our Portfolio.\n",
    "\n",
    "#PLOTTING THE RoR:\n",
    "fig = go.Figure(data = go.Scatter(x=Perf_return.index,y=Perf_return, mode='lines+markers', name='AAPL'))                #Let's create a plot inserting all the Portfolio'RoR. \n",
    "fig.update_layout(title=\"<b>PORTFOLIO RoR PLOT (2019)</b>\", xaxis_title=\"<b>1-year Period of Time</b>\", yaxis_title=\"<b>Rate of Return(RoR)</b>\")   \n",
    "                                                                                                                        #Let's adjust the plot by inserting x and y labels, in addition to \n",
    "                                                                                                                        #the title.\n",
    "fig.show()"
   ]
  },
  {
   "cell_type": "markdown",
   "id": "ed320004",
   "metadata": {},
   "source": [
    "#### 2.2.1.2: DATA VISUALIZATION OF THE TWO STOCKS: GAIN-LOSS:\n",
    "\n",
    "We now build up a Pie-Chart only for understanding the proportion/distribution of Days in Gain and Days in Loss of our Companies. We note that this Distribution of Gain-Losses during the  Year, are very similar for the two Stocks numerically. Indeed, when rounded to the nearest integer, they are the same. They differ only a bit if we take a look at the Decimals."
   ]
  },
  {
   "cell_type": "code",
   "execution_count": 20,
   "id": "fe259225",
   "metadata": {},
   "outputs": [
    {
     "name": "stdout",
     "output_type": "stream",
     "text": [
      "The Gain for Microsoft is:  55.55555555555556  whilst the Loss is:  44.44444444444444\n"
     ]
    },
    {
     "data": {
      "image/png": "[encoded data removed]",
      "text/plain": [
       "<Figure size 432x288 with 1 Axes>"
      ]
     },
     "metadata": {},
     "output_type": "display_data"
    },
    {
     "name": "stdout",
     "output_type": "stream",
     "text": [
      "The Gain for Apple is:  56.34920634920635  whilst the Loss is:  43.65079365079365\n"
     ]
    },
    {
     "data": {
      "image/png": "[encoded data removed]",
      "text/plain": [
       "<Figure size 432x288 with 1 Axes>"
      ]
     },
     "metadata": {},
     "output_type": "display_data"
    }
   ],
   "source": [
    "#MICROSOFT:\n",
    "\n",
    "#COMPUTING THE GAIN-LOSS:\n",
    "gain_msft = np.sum(np.array(Perf_return_msft) >= 0, axis=0) * 100 / np.size(Perf_return_msft)   #Finding the percentage of Days in which Microsoft is Gaining.\n",
    "loss_msft = np.sum(np.array(Perf_return_msft) < 0, axis=0) * 100 / np.size(Perf_return_msft)    #Finding the percentage of Days in which Microsoft experience a Loss.\n",
    "print(\"The Gain for Microsoft is: \", gain_msft, \" whilst the Loss is: \", loss_msft)             #Printing out this two last results.\n",
    "\n",
    "#DEFINE DATA:\n",
    "data_msft = [np.rint(gain_msft), np.rint(loss_msft)]                                            #Defining the list with Gain and Loss to be added to the Pie Chart.\n",
    "\n",
    "#PLOTTING THE PIE-CHART:\n",
    "labels = ['Gain', 'Loss']                                                                       #Definng the Labels that will be used for the Chart.\n",
    "colors = ['lightgreen', 'pink']                                                                 #Defining the colors to be used in the Pie Chart.\n",
    "plt.pie(data_msft, colors = colors, autopct='%.0f%%')                                           #Plotting the Pie Chart.\n",
    "plt.legend(labels, loc=3, title=\"MSFT GAIN-LOSS\")                                               #Plotting out the Legend of the Chart.\n",
    "plt.show()                                                                                      #Showing out the entire plot.\n",
    "\n",
    "\n",
    "#APPLE:\n",
    "\n",
    "#COMPUTING THE GAIN-LOSS:\n",
    "gain_aapl = np.sum(np.array(Perf_return_aapl) >= 0, axis=0) * 100 / np.size(Perf_return_aapl)   #Finding the percentage of Days in which Apple is Gaining.\n",
    "loss_aapl = np.sum(np.array(Perf_return_aapl) < 0, axis=0) * 100 / np.size(Perf_return_aapl)    #Finding the percentage of Days in which Microsoft experience a Loss.\n",
    "print(\"The Gain for Apple is: \", gain_aapl, \" whilst the Loss is: \", loss_aapl)                 #Printing out this two last results.\n",
    "\n",
    "#DEFINE DATA:\n",
    "data_aapl = [np.rint(gain_aapl), np.rint(loss_aapl)]                                            #Defining the list with Gain and Loss to be added to the Pie Chart. \n",
    "\n",
    "#PLOTTING THE PIE-CHART:\n",
    "plt.pie(data_aapl, colors = colors, autopct='%.0f%%')                                           #Plotting the Pie Chart.\n",
    "plt.legend(labels, loc=3, title=\"AAPL GAIN-LOSS\")                                               #Plotting out the Legend of the Chart.\n",
    "plt.show()                                                                                      #Showing out the entire plot.\n",
    "\n"
   ]
  },
  {
   "cell_type": "markdown",
   "id": "9d74b2f2",
   "metadata": {},
   "source": [
    "### 2.2.2: IMPLEMENTATION OF A NON-PARAMETRIC BOOTSTRAP:\n",
    "\n",
    "In order to implement a **Non-Parametric Bootstrap** we will need to follow a sort a procedure. First of all we will have to define our Functio Omega Hat, that we have proved analytically during the first requested point of the exercise (have a look at the pdf attached). From this, then, we will have to loop over the data we have generated and evaluate for the function Omega we have defined. We then proceed in plotting the Omega-Star. \n",
    "\n",
    "Then, we proceed on by answering to the two estimetes being asked: the **standard error** and **MSE** of the plug-in estimator $\\widehat{\\omega}$. The former is simply computed by applying the Standard Error funciton to the array \"Boot_stat\". The latter instead is computed with the formula: $$ MSE = Variance + Bias^2$$"
   ]
  },
  {
   "cell_type": "code",
   "execution_count": 21,
   "id": "3311a8fa",
   "metadata": {},
   "outputs": [
    {
     "name": "stdout",
     "output_type": "stream",
     "text": [
      "RangeIndex(start=0, stop=2, step=1)\n",
      "The Non-Parametric Estimate for the Standard Error is:  0.0722450067891011\n",
      "The Non-Parametric Estimate for the Biased Squared is:  1.7712931935165114e-06\n",
      "The Non-Parametric Estimate for the Variance is:  0.005219341005957264\n",
      "The Non-Parametric Estimate for the Mean Square Errir is:  0.0052211122991507805\n"
     ]
    },
    {
     "data": {
      "image/png": "[encoded data removed]",
      "text/plain": [
       "<Figure size 432x288 with 1 Axes>"
      ]
     },
     "metadata": {
      "needs_background": "light"
     },
     "output_type": "display_data"
    }
   ],
   "source": [
    "#CREATION OF A SUB-DATAFRAME:\n",
    "yields_table=pd.DataFrame([Perf_return_msft,Perf_return_aapl]).T     #We first of all create a dataframe, containing the RoR Information for both the Stocks. Notice that, since we are \n",
    "                                                                     #passing to them directly the two arrays, we will obtain a dataframe of 252 columns and 2 rows only.\n",
    "                                                                     #Since what we want is the converse, we will have to Transpose this Dataframe, in such a way to obtain that it is\n",
    "                                                                     #a 252 rows x 2 columns Dataframe.\n",
    "print(yields_table.columns)\n",
    "\n",
    "#DEFINITION OF THE FUNCTION OMEGA HAT:\n",
    "def omega(dataframe):                                                                    \n",
    "    x = np.array(dataframe[0])                                       #Saving in \"x\" the results RoR values for Microsoft.\n",
    "    y = np.array(dataframe[1])                                       #Saving in \"y\" the results RoR values for Apple.\n",
    "    covariance = np.cov(x,y)[0,1]                                    #Defining and extrapolating the Covariance from the Covariance Matrix.\n",
    "    omega=(np.var(y)-covariance)/(np.var(x)+np.var(y)-(2*covariance))#Compute the value of omega hat, namely our plug-in estimator.\n",
    "    return omega                                                     #Returning our plug-in estimator.\n",
    "\n",
    "#SETTING UP THE SEED:\n",
    "np.random.seed(0)                                                    #Setting up the seed in order to guarantee the \"Reproducibility\", i.e. to give the possibility to run in other pcs\n",
    "                                                                     #our code and to obtain always the same result.\n",
    "                                                                     \n",
    "#PRE-ALLOCATING AND INITIALIZE:\n",
    "B = 1000                                                             #Setting up a-priori the size of the Bootstrap. Note that this is a critic part of our study. Indeed, we have to \n",
    "                                                                     #choose a trade-off: if we increse B, we will have also that the time increase linearly with it. On the other hand,\n",
    "                                                                     #the lower the B, the less accurate and more variable our estimation is. \n",
    "                                                                     #We've choosen 1000, because it has been demonstrated by scientists that it is the best trade-off.\n",
    "boot_stat = np.zeros(B)                                              #Allocate an array that will have the same length of our Bootstrap.\n",
    "for b in range(B):\n",
    "    x_boot       = yields_table.sample(n = len(yields_table), replace = True)   #Generate Data from our yields table. Note that this array of generated data will have the same length \n",
    "                                                                                #of the Bootstrap.\n",
    "    boot_stat[b] = omega(x_boot)                                     #Evaluate the Statistics that I want, namely we apply the omega function precedently defined, and we apply it to the \n",
    "                                                                     #Bootstrap Sample. \n",
    "                                                                     \n",
    "#PLOTTING OMEGA-STAR:\n",
    "plt.hist(boot_stat, density = 1, facecolor='purple', edgecolor = 'white', alpha=0.5)    #Histogram that represents the omega star. Bootstrapped distribution of our plug-in estimator.\n",
    "\n",
    "#COMPUTE THE NON-PARAMETRIC ESTIMATE OF THE STANDARD ERROR:\n",
    "plug_in = omega(yields_table)                                        #Evaluate the Plug-in Estimator .\n",
    "se = boot_stat.std()                                                 #Non-Parametric Bootstrap Estimate of the Standard Error for the plug-in estimator. \n",
    "print('The Non-Parametric Estimate for the Standard Error is: ',se)  #Print out the Standard Error Estimate.\n",
    "\n",
    "#COMPUTE THE NON-PARAMETRIC ESTIMATE OF THE BIAS SQUARED:\n",
    "bias2 = (boot_stat.mean() - plug_in)**2                              #Non-Parametric Bootstrap Estimate of the Bias^2 for the plug-in estimator.\n",
    "print('The Non-Parametric Estimate for the Biased Squared is: ',bias2)#Print out the Bias Squared Estimate.\n",
    "\n",
    "#COMPUTE THE NON-PARAMETRIC ESTIMATE OF THE VARIANCE:\n",
    "var = boot_stat.var()                                                # Nonparametric Bootstrap Estimate of the Variance for the plug-in estimator.\n",
    "print('The Non-Parametric Estimate for the Variance is: ',var)       #Print out the Variance Estimate.\n",
    "\n",
    "#COMPUTE THE NON-PARAMETRIC ESTIMATE OF THE MSE:\n",
    "mse = var + bias2                                                    # Nonparametric Bootstrap Estimate of the MSE for the plug-in estimator.\n",
    "print('The Non-Parametric Estimate for the Mean Square Errir is: ',mse)#Print out the Bias MSE Estimate."
   ]
  }
 ],
 "metadata": {
  "kernelspec": {
   "display_name": "Python 3",
   "language": "python",
   "name": "python3"
  },
  "language_info": {
   "codemirror_mode": {
    "name": "ipython",
    "version": 3
   },
   "file_extension": ".py",
   "mimetype": "text/x-python",
   "name": "python",
   "nbconvert_exporter": "python",
   "pygments_lexer": "ipython3",
   "version": "3.9.7"
  }
 },
 "nbformat": 4,
 "nbformat_minor": 5
}
